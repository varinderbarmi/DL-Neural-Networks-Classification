{
 "cells":[
  {
   "cell_type":"markdown",
   "source":[
    "## Group No - 20\n",
    "\n",
    "## Group Member Names:\n",
    "1. Varinder Singh - 2021fc04070@wilp.bits-pilani.ac.in\n",
    "2. Bandaru Raja Sekhar - 2021fc04074@wilp.bits-pilani.ac.in\n",
    "3. Mikhil P.A. - 2021fc04326@wilp.bits-pilani.ac.in"
   ],
   "attachments":{
    
   },
   "metadata":{
    "datalore":{
     "node_id":"KvBQZWZ3TAyH7P7utGa8Ft",
     "type":"MD",
     "hide_input_from_viewers":false,
     "hide_output_from_viewers":false,
     "report_properties":{
      
     }
    }
   }
  },
  {
   "cell_type":"markdown",
   "source":[
    "# 1. Problem Statement\n",
    " \n",
    "Students are expected to identify a classification \/ regression problem of your choice. You have to detail the problem under this heading which basically addresses the following questions.\n",
    " \n",
    "   1. What is the problem that you are trying to solve?\n",
    "   2. What kind of prediction (classification \/ regression) task are you performing?\n",
    "\n",
    "ENSURE THAT YOU ARE USING NUMERICAL \/ CATEGORICAL DATA only.\n",
    "\n",
    "DO NOT use images or textual data.\n",
    "\n",
    "Score: 1 Mark in total (0.5 mark each)"
   ],
   "attachments":{
    
   },
   "metadata":{
    "datalore":{
     "node_id":"fWqPS3gZQSwS62oOnxgdRO",
     "type":"MD",
     "hide_input_from_viewers":false,
     "hide_output_from_viewers":false,
     "report_properties":{
      
     }
    }
   }
  },
  {
   "cell_type":"markdown",
   "source":[
    "### 1. Problem Statement\n",
    "\n",
    "- Diabetes, also known as diabetes mellitus, is a group of metabolic disorders characterized by a high blood sugar level (hyperglycemia) over a prolonged period of time. \n",
    "- Symptoms often include frequent urination, increased thirst and increased appetite. If left untreated, diabetes can cause many health complications.\n",
    "- Diabetes is occurred due to either the pancreas not producing enough insulin, or the cells of the body not responding properly to the insulin produced. Insulin is a hormone which is responsible for helping glucose from food get into cells to be used for energy.\n",
    "- The Diabetes Analysis helps to understand the chance of occurrence of diabetes in persons based on varied health conditions\/situations.\n",
    "- The performance of these data mining techniques is measured by combining the results of predictive accuracy, ROC curve and AUC value using a standard data set as well as a collected data set.\n",
    "\n",
    "#### - Objective\n",
    "To predict whether a patient has diabetes or not. This is a binary outcome.\n",
    "- Positive (+) = 1, 1 is interpreted as \"tested positive for diabetes\"\n",
    "- Negative (-) = 0, 0 is interpreted as \"tested negative for diabetes\"\n",
    "\n",
    "\n",
    "### 2. Kind of prediction\n",
    "\n",
    "- In this assignment, the risk factors that causes diabetes disease is considered and predicted using classification algorithm."
   ],
   "attachments":{
    
   },
   "metadata":{
    "datalore":{
     "node_id":"3XHSOoxaFnHgtePT8PI4UN",
     "type":"MD",
     "hide_input_from_viewers":true,
     "hide_output_from_viewers":true
    }
   }
  },
  {
   "cell_type":"markdown",
   "source":[
    "# 2. Data Acquisition\n",
    " \n",
    "For the problem identified by you, students have to find the data source themselves from any data source.\n",
    "\n",
    "## 2.1 Download the data directly\n"
   ],
   "attachments":{
    
   },
   "metadata":{
    "datalore":{
     "node_id":"Dg5o3E9iShEFIaPu6PvYM6",
     "type":"MD",
     "hide_input_from_viewers":false,
     "hide_output_from_viewers":false,
     "report_properties":{
      
     }
    }
   }
  },
  {
   "cell_type":"markdown",
   "source":[
    "\n",
    "#### About the Dataset:\n",
    "- The data has been taken from Kaggle of Diabetes Dataset. <br>\n",
    "Link: https:\/\/www.kaggle.com\/datasets\/mathchi\/diabetes-data-set\/download?datasetVersionNumber=1\n",
    "\n",
    "- Number of Instances: 768\n",
    "- Number of Attributes: 8 plus class\n",
    "\n",
    "For Each Attribute: (all numeric-valued)\n",
    "- Number of times pregnant\n",
    "- Plasma glucose concentration a 2 hours in an oral glucose tolerance test\n",
    "- Diastolic blood pressure (mm Hg)\n",
    "- Triceps skin fold thickness (mm)\n",
    "- 2-Hour serum insulin (mu U\/ml)\n",
    "- Body mass index (weight in kg\/(height in m)^2)\n",
    "- Diabetes pedigree function\n",
    "- Age (years)\n",
    "- Class variable (0 or 1)\n",
    "    - 1 is interpreted as \"tested positive for diabetes\"\n",
    "    - 0 is interpreted as \"tested negative for diabetes\""
   ],
   "attachments":{
    
   },
   "metadata":{
    "datalore":{
     "node_id":"ObMDa7dlO7Z6xvG5pes48B",
     "type":"MD",
     "hide_input_from_viewers":true,
     "hide_output_from_viewers":true
    }
   }
  },
  {
   "cell_type":"markdown",
   "source":[
    "## 2.2 Code for converting the above downloaded data into a form suitable for DL "
   ],
   "attachments":{
    
   },
   "metadata":{
    "datalore":{
     "node_id":"dMxgZiK7Gmr2eNptLfRfCE",
     "type":"MD",
     "hide_input_from_viewers":false,
     "hide_output_from_viewers":false,
     "report_properties":{
      
     }
    }
   }
  },
  {
   "cell_type":"code",
   "source":[
    "import numpy as np\n",
    "import pandas as pd\n",
    "dataset = pd.read_csv(\"diabetes.csv\")"
   ],
   "execution_count":67,
   "outputs":[
    
   ],
   "metadata":{
    "datalore":{
     "node_id":"BE7PQ7QtawEj9TM00joSJq",
     "type":"CODE",
     "hide_input_from_viewers":false,
     "hide_output_from_viewers":false,
     "report_properties":{
      
     }
    }
   }
  },
  {
   "cell_type":"code",
   "source":[
    "# Displaying a sample of data present in the dataframe \"dataset\"\n",
    "dataset.head()"
   ],
   "execution_count":68,
   "outputs":[
    {
     "data":{
      "text\/html":[
       "<div>\n",
       "<style scoped>\n",
       "    .dataframe tbody tr th:only-of-type {\n",
       "        vertical-align: middle;\n",
       "    }\n",
       "\n",
       "    .dataframe tbody tr th {\n",
       "        vertical-align: top;\n",
       "    }\n",
       "\n",
       "    .dataframe thead th {\n",
       "        text-align: right;\n",
       "    }\n",
       "<\/style>\n",
       "<table border=\"1\" class=\"dataframe\">\n",
       "  <thead>\n",
       "    <tr style=\"text-align: right;\">\n",
       "      <th><\/th>\n",
       "      <th>Pregnancies<\/th>\n",
       "      <th>Glucose<\/th>\n",
       "      <th>BloodPressure<\/th>\n",
       "      <th>SkinThickness<\/th>\n",
       "      <th>Insulin<\/th>\n",
       "      <th>BMI<\/th>\n",
       "      <th>DiabetesPedigreeFunction<\/th>\n",
       "      <th>Age<\/th>\n",
       "      <th>Outcome<\/th>\n",
       "    <\/tr>\n",
       "  <\/thead>\n",
       "  <tbody>\n",
       "    <tr>\n",
       "      <th>0<\/th>\n",
       "      <td>6<\/td>\n",
       "      <td>148<\/td>\n",
       "      <td>72<\/td>\n",
       "      <td>35<\/td>\n",
       "      <td>0<\/td>\n",
       "      <td>33.6<\/td>\n",
       "      <td>0.627<\/td>\n",
       "      <td>50<\/td>\n",
       "      <td>1<\/td>\n",
       "    <\/tr>\n",
       "    <tr>\n",
       "      <th>1<\/th>\n",
       "      <td>1<\/td>\n",
       "      <td>85<\/td>\n",
       "      <td>66<\/td>\n",
       "      <td>29<\/td>\n",
       "      <td>0<\/td>\n",
       "      <td>26.6<\/td>\n",
       "      <td>0.351<\/td>\n",
       "      <td>31<\/td>\n",
       "      <td>0<\/td>\n",
       "    <\/tr>\n",
       "    <tr>\n",
       "      <th>2<\/th>\n",
       "      <td>8<\/td>\n",
       "      <td>183<\/td>\n",
       "      <td>64<\/td>\n",
       "      <td>0<\/td>\n",
       "      <td>0<\/td>\n",
       "      <td>23.3<\/td>\n",
       "      <td>0.672<\/td>\n",
       "      <td>32<\/td>\n",
       "      <td>1<\/td>\n",
       "    <\/tr>\n",
       "    <tr>\n",
       "      <th>3<\/th>\n",
       "      <td>1<\/td>\n",
       "      <td>89<\/td>\n",
       "      <td>66<\/td>\n",
       "      <td>23<\/td>\n",
       "      <td>94<\/td>\n",
       "      <td>28.1<\/td>\n",
       "      <td>0.167<\/td>\n",
       "      <td>21<\/td>\n",
       "      <td>0<\/td>\n",
       "    <\/tr>\n",
       "    <tr>\n",
       "      <th>4<\/th>\n",
       "      <td>0<\/td>\n",
       "      <td>137<\/td>\n",
       "      <td>40<\/td>\n",
       "      <td>35<\/td>\n",
       "      <td>168<\/td>\n",
       "      <td>43.1<\/td>\n",
       "      <td>2.288<\/td>\n",
       "      <td>33<\/td>\n",
       "      <td>1<\/td>\n",
       "    <\/tr>\n",
       "  <\/tbody>\n",
       "<\/table>\n",
       "<\/div>"
      ]
     },
     "metadata":{
      
     },
     "output_type":"display_data"
    }
   ],
   "metadata":{
    "datalore":{
     "node_id":"hSfnESyW9JQIx0FYeI9Q8U",
     "type":"CODE",
     "hide_input_from_viewers":false,
     "hide_output_from_viewers":false,
     "report_properties":{
      
     }
    }
   }
  },
  {
   "cell_type":"markdown",
   "source":[
    "## 2.3 Write your observations from the above. \n",
    "\n",
    "1. Size of the dataset\n",
    "2. What type of data attributes are there?\n",
    "\n",
    "Score: 2 Mark"
   ],
   "attachments":{
    
   },
   "metadata":{
    "datalore":{
     "node_id":"OpBoCTsNIqxwe5tApF6ZZJ",
     "type":"MD",
     "hide_input_from_viewers":false,
     "hide_output_from_viewers":false,
     "report_properties":{
      
     }
    }
   }
  },
  {
   "cell_type":"markdown",
   "source":[
    "#### 1. Shape of the Dataset is (768, 9)\n",
    "- There are total of 768 records with 9 columns\n",
    "\n",
    "#### 2. Data Attributes\n",
    "- All the attributes have numeric data type.\n",
    "1. Pregnancies - int\n",
    "2. Glucose - int\n",
    "3. BloodPressure - int\n",
    "4. SkinThickness - int\n",
    "5. Insulin - int\n",
    "6. BMI - float\n",
    "7. DiabetesPedigreeFunction - float\n",
    "8. Age - int\n",
    "9. Outcome - int(0,1)"
   ],
   "attachments":{
    
   },
   "metadata":{
    "datalore":{
     "node_id":"btozJ14HflVS4KEaZyXhAB",
     "type":"MD",
     "hide_input_from_viewers":true,
     "hide_output_from_viewers":true
    }
   }
  },
  {
   "cell_type":"code",
   "source":[
    "print(\"Dataset Shape:\", dataset.shape, \"\\n\")\n",
    "dataset.info()"
   ],
   "execution_count":69,
   "outputs":[
    {
     "name":"stdout",
     "text":[
      "Dataset Shape: (768, 9) \n",
      "\n",
      "<class 'pandas.core.frame.DataFrame'>\n",
      "RangeIndex: 768 entries, 0 to 767\n",
      "Data columns (total 9 columns):\n",
      " #   Column                    Non-Null Count  Dtype  \n",
      "---  ------                    --------------  -----  \n",
      " 0   Pregnancies               768 non-null    int64  \n",
      " 1   Glucose                   768 non-null    int64  \n",
      " 2   BloodPressure             768 non-null    int64  \n",
      " 3   SkinThickness             768 non-null    int64  \n",
      " 4   Insulin                   768 non-null    int64  \n",
      " 5   BMI                       768 non-null    float64\n",
      " 6   DiabetesPedigreeFunction  768 non-null    float64\n",
      " 7   Age                       768 non-null    int64  \n",
      " 8   Outcome                   768 non-null    int64  \n",
      "dtypes: float64(2), int64(7)\n",
      "memory usage: 54.1 KB\n"
     ],
     "output_type":"stream"
    }
   ],
   "metadata":{
    "datalore":{
     "node_id":"Snzd5RNzXASjOe4JcOOiL0",
     "type":"CODE",
     "hide_input_from_viewers":false,
     "hide_output_from_viewers":false,
     "report_properties":{
      
     }
    }
   }
  },
  {
   "cell_type":"markdown",
   "source":[
    "# 3. Data Preparation\n",
    "\n",
    "Perform the data prepracessing that is required for the data that you have downloaded. "
   ],
   "attachments":{
    
   },
   "metadata":{
    "datalore":{
     "node_id":"85VkM016mEolUKvKQKeyYU",
     "type":"MD",
     "hide_input_from_viewers":false,
     "hide_output_from_viewers":false,
     "report_properties":{
      
     }
    }
   }
  },
  {
   "cell_type":"markdown",
   "source":[
    "## 3.1 Apply techiniques\n",
    "* to remove duplicate data\n",
    "* to impute or remove missing data\n",
    "* to remove data inconsistencies\n",
    "\n",
    "IF ANY"
   ],
   "attachments":{
    
   },
   "metadata":{
    "datalore":{
     "node_id":"K33yMuelH5R6X0RfTocKmU",
     "type":"MD",
     "hide_input_from_viewers":false,
     "hide_output_from_viewers":false,
     "report_properties":{
      
     }
    }
   }
  },
  {
   "cell_type":"code",
   "source":[
    "# Checking Null values\n",
    "print(dataset.isnull().sum())"
   ],
   "execution_count":70,
   "outputs":[
    {
     "name":"stdout",
     "text":[
      "Pregnancies                 0\n",
      "Glucose                     0\n",
      "BloodPressure               0\n",
      "SkinThickness               0\n",
      "Insulin                     0\n",
      "BMI                         0\n",
      "DiabetesPedigreeFunction    0\n",
      "Age                         0\n",
      "Outcome                     0\n",
      "dtype: int64\n"
     ],
     "output_type":"stream"
    }
   ],
   "metadata":{
    "datalore":{
     "node_id":"M7NanNwD8T7GFTa9aeCAmd",
     "type":"CODE",
     "hide_input_from_viewers":false,
     "hide_output_from_viewers":false,
     "report_properties":{
      
     }
    }
   }
  },
  {
   "cell_type":"markdown",
   "source":[
    "#### --> No null values were found in any columns of diabetes dataset."
   ],
   "attachments":{
    
   },
   "metadata":{
    "datalore":{
     "node_id":"ng3Akr5OMtWDKMQ1jts9om",
     "type":"MD",
     "hide_input_from_viewers":true,
     "hide_output_from_viewers":true
    }
   }
  },
  {
   "cell_type":"code",
   "source":[
    "#Looking for any duplicate rows in the dataset\n",
    "print( \"Number of duplicate rows found in the dataset: \" , \n",
    "      len(dataset.loc[dataset.duplicated(), :]) )"
   ],
   "execution_count":71,
   "outputs":[
    {
     "name":"stdout",
     "text":[
      "Number of duplicate rows found in the dataset:  0\n"
     ],
     "output_type":"stream"
    }
   ],
   "metadata":{
    "datalore":{
     "node_id":"Q1OrpO9oGceeV3jP0nF6ez",
     "type":"CODE",
     "hide_input_from_viewers":true,
     "hide_output_from_viewers":true
    }
   }
  },
  {
   "cell_type":"markdown",
   "source":[
    "#### --> No duplicate rows were found in the diabetes dataset."
   ],
   "attachments":{
    
   },
   "metadata":{
    "datalore":{
     "node_id":"JoqHOac4Cx475p9wlJt6uX",
     "type":"MD",
     "hide_input_from_viewers":true,
     "hide_output_from_viewers":true
    }
   }
  },
  {
   "cell_type":"markdown",
   "source":[
    "### Visualization on Class imbalance\n",
    "\n",
    "Minority class [1] is ~55%, so the class imbalance is mild. This slight imbalance is often not a concern, and the problem can often be treated like a normal classification predictive modeling problem. Therefore, we will not take any action."
   ],
   "attachments":{
    
   },
   "metadata":{
    "datalore":{
     "node_id":"5FAFKclhIUqMborE9eGnKF",
     "type":"MD",
     "hide_input_from_viewers":true,
     "hide_output_from_viewers":true
    }
   }
  },
  {
   "cell_type":"code",
   "source":[
    "import seaborn as sns\n",
    "\n",
    "sns.countplot(x=dataset.Outcome)"
   ],
   "execution_count":72,
   "outputs":[
    {
     "data":{
      "text\/plain":[
       "<AxesSubplot:xlabel='Outcome', ylabel='count'>"
      ]
     },
     "metadata":{
      
     },
     "output_type":"display_data"
    },
    {
     "data":{
      "image\/png":"[encoded data removed]"
     },
     "metadata":{
      "image\/png":{
       
      }
     },
     "output_type":"display_data"
    }
   ],
   "metadata":{
    "datalore":{
     "node_id":"sCclEfm5FEQpslWB55Rwqv",
     "type":"CODE",
     "hide_input_from_viewers":true,
     "hide_output_from_viewers":true
    }
   }
  },
  {
   "cell_type":"code",
   "source":[
    "col = list(dataset.columns)\n",
    "dataset.boxplot(figsize = (20,10), column = col)"
   ],
   "execution_count":73,
   "outputs":[
    {
     "data":{
      "text\/plain":[
       "<AxesSubplot:>"
      ]
     },
     "metadata":{
      
     },
     "output_type":"display_data"
    },
    {
     "data":{
      "image\/png":"[encoded data removed]"
     },
     "metadata":{
      "image\/png":{
       
      }
     },
     "output_type":"display_data"
    }
   ],
   "metadata":{
    "datalore":{
     "node_id":"6WXR4oZalz7wwZAC3VPQSz",
     "type":"CODE",
     "hide_input_from_viewers":true,
     "hide_output_from_viewers":true
    }
   }
  },
  {
   "cell_type":"markdown",
   "source":[
    "### Handling the Outliers \n",
    "\n",
    "**Winsorization of Outliers** is the process of replacing the extreme values of statistical data in order to limit the effect of the outliers on the calculations or the results obtained by using that data. "
   ],
   "attachments":{
    
   },
   "metadata":{
    "datalore":{
     "node_id":"C31Y9LRswcAS1qyRyau51C",
     "type":"MD",
     "hide_input_from_viewers":true,
     "hide_output_from_viewers":true
    }
   }
  },
  {
   "cell_type":"code",
   "source":[
    "\n",
    "for i in col:\n",
    "    percentile25 = dataset[str(i)].quantile(0.25)\n",
    "    percentile75 = dataset[str(i)].quantile(0.75)\n",
    "    iqr = percentile75 - percentile25\n",
    "    upper_limit = percentile75 + 1.5 * iqr\n",
    "    lower_limit = percentile25 - 1.5 * iqr\n",
    "    dataset[str(i)] = np.where(dataset[str(i)] >= upper_limit,\n",
    "                                    upper_limit,\n",
    "                                        np.where(dataset[str(i)] <= lower_limit,\n",
    "                                        lower_limit,\n",
    "                                            dataset[str(i)]\n",
    "                                        )\n",
    "                                    )"
   ],
   "execution_count":74,
   "outputs":[
    
   ],
   "metadata":{
    "datalore":{
     "node_id":"mCe7aCqa0bVgV2sLv2CwuQ",
     "type":"CODE",
     "hide_input_from_viewers":true,
     "hide_output_from_viewers":true
    }
   }
  },
  {
   "cell_type":"code",
   "source":[
    "dataset.boxplot(figsize = (20,10), column = col)"
   ],
   "execution_count":75,
   "outputs":[
    {
     "data":{
      "text\/plain":[
       "<AxesSubplot:>"
      ]
     },
     "metadata":{
      
     },
     "output_type":"display_data"
    },
    {
     "data":{
      "image\/png":"[encoded data removed]"
     },
     "metadata":{
      "image\/png":{
       
      }
     },
     "output_type":"display_data"
    }
   ],
   "metadata":{
    "datalore":{
     "node_id":"3K0cuO73EdXGnQd9bWdBNv",
     "type":"CODE",
     "hide_input_from_viewers":true,
     "hide_output_from_viewers":true
    }
   }
  },
  {
   "cell_type":"markdown",
   "source":[
    "## 3.2 Encode categorical data"
   ],
   "attachments":{
    
   },
   "metadata":{
    "datalore":{
     "node_id":"tG9aJ5MaGJ4MDCQLwxi2Fu",
     "type":"MD",
     "hide_input_from_viewers":false,
     "hide_output_from_viewers":false,
     "report_properties":{
      
     }
    }
   }
  },
  {
   "cell_type":"markdown",
   "source":[
    "#### --> No categorical data present in the dataset(X).\n",
    "#### --> Only numeric data present in the dataset apart from the Target attribute having (0,1) value."
   ],
   "attachments":{
    
   },
   "metadata":{
    "datalore":{
     "node_id":"Wt9zh9uZAF4m4xDTk2SuL8",
     "type":"MD",
     "hide_input_from_viewers":true,
     "hide_output_from_viewers":true
    }
   }
  },
  {
   "cell_type":"markdown",
   "source":[
    "## 3.3 Normalize the data"
   ],
   "attachments":{
    
   },
   "metadata":{
    "datalore":{
     "node_id":"e5xNiL8kaOQR8dOefDPWKb",
     "type":"MD",
     "hide_input_from_viewers":false,
     "hide_output_from_viewers":false,
     "report_properties":{
      
     }
    }
   }
  },
  {
   "cell_type":"code",
   "source":[
    "from sklearn.preprocessing import MinMaxScaler\n",
    "\n",
    "sc = MinMaxScaler()\n",
    "\n",
    "dataset['Pregnancies'] = sc.fit_transform(dataset['Pregnancies'].values.reshape(-1, 1))\n",
    "dataset['Glucose'] = sc.fit_transform(dataset['Glucose'].values.reshape(-1, 1))\n",
    "dataset['BloodPressure'] = sc.fit_transform(dataset['BloodPressure'].values.reshape(-1, 1))\n",
    "dataset['SkinThickness'] = sc.fit_transform(dataset['SkinThickness'].values.reshape(-1, 1))\n",
    "dataset['Insulin'] = sc.fit_transform(dataset['Insulin'].values.reshape(-1, 1))\n",
    "dataset['BMI'] = sc.fit_transform(dataset['BMI'].values.reshape(-1, 1))\n",
    "dataset['DiabetesPedigreeFunction'] = sc.fit_transform(dataset['DiabetesPedigreeFunction'].values.reshape(-1, 1))\n",
    "dataset['Age'] = sc.fit_transform(dataset['Age'].values.reshape(-1, 1))"
   ],
   "execution_count":76,
   "outputs":[
    
   ],
   "metadata":{
    "datalore":{
     "node_id":"fI9gDYrQPb5fs3ZETwEm8u",
     "type":"CODE",
     "hide_input_from_viewers":false,
     "hide_output_from_viewers":false,
     "report_properties":{
      
     }
    }
   }
  },
  {
   "cell_type":"code",
   "source":[
    "dataset"
   ],
   "execution_count":77,
   "outputs":[
    {
     "data":{
      "text\/html":[
       "<div>\n",
       "<style scoped>\n",
       "    .dataframe tbody tr th:only-of-type {\n",
       "        vertical-align: middle;\n",
       "    }\n",
       "\n",
       "    .dataframe tbody tr th {\n",
       "        vertical-align: top;\n",
       "    }\n",
       "\n",
       "    .dataframe thead th {\n",
       "        text-align: right;\n",
       "    }\n",
       "<\/style>\n",
       "<table border=\"1\" class=\"dataframe\">\n",
       "  <thead>\n",
       "    <tr style=\"text-align: right;\">\n",
       "      <th><\/th>\n",
       "      <th>Pregnancies<\/th>\n",
       "      <th>Glucose<\/th>\n",
       "      <th>BloodPressure<\/th>\n",
       "      <th>SkinThickness<\/th>\n",
       "      <th>Insulin<\/th>\n",
       "      <th>BMI<\/th>\n",
       "      <th>DiabetesPedigreeFunction<\/th>\n",
       "      <th>Age<\/th>\n",
       "      <th>Outcome<\/th>\n",
       "    <\/tr>\n",
       "  <\/thead>\n",
       "  <tbody>\n",
       "    <tr>\n",
       "      <th>0<\/th>\n",
       "      <td>0.444444<\/td>\n",
       "      <td>0.684942<\/td>\n",
       "      <td>0.513889<\/td>\n",
       "      <td>0.4375<\/td>\n",
       "      <td>0.000000<\/td>\n",
       "      <td>0.544355<\/td>\n",
       "      <td>0.489305<\/td>\n",
       "      <td>0.637363<\/td>\n",
       "      <td>1.0<\/td>\n",
       "    <\/tr>\n",
       "    <tr>\n",
       "      <th>1<\/th>\n",
       "      <td>0.074074<\/td>\n",
       "      <td>0.295753<\/td>\n",
       "      <td>0.430556<\/td>\n",
       "      <td>0.3625<\/td>\n",
       "      <td>0.000000<\/td>\n",
       "      <td>0.356183<\/td>\n",
       "      <td>0.243316<\/td>\n",
       "      <td>0.219780<\/td>\n",
       "      <td>0.0<\/td>\n",
       "    <\/tr>\n",
       "    <tr>\n",
       "      <th>2<\/th>\n",
       "      <td>0.592593<\/td>\n",
       "      <td>0.901158<\/td>\n",
       "      <td>0.402778<\/td>\n",
       "      <td>0.0000<\/td>\n",
       "      <td>0.000000<\/td>\n",
       "      <td>0.267473<\/td>\n",
       "      <td>0.529412<\/td>\n",
       "      <td>0.241758<\/td>\n",
       "      <td>1.0<\/td>\n",
       "    <\/tr>\n",
       "    <tr>\n",
       "      <th>3<\/th>\n",
       "      <td>0.074074<\/td>\n",
       "      <td>0.320463<\/td>\n",
       "      <td>0.430556<\/td>\n",
       "      <td>0.2875<\/td>\n",
       "      <td>0.295481<\/td>\n",
       "      <td>0.396505<\/td>\n",
       "      <td>0.079323<\/td>\n",
       "      <td>0.000000<\/td>\n",
       "      <td>0.0<\/td>\n",
       "    <\/tr>\n",
       "    <tr>\n",
       "      <th>4<\/th>\n",
       "      <td>0.000000<\/td>\n",
       "      <td>0.616988<\/td>\n",
       "      <td>0.069444<\/td>\n",
       "      <td>0.4375<\/td>\n",
       "      <td>0.528094<\/td>\n",
       "      <td>0.799731<\/td>\n",
       "      <td>1.000000<\/td>\n",
       "      <td>0.263736<\/td>\n",
       "      <td>1.0<\/td>\n",
       "    <\/tr>\n",
       "    <tr>\n",
       "      <th>...<\/th>\n",
       "      <td>...<\/td>\n",
       "      <td>...<\/td>\n",
       "      <td>...<\/td>\n",
       "      <td>...<\/td>\n",
       "      <td>...<\/td>\n",
       "      <td>...<\/td>\n",
       "      <td>...<\/td>\n",
       "      <td>...<\/td>\n",
       "      <td>...<\/td>\n",
       "    <\/tr>\n",
       "    <tr>\n",
       "      <th>763<\/th>\n",
       "      <td>0.740741<\/td>\n",
       "      <td>0.394595<\/td>\n",
       "      <td>0.569444<\/td>\n",
       "      <td>0.6000<\/td>\n",
       "      <td>0.565815<\/td>\n",
       "      <td>0.525538<\/td>\n",
       "      <td>0.082888<\/td>\n",
       "      <td>0.923077<\/td>\n",
       "      <td>0.0<\/td>\n",
       "    <\/tr>\n",
       "    <tr>\n",
       "      <th>764<\/th>\n",
       "      <td>0.148148<\/td>\n",
       "      <td>0.524324<\/td>\n",
       "      <td>0.486111<\/td>\n",
       "      <td>0.3375<\/td>\n",
       "      <td>0.000000<\/td>\n",
       "      <td>0.630376<\/td>\n",
       "      <td>0.233512<\/td>\n",
       "      <td>0.131868<\/td>\n",
       "      <td>0.0<\/td>\n",
       "    <\/tr>\n",
       "    <tr>\n",
       "      <th>765<\/th>\n",
       "      <td>0.370370<\/td>\n",
       "      <td>0.518147<\/td>\n",
       "      <td>0.513889<\/td>\n",
       "      <td>0.2875<\/td>\n",
       "      <td>0.352063<\/td>\n",
       "      <td>0.345430<\/td>\n",
       "      <td>0.148841<\/td>\n",
       "      <td>0.197802<\/td>\n",
       "      <td>0.0<\/td>\n",
       "    <\/tr>\n",
       "    <tr>\n",
       "      <th>766<\/th>\n",
       "      <td>0.074074<\/td>\n",
       "      <td>0.549035<\/td>\n",
       "      <td>0.347222<\/td>\n",
       "      <td>0.0000<\/td>\n",
       "      <td>0.000000<\/td>\n",
       "      <td>0.450269<\/td>\n",
       "      <td>0.241533<\/td>\n",
       "      <td>0.571429<\/td>\n",
       "      <td>1.0<\/td>\n",
       "    <\/tr>\n",
       "    <tr>\n",
       "      <th>767<\/th>\n",
       "      <td>0.074074<\/td>\n",
       "      <td>0.345174<\/td>\n",
       "      <td>0.486111<\/td>\n",
       "      <td>0.3875<\/td>\n",
       "      <td>0.000000<\/td>\n",
       "      <td>0.458333<\/td>\n",
       "      <td>0.211230<\/td>\n",
       "      <td>0.043956<\/td>\n",
       "      <td>0.0<\/td>\n",
       "    <\/tr>\n",
       "  <\/tbody>\n",
       "<\/table>\n",
       "<p>768 rows × 9 columns<\/p>\n",
       "<\/div>"
      ]
     },
     "metadata":{
      
     },
     "output_type":"display_data"
    }
   ],
   "metadata":{
    "datalore":{
     "node_id":"WDTb1sfMMWasJ960BFPjch",
     "type":"CODE",
     "hide_input_from_viewers":true,
     "hide_output_from_viewers":true
    }
   }
  },
  {
   "cell_type":"code",
   "source":[
    "# Displaying a sample of all the attributes of the dataset\n",
    "dataset.head()"
   ],
   "execution_count":78,
   "outputs":[
    {
     "data":{
      "text\/html":[
       "<div>\n",
       "<style scoped>\n",
       "    .dataframe tbody tr th:only-of-type {\n",
       "        vertical-align: middle;\n",
       "    }\n",
       "\n",
       "    .dataframe tbody tr th {\n",
       "        vertical-align: top;\n",
       "    }\n",
       "\n",
       "    .dataframe thead th {\n",
       "        text-align: right;\n",
       "    }\n",
       "<\/style>\n",
       "<table border=\"1\" class=\"dataframe\">\n",
       "  <thead>\n",
       "    <tr style=\"text-align: right;\">\n",
       "      <th><\/th>\n",
       "      <th>Pregnancies<\/th>\n",
       "      <th>Glucose<\/th>\n",
       "      <th>BloodPressure<\/th>\n",
       "      <th>SkinThickness<\/th>\n",
       "      <th>Insulin<\/th>\n",
       "      <th>BMI<\/th>\n",
       "      <th>DiabetesPedigreeFunction<\/th>\n",
       "      <th>Age<\/th>\n",
       "      <th>Outcome<\/th>\n",
       "    <\/tr>\n",
       "  <\/thead>\n",
       "  <tbody>\n",
       "    <tr>\n",
       "      <th>0<\/th>\n",
       "      <td>0.444444<\/td>\n",
       "      <td>0.684942<\/td>\n",
       "      <td>0.513889<\/td>\n",
       "      <td>0.4375<\/td>\n",
       "      <td>0.000000<\/td>\n",
       "      <td>0.544355<\/td>\n",
       "      <td>0.489305<\/td>\n",
       "      <td>0.637363<\/td>\n",
       "      <td>1.0<\/td>\n",
       "    <\/tr>\n",
       "    <tr>\n",
       "      <th>1<\/th>\n",
       "      <td>0.074074<\/td>\n",
       "      <td>0.295753<\/td>\n",
       "      <td>0.430556<\/td>\n",
       "      <td>0.3625<\/td>\n",
       "      <td>0.000000<\/td>\n",
       "      <td>0.356183<\/td>\n",
       "      <td>0.243316<\/td>\n",
       "      <td>0.219780<\/td>\n",
       "      <td>0.0<\/td>\n",
       "    <\/tr>\n",
       "    <tr>\n",
       "      <th>2<\/th>\n",
       "      <td>0.592593<\/td>\n",
       "      <td>0.901158<\/td>\n",
       "      <td>0.402778<\/td>\n",
       "      <td>0.0000<\/td>\n",
       "      <td>0.000000<\/td>\n",
       "      <td>0.267473<\/td>\n",
       "      <td>0.529412<\/td>\n",
       "      <td>0.241758<\/td>\n",
       "      <td>1.0<\/td>\n",
       "    <\/tr>\n",
       "    <tr>\n",
       "      <th>3<\/th>\n",
       "      <td>0.074074<\/td>\n",
       "      <td>0.320463<\/td>\n",
       "      <td>0.430556<\/td>\n",
       "      <td>0.2875<\/td>\n",
       "      <td>0.295481<\/td>\n",
       "      <td>0.396505<\/td>\n",
       "      <td>0.079323<\/td>\n",
       "      <td>0.000000<\/td>\n",
       "      <td>0.0<\/td>\n",
       "    <\/tr>\n",
       "    <tr>\n",
       "      <th>4<\/th>\n",
       "      <td>0.000000<\/td>\n",
       "      <td>0.616988<\/td>\n",
       "      <td>0.069444<\/td>\n",
       "      <td>0.4375<\/td>\n",
       "      <td>0.528094<\/td>\n",
       "      <td>0.799731<\/td>\n",
       "      <td>1.000000<\/td>\n",
       "      <td>0.263736<\/td>\n",
       "      <td>1.0<\/td>\n",
       "    <\/tr>\n",
       "  <\/tbody>\n",
       "<\/table>\n",
       "<\/div>"
      ]
     },
     "metadata":{
      
     },
     "output_type":"display_data"
    }
   ],
   "metadata":{
    "datalore":{
     "node_id":"Mo1wYTmTOy8fRnWhe9Tglr",
     "type":"CODE",
     "hide_input_from_viewers":true,
     "hide_output_from_viewers":true
    }
   }
  },
  {
   "cell_type":"markdown",
   "source":[
    "## 3.4 Feature Engineering \n",
    "\n",
    "if any"
   ],
   "attachments":{
    
   },
   "metadata":{
    "datalore":{
     "node_id":"GvUTbP04Lu14KtmVuM1JH5",
     "type":"MD",
     "hide_input_from_viewers":false,
     "hide_output_from_viewers":false,
     "report_properties":{
      
     }
    }
   }
  },
  {
   "cell_type":"markdown",
   "source":[
    "#### --> No Feature engineering required with the dataset. The dataset is self explanatory. "
   ],
   "attachments":{
    
   },
   "metadata":{
    "datalore":{
     "node_id":"gHKcA4ODklySCNwHAa7wI4",
     "type":"MD",
     "hide_input_from_viewers":true,
     "hide_output_from_viewers":true
    }
   }
  },
  {
   "cell_type":"markdown",
   "source":[
    "## 3.5 Identify the target variables.\n",
    "\n",
    "* Separate the data front the target such that the dataset is in the form of (X,y) or (Features, Label)\n",
    "\n",
    "* Discretize \/ Encode the target variable or perform one-hot encoding on the target or any other as and if required.\n"
   ],
   "attachments":{
    
   },
   "metadata":{
    "datalore":{
     "node_id":"EAgYiUyY6PvfKYRXmhMoPC",
     "type":"MD",
     "hide_input_from_viewers":false,
     "hide_output_from_viewers":false,
     "report_properties":{
      
     }
    }
   }
  },
  {
   "cell_type":"code",
   "source":[
    "y = dataset.Outcome\n",
    "X = dataset.copy().drop(['Outcome'],axis=1) "
   ],
   "execution_count":79,
   "outputs":[
    
   ],
   "metadata":{
    "datalore":{
     "node_id":"7lVWrVZSfa8lmy8alBC985",
     "type":"CODE",
     "hide_input_from_viewers":false,
     "hide_output_from_viewers":false,
     "report_properties":{
      
     }
    }
   }
  },
  {
   "cell_type":"code",
   "source":[
    "# Displaying a sample of attributes of the dataset without the Target attribute\n",
    "display(X.head())"
   ],
   "execution_count":80,
   "outputs":[
    {
     "data":{
      "text\/html":[
       "<div>\n",
       "<style scoped>\n",
       "    .dataframe tbody tr th:only-of-type {\n",
       "        vertical-align: middle;\n",
       "    }\n",
       "\n",
       "    .dataframe tbody tr th {\n",
       "        vertical-align: top;\n",
       "    }\n",
       "\n",
       "    .dataframe thead th {\n",
       "        text-align: right;\n",
       "    }\n",
       "<\/style>\n",
       "<table border=\"1\" class=\"dataframe\">\n",
       "  <thead>\n",
       "    <tr style=\"text-align: right;\">\n",
       "      <th><\/th>\n",
       "      <th>Pregnancies<\/th>\n",
       "      <th>Glucose<\/th>\n",
       "      <th>BloodPressure<\/th>\n",
       "      <th>SkinThickness<\/th>\n",
       "      <th>Insulin<\/th>\n",
       "      <th>BMI<\/th>\n",
       "      <th>DiabetesPedigreeFunction<\/th>\n",
       "      <th>Age<\/th>\n",
       "    <\/tr>\n",
       "  <\/thead>\n",
       "  <tbody>\n",
       "    <tr>\n",
       "      <th>0<\/th>\n",
       "      <td>0.444444<\/td>\n",
       "      <td>0.684942<\/td>\n",
       "      <td>0.513889<\/td>\n",
       "      <td>0.4375<\/td>\n",
       "      <td>0.000000<\/td>\n",
       "      <td>0.544355<\/td>\n",
       "      <td>0.489305<\/td>\n",
       "      <td>0.637363<\/td>\n",
       "    <\/tr>\n",
       "    <tr>\n",
       "      <th>1<\/th>\n",
       "      <td>0.074074<\/td>\n",
       "      <td>0.295753<\/td>\n",
       "      <td>0.430556<\/td>\n",
       "      <td>0.3625<\/td>\n",
       "      <td>0.000000<\/td>\n",
       "      <td>0.356183<\/td>\n",
       "      <td>0.243316<\/td>\n",
       "      <td>0.219780<\/td>\n",
       "    <\/tr>\n",
       "    <tr>\n",
       "      <th>2<\/th>\n",
       "      <td>0.592593<\/td>\n",
       "      <td>0.901158<\/td>\n",
       "      <td>0.402778<\/td>\n",
       "      <td>0.0000<\/td>\n",
       "      <td>0.000000<\/td>\n",
       "      <td>0.267473<\/td>\n",
       "      <td>0.529412<\/td>\n",
       "      <td>0.241758<\/td>\n",
       "    <\/tr>\n",
       "    <tr>\n",
       "      <th>3<\/th>\n",
       "      <td>0.074074<\/td>\n",
       "      <td>0.320463<\/td>\n",
       "      <td>0.430556<\/td>\n",
       "      <td>0.2875<\/td>\n",
       "      <td>0.295481<\/td>\n",
       "      <td>0.396505<\/td>\n",
       "      <td>0.079323<\/td>\n",
       "      <td>0.000000<\/td>\n",
       "    <\/tr>\n",
       "    <tr>\n",
       "      <th>4<\/th>\n",
       "      <td>0.000000<\/td>\n",
       "      <td>0.616988<\/td>\n",
       "      <td>0.069444<\/td>\n",
       "      <td>0.4375<\/td>\n",
       "      <td>0.528094<\/td>\n",
       "      <td>0.799731<\/td>\n",
       "      <td>1.000000<\/td>\n",
       "      <td>0.263736<\/td>\n",
       "    <\/tr>\n",
       "  <\/tbody>\n",
       "<\/table>\n",
       "<\/div>"
      ]
     },
     "metadata":{
      
     },
     "output_type":"display_data"
    }
   ],
   "metadata":{
    "datalore":{
     "node_id":"76ssK3IpHtpp0cj25Po47k",
     "type":"CODE",
     "hide_input_from_viewers":true,
     "hide_output_from_viewers":true
    }
   }
  },
  {
   "cell_type":"code",
   "source":[
    "# Displaying a sample of Target attribute\n",
    "print(y.head())"
   ],
   "execution_count":81,
   "outputs":[
    {
     "name":"stdout",
     "text":[
      "0    1.0\n",
      "1    0.0\n",
      "2    1.0\n",
      "3    0.0\n",
      "4    1.0\n",
      "Name: Outcome, dtype: float64\n"
     ],
     "output_type":"stream"
    }
   ],
   "metadata":{
    "datalore":{
     "node_id":"T0daQkJ9XdbDPDvAooU3fr",
     "type":"CODE",
     "hide_input_from_viewers":true,
     "hide_output_from_viewers":true
    }
   }
  },
  {
   "cell_type":"code",
   "source":[
    "print(\"Shape of X: \",X.shape)\n",
    "print(\"Shape of y: \",y.shape)"
   ],
   "execution_count":82,
   "outputs":[
    {
     "name":"stdout",
     "text":[
      "Shape of X:  (768, 8)\n",
      "Shape of y:  (768,)\n"
     ],
     "output_type":"stream"
    }
   ],
   "metadata":{
    "datalore":{
     "node_id":"PoWyQabVCc0SMnZDQfHc4g",
     "type":"CODE",
     "hide_input_from_viewers":true,
     "hide_output_from_viewers":true
    }
   }
  },
  {
   "cell_type":"markdown",
   "source":[
    "## 3.6 Split the data into training set and testing set"
   ],
   "attachments":{
    
   },
   "metadata":{
    "datalore":{
     "node_id":"22O4AmJS5iMQYrelEW8GA4",
     "type":"MD",
     "hide_input_from_viewers":false,
     "hide_output_from_viewers":false,
     "report_properties":{
      
     }
    }
   }
  },
  {
   "cell_type":"code",
   "source":[
    "from sklearn.model_selection import train_test_split\n",
    "\n",
    "X_train, X_test, y_train, y_test = train_test_split(X, y, test_size = 0.2, random_state=1)"
   ],
   "execution_count":83,
   "outputs":[
    
   ],
   "metadata":{
    "datalore":{
     "node_id":"Mjb8u2cZj3dbY2QEIubKRO",
     "type":"CODE",
     "hide_input_from_viewers":false,
     "hide_output_from_viewers":false,
     "report_properties":{
      
     }
    }
   }
  },
  {
   "cell_type":"markdown",
   "source":[
    "## 3.7 Report\n",
    "\n",
    "Mention the method adopted  and justify why the method was used\n",
    "* to remove duplicate data, if present \n",
    "* to impute or remove missing data, if present \n",
    "* to remove data inconsistencies, if present \n",
    "* to encode categorical data \n",
    "* the normalization technique used\n",
    "\n",
    "If the any of the above are not present, then also add in the report below.\n",
    "\n",
    "Report the size of the training dataset and testing dataset\n",
    "\n",
    "Score: 3 Marks"
   ],
   "attachments":{
    
   },
   "metadata":{
    "datalore":{
     "node_id":"6lKYn6lsGcwvztPLrmsohY",
     "type":"MD",
     "hide_input_from_viewers":false,
     "hide_output_from_viewers":false,
     "report_properties":{
      
     }
    }
   }
  },
  {
   "cell_type":"markdown",
   "source":[
    "#### 1. No duplicate data(record) was found in the dataset. We used duplicated() function to find any duplicates in the dataset. This was used because dataframe has the functions in-built and are easy and fast to implement and get the result easily.\n",
    "   \n",
    "#### 2. No missing data was found in the dataset. We used isnull() function to find any null values in every column present in the dataset. This was used because dataframe has the functions in-built and are easy and fast to implement and get the result easily.\n",
    "   \n",
    "#### 3. There were outliers present in given dataset. We used boxplot to identify outliers and plot all the data points in every column. In order to rectify the outliers, we used Winsorization of outliers. In this, we replaced the extreme values of statistical data in order to limit the effect of the outliers on the calculations or the results obtained by using that data. We used this because it preserves the information that a case had among the highest (or lowest) values in a distribution but protects against some of the harmful effects of outliers.\n",
    "   \n",
    "#### 4. No categorical data was present in dataset. Therefore, no action was taken.\n",
    "   \n",
    "#### 5. For normalisation, we used MinMaxScaler(). We used this because MinMaxScaler() preserves the shape of the original distribution. It doesn't meaningfully change the information embedded in the original data. Note that MinMaxScaler doesn't reduce the importance of outliers; but outliers have been handled separately as mentioned above. The range for the feature returned by MinMaxScaler() is 0 to 1."
   ],
   "attachments":{
    
   },
   "metadata":{
    "datalore":{
     "node_id":"JXUqVqHwxaQc2DFoL9R88s",
     "type":"MD",
     "hide_input_from_viewers":true,
     "hide_output_from_viewers":true
    }
   }
  },
  {
   "cell_type":"code",
   "source":[
    "print(\"Shape of X_train: \", X_train.shape)\n",
    "print(\"Shape of y_train: \", y_train.shape)\n",
    "print(\"Shape of X_test: \", X_test.shape)\n",
    "print(\"Shape of y_test: \", y_test.shape)"
   ],
   "execution_count":84,
   "outputs":[
    {
     "name":"stdout",
     "text":[
      "Shape of X_train:  (614, 8)\n",
      "Shape of y_train:  (614,)\n",
      "Shape of X_test:  (154, 8)\n",
      "Shape of y_test:  (154,)\n"
     ],
     "output_type":"stream"
    }
   ],
   "metadata":{
    "datalore":{
     "node_id":"KWQLmmUPsCqG7YaGZNv5SP",
     "type":"CODE",
     "hide_input_from_viewers":true,
     "hide_output_from_viewers":true
    }
   }
  },
  {
   "cell_type":"markdown",
   "source":[
    "# 4. Deep Neural Network Architecture\n"
   ],
   "attachments":{
    
   },
   "metadata":{
    "datalore":{
     "node_id":"Bt5r9GRTAX4IszkRgwdT3h",
     "type":"MD",
     "hide_input_from_viewers":false,
     "hide_output_from_viewers":false,
     "report_properties":{
      
     }
    }
   }
  },
  {
   "cell_type":"markdown",
   "source":[
    "## 4.1 Design the architecture that you will be using to solve the prediction problem identified.\n",
    "\n",
    "* Add dense layers, specifying the number of units in each layer and the activation function used in the layer."
   ],
   "attachments":{
    
   },
   "metadata":{
    "datalore":{
     "node_id":"03dicXaGAUqr5yzfp1ktrS",
     "type":"MD",
     "hide_input_from_viewers":false,
     "hide_output_from_viewers":false,
     "report_properties":{
      
     }
    }
   }
  },
  {
   "cell_type":"code",
   "source":[
    "import tensorflow as tf\n",
    "from keras.models import Sequential\n",
    "from keras import layers\n",
    "from tensorflow.keras import regularizers"
   ],
   "execution_count":85,
   "outputs":[
    
   ],
   "metadata":{
    "datalore":{
     "node_id":"bzaR6Dj4wWVZcfoBG7hdD7",
     "type":"CODE",
     "hide_input_from_viewers":false,
     "hide_output_from_viewers":false,
     "report_properties":{
      
     }
    }
   }
  },
  {
   "cell_type":"code",
   "source":[
    "# Number of features\n",
    "input_dim = X_train.shape[1]  "
   ],
   "execution_count":86,
   "outputs":[
    
   ],
   "metadata":{
    "datalore":{
     "node_id":"FHv2XV1Tm0Qq68xfAtHC5O",
     "type":"CODE",
     "hide_input_from_viewers":true,
     "hide_output_from_viewers":true
    }
   }
  },
  {
   "cell_type":"code",
   "source":[
    "model = Sequential()\n",
    "model.add(layers.Dense(16, input_dim=input_dim, activation='relu'))\n",
    "model.add(layers.Dense(8, activation='relu', kernel_regularizer=regularizers.l2(0.001)))\n",
    "model.add(layers.Dense(4, activation='relu', kernel_regularizer=regularizers.l2(0.001)))\n",
    "model.add(layers.Dropout(0.1))\n",
    "model.add(layers.Dense(1, activation='sigmoid'))"
   ],
   "execution_count":87,
   "outputs":[
    
   ],
   "metadata":{
    "datalore":{
     "node_id":"4oOzQ1QFfgCL9BnQ5k11Rc",
     "type":"CODE",
     "hide_input_from_viewers":true,
     "hide_output_from_viewers":true
    }
   }
  },
  {
   "cell_type":"code",
   "source":[
    "model.summary()"
   ],
   "execution_count":88,
   "outputs":[
    {
     "name":"stdout",
     "text":[
      "Model: \"sequential_2\"\n",
      "_________________________________________________________________\n",
      " Layer (type)                Output Shape              Param #   \n",
      "=================================================================\n",
      " dense_8 (Dense)             (None, 16)                144       \n",
      "                                                                 \n",
      " dense_9 (Dense)             (None, 8)                 136       \n",
      "                                                                 \n",
      " dense_10 (Dense)            (None, 4)                 36        \n",
      "                                                                 \n",
      " dropout_2 (Dropout)         (None, 4)                 0         \n",
      "                                                                 \n",
      " dense_11 (Dense)            (None, 1)                 5         \n",
      "                                                                 \n",
      "=================================================================\n",
      "Total params: 321\n",
      "Trainable params: 321\n",
      "Non-trainable params: 0\n",
      "_________________________________________________________________\n"
     ],
     "output_type":"stream"
    }
   ],
   "metadata":{
    "datalore":{
     "node_id":"l6BPO2ndYSvzEDHYXPOzfU",
     "type":"CODE",
     "hide_input_from_viewers":true,
     "hide_output_from_viewers":true
    }
   }
  },
  {
   "cell_type":"markdown",
   "source":[
    "## 4.2 Report\n",
    "\n",
    "Report the following and provide justification for the same.\n",
    "\n",
    "* Number of layers\n",
    "* Number of units in each layer\n",
    "* Activation function used in each hidden layer\n",
    "* Activation function used in the output layer\n",
    "* Total number of trainable parameters \n",
    "\n",
    "Score: 4 Marks"
   ],
   "attachments":{
    
   },
   "metadata":{
    "datalore":{
     "node_id":"xK1ibuqZPYgVDbecA77Vhu",
     "type":"MD",
     "hide_input_from_viewers":false,
     "hide_output_from_viewers":false,
     "report_properties":{
      
     }
    }
   }
  },
  {
   "cell_type":"markdown",
   "source":[
    "#### 1. Number of layers\n",
    "We choose to add total 5 layers which also includes one layer of drop out with coefficient 0.1 to our neural network because the dataset is not huge and it has only 768 records. Overall problem in hand is also not very complex with the given dataset; here we are dealing with 8 columns for training and 1 column as a Target. Therefore, 5 layers are efficient for our neural network.\n",
    "\n",
    "#### 2. Number of units in each layer\n",
    "We choose number of units in each layer as 16\/8\/4\/1 along with one drop out with 0.1 coefficient before output layer in neural networks. Overall problem in hand is also not very complex with the given dataset; here we are dealing with 8 columns for training and 1 column as a Target. Therefore, number of units in each layer as 16\/8\/4\/1 along with one drop out with 0.1 coefficient before output layer are efficient for our neural network.\n",
    "\n",
    "#### 3. Activation function used in each hidden layer\n",
    "We are using Rectified Linear Activation (ReLU) for hidden layers. This is because ReLU is computationally efficient because it is simple to calculate and does not require exponentiation computationa. Also, it has been shown to improve the convergence of stochastic gradient descent compared to other activation functions, which can make it faster to train deep neural networks. The ReLU function is non-linear, which is important for the representation of neural networks. The layer before the output layer, we have used Drop-out with 0.1 coefficient to streamline the data for output layer\n",
    "\n",
    "#### 4. Activation function used in the output layer\n",
    "We used sigmoid function in the output layer of a neural network as our goal is to predict a binary outcome(Diabetic or not). This is because the sigmoid function squashes the output of the neuron to a value between 0 and 1, which can be interpreted as a probability. \n",
    "\n",
    "#### 5. Total number of trainable parameters\n",
    "The total number of trainable parameters is equal to the sum the number of trainable parameters in each layer of the neural network. The number of trainable parameters in a layer is the number of neurons in the layer times the number of inputs to each neuron plus the number of bias terms. <br>\n",
    "In our case, we have **321** total number of trainable parameters."
   ],
   "attachments":{
    
   },
   "metadata":{
    "datalore":{
     "node_id":"JeBZNEs0ba0kI9any6hcUU",
     "type":"MD",
     "hide_input_from_viewers":false,
     "hide_output_from_viewers":false,
     "report_properties":{
      
     }
    }
   }
  },
  {
   "cell_type":"markdown",
   "source":[
    "# 5. Training the model"
   ],
   "attachments":{
    
   },
   "metadata":{
    "datalore":{
     "node_id":"HpI9MhnlSAtwoJcrCnRnA9",
     "type":"MD",
     "hide_input_from_viewers":false,
     "hide_output_from_viewers":false,
     "report_properties":{
      
     }
    }
   }
  },
  {
   "cell_type":"markdown",
   "source":[
    "## 5.1 Configure the training\n",
    "\n",
    "Configure  the model for training, by using appropriate optimizers and regularizations\n"
   ],
   "attachments":{
    
   },
   "metadata":{
    "datalore":{
     "node_id":"p0ML7fWrnnzZbtpwJH1ZKR",
     "type":"MD",
     "hide_input_from_viewers":false,
     "hide_output_from_viewers":false,
     "report_properties":{
      
     }
    }
   }
  },
  {
   "cell_type":"code",
   "source":[
    "model.compile(\n",
    "            loss='binary_crossentropy', \n",
    "            optimizer= tf.keras.optimizers.Adam(learning_rate=0.001) ,\n",
    "            metrics=['accuracy'],\n",
    "            )"
   ],
   "execution_count":89,
   "outputs":[
    
   ],
   "metadata":{
    "datalore":{
     "node_id":"aM2ejIL0ixX9wCeu0kGjxE",
     "type":"CODE",
     "hide_input_from_viewers":false,
     "hide_output_from_viewers":false,
     "report_properties":{
      
     }
    }
   }
  },
  {
   "cell_type":"markdown",
   "source":[
    "## 5.2 Train the model"
   ],
   "attachments":{
    
   },
   "metadata":{
    "datalore":{
     "node_id":"b56kOW5YnY6dunaUo2rKhT",
     "type":"MD",
     "hide_input_from_viewers":false,
     "hide_output_from_viewers":false,
     "report_properties":{
      
     }
    }
   }
  },
  {
   "cell_type":"code",
   "source":[
    "from tensorflow.keras.callbacks import EarlyStopping\n",
    "es = EarlyStopping(monitor='val_loss', mode='min', verbose=1)"
   ],
   "execution_count":90,
   "outputs":[
    
   ],
   "metadata":{
    "datalore":{
     "node_id":"gpfJ9TMTUtlPjRuSFYJLY3",
     "type":"CODE",
     "hide_input_from_viewers":true,
     "hide_output_from_viewers":true
    }
   }
  },
  {
   "cell_type":"code",
   "source":[
    "classifier_nn = model.fit(X_train,y_train,\n",
    "                    epochs=400,\n",
    "                    verbose=True,\n",
    "                    validation_data=(X_test, y_test),\n",
    "                    batch_size=20,\n",
    "                    #callbacks=[es]\n",
    "                )"
   ],
   "execution_count":91,
   "outputs":[
    {
     "name":"stdout",
     "text":[
      "Epoch 1\/400\n",
      "\r 1\/31 [..............................] - ETA: 17s - loss: 0.7204 - accuracy: 0.4500\b\b\b\b\b\b\b\b\b\b\b\b\b\b\b\b\b\b\b\b\b\b\b\b\b\b\b\b\b\b\b\b\b\b\b\b\b\b\b\b\b\b\b\b\b\b\b\b\b\b\b\b\b\b\b\b\b\b\b\b\b\b\b\b\b\b\b\b\b\b\b\b\b\b\b\b\b\b\b\b\b\b\b\r31\/31 [==============================] - 1s 7ms\/step - loss: 0.7094 - accuracy: 0.5733 - val_loss: 0.7051 - val_accuracy: 0.6429\n",
      "Epoch 2\/400\n",
      "\r 1\/31 [..............................] - ETA: 0s - loss: 0.7080 - accuracy: 0.4000\b\b\b\b\b\b\b\b\b\b\b\b\b\b\b\b\b\b\b\b\b\b\b\b\b\b\b\b\b\b\b\b\b\b\b\b\b\b\b\b\b\b\b\b\b\b\b\b\b\b\b\b\b\b\b\b\b\b\b\b\b\b\b\b\b\b\b\b\b\b\b\b\b\b\b\b\b\b\b\b\b\b\r31\/31 [==============================] - 0s 3ms\/step - loss: 0.7012 - accuracy: 0.6515 - val_loss: 0.6987 - val_accuracy: 0.6429\n",
      "Epoch 3\/400\n",
      "\r 1\/31 [..............................] - ETA: 0s - loss: 0.6989 - accuracy: 0.6500\b\b\b\b\b\b\b\b\b\b\b\b\b\b\b\b\b\b\b\b\b\b\b\b\b\b\b\b\b\b\b\b\b\b\b\b\b\b\b\b\b\b\b\b\b\b\b\b\b\b\b\b\b\b\b\b\b\b\b\b\b\b\b\b\b\b\b\b\b\b\b\b\b\b\b\b\b\b\b\b\b\b\r31\/31 [==============================] - 0s 3ms\/step - loss: 0.6886 - accuracy: 0.6531 - val_loss: 0.6784 - val_accuracy: 0.6429\n",
      "Epoch 4\/400\n",
      "\r 1\/31 [..............................] - ETA: 0s - loss: 0.6970 - accuracy: 0.5500\b\b\b\b\b\b\b\b\b\b\b\b\b\b\b\b\b\b\b\b\b\b\b\b\b\b\b\b\b\b\b\b\b\b\b\b\b\b\b\b\b\b\b\b\b\b\b\b\b\b\b\b\b\b\b\b\b\b\b\b\b\b\b\b\b\b\b\b\b\b\b\b\b\b\b\b\b\b\b\b\b\b\r31\/31 [==============================] - 0s 3ms\/step - loss: 0.6666 - accuracy: 0.6531 - val_loss: 0.6666 - val_accuracy: 0.6429\n",
      "Epoch 5\/400\n",
      "\r 1\/31 [..............................] - ETA: 0s - loss: 0.7249 - accuracy: 0.5000\b\b\b\b\b\b\b\b\b\b\b\b\b\b\b\b\b\b\b\b\b\b\b\b\b\b\b\b\b\b\b\b\b\b\b\b\b\b\b\b\b\b\b\b\b\b\b\b\b\b\b\b\b\b\b\b\b\b\b\b\b\b\b\b\b\b\b\b\b\b\b\b\b\b\b\b\b\b\b\b\b\b\r31\/31 [==============================] - 0s 3ms\/step - loss: 0.6586 - accuracy: 0.6531 - val_loss: 0.6533 - val_accuracy: 0.6429\n",
      "Epoch 6\/400\n",
      "\r 1\/31 [..............................] - ETA: 0s - loss: 0.5731 - accuracy: 0.8500\b\b\b\b\b\b\b\b\b\b\b\b\b\b\b\b\b\b\b\b\b\b\b\b\b\b\b\b\b\b\b\b\b\b\b\b\b\b\b\b\b\b\b\b\b\b\b\b\b\b\b\b\b\b\b\b\b\b\b\b\b\b\b\b\b\b\b\b\b\b\b\b\b\b\b\b\b\b\b\b\b\b\r31\/31 [==============================] - 0s 3ms\/step - loss: 0.6427 - accuracy: 0.6531 - val_loss: 0.6424 - val_accuracy: 0.6429\n",
      "Epoch 7\/400\n",
      "\r 1\/31 [..............................] - ETA: 0s - loss: 0.6098 - accuracy: 0.6500\b\b\b\b\b\b\b\b\b\b\b\b\b\b\b\b\b\b\b\b\b\b\b\b\b\b\b\b\b\b\b\b\b\b\b\b\b\b\b\b\b\b\b\b\b\b\b\b\b\b\b\b\b\b\b\b\b\b\b\b\b\b\b\b\b\b\b\b\b\b\b\b\b\b\b\b\b\b\b\b\b\b\r31\/31 [==============================] - 0s 3ms\/step - loss: 0.6366 - accuracy: 0.6531 - val_loss: 0.6318 - val_accuracy: 0.6429\n",
      "Epoch 8\/400\n",
      "\r 1\/31 [..............................] - ETA: 0s - loss: 0.6455 - accuracy: 0.6000\b\b\b\b\b\b\b\b\b\b\b\b\b\b\b\b\b\b\b\b\b\b\b\b\b\b\b\b\b\b\b\b\b\b\b\b\b\b\b\b\b\b\b\b\b\b\b\b\b\b\b\b\b\b\b\b\b\b\b\b\b\b\b\b\b\b\b\b\b\b\b\b\b\b\b\b\b\b\b\b\b\b\r31\/31 [==============================] - 0s 3ms\/step - loss: 0.6216 - accuracy: 0.6531 - val_loss: 0.6206 - val_accuracy: 0.6429\n",
      "Epoch 9\/400\n",
      "\r 1\/31 [..............................] - ETA: 0s - loss: 0.5670 - accuracy: 0.6000\b\b\b\b\b\b\b\b\b\b\b\b\b\b\b\b\b\b\b\b\b\b\b\b\b\b\b\b\b\b\b\b\b\b\b\b\b\b\b\b\b\b\b\b\b\b\b\b\b\b\b\b\b\b\b\b\b\b\b\b\b\b\b\b\b\b\b\b\b\b\b\b\b\b\b\b\b\b\b\b\b\b\r31\/31 [==============================] - 0s 3ms\/step - loss: 0.6124 - accuracy: 0.6547 - val_loss: 0.6100 - val_accuracy: 0.6429\n",
      "Epoch 10\/400\n",
      "\r 1\/31 [..............................] - ETA: 0s - loss: 0.6424 - accuracy: 0.6000\b\b\b\b\b\b\b\b\b\b\b\b\b\b\b\b\b\b\b\b\b\b\b\b\b\b\b\b\b\b\b\b\b\b\b\b\b\b\b\b\b\b\b\b\b\b\b\b\b\b\b\b\b\b\b\b\b\b\b\b\b\b\b\b\b\b\b\b\b\b\b\b\b\b\b\b\b\b\b\b\b\b\r31\/31 [==============================] - 0s 3ms\/step - loss: 0.6030 - accuracy: 0.6531 - val_loss: 0.5994 - val_accuracy: 0.6429\n",
      "Epoch 11\/400\n",
      "\r 1\/31 [..............................] - ETA: 0s - loss: 0.7694 - accuracy: 0.6000\b\b\b\b\b\b\b\b\b\b\b\b\b\b\b\b\b\b\b\b\b\b\b\b\b\b\b\b\b\b\b\b\b\b\b\b\b\b\b\b\b\b\b\b\b\b\b\b\b\b\b\b\b\b\b\b\b\b\b\b\b\b\b\b\b\b\b\b\b\b\b\b\b\b\b\b\b\b\b\b\b\b\r31\/31 [==============================] - 0s 2ms\/step - loss: 0.5978 - accuracy: 0.6596 - val_loss: 0.5912 - val_accuracy: 0.6558\n",
      "Epoch 12\/400\n",
      "\r 1\/31 [..............................] - ETA: 0s - loss: 0.5045 - accuracy: 0.7500\b\b\b\b\b\b\b\b\b\b\b\b\b\b\b\b\b\b\b\b\b\b\b\b\b\b\b\b\b\b\b\b\b\b\b\b\b\b\b\b\b\b\b\b\b\b\b\b\b\b\b\b\b\b\b\b\b\b\b\b\b\b\b\b\b\b\b\b\b\b\b\b\b\b\b\b\b\b\b\b\b\b\r31\/31 [==============================] - 0s 3ms\/step - loss: 0.5816 - accuracy: 0.6906 - val_loss: 0.5828 - val_accuracy: 0.6948\n",
      "Epoch 13\/400\n",
      "\r 1\/31 [..............................] - ETA: 0s - loss: 0.5121 - accuracy: 0.7000\b\b\b\b\b\b\b\b\b\b\b\b\b\b\b\b\b\b\b\b\b\b\b\b\b\b\b\b\b\b\b\b\b\b\b\b\b\b\b\b\b\b\b\b\b\b\b\b\b\b\b\b\b\b\b\b\b\b\b\b\b\b\b\b\b\b\b\b\b\b\b\b\b\b\b\b\b\b\b\b\b\b\r31\/31 [==============================] - 0s 2ms\/step - loss: 0.5825 - accuracy: 0.7020 - val_loss: 0.5746 - val_accuracy: 0.7143\n",
      "Epoch 14\/400\n",
      "\r 1\/31 [..............................] - ETA: 0s - loss: 0.6434 - accuracy: 0.6000\b\b\b\b\b\b\b\b\b\b\b\b\b\b\b\b\b\b\b\b\b\b\b\b\b\b\b\b\b\b\b\b\b\b\b\b\b\b\b\b\b\b\b\b\b\b\b\b\b\b\b\b\b\b\b\b\b\b\b\b\b\b\b\b\b\b\b\b\b\b\b\b\b\b\b\b\b\b\b\b\b\b\r31\/31 [==============================] - 0s 3ms\/step - loss: 0.5698 - accuracy: 0.7036 - val_loss: 0.5653 - val_accuracy: 0.6883\n",
      "Epoch 15\/400\n",
      "\r 1\/31 [..............................] - ETA: 0s - loss: 0.8135 - accuracy: 0.4500\b\b\b\b\b\b\b\b\b\b\b\b\b\b\b\b\b\b\b\b\b\b\b\b\b\b\b\b\b\b\b\b\b\b\b\b\b\b\b\b\b\b\b\b\b\b\b\b\b\b\b\b\b\b\b\b\b\b\b\b\b\b\b\b\b\b\b\b\b\b\b\b\b\b\b\b\b\b\b\b\b\b\r31\/31 [==============================] - 0s 3ms\/step - loss: 0.5670 - accuracy: 0.7182 - val_loss: 0.5574 - val_accuracy: 0.7208\n",
      "Epoch 16\/400\n",
      "\r 1\/31 [..............................] - ETA: 0s - loss: 0.5660 - accuracy: 0.6000\b\b\b\b\b\b\b\b\b\b\b\b\b\b\b\b\b\b\b\b\b\b\b\b\b\b\b\b\b\b\b\b\b\b\b\b\b\b\b\b\b\b\b\b\b\b\b\b\b\b\b\b\b\b\b\b\b\b\b\b\b\b\b\b\b\b\b\b\b\b\b\b\b\b\b\b\b\b\b\b\b\b\r31\/31 [==============================] - 0s 3ms\/step - loss: 0.5591 - accuracy: 0.7036 - val_loss: 0.5502 - val_accuracy: 0.7403\n",
      "Epoch 17\/400\n",
      "\r 1\/31 [..............................] - ETA: 0s - loss: 0.6383 - accuracy: 0.7500\b\b\b\b\b\b\b\b\b\b\b\b\b\b\b\b\b\b\b\b\b\b\b\b\b\b\b\b\b\b\b\b\b\b\b\b\b\b\b\b\b\b\b\b\b\b\b\b\b\b\b\b\b\b\b\b\b\b\b\b\b\b\b\b\b\b\b\b\b\b\b\b\b\b\b\b\b\b\b\b\b\b\r31\/31 [==============================] - 0s 3ms\/step - loss: 0.5447 - accuracy: 0.7199 - val_loss: 0.5436 - val_accuracy: 0.7468\n",
      "Epoch 18\/400\n",
      "\r 1\/31 [..............................] - ETA: 0s - loss: 0.5902 - accuracy: 0.7500\b\b\b\b\b\b\b\b\b\b\b\b\b\b\b\b\b\b\b\b\b\b\b\b\b\b\b\b\b\b\b\b\b\b\b\b\b\b\b\b\b\b\b\b\b\b\b\b\b\b\b\b\b\b\b\b\b\b\b\b\b\b\b\b\b\b\b\b\b\b\b\b\b\b\b\b\b\b\b\b\b\b\r31\/31 [==============================] - 0s 3ms\/step - loss: 0.5467 - accuracy: 0.7248 - val_loss: 0.5387 - val_accuracy: 0.7532\n",
      "Epoch 19\/400\n",
      "\r 1\/31 [..............................] - ETA: 0s - loss: 0.6046 - accuracy: 0.6000\b\b\b\b\b\b\b\b\b\b\b\b\b\b\b\b\b\b\b\b\b\b\b\b\b\b\b\b\b\b\b\b\b\b\b\b\b\b\b\b\b\b\b\b\b\b\b\b\b\b\b\b\b\b\b\b\b\b\b\b\b\b\b\b\b\b\b\b\b\b\b\b\b\b\b\b\b\b\b\b\b\b\r31\/31 [==============================] - 0s 3ms\/step - loss: 0.5355 - accuracy: 0.7362 - val_loss: 0.5339 - val_accuracy: 0.7792\n",
      "Epoch 20\/400\n",
      "\r 1\/31 [..............................] - ETA: 0s - loss: 0.5476 - accuracy: 0.8000\b\b\b\b\b\b\b\b\b\b\b\b\b\b\b\b\b\b\b\b\b\b\b\b\b\b\b\b\b\b\b\b\b\b\b\b\b\b\b\b\b\b\b\b\b\b\b\b\b\b\b\b\b\b\b\b\b\b\b\b\b\b\b\b\b\b\b\b\b\b\b\b\b\b\b\b\b\b\b\b\b\b\r31\/31 [==============================] - 0s 3ms\/step - loss: 0.5409 - accuracy: 0.7362 - val_loss: 0.5290 - val_accuracy: 0.7662\n",
      "Epoch 21\/400\n",
      "\r 1\/31 [..............................] - ETA: 0s - loss: 0.5053 - accuracy: 0.7500\b\b\b\b\b\b\b\b\b\b\b\b\b\b\b\b\b\b\b\b\b\b\b\b\b\b\b\b\b\b\b\b\b\b\b\b\b\b\b\b\b\b\b\b\b\b\b\b\b\b\b\b\b\b\b\b\b\b\b\b\b\b\b\b\b\b\b\b\b\b\b\b\b\b\b\b\b\b\b\b\b\b\r31\/31 [==============================] - 0s 3ms\/step - loss: 0.5312 - accuracy: 0.7248 - val_loss: 0.5277 - val_accuracy: 0.7532\n",
      "Epoch 22\/400\n",
      "\r 1\/31 [..............................] - ETA: 0s - loss: 0.4398 - accuracy: 0.7500\b\b\b\b\b\b\b\b\b\b\b\b\b\b\b\b\b\b\b\b\b\b\b\b\b\b\b\b\b\b\b\b\b\b\b\b\b\b\b\b\b\b\b\b\b\b\b\b\b\b\b\b\b\b\b\b\b\b\b\b\b\b\b\b\b\b\b\b\b\b\b\b\b\b\b\b\b\b\b\b\b\b\r31\/31 [==============================] - 0s 3ms\/step - loss: 0.5281 - accuracy: 0.7378 - val_loss: 0.5209 - val_accuracy: 0.7597\n",
      "Epoch 23\/400\n",
      "\r 1\/31 [..............................] - ETA: 0s - loss: 0.5470 - accuracy: 0.7500\b\b\b\b\b\b\b\b\b\b\b\b\b\b\b\b\b\b\b\b\b\b\b\b\b\b\b\b\b\b\b\b\b\b\b\b\b\b\b\b\b\b\b\b\b\b\b\b\b\b\b\b\b\b\b\b\b\b\b\b\b\b\b\b\b\b\b\b\b\b\b\b\b\b\b\b\b\b\b\b\b\b\r31\/31 [==============================] - 0s 3ms\/step - loss: 0.5263 - accuracy: 0.7427 - val_loss: 0.5191 - val_accuracy: 0.7662\n",
      "Epoch 24\/400\n",
      "\r 1\/31 [..............................] - ETA: 0s - loss: 0.5311 - accuracy: 0.6500\b\b\b\b\b\b\b\b\b\b\b\b\b\b\b\b\b\b\b\b\b\b\b\b\b\b\b\b\b\b\b\b\b\b\b\b\b\b\b\b\b\b\b\b\b\b\b\b\b\b\b\b\b\b\b\b\b\b\b\b\b\b\b\b\b\b\b\b\b\b\b\b\b\b\b\b\b\b\b\b\b\b\r31\/31 [==============================] - 0s 3ms\/step - loss: 0.5231 - accuracy: 0.7313 - val_loss: 0.5152 - val_accuracy: 0.7662\n",
      "Epoch 25\/400\n",
      "\r 1\/31 [..............................] - ETA: 0s - loss: 0.5024 - accuracy: 0.7000\b\b\b\b\b\b\b\b\b\b\b\b\b\b\b\b\b\b\b\b\b\b\b\b\b\b\b\b\b\b\b\b\b\b\b\b\b\b\b\b\b\b\b\b\b\b\b\b\b\b\b\b\b\b\b\b\b\b\b\b\b\b\b\b\b\b\b\b\b\b\b\b\b\b\b\b\b\b\b\b\b\b\r31\/31 [==============================] - 0s 3ms\/step - loss: 0.5296 - accuracy: 0.7215 - val_loss: 0.5139 - val_accuracy: 0.7662\n",
      "Epoch 26\/400\n",
      "\r 1\/31 [..............................] - ETA: 0s - loss: 0.4791 - accuracy: 0.7500\b\b\b\b\b\b\b\b\b\b\b\b\b\b\b\b\b\b\b\b\b\b\b\b\b\b\b\b\b\b\b\b\b\b\b\b\b\b\b\b\b\b\b\b\b\b\b\b\b\b\b\b\b\b\b\b\b\b\b\b\b\b\b\b\b\b\b\b\b\b\b\b\b\b\b\b\b\b\b\b\b\b\r31\/31 [==============================] - 0s 2ms\/step - loss: 0.5155 - accuracy: 0.7345 - val_loss: 0.5103 - val_accuracy: 0.7597\n",
      "Epoch 27\/400\n",
      "\r 1\/31 [..............................] - ETA: 0s - loss: 0.6863 - accuracy: 0.4500\b\b\b\b\b\b\b\b\b\b\b\b\b\b\b\b\b\b\b\b\b\b\b\b\b\b\b\b\b\b\b\b\b\b\b\b\b\b\b\b\b\b\b\b\b\b\b\b\b\b\b\b\b\b\b\b\b\b\b\b\b\b\b\b\b\b\b\b\b\b\b\b\b\b\b\b\b\b\b\b\b\b\r31\/31 [==============================] - 0s 2ms\/step - loss: 0.5252 - accuracy: 0.7248 - val_loss: 0.5091 - val_accuracy: 0.7532\n",
      "Epoch 28\/400\n",
      "\r 1\/31 [..............................] - ETA: 0s - loss: 0.5333 - accuracy: 0.7000\b\b\b\b\b\b\b\b\b\b\b\b\b\b\b\b\b\b\b\b\b\b\b\b\b\b\b\b\b\b\b\b\b\b\b\b\b\b\b\b\b\b\b\b\b\b\b\b\b\b\b\b\b\b\b\b\b\b\b\b\b\b\b\b\b\b\b\b\b\b\b\b\b\b\b\b\b\b\b\b\b\b\r31\/31 [==============================] - 0s 2ms\/step - loss: 0.5208 - accuracy: 0.7117 - val_loss: 0.5092 - val_accuracy: 0.7792\n",
      "Epoch 29\/400\n",
      "\r 1\/31 [..............................] - ETA: 0s - loss: 0.5824 - accuracy: 0.6000\b\b\b\b\b\b\b\b\b\b\b\b\b\b\b\b\b\b\b\b\b\b\b\b\b\b\b\b\b\b\b\b\b\b\b\b\b\b\b\b\b\b\b\b\b\b\b\b\b\b\b\b\b\b\b\b\b\b\b\b\b\b\b\b\b\b\b\b\b\b\b\b\b\b\b\b\b\b\b\b\b\b\r31\/31 [==============================] - 0s 2ms\/step - loss: 0.5204 - accuracy: 0.7378 - val_loss: 0.5091 - val_accuracy: 0.7792\n",
      "Epoch 30\/400\n",
      "\r 1\/31 [..............................] - ETA: 0s - loss: 0.5212 - accuracy: 0.6500\b\b\b\b\b\b\b\b\b\b\b\b\b\b\b\b\b\b\b\b\b\b\b\b\b\b\b\b\b\b\b\b\b\b\b\b\b\b\b\b\b\b\b\b\b\b\b\b\b\b\b\b\b\b\b\b\b\b\b\b\b\b\b\b\b\b\b\b\b\b\b\b\b\b\b\b\b\b\b\b\b\b\r31\/31 [==============================] - 0s 2ms\/step - loss: 0.5168 - accuracy: 0.7329 - val_loss: 0.5062 - val_accuracy: 0.7597\n",
      "Epoch 31\/400\n",
      "\r 1\/31 [..............................] - ETA: 0s - loss: 0.5079 - accuracy: 0.6500\b\b\b\b\b\b\b\b\b\b\b\b\b\b\b\b\b\b\b\b\b\b\b\b\b\b\b\b\b\b\b\b\b\b\b\b\b\b\b\b\b\b\b\b\b\b\b\b\b\b\b\b\b\b\b\b\b\b\b\b\b\b\b\b\b\b\b\b\b\b\b\b\b\b\b\b\b\b\b\b\b\b\r31\/31 [==============================] - 0s 3ms\/step - loss: 0.5209 - accuracy: 0.7199 - val_loss: 0.5060 - val_accuracy: 0.7662\n",
      "Epoch 32\/400\n",
      "\r 1\/31 [..............................] - ETA: 0s - loss: 0.5342 - accuracy: 0.8000\b\b\b\b\b\b\b\b\b\b\b\b\b\b\b\b\b\b\b\b\b\b\b\b\b\b\b\b\b\b\b\b\b\b\b\b\b\b\b\b\b\b\b\b\b\b\b\b\b\b\b\b\b\b\b\b\b\b\b\b\b\b\b\b\b\b\b\b\b\b\b\b\b\b\b\b\b\b\b\b\b\b\r31\/31 [==============================] - 0s 3ms\/step - loss: 0.5067 - accuracy: 0.7427 - val_loss: 0.5032 - val_accuracy: 0.7662\n",
      "Epoch 33\/400\n",
      "\r 1\/31 [..............................] - ETA: 0s - loss: 0.5414 - accuracy: 0.8000\b\b\b\b\b\b\b\b\b\b\b\b\b\b\b\b\b\b\b\b\b\b\b\b\b\b\b\b\b\b\b\b\b\b\b\b\b\b\b\b\b\b\b\b\b\b\b\b\b\b\b\b\b\b\b\b\b\b\b\b\b\b\b\b\b\b\b\b\b\b\b\b\b\b\b\b\b\b\b\b\b\b\r31\/31 [==============================] - 0s 3ms\/step - loss: 0.5089 - accuracy: 0.7313 - val_loss: 0.5013 - val_accuracy: 0.7597\n",
      "Epoch 34\/400\n",
      "\r 1\/31 [..............................] - ETA: 0s - loss: 0.6265 - accuracy: 0.7500\b\b\b\b\b\b\b\b\b\b\b\b\b\b\b\b\b\b\b\b\b\b\b\b\b\b\b\b\b\b\b\b\b\b\b\b\b\b\b\b\b\b\b\b\b\b\b\b\b\b\b\b\b\b\b\b\b\b\b\b\b\b\b\b\b\b\b\b\b\b\b\b\b\b\b\b\b\b\b\b\b\b\r31\/31 [==============================] - 0s 3ms\/step - loss: 0.5105 - accuracy: 0.7557 - val_loss: 0.4999 - val_accuracy: 0.7662\n",
      "Epoch 35\/400\n",
      "\r 1\/31 [..............................] - ETA: 0s - loss: 0.5218 - accuracy: 0.7000\b\b\b\b\b\b\b\b\b\b\b\b\b\b\b\b\b\b\b\b\b\b\b\b\b\b\b\b\b\b\b\b\b\b\b\b\b\b\b\b\b\b\b\b\b\b\b\b\b\b\b\b\b\b\b\b\b\b\b\b\b\b\b\b\b\b\b\b\b\b\b\b\b\b\b\b\b\b\b\b\b\b\r31\/31 [==============================] - 0s 2ms\/step - loss: 0.5056 - accuracy: 0.7459 - val_loss: 0.5009 - val_accuracy: 0.7857\n",
      "Epoch 36\/400\n",
      "\r 1\/31 [..............................] - ETA: 0s - loss: 0.5523 - accuracy: 0.7000\b\b\b\b\b\b\b\b\b\b\b\b\b\b\b\b\b\b\b\b\b\b\b\b\b\b\b\b\b\b\b\b\b\b\b\b\b\b\b\b\b\b\b\b\b\b\b\b\b\b\b\b\b\b\b\b\b\b\b\b\b\b\b\b\b\b\b\b\b\b\b\b\b\b\b\b\b\b\b\b\b\b\r31\/31 [==============================] - 0s 3ms\/step - loss: 0.5021 - accuracy: 0.7492 - val_loss: 0.4972 - val_accuracy: 0.7662\n",
      "Epoch 37\/400\n",
      "\r 1\/31 [..............................] - ETA: 0s - loss: 0.3724 - accuracy: 0.9000\b\b\b\b\b\b\b\b\b\b\b\b\b\b\b\b\b\b\b\b\b\b\b\b\b\b\b\b\b\b\b\b\b\b\b\b\b\b\b\b\b\b\b\b\b\b\b\b\b\b\b\b\b\b\b\b\b\b\b\b\b\b\b\b\b\b\b\b\b\b\b\b\b\b\b\b\b\b\b\b\b\b\r31\/31 [==============================] - 0s 3ms\/step - loss: 0.5128 - accuracy: 0.7248 - val_loss: 0.4980 - val_accuracy: 0.7922\n",
      "Epoch 38\/400\n",
      "\r 1\/31 [..............................] - ETA: 0s - loss: 0.7085 - accuracy: 0.5500\b\b\b\b\b\b\b\b\b\b\b\b\b\b\b\b\b\b\b\b\b\b\b\b\b\b\b\b\b\b\b\b\b\b\b\b\b\b\b\b\b\b\b\b\b\b\b\b\b\b\b\b\b\b\b\b\b\b\b\b\b\b\b\b\b\b\b\b\b\b\b\b\b\b\b\b\b\b\b\b\b\b\r31\/31 [==============================] - 0s 2ms\/step - loss: 0.5008 - accuracy: 0.7296 - val_loss: 0.4956 - val_accuracy: 0.7857\n",
      "Epoch 39\/400\n",
      "\r 1\/31 [..............................] - ETA: 0s - loss: 0.4940 - accuracy: 0.7500\b\b\b\b\b\b\b\b\b\b\b\b\b\b\b\b\b\b\b\b\b\b\b\b\b\b\b\b\b\b\b\b\b\b\b\b\b\b\b\b\b\b\b\b\b\b\b\b\b\b\b\b\b\b\b\b\b\b\b\b\b\b\b\b\b\b\b\b\b\b\b\b\b\b\b\b\b\b\b\b\b\b\r31\/31 [==============================] - 0s 3ms\/step - loss: 0.5048 - accuracy: 0.7443 - val_loss: 0.4963 - val_accuracy: 0.7987\n",
      "Epoch 40\/400\n",
      "\r 1\/31 [..............................] - ETA: 0s - loss: 0.5322 - accuracy: 0.8000\b\b\b\b\b\b\b\b\b\b\b\b\b\b\b\b\b\b\b\b\b\b\b\b\b\b\b\b\b\b\b\b\b\b\b\b\b\b\b\b\b\b\b\b\b\b\b\b\b\b\b\b\b\b\b\b\b\b\b\b\b\b\b\b\b\b\b\b\b\b\b\b\b\b\b\b\b\b\b\b\b\b\r31\/31 [==============================] - 0s 2ms\/step - loss: 0.5044 - accuracy: 0.7378 - val_loss: 0.4952 - val_accuracy: 0.8052\n",
      "Epoch 41\/400\n",
      "\r 1\/31 [..............................] - ETA: 0s - loss: 0.4680 - accuracy: 0.7500\b\b\b\b\b\b\b\b\b\b\b\b\b\b\b\b\b\b\b\b\b\b\b\b\b\b\b\b\b\b\b\b\b\b\b\b\b\b\b\b\b\b\b\b\b\b\b\b\b\b\b\b\b\b\b\b\b\b\b\b\b\b\b\b\b\b\b\b\b\b\b\b\b\b\b\b\b\b\b\b\b\b\r31\/31 [==============================] - 0s 2ms\/step - loss: 0.5150 - accuracy: 0.7410 - val_loss: 0.4946 - val_accuracy: 0.8052\n",
      "Epoch 42\/400\n",
      "\r 1\/31 [..............................] - ETA: 0s - loss: 0.4888 - accuracy: 0.8000\b\b\b\b\b\b\b\b\b\b\b\b\b\b\b\b\b\b\b\b\b\b\b\b\b\b\b\b\b\b\b\b\b\b\b\b\b\b\b\b\b\b\b\b\b\b\b\b\b\b\b\b\b\b\b\b\b\b\b\b\b\b\b\b\b\b\b\b\b\b\b\b\b\b\b\b\b\b\b\b\b\b\r31\/31 [==============================] - 0s 2ms\/step - loss: 0.4972 - accuracy: 0.7476 - val_loss: 0.4935 - val_accuracy: 0.8052\n",
      "Epoch 43\/400\n",
      "\r 1\/31 [..............................] - ETA: 0s - loss: 0.5239 - accuracy: 0.7500\b\b\b\b\b\b\b\b\b\b\b\b\b\b\b\b\b\b\b\b\b\b\b\b\b\b\b\b\b\b\b\b\b\b\b\b\b\b\b\b\b\b\b\b\b\b\b\b\b\b\b\b\b\b\b\b\b\b\b\b\b\b\b\b\b\b\b\b\b\b\b\b\b\b\b\b\b\b\b\b\b\b\r31\/31 [==============================] - 0s 2ms\/step - loss: 0.4897 - accuracy: 0.7638 - val_loss: 0.4925 - val_accuracy: 0.7922\n",
      "Epoch 44\/400\n",
      "\r 1\/31 [..............................] - ETA: 0s - loss: 0.3462 - accuracy: 0.8000\b\b\b\b\b\b\b\b\b\b\b\b\b\b\b\b\b\b\b\b\b\b\b\b\b\b\b\b\b\b\b\b\b\b\b\b\b\b\b\b\b\b\b\b\b\b\b\b\b\b\b\b\b\b\b\b\b\b\b\b\b\b\b\b\b\b\b\b\b\b\b\b\b\b\b\b\b\b\b\b\b\b\r31\/31 [==============================] - 0s 2ms\/step - loss: 0.5029 - accuracy: 0.7378 - val_loss: 0.4906 - val_accuracy: 0.7987\n",
      "Epoch 45\/400\n",
      "\r 1\/31 [..............................] - ETA: 0s - loss: 0.5805 - accuracy: 0.7000\b\b\b\b\b\b\b\b\b\b\b\b\b\b\b\b\b\b\b\b\b\b\b\b\b\b\b\b\b\b\b\b\b\b\b\b\b\b\b\b\b\b\b\b\b\b\b\b\b\b\b\b\b\b\b\b\b\b\b\b\b\b\b\b\b\b\b\b\b\b\b\b\b\b\b\b\b\b\b\b\b\b\r31\/31 [==============================] - 0s 2ms\/step - loss: 0.4937 - accuracy: 0.7557 - val_loss: 0.4876 - val_accuracy: 0.7922\n",
      "Epoch 46\/400\n",
      "\r 1\/31 [..............................] - ETA: 0s - loss: 0.6178 - accuracy: 0.7500\b\b\b\b\b\b\b\b\b\b\b\b\b\b\b\b\b\b\b\b\b\b\b\b\b\b\b\b\b\b\b\b\b\b\b\b\b\b\b\b\b\b\b\b\b\b\b\b\b\b\b\b\b\b\b\b\b\b\b\b\b\b\b\b\b\b\b\b\b\b\b\b\b\b\b\b\b\b\b\b\b\b\r31\/31 [==============================] - 0s 2ms\/step - loss: 0.4924 - accuracy: 0.7557 - val_loss: 0.4877 - val_accuracy: 0.7857\n",
      "Epoch 47\/400\n",
      "\r 1\/31 [..............................] - ETA: 0s - loss: 0.7455 - accuracy: 0.6000\b\b\b\b\b\b\b\b\b\b\b\b\b\b\b\b\b\b\b\b\b\b\b\b\b\b\b\b\b\b\b\b\b\b\b\b\b\b\b\b\b\b\b\b\b\b\b\b\b\b\b\b\b\b\b\b\b\b\b\b\b\b\b\b\b\b\b\b\b\b\b\b\b\b\b\b\b\b\b\b\b\b\r31\/31 [==============================] - 0s 3ms\/step - loss: 0.4937 - accuracy: 0.7459 - val_loss: 0.4851 - val_accuracy: 0.7792\n",
      "Epoch 48\/400\n",
      "\r 1\/31 [..............................] - ETA: 0s - loss: 0.3425 - accuracy: 0.9000\b\b\b\b\b\b\b\b\b\b\b\b\b\b\b\b\b\b\b\b\b\b\b\b\b\b\b\b\b\b\b\b\b\b\b\b\b\b\b\b\b\b\b\b\b\b\b\b\b\b\b\b\b\b\b\b\b\b\b\b\b\b\b\b\b\b\b\b\b\b\b\b\b\b\b\b\b\b\b\b\b\b\r31\/31 [==============================] - 0s 3ms\/step - loss: 0.4876 - accuracy: 0.7671 - val_loss: 0.4861 - val_accuracy: 0.7792\n",
      "Epoch 49\/400\n",
      "\r 1\/31 [..............................] - ETA: 0s - loss: 0.4454 - accuracy: 0.8000\b\b\b\b\b\b\b\b\b\b\b\b\b\b\b\b\b\b\b\b\b\b\b\b\b\b\b\b\b\b\b\b\b\b\b\b\b\b\b\b\b\b\b\b\b\b\b\b\b\b\b\b\b\b\b\b\b\b\b\b\b\b\b\b\b\b\b\b\b\b\b\b\b\b\b\b\b\b\b\b\b\b\r31\/31 [==============================] - 0s 3ms\/step - loss: 0.4885 - accuracy: 0.7590 - val_loss: 0.4831 - val_accuracy: 0.7857\n",
      "Epoch 50\/400\n",
      "\r 1\/31 [..............................] - ETA: 0s - loss: 0.6016 - accuracy: 0.6500\b\b\b\b\b\b\b\b\b\b\b\b\b\b\b\b\b\b\b\b\b\b\b\b\b\b\b\b\b\b\b\b\b\b\b\b\b\b\b\b\b\b\b\b\b\b\b\b\b\b\b\b\b\b\b\b\b\b\b\b\b\b\b\b\b\b\b\b\b\b\b\b\b\b\b\b\b\b\b\b\b\b\r31\/31 [==============================] - 0s 3ms\/step - loss: 0.4858 - accuracy: 0.7622 - val_loss: 0.4815 - val_accuracy: 0.7857\n",
      "Epoch 51\/400\n",
      "\r 1\/31 [..............................] - ETA: 0s - loss: 0.4902 - accuracy: 0.7000\b\b\b\b\b\b\b\b\b\b\b\b\b\b\b\b\b\b\b\b\b\b\b\b\b\b\b\b\b\b\b\b\b\b\b\b\b\b\b\b\b\b\b\b\b\b\b\b\b\b\b\b\b\b\b\b\b\b\b\b\b\b\b\b\b\b\b\b\b\b\b\b\b\b\b\b\b\b\b\b\b\b\r31\/31 [==============================] - 0s 3ms\/step - loss: 0.4934 - accuracy: 0.7573 - val_loss: 0.4833 - val_accuracy: 0.7922\n",
      "Epoch 52\/400\n",
      "\r 1\/31 [..............................] - ETA: 0s - loss: 0.4653 - accuracy: 0.7500\b\b\b\b\b\b\b\b\b\b\b\b\b\b\b\b\b\b\b\b\b\b\b\b\b\b\b\b\b\b\b\b\b\b\b\b\b\b\b\b\b\b\b\b\b\b\b\b\b\b\b\b\b\b\b\b\b\b\b\b\b\b\b\b\b\b\b\b\b\b\b\b\b\b\b\b\b\b\b\b\b\b\r31\/31 [==============================] - 0s 2ms\/step - loss: 0.4799 - accuracy: 0.7541 - val_loss: 0.4805 - val_accuracy: 0.7922\n",
      "Epoch 53\/400\n",
      "\r 1\/31 [..............................] - ETA: 0s - loss: 0.4028 - accuracy: 0.8000\b\b\b\b\b\b\b\b\b\b\b\b\b\b\b\b\b\b\b\b\b\b\b\b\b\b\b\b\b\b\b\b\b\b\b\b\b\b\b\b\b\b\b\b\b\b\b\b\b\b\b\b\b\b\b\b\b\b\b\b\b\b\b\b\b\b\b\b\b\b\b\b\b\b\b\b\b\b\b\b\b\b\r31\/31 [==============================] - 0s 2ms\/step - loss: 0.4770 - accuracy: 0.7606 - val_loss: 0.4790 - val_accuracy: 0.7857\n",
      "Epoch 54\/400\n",
      "\r 1\/31 [..............................] - ETA: 0s - loss: 0.5017 - accuracy: 0.7000\b\b\b\b\b\b\b\b\b\b\b\b\b\b\b\b\b\b\b\b\b\b\b\b\b\b\b\b\b\b\b\b\b\b\b\b\b\b\b\b\b\b\b\b\b\b\b\b\b\b\b\b\b\b\b\b\b\b\b\b\b\b\b\b\b\b\b\b\b\b\b\b\b\b\b\b\b\b\b\b\b\b\r31\/31 [==============================] - 0s 2ms\/step - loss: 0.4753 - accuracy: 0.7606 - val_loss: 0.4770 - val_accuracy: 0.7922\n",
      "Epoch 55\/400\n",
      "\r 1\/31 [..............................] - ETA: 0s - loss: 0.6090 - accuracy: 0.6000\b\b\b\b\b\b\b\b\b\b\b\b\b\b\b\b\b\b\b\b\b\b\b\b\b\b\b\b\b\b\b\b\b\b\b\b\b\b\b\b\b\b\b\b\b\b\b\b\b\b\b\b\b\b\b\b\b\b\b\b\b\b\b\b\b\b\b\b\b\b\b\b\b\b\b\b\b\b\b\b\b\b\r31\/31 [==============================] - 0s 2ms\/step - loss: 0.4819 - accuracy: 0.7671 - val_loss: 0.4772 - val_accuracy: 0.7987\n",
      "Epoch 56\/400\n",
      "\r 1\/31 [..............................] - ETA: 0s - loss: 0.6244 - accuracy: 0.6500\b\b\b\b\b\b\b\b\b\b\b\b\b\b\b\b\b\b\b\b\b\b\b\b\b\b\b\b\b\b\b\b\b\b\b\b\b\b\b\b\b\b\b\b\b\b\b\b\b\b\b\b\b\b\b\b\b\b\b\b\b\b\b\b\b\b\b\b\b\b\b\b\b\b\b\b\b\b\b\b\b\b\r31\/31 [==============================] - 0s 3ms\/step - loss: 0.4763 - accuracy: 0.7769 - val_loss: 0.4747 - val_accuracy: 0.7792\n",
      "Epoch 57\/400\n",
      "\r 1\/31 [..............................] - ETA: 0s - loss: 0.5639 - accuracy: 0.7500\b\b\b\b\b\b\b\b\b\b\b\b\b\b\b\b\b\b\b\b\b\b\b\b\b\b\b\b\b\b\b\b\b\b\b\b\b\b\b\b\b\b\b\b\b\b\b\b\b\b\b\b\b\b\b\b\b\b\b\b\b\b\b\b\b\b\b\b\b\b\b\b\b\b\b\b\b\b\b\b\b\b\r31\/31 [==============================] - 0s 2ms\/step - loss: 0.4738 - accuracy: 0.7866 - val_loss: 0.4729 - val_accuracy: 0.7727\n",
      "Epoch 58\/400\n",
      "\r 1\/31 [..............................] - ETA: 0s - loss: 0.5482 - accuracy: 0.6500\b\b\b\b\b\b\b\b\b\b\b\b\b\b\b\b\b\b\b\b\b\b\b\b\b\b\b\b\b\b\b\b\b\b\b\b\b\b\b\b\b\b\b\b\b\b\b\b\b\b\b\b\b\b\b\b\b\b\b\b\b\b\b\b\b\b\b\b\b\b\b\b\b\b\b\b\b\b\b\b\b\b\r31\/31 [==============================] - 0s 2ms\/step - loss: 0.4859 - accuracy: 0.7622 - val_loss: 0.4740 - val_accuracy: 0.7922\n",
      "Epoch 59\/400\n",
      "\r 1\/31 [..............................] - ETA: 0s - loss: 0.5224 - accuracy: 0.6500\b\b\b\b\b\b\b\b\b\b\b\b\b\b\b\b\b\b\b\b\b\b\b\b\b\b\b\b\b\b\b\b\b\b\b\b\b\b\b\b\b\b\b\b\b\b\b\b\b\b\b\b\b\b\b\b\b\b\b\b\b\b\b\b\b\b\b\b\b\b\b\b\b\b\b\b\b\b\b\b\b\b\r31\/31 [==============================] - 0s 3ms\/step - loss: 0.4888 - accuracy: 0.7606 - val_loss: 0.4741 - val_accuracy: 0.8052\n",
      "Epoch 60\/400\n",
      "\r 1\/31 [..............................] - ETA: 0s - loss: 0.4391 - accuracy: 0.8000\b\b\b\b\b\b\b\b\b\b\b\b\b\b\b\b\b\b\b\b\b\b\b\b\b\b\b\b\b\b\b\b\b\b\b\b\b\b\b\b\b\b\b\b\b\b\b\b\b\b\b\b\b\b\b\b\b\b\b\b\b\b\b\b\b\b\b\b\b\b\b\b\b\b\b\b\b\b\b\b\b\b\r31\/31 [==============================] - 0s 2ms\/step - loss: 0.4779 - accuracy: 0.7590 - val_loss: 0.4722 - val_accuracy: 0.7857\n",
      "Epoch 61\/400\n",
      "\r 1\/31 [..............................] - ETA: 0s - loss: 0.4815 - accuracy: 0.8000\b\b\b\b\b\b\b\b\b\b\b\b\b\b\b\b\b\b\b\b\b\b\b\b\b\b\b\b\b\b\b\b\b\b\b\b\b\b\b\b\b\b\b\b\b\b\b\b\b\b\b\b\b\b\b\b\b\b\b\b\b\b\b\b\b\b\b\b\b\b\b\b\b\b\b\b\b\b\b\b\b\b\r31\/31 [==============================] - 0s 2ms\/step - loss: 0.4783 - accuracy: 0.7704 - val_loss: 0.4752 - val_accuracy: 0.7857\n",
      "Epoch 62\/400\n",
      "\r 1\/31 [..............................] - ETA: 0s - loss: 0.4441 - accuracy: 0.7500\b\b\b\b\b\b\b\b\b\b\b\b\b\b\b\b\b\b\b\b\b\b\b\b\b\b\b\b\b\b\b\b\b\b\b\b\b\b\b\b\b\b\b\b\b\b\b\b\b\b\b\b\b\b\b\b\b\b\b\b\b\b\b\b\b\b\b\b\b\b\b\b\b\b\b\b\b\b\b\b\b\b\r31\/31 [==============================] - 0s 2ms\/step - loss: 0.4853 - accuracy: 0.7541 - val_loss: 0.4724 - val_accuracy: 0.7792\n",
      "Epoch 63\/400\n",
      "\r 1\/31 [..............................] - ETA: 0s - loss: 0.4670 - accuracy: 0.7500\b\b\b\b\b\b\b\b\b\b\b\b\b\b\b\b\b\b\b\b\b\b\b\b\b\b\b\b\b\b\b\b\b\b\b\b\b\b\b\b\b\b\b\b\b\b\b\b\b\b\b\b\b\b\b\b\b\b\b\b\b\b\b\b\b\b\b\b\b\b\b\b\b\b\b\b\b\b\b\b\b\b\r31\/31 [==============================] - 0s 2ms\/step - loss: 0.4819 - accuracy: 0.7687 - val_loss: 0.4714 - val_accuracy: 0.7987\n",
      "Epoch 64\/400\n",
      "\r 1\/31 [..............................] - ETA: 0s - loss: 0.6262 - accuracy: 0.6500\b\b\b\b\b\b\b\b\b\b\b\b\b\b\b\b\b\b\b\b\b\b\b\b\b\b\b\b\b\b\b\b\b\b\b\b\b\b\b\b\b\b\b\b\b\b\b\b\b\b\b\b\b\b\b\b\b\b\b\b\b\b\b\b\b\b\b\b\b\b\b\b\b\b\b\b\b\b\b\b\b\b\r31\/31 [==============================] - 0s 2ms\/step - loss: 0.4821 - accuracy: 0.7590 - val_loss: 0.4728 - val_accuracy: 0.7922\n",
      "Epoch 65\/400\n",
      "\r 1\/31 [..............................] - ETA: 0s - loss: 0.4191 - accuracy: 0.8000\b\b\b\b\b\b\b\b\b\b\b\b\b\b\b\b\b\b\b\b\b\b\b\b\b\b\b\b\b\b\b\b\b\b\b\b\b\b\b\b\b\b\b\b\b\b\b\b\b\b\b\b\b\b\b\b\b\b\b\b\b\b\b\b\b\b\b\b\b\b\b\b\b\b\b\b\b\b\b\b\b\b\r31\/31 [==============================] - 0s 2ms\/step - loss: 0.4834 - accuracy: 0.7704 - val_loss: 0.4723 - val_accuracy: 0.7922\n",
      "Epoch 66\/400\n",
      "\r 1\/31 [..............................] - ETA: 0s - loss: 0.3442 - accuracy: 0.8500\b\b\b\b\b\b\b\b\b\b\b\b\b\b\b\b\b\b\b\b\b\b\b\b\b\b\b\b\b\b\b\b\b\b\b\b\b\b\b\b\b\b\b\b\b\b\b\b\b\b\b\b\b\b\b\b\b\b\b\b\b\b\b\b\b\b\b\b\b\b\b\b\b\b\b\b\b\b\b\b\b\b\r31\/31 [==============================] - 0s 2ms\/step - loss: 0.4733 - accuracy: 0.7704 - val_loss: 0.4702 - val_accuracy: 0.7792\n",
      "Epoch 67\/400\n",
      "\r 1\/31 [..............................] - ETA: 0s - loss: 0.5389 - accuracy: 0.7000\b\b\b\b\b\b\b\b\b\b\b\b\b\b\b\b\b\b\b\b\b\b\b\b\b\b\b\b\b\b\b\b\b\b\b\b\b\b\b\b\b\b\b\b\b\b\b\b\b\b\b\b\b\b\b\b\b\b\b\b\b\b\b\b\b\b\b\b\b\b\b\b\b\b\b\b\b\b\b\b\b\b\r31\/31 [==============================] - 0s 3ms\/step - loss: 0.4835 - accuracy: 0.7508 - val_loss: 0.4700 - val_accuracy: 0.7987\n",
      "Epoch 68\/400\n",
      "\r 1\/31 [..............................] - ETA: 0s - loss: 0.6936 - accuracy: 0.6000\b\b\b\b\b\b\b\b\b\b\b\b\b\b\b\b\b\b\b\b\b\b\b\b\b\b\b\b\b\b\b\b\b\b\b\b\b\b\b\b\b\b\b\b\b\b\b\b\b\b\b\b\b\b\b\b\b\b\b\b\b\b\b\b\b\b\b\b\b\b\b\b\b\b\b\b\b\b\b\b\b\b\r31\/31 [==============================] - 0s 3ms\/step - loss: 0.4829 - accuracy: 0.7606 - val_loss: 0.4698 - val_accuracy: 0.7922\n",
      "Epoch 69\/400\n",
      "\r 1\/31 [..............................] - ETA: 0s - loss: 0.4338 - accuracy: 0.8500\b\b\b\b\b\b\b\b\b\b\b\b\b\b\b\b\b\b\b\b\b\b\b\b\b\b\b\b\b\b\b\b\b\b\b\b\b\b\b\b\b\b\b\b\b\b\b\b\b\b\b\b\b\b\b\b\b\b\b\b\b\b\b\b\b\b\b\b\b\b\b\b\b\b\b\b\b\b\b\b\b\b\r31\/31 [==============================] - 0s 2ms\/step - loss: 0.4677 - accuracy: 0.7638 - val_loss: 0.4692 - val_accuracy: 0.7727\n",
      "Epoch 70\/400\n",
      "\r 1\/31 [..............................] - ETA: 0s - loss: 0.3359 - accuracy: 0.8500\b\b\b\b\b\b\b\b\b\b\b\b\b\b\b\b\b\b\b\b\b\b\b\b\b\b\b\b\b\b\b\b\b\b\b\b\b\b\b\b\b\b\b\b\b\b\b\b\b\b\b\b\b\b\b\b\b\b\b\b\b\b\b\b\b\b\b\b\b\b\b\b\b\b\b\b\b\b\b\b\b\b\r31\/31 [==============================] - 0s 3ms\/step - loss: 0.4807 - accuracy: 0.7590 - val_loss: 0.4694 - val_accuracy: 0.7987\n",
      "Epoch 71\/400\n",
      "\r 1\/31 [..............................] - ETA: 0s - loss: 0.5057 - accuracy: 0.7500\b\b\b\b\b\b\b\b\b\b\b\b\b\b\b\b\b\b\b\b\b\b\b\b\b\b\b\b\b\b\b\b\b\b\b\b\b\b\b\b\b\b\b\b\b\b\b\b\b\b\b\b\b\b\b\b\b\b\b\b\b\b\b\b\b\b\b\b\b\b\b\b\b\b\b\b\b\b\b\b\b\b\r31\/31 [==============================] - 0s 2ms\/step - loss: 0.4743 - accuracy: 0.7573 - val_loss: 0.4691 - val_accuracy: 0.7922\n",
      "Epoch 72\/400\n",
      "\r 1\/31 [..............................] - ETA: 0s - loss: 0.4733 - accuracy: 0.8500\b\b\b\b\b\b\b\b\b\b\b\b\b\b\b\b\b\b\b\b\b\b\b\b\b\b\b\b\b\b\b\b\b\b\b\b\b\b\b\b\b\b\b\b\b\b\b\b\b\b\b\b\b\b\b\b\b\b\b\b\b\b\b\b\b\b\b\b\b\b\b\b\b\b\b\b\b\b\b\b\b\b\r31\/31 [==============================] - 0s 2ms\/step - loss: 0.4820 - accuracy: 0.7606 - val_loss: 0.4697 - val_accuracy: 0.7857\n",
      "Epoch 73\/400\n",
      "\r 1\/31 [..............................] - ETA: 0s - loss: 0.7025 - accuracy: 0.5000\b\b\b\b\b\b\b\b\b\b\b\b\b\b\b\b\b\b\b\b\b\b\b\b\b\b\b\b\b\b\b\b\b\b\b\b\b\b\b\b\b\b\b\b\b\b\b\b\b\b\b\b\b\b\b\b\b\b\b\b\b\b\b\b\b\b\b\b\b\b\b\b\b\b\b\b\b\b\b\b\b\b\r31\/31 [==============================] - 0s 2ms\/step - loss: 0.4648 - accuracy: 0.7590 - val_loss: 0.4678 - val_accuracy: 0.7857\n",
      "Epoch 74\/400\n",
      "\r 1\/31 [..............................] - ETA: 0s - loss: 0.4460 - accuracy: 0.8500\b\b\b\b\b\b\b\b\b\b\b\b\b\b\b\b\b\b\b\b\b\b\b\b\b\b\b\b\b\b\b\b\b\b\b\b\b\b\b\b\b\b\b\b\b\b\b\b\b\b\b\b\b\b\b\b\b\b\b\b\b\b\b\b\b\b\b\b\b\b\b\b\b\b\b\b\b\b\b\b\b\b\r31\/31 [==============================] - 0s 2ms\/step - loss: 0.4728 - accuracy: 0.7508 - val_loss: 0.4679 - val_accuracy: 0.7857\n",
      "Epoch 75\/400\n",
      "\r 1\/31 [..............................] - ETA: 0s - loss: 0.5489 - accuracy: 0.7500\b\b\b\b\b\b\b\b\b\b\b\b\b\b\b\b\b\b\b\b\b\b\b\b\b\b\b\b\b\b\b\b\b\b\b\b\b\b\b\b\b\b\b\b\b\b\b\b\b\b\b\b\b\b\b\b\b\b\b\b\b\b\b\b\b\b\b\b\b\b\b\b\b\b\b\b\b\b\b\b\b\b\r31\/31 [==============================] - 0s 3ms\/step - loss: 0.4780 - accuracy: 0.7671 - val_loss: 0.4673 - val_accuracy: 0.7987\n",
      "Epoch 76\/400\n",
      "\r 1\/31 [..............................] - ETA: 0s - loss: 0.5194 - accuracy: 0.7000\b\b\b\b\b\b\b\b\b\b\b\b\b\b\b\b\b\b\b\b\b\b\b\b\b\b\b\b\b\b\b\b\b\b\b\b\b\b\b\b\b\b\b\b\b\b\b\b\b\b\b\b\b\b\b\b\b\b\b\b\b\b\b\b\b\b\b\b\b\b\b\b\b\b\b\b\b\b\b\b\b\b\r31\/31 [==============================] - 0s 2ms\/step - loss: 0.4660 - accuracy: 0.7736 - val_loss: 0.4677 - val_accuracy: 0.7922\n",
      "Epoch 77\/400\n",
      "\r 1\/31 [..............................] - ETA: 0s - loss: 0.5432 - accuracy: 0.6500\b\b\b\b\b\b\b\b\b\b\b\b\b\b\b\b\b\b\b\b\b\b\b\b\b\b\b\b\b\b\b\b\b\b\b\b\b\b\b\b\b\b\b\b\b\b\b\b\b\b\b\b\b\b\b\b\b\b\b\b\b\b\b\b\b\b\b\b\b\b\b\b\b\b\b\b\b\b\b\b\b\b\r31\/31 [==============================] - 0s 3ms\/step - loss: 0.4806 - accuracy: 0.7655 - val_loss: 0.4680 - val_accuracy: 0.7857\n",
      "Epoch 78\/400\n",
      "\r 1\/31 [..............................] - ETA: 0s - loss: 0.6287 - accuracy: 0.5500\b\b\b\b\b\b\b\b\b\b\b\b\b\b\b\b\b\b\b\b\b\b\b\b\b\b\b\b\b\b\b\b\b\b\b\b\b\b\b\b\b\b\b\b\b\b\b\b\b\b\b\b\b\b\b\b\b\b\b\b\b\b\b\b\b\b\b\b\b\b\b\b\b\b\b\b\b\b\b\b\b\b\r31\/31 [==============================] - 0s 2ms\/step - loss: 0.4749 - accuracy: 0.7541 - val_loss: 0.4704 - val_accuracy: 0.7857\n",
      "Epoch 79\/400\n",
      "\r 1\/31 [..............................] - ETA: 0s - loss: 0.3897 - accuracy: 0.8500\b\b\b\b\b\b\b\b\b\b\b\b\b\b\b\b\b\b\b\b\b\b\b\b\b\b\b\b\b\b\b\b\b\b\b\b\b\b\b\b\b\b\b\b\b\b\b\b\b\b\b\b\b\b\b\b\b\b\b\b\b\b\b\b\b\b\b\b\b\b\b\b\b\b\b\b\b\b\b\b\b\b\r31\/31 [==============================] - 0s 2ms\/step - loss: 0.4722 - accuracy: 0.7769 - val_loss: 0.4693 - val_accuracy: 0.7727\n",
      "Epoch 80\/400\n",
      "\r 1\/31 [..............................] - ETA: 0s - loss: 0.4006 - accuracy: 0.8000\b\b\b\b\b\b\b\b\b\b\b\b\b\b\b\b\b\b\b\b\b\b\b\b\b\b\b\b\b\b\b\b\b\b\b\b\b\b\b\b\b\b\b\b\b\b\b\b\b\b\b\b\b\b\b\b\b\b\b\b\b\b\b\b\b\b\b\b\b\b\b\b\b\b\b\b\b\b\b\b\b\b\r31\/31 [==============================] - 0s 3ms\/step - loss: 0.4743 - accuracy: 0.7508 - val_loss: 0.4685 - val_accuracy: 0.7857\n",
      "Epoch 81\/400\n",
      "\r 1\/31 [..............................] - ETA: 0s - loss: 0.6314 - accuracy: 0.6500\b\b\b\b\b\b\b\b\b\b\b\b\b\b\b\b\b\b\b\b\b\b\b\b\b\b\b\b\b\b\b\b\b\b\b\b\b\b\b\b\b\b\b\b\b\b\b\b\b\b\b\b\b\b\b\b\b\b\b\b\b\b\b\b\b\b\b\b\b\b\b\b\b\b\b\b\b\b\b\b\b\b\r31\/31 [==============================] - 0s 2ms\/step - loss: 0.4742 - accuracy: 0.7671 - val_loss: 0.4680 - val_accuracy: 0.7922\n",
      "Epoch 82\/400\n",
      "\r 1\/31 [..............................] - ETA: 0s - loss: 0.5584 - accuracy: 0.6500\b\b\b\b\b\b\b\b\b\b\b\b\b\b\b\b\b\b\b\b\b\b\b\b\b\b\b\b\b\b\b\b\b\b\b\b\b\b\b\b\b\b\b\b\b\b\b\b\b\b\b\b\b\b\b\b\b\b\b\b\b\b\b\b\b\b\b\b\b\b\b\b\b\b\b\b\b\b\b\b\b\b\r31\/31 [==============================] - 0s 3ms\/step - loss: 0.4782 - accuracy: 0.7590 - val_loss: 0.4678 - val_accuracy: 0.7922\n",
      "Epoch 83\/400\n",
      "\r 1\/31 [..............................] - ETA: 0s - loss: 0.3273 - accuracy: 0.8000\b\b\b\b\b\b\b\b\b\b\b\b\b\b\b\b\b\b\b\b\b\b\b\b\b\b\b\b\b\b\b\b\b\b\b\b\b\b\b\b\b\b\b\b\b\b\b\b\b\b\b\b\b\b\b\b\b\b\b\b\b\b\b\b\b\b\b\b\b\b\b\b\b\b\b\b\b\b\b\b\b\b\r31\/31 [==============================] - 0s 2ms\/step - loss: 0.4704 - accuracy: 0.7769 - val_loss: 0.4673 - val_accuracy: 0.7857\n",
      "Epoch 84\/400\n",
      "\r 1\/31 [..............................] - ETA: 0s - loss: 0.2839 - accuracy: 0.9000\b\b\b\b\b\b\b\b\b\b\b\b\b\b\b\b\b\b\b\b\b\b\b\b\b\b\b\b\b\b\b\b\b\b\b\b\b\b\b\b\b\b\b\b\b\b\b\b\b\b\b\b\b\b\b\b\b\b\b\b\b\b\b\b\b\b\b\b\b\b\b\b\b\b\b\b\b\b\b\b\b\b\r31\/31 [==============================] - 0s 2ms\/step - loss: 0.4778 - accuracy: 0.7590 - val_loss: 0.4665 - val_accuracy: 0.7987\n",
      "Epoch 85\/400\n",
      "\r 1\/31 [..............................] - ETA: 0s - loss: 0.6317 - accuracy: 0.6000\b\b\b\b\b\b\b\b\b\b\b\b\b\b\b\b\b\b\b\b\b\b\b\b\b\b\b\b\b\b\b\b\b\b\b\b\b\b\b\b\b\b\b\b\b\b\b\b\b\b\b\b\b\b\b\b\b\b\b\b\b\b\b\b\b\b\b\b\b\b\b\b\b\b\b\b\b\b\b\b\b\b\r31\/31 [==============================] - 0s 2ms\/step - loss: 0.4732 - accuracy: 0.7638 - val_loss: 0.4667 - val_accuracy: 0.7857\n",
      "Epoch 86\/400\n",
      "\r 1\/31 [..............................] - ETA: 0s - loss: 0.2870 - accuracy: 0.9500\b\b\b\b\b\b\b\b\b\b\b\b\b\b\b\b\b\b\b\b\b\b\b\b\b\b\b\b\b\b\b\b\b\b\b\b\b\b\b\b\b\b\b\b\b\b\b\b\b\b\b\b\b\b\b\b\b\b\b\b\b\b\b\b\b\b\b\b\b\b\b\b\b\b\b\b\b\b\b\b\b\b\r31\/31 [==============================] - 0s 2ms\/step - loss: 0.4670 - accuracy: 0.7638 - val_loss: 0.4666 - val_accuracy: 0.7922\n",
      "Epoch 87\/400\n",
      "\r 1\/31 [..............................] - ETA: 0s - loss: 0.4171 - accuracy: 0.8000\b\b\b\b\b\b\b\b\b\b\b\b\b\b\b\b\b\b\b\b\b\b\b\b\b\b\b\b\b\b\b\b\b\b\b\b\b\b\b\b\b\b\b\b\b\b\b\b\b\b\b\b\b\b\b\b\b\b\b\b\b\b\b\b\b\b\b\b\b\b\b\b\b\b\b\b\b\b\b\b\b\b\r31\/31 [==============================] - 0s 2ms\/step - loss: 0.4791 - accuracy: 0.7492 - val_loss: 0.4662 - val_accuracy: 0.7857\n",
      "Epoch 88\/400\n",
      "\r 1\/31 [..............................] - ETA: 0s - loss: 0.8506 - accuracy: 0.5500\b\b\b\b\b\b\b\b\b\b\b\b\b\b\b\b\b\b\b\b\b\b\b\b\b\b\b\b\b\b\b\b\b\b\b\b\b\b\b\b\b\b\b\b\b\b\b\b\b\b\b\b\b\b\b\b\b\b\b\b\b\b\b\b\b\b\b\b\b\b\b\b\b\b\b\b\b\b\b\b\b\b\r31\/31 [==============================] - 0s 3ms\/step - loss: 0.4749 - accuracy: 0.7443 - val_loss: 0.4663 - val_accuracy: 0.7857\n",
      "Epoch 89\/400\n",
      "\r 1\/31 [..............................] - ETA: 0s - loss: 0.4438 - accuracy: 0.8500\b\b\b\b\b\b\b\b\b\b\b\b\b\b\b\b\b\b\b\b\b\b\b\b\b\b\b\b\b\b\b\b\b\b\b\b\b\b\b\b\b\b\b\b\b\b\b\b\b\b\b\b\b\b\b\b\b\b\b\b\b\b\b\b\b\b\b\b\b\b\b\b\b\b\b\b\b\b\b\b\b\b\r31\/31 [==============================] - 0s 2ms\/step - loss: 0.4724 - accuracy: 0.7573 - val_loss: 0.4663 - val_accuracy: 0.7857\n",
      "Epoch 90\/400\n",
      "\r 1\/31 [..............................] - ETA: 0s - loss: 0.5393 - accuracy: 0.6000\b\b\b\b\b\b\b\b\b\b\b\b\b\b\b\b\b\b\b\b\b\b\b\b\b\b\b\b\b\b\b\b\b\b\b\b\b\b\b\b\b\b\b\b\b\b\b\b\b\b\b\b\b\b\b\b\b\b\b\b\b\b\b\b\b\b\b\b\b\b\b\b\b\b\b\b\b\b\b\b\b\b\r31\/31 [==============================] - 0s 2ms\/step - loss: 0.4597 - accuracy: 0.7687 - val_loss: 0.4652 - val_accuracy: 0.7857\n",
      "Epoch 91\/400\n",
      "\r 1\/31 [..............................] - ETA: 0s - loss: 0.5447 - accuracy: 0.7500\b\b\b\b\b\b\b\b\b\b\b\b\b\b\b\b\b\b\b\b\b\b\b\b\b\b\b\b\b\b\b\b\b\b\b\b\b\b\b\b\b\b\b\b\b\b\b\b\b\b\b\b\b\b\b\b\b\b\b\b\b\b\b\b\b\b\b\b\b\b\b\b\b\b\b\b\b\b\b\b\b\b\r31\/31 [==============================] - 0s 3ms\/step - loss: 0.4706 - accuracy: 0.7638 - val_loss: 0.4652 - val_accuracy: 0.7987\n",
      "Epoch 92\/400\n",
      "\r 1\/31 [..............................] - ETA: 0s - loss: 0.3295 - accuracy: 0.9500\b\b\b\b\b\b\b\b\b\b\b\b\b\b\b\b\b\b\b\b\b\b\b\b\b\b\b\b\b\b\b\b\b\b\b\b\b\b\b\b\b\b\b\b\b\b\b\b\b\b\b\b\b\b\b\b\b\b\b\b\b\b\b\b\b\b\b\b\b\b\b\b\b\b\b\b\b\b\b\b\b\b\r31\/31 [==============================] - 0s 3ms\/step - loss: 0.4692 - accuracy: 0.7606 - val_loss: 0.4655 - val_accuracy: 0.7857\n",
      "Epoch 93\/400\n",
      "\r 1\/31 [..............................] - ETA: 0s - loss: 0.4726 - accuracy: 0.8500\b\b\b\b\b\b\b\b\b\b\b\b\b\b\b\b\b\b\b\b\b\b\b\b\b\b\b\b\b\b\b\b\b\b\b\b\b\b\b\b\b\b\b\b\b\b\b\b\b\b\b\b\b\b\b\b\b\b\b\b\b\b\b\b\b\b\b\b\b\b\b\b\b\b\b\b\b\b\b\b\b\b\r31\/31 [==============================] - 0s 3ms\/step - loss: 0.4677 - accuracy: 0.7671 - val_loss: 0.4649 - val_accuracy: 0.7922\n",
      "Epoch 94\/400\n",
      "\r 1\/31 [..............................] - ETA: 0s - loss: 0.3681 - accuracy: 0.8500\b\b\b\b\b\b\b\b\b\b\b\b\b\b\b\b\b\b\b\b\b\b\b\b\b\b\b\b\b\b\b\b\b\b\b\b\b\b\b\b\b\b\b\b\b\b\b\b\b\b\b\b\b\b\b\b\b\b\b\b\b\b\b\b\b\b\b\b\b\b\b\b\b\b\b\b\b\b\b\b\b\b\r31\/31 [==============================] - 0s 2ms\/step - loss: 0.4654 - accuracy: 0.7883 - val_loss: 0.4710 - val_accuracy: 0.7792\n",
      "Epoch 95\/400\n",
      "\r 1\/31 [..............................] - ETA: 0s - loss: 0.5566 - accuracy: 0.7000\b\b\b\b\b\b\b\b\b\b\b\b\b\b\b\b\b\b\b\b\b\b\b\b\b\b\b\b\b\b\b\b\b\b\b\b\b\b\b\b\b\b\b\b\b\b\b\b\b\b\b\b\b\b\b\b\b\b\b\b\b\b\b\b\b\b\b\b\b\b\b\b\b\b\b\b\b\b\b\b\b\b\r31\/31 [==============================] - 0s 3ms\/step - loss: 0.4744 - accuracy: 0.7622 - val_loss: 0.4653 - val_accuracy: 0.7922\n",
      "Epoch 96\/400\n",
      "\r 1\/31 [..............................] - ETA: 0s - loss: 0.3692 - accuracy: 0.9000\b\b\b\b\b\b\b\b\b\b\b\b\b\b\b\b\b\b\b\b\b\b\b\b\b\b\b\b\b\b\b\b\b\b\b\b\b\b\b\b\b\b\b\b\b\b\b\b\b\b\b\b\b\b\b\b\b\b\b\b\b\b\b\b\b\b\b\b\b\b\b\b\b\b\b\b\b\b\b\b\b\b\r31\/31 [==============================] - 0s 2ms\/step - loss: 0.4801 - accuracy: 0.7524 - val_loss: 0.4655 - val_accuracy: 0.7792\n",
      "Epoch 97\/400\n",
      "\r 1\/31 [..............................] - ETA: 0s - loss: 0.7464 - accuracy: 0.6000\b\b\b\b\b\b\b\b\b\b\b\b\b\b\b\b\b\b\b\b\b\b\b\b\b\b\b\b\b\b\b\b\b\b\b\b\b\b\b\b\b\b\b\b\b\b\b\b\b\b\b\b\b\b\b\b\b\b\b\b\b\b\b\b\b\b\b\b\b\b\b\b\b\b\b\b\b\b\b\b\b\b\r31\/31 [==============================] - 0s 2ms\/step - loss: 0.4667 - accuracy: 0.7720 - val_loss: 0.4653 - val_accuracy: 0.7857\n",
      "Epoch 98\/400\n",
      "\r 1\/31 [..............................] - ETA: 0s - loss: 0.5834 - accuracy: 0.6500\b\b\b\b\b\b\b\b\b\b\b\b\b\b\b\b\b\b\b\b\b\b\b\b\b\b\b\b\b\b\b\b\b\b\b\b\b\b\b\b\b\b\b\b\b\b\b\b\b\b\b\b\b\b\b\b\b\b\b\b\b\b\b\b\b\b\b\b\b\b\b\b\b\b\b\b\b\b\b\b\b\b\r31\/31 [==============================] - 0s 2ms\/step - loss: 0.4601 - accuracy: 0.7769 - val_loss: 0.4653 - val_accuracy: 0.7857\n",
      "Epoch 99\/400\n",
      "\r 1\/31 [..............................] - ETA: 0s - loss: 0.5648 - accuracy: 0.7000\b\b\b\b\b\b\b\b\b\b\b\b\b\b\b\b\b\b\b\b\b\b\b\b\b\b\b\b\b\b\b\b\b\b\b\b\b\b\b\b\b\b\b\b\b\b\b\b\b\b\b\b\b\b\b\b\b\b\b\b\b\b\b\b\b\b\b\b\b\b\b\b\b\b\b\b\b\b\b\b\b\b\r31\/31 [==============================] - 0s 3ms\/step - loss: 0.4689 - accuracy: 0.7590 - val_loss: 0.4645 - val_accuracy: 0.7857\n",
      "Epoch 100\/400\n",
      "\r 1\/31 [..............................] - ETA: 0s - loss: 0.6912 - accuracy: 0.7000\b\b\b\b\b\b\b\b\b\b\b\b\b\b\b\b\b\b\b\b\b\b\b\b\b\b\b\b\b\b\b\b\b\b\b\b\b\b\b\b\b\b\b\b\b\b\b\b\b\b\b\b\b\b\b\b\b\b\b\b\b\b\b\b\b\b\b\b\b\b\b\b\b\b\b\b\b\b\b\b\b\b\r31\/31 [==============================] - 0s 2ms\/step - loss: 0.4643 - accuracy: 0.7736 - val_loss: 0.4645 - val_accuracy: 0.7792\n",
      "Epoch 101\/400\n",
      "\r 1\/31 [..............................] - ETA: 0s - loss: 0.4048 - accuracy: 0.8000\b\b\b\b\b\b\b\b\b\b\b\b\b\b\b\b\b\b\b\b\b\b\b\b\b\b\b\b\b\b\b\b\b\b\b\b\b\b\b\b\b\b\b\b\b\b\b\b\b\b\b\b\b\b\b\b\b\b\b\b\b\b\b\b\b\b\b\b\b\b\b\b\b\b\b\b\b\b\b\b\b\b\r31\/31 [==============================] - 0s 2ms\/step - loss: 0.4603 - accuracy: 0.7785 - val_loss: 0.4634 - val_accuracy: 0.7987\n",
      "Epoch 102\/400\n",
      "\r 1\/31 [..............................] - ETA: 0s - loss: 0.3752 - accuracy: 0.9000\b\b\b\b\b\b\b\b\b\b\b\b\b\b\b\b\b\b\b\b\b\b\b\b\b\b\b\b\b\b\b\b\b\b\b\b\b\b\b\b\b\b\b\b\b\b\b\b\b\b\b\b\b\b\b\b\b\b\b\b\b\b\b\b\b\b\b\b\b\b\b\b\b\b\b\b\b\b\b\b\b\b\r31\/31 [==============================] - 0s 3ms\/step - loss: 0.4721 - accuracy: 0.7524 - val_loss: 0.4695 - val_accuracy: 0.7792\n",
      "Epoch 103\/400\n",
      "\r 1\/31 [..............................] - ETA: 0s - loss: 0.5487 - accuracy: 0.7500\b\b\b\b\b\b\b\b\b\b\b\b\b\b\b\b\b\b\b\b\b\b\b\b\b\b\b\b\b\b\b\b\b\b\b\b\b\b\b\b\b\b\b\b\b\b\b\b\b\b\b\b\b\b\b\b\b\b\b\b\b\b\b\b\b\b\b\b\b\b\b\b\b\b\b\b\b\b\b\b\b\b\r31\/31 [==============================] - 0s 2ms\/step - loss: 0.4716 - accuracy: 0.7638 - val_loss: 0.4640 - val_accuracy: 0.7922\n",
      "Epoch 104\/400\n",
      "\r 1\/31 [..............................] - ETA: 0s - loss: 0.4311 - accuracy: 0.7000\b\b\b\b\b\b\b\b\b\b\b\b\b\b\b\b\b\b\b\b\b\b\b\b\b\b\b\b\b\b\b\b\b\b\b\b\b\b\b\b\b\b\b\b\b\b\b\b\b\b\b\b\b\b\b\b\b\b\b\b\b\b\b\b\b\b\b\b\b\b\b\b\b\b\b\b\b\b\b\b\b\b\r31\/31 [==============================] - 0s 3ms\/step - loss: 0.4729 - accuracy: 0.7622 - val_loss: 0.4628 - val_accuracy: 0.7792\n",
      "Epoch 105\/400\n",
      "\r 1\/31 [..............................] - ETA: 0s - loss: 0.4229 - accuracy: 0.7000\b\b\b\b\b\b\b\b\b\b\b\b\b\b\b\b\b\b\b\b\b\b\b\b\b\b\b\b\b\b\b\b\b\b\b\b\b\b\b\b\b\b\b\b\b\b\b\b\b\b\b\b\b\b\b\b\b\b\b\b\b\b\b\b\b\b\b\b\b\b\b\b\b\b\b\b\b\b\b\b\b\b\r31\/31 [==============================] - 0s 2ms\/step - loss: 0.4720 - accuracy: 0.7606 - val_loss: 0.4646 - val_accuracy: 0.7987\n",
      "Epoch 106\/400\n",
      "\r 1\/31 [..............................] - ETA: 0s - loss: 0.5505 - accuracy: 0.6500\b\b\b\b\b\b\b\b\b\b\b\b\b\b\b\b\b\b\b\b\b\b\b\b\b\b\b\b\b\b\b\b\b\b\b\b\b\b\b\b\b\b\b\b\b\b\b\b\b\b\b\b\b\b\b\b\b\b\b\b\b\b\b\b\b\b\b\b\b\b\b\b\b\b\b\b\b\b\b\b\b\b\r31\/31 [==============================] - 0s 2ms\/step - loss: 0.4661 - accuracy: 0.7590 - val_loss: 0.4623 - val_accuracy: 0.7792\n",
      "Epoch 107\/400\n",
      "\r 1\/31 [..............................] - ETA: 0s - loss: 0.5876 - accuracy: 0.6500\b\b\b\b\b\b\b\b\b\b\b\b\b\b\b\b\b\b\b\b\b\b\b\b\b\b\b\b\b\b\b\b\b\b\b\b\b\b\b\b\b\b\b\b\b\b\b\b\b\b\b\b\b\b\b\b\b\b\b\b\b\b\b\b\b\b\b\b\b\b\b\b\b\b\b\b\b\b\b\b\b\b\r31\/31 [==============================] - 0s 3ms\/step - loss: 0.4592 - accuracy: 0.7590 - val_loss: 0.4628 - val_accuracy: 0.7792\n",
      "Epoch 108\/400\n",
      "\r 1\/31 [..............................] - ETA: 0s - loss: 0.5197 - accuracy: 0.8000\b\b\b\b\b\b\b\b\b\b\b\b\b\b\b\b\b\b\b\b\b\b\b\b\b\b\b\b\b\b\b\b\b\b\b\b\b\b\b\b\b\b\b\b\b\b\b\b\b\b\b\b\b\b\b\b\b\b\b\b\b\b\b\b\b\b\b\b\b\b\b\b\b\b\b\b\b\b\b\b\b\b\r31\/31 [==============================] - 0s 3ms\/step - loss: 0.4823 - accuracy: 0.7492 - val_loss: 0.4635 - val_accuracy: 0.7857\n",
      "Epoch 109\/400\n",
      "\r 1\/31 [..............................] - ETA: 0s - loss: 0.4659 - accuracy: 0.8500\b\b\b\b\b\b\b\b\b\b\b\b\b\b\b\b\b\b\b\b\b\b\b\b\b\b\b\b\b\b\b\b\b\b\b\b\b\b\b\b\b\b\b\b\b\b\b\b\b\b\b\b\b\b\b\b\b\b\b\b\b\b\b\b\b\b\b\b\b\b\b\b\b\b\b\b\b\b\b\b\b\b\r31\/31 [==============================] - 0s 3ms\/step - loss: 0.4631 - accuracy: 0.7573 - val_loss: 0.4627 - val_accuracy: 0.7792\n",
      "Epoch 110\/400\n",
      "\r 1\/31 [..............................] - ETA: 0s - loss: 0.3632 - accuracy: 0.8500\b\b\b\b\b\b\b\b\b\b\b\b\b\b\b\b\b\b\b\b\b\b\b\b\b\b\b\b\b\b\b\b\b\b\b\b\b\b\b\b\b\b\b\b\b\b\b\b\b\b\b\b\b\b\b\b\b\b\b\b\b\b\b\b\b\b\b\b\b\b\b\b\b\b\b\b\b\b\b\b\b\b\r31\/31 [==============================] - 0s 3ms\/step - loss: 0.4615 - accuracy: 0.7720 - val_loss: 0.4628 - val_accuracy: 0.7987\n",
      "Epoch 111\/400\n",
      "\r 1\/31 [..............................] - ETA: 0s - loss: 0.4884 - accuracy: 0.7000\b\b\b\b\b\b\b\b\b\b\b\b\b\b\b\b\b\b\b\b\b\b\b\b\b\b\b\b\b\b\b\b\b\b\b\b\b\b\b\b\b\b\b\b\b\b\b\b\b\b\b\b\b\b\b\b\b\b\b\b\b\b\b\b\b\b\b\b\b\b\b\b\b\b\b\b\b\b\b\b\b\b\r31\/31 [==============================] - 0s 2ms\/step - loss: 0.4721 - accuracy: 0.7622 - val_loss: 0.4624 - val_accuracy: 0.7922\n",
      "Epoch 112\/400\n",
      "\r 1\/31 [..............................] - ETA: 0s - loss: 0.3018 - accuracy: 0.9000\b\b\b\b\b\b\b\b\b\b\b\b\b\b\b\b\b\b\b\b\b\b\b\b\b\b\b\b\b\b\b\b\b\b\b\b\b\b\b\b\b\b\b\b\b\b\b\b\b\b\b\b\b\b\b\b\b\b\b\b\b\b\b\b\b\b\b\b\b\b\b\b\b\b\b\b\b\b\b\b\b\b\r31\/31 [==============================] - 0s 2ms\/step - loss: 0.4636 - accuracy: 0.7671 - val_loss: 0.4616 - val_accuracy: 0.7792\n",
      "Epoch 113\/400\n",
      "\r 1\/31 [..............................] - ETA: 0s - loss: 0.3807 - accuracy: 0.8500\b\b\b\b\b\b\b\b\b\b\b\b\b\b\b\b\b\b\b\b\b\b\b\b\b\b\b\b\b\b\b\b\b\b\b\b\b\b\b\b\b\b\b\b\b\b\b\b\b\b\b\b\b\b\b\b\b\b\b\b\b\b\b\b\b\b\b\b\b\b\b\b\b\b\b\b\b\b\b\b\b\b\r31\/31 [==============================] - 0s 2ms\/step - loss: 0.4814 - accuracy: 0.7687 - val_loss: 0.4642 - val_accuracy: 0.7922\n",
      "Epoch 114\/400\n",
      "\r 1\/31 [..............................] - ETA: 0s - loss: 0.3878 - accuracy: 0.8000\b\b\b\b\b\b\b\b\b\b\b\b\b\b\b\b\b\b\b\b\b\b\b\b\b\b\b\b\b\b\b\b\b\b\b\b\b\b\b\b\b\b\b\b\b\b\b\b\b\b\b\b\b\b\b\b\b\b\b\b\b\b\b\b\b\b\b\b\b\b\b\b\b\b\b\b\b\b\b\b\b\b\r31\/31 [==============================] - 0s 2ms\/step - loss: 0.4798 - accuracy: 0.7590 - val_loss: 0.4621 - val_accuracy: 0.7922\n",
      "Epoch 115\/400\n",
      "\r 1\/31 [..............................] - ETA: 0s - loss: 0.4693 - accuracy: 0.6500\b\b\b\b\b\b\b\b\b\b\b\b\b\b\b\b\b\b\b\b\b\b\b\b\b\b\b\b\b\b\b\b\b\b\b\b\b\b\b\b\b\b\b\b\b\b\b\b\b\b\b\b\b\b\b\b\b\b\b\b\b\b\b\b\b\b\b\b\b\b\b\b\b\b\b\b\b\b\b\b\b\b\r31\/31 [==============================] - 0s 2ms\/step - loss: 0.4672 - accuracy: 0.7459 - val_loss: 0.4611 - val_accuracy: 0.7792\n",
      "Epoch 116\/400\n",
      "\r 1\/31 [..............................] - ETA: 0s - loss: 0.4673 - accuracy: 0.7500\b\b\b\b\b\b\b\b\b\b\b\b\b\b\b\b\b\b\b\b\b\b\b\b\b\b\b\b\b\b\b\b\b\b\b\b\b\b\b\b\b\b\b\b\b\b\b\b\b\b\b\b\b\b\b\b\b\b\b\b\b\b\b\b\b\b\b\b\b\b\b\b\b\b\b\b\b\b\b\b\b\b\r31\/31 [==============================] - 0s 3ms\/step - loss: 0.4580 - accuracy: 0.7671 - val_loss: 0.4629 - val_accuracy: 0.7662\n",
      "Epoch 117\/400\n",
      "\r 1\/31 [..............................] - ETA: 0s - loss: 0.5310 - accuracy: 0.7000\b\b\b\b\b\b\b\b\b\b\b\b\b\b\b\b\b\b\b\b\b\b\b\b\b\b\b\b\b\b\b\b\b\b\b\b\b\b\b\b\b\b\b\b\b\b\b\b\b\b\b\b\b\b\b\b\b\b\b\b\b\b\b\b\b\b\b\b\b\b\b\b\b\b\b\b\b\b\b\b\b\b\r31\/31 [==============================] - 0s 3ms\/step - loss: 0.4634 - accuracy: 0.7671 - val_loss: 0.4609 - val_accuracy: 0.7792\n",
      "Epoch 118\/400\n",
      "\r 1\/31 [..............................] - ETA: 0s - loss: 0.4898 - accuracy: 0.6500\b\b\b\b\b\b\b\b\b\b\b\b\b\b\b\b\b\b\b\b\b\b\b\b\b\b\b\b\b\b\b\b\b\b\b\b\b\b\b\b\b\b\b\b\b\b\b\b\b\b\b\b\b\b\b\b\b\b\b\b\b\b\b\b\b\b\b\b\b\b\b\b\b\b\b\b\b\b\b\b\b\b\r31\/31 [==============================] - 0s 2ms\/step - loss: 0.4722 - accuracy: 0.7606 - val_loss: 0.4620 - val_accuracy: 0.7727\n",
      "Epoch 119\/400\n",
      "\r 1\/31 [..............................] - ETA: 0s - loss: 0.5209 - accuracy: 0.8000\b\b\b\b\b\b\b\b\b\b\b\b\b\b\b\b\b\b\b\b\b\b\b\b\b\b\b\b\b\b\b\b\b\b\b\b\b\b\b\b\b\b\b\b\b\b\b\b\b\b\b\b\b\b\b\b\b\b\b\b\b\b\b\b\b\b\b\b\b\b\b\b\b\b\b\b\b\b\b\b\b\b\r31\/31 [==============================] - 0s 3ms\/step - loss: 0.4727 - accuracy: 0.7573 - val_loss: 0.4606 - val_accuracy: 0.7857\n",
      "Epoch 120\/400\n",
      "\r 1\/31 [..............................] - ETA: 0s - loss: 0.5263 - accuracy: 0.7500\b\b\b\b\b\b\b\b\b\b\b\b\b\b\b\b\b\b\b\b\b\b\b\b\b\b\b\b\b\b\b\b\b\b\b\b\b\b\b\b\b\b\b\b\b\b\b\b\b\b\b\b\b\b\b\b\b\b\b\b\b\b\b\b\b\b\b\b\b\b\b\b\b\b\b\b\b\b\b\b\b\b\r31\/31 [==============================] - 0s 2ms\/step - loss: 0.4727 - accuracy: 0.7476 - val_loss: 0.4612 - val_accuracy: 0.7922\n",
      "Epoch 121\/400\n",
      "\r 1\/31 [..............................] - ETA: 0s - loss: 0.4209 - accuracy: 0.8000\b\b\b\b\b\b\b\b\b\b\b\b\b\b\b\b\b\b\b\b\b\b\b\b\b\b\b\b\b\b\b\b\b\b\b\b\b\b\b\b\b\b\b\b\b\b\b\b\b\b\b\b\b\b\b\b\b\b\b\b\b\b\b\b\b\b\b\b\b\b\b\b\b\b\b\b\b\b\b\b\b\b\r31\/31 [==============================] - 0s 2ms\/step - loss: 0.4617 - accuracy: 0.7720 - val_loss: 0.4602 - val_accuracy: 0.7857\n",
      "Epoch 122\/400\n",
      "\r 1\/31 [..............................] - ETA: 0s - loss: 0.4380 - accuracy: 0.8000\b\b\b\b\b\b\b\b\b\b\b\b\b\b\b\b\b\b\b\b\b\b\b\b\b\b\b\b\b\b\b\b\b\b\b\b\b\b\b\b\b\b\b\b\b\b\b\b\b\b\b\b\b\b\b\b\b\b\b\b\b\b\b\b\b\b\b\b\b\b\b\b\b\b\b\b\b\b\b\b\b\b\r31\/31 [==============================] - 0s 2ms\/step - loss: 0.4620 - accuracy: 0.7622 - val_loss: 0.4605 - val_accuracy: 0.7792\n",
      "Epoch 123\/400\n",
      "\r 1\/31 [..............................] - ETA: 0s - loss: 0.4755 - accuracy: 0.8000\b\b\b\b\b\b\b\b\b\b\b\b\b\b\b\b\b\b\b\b\b\b\b\b\b\b\b\b\b\b\b\b\b\b\b\b\b\b\b\b\b\b\b\b\b\b\b\b\b\b\b\b\b\b\b\b\b\b\b\b\b\b\b\b\b\b\b\b\b\b\b\b\b\b\b\b\b\b\b\b\b\b\r31\/31 [==============================] - 0s 2ms\/step - loss: 0.4576 - accuracy: 0.7883 - val_loss: 0.4629 - val_accuracy: 0.7857\n",
      "Epoch 124\/400\n",
      "\r 1\/31 [..............................] - ETA: 0s - loss: 0.4391 - accuracy: 0.7000\b\b\b\b\b\b\b\b\b\b\b\b\b\b\b\b\b\b\b\b\b\b\b\b\b\b\b\b\b\b\b\b\b\b\b\b\b\b\b\b\b\b\b\b\b\b\b\b\b\b\b\b\b\b\b\b\b\b\b\b\b\b\b\b\b\b\b\b\b\b\b\b\b\b\b\b\b\b\b\b\b\b\r31\/31 [==============================] - 0s 3ms\/step - loss: 0.4668 - accuracy: 0.7671 - val_loss: 0.4589 - val_accuracy: 0.7857\n",
      "Epoch 125\/400\n",
      "\r 1\/31 [..............................] - ETA: 0s - loss: 0.5614 - accuracy: 0.8000\b\b\b\b\b\b\b\b\b\b\b\b\b\b\b\b\b\b\b\b\b\b\b\b\b\b\b\b\b\b\b\b\b\b\b\b\b\b\b\b\b\b\b\b\b\b\b\b\b\b\b\b\b\b\b\b\b\b\b\b\b\b\b\b\b\b\b\b\b\b\b\b\b\b\b\b\b\b\b\b\b\b\r31\/31 [==============================] - 0s 3ms\/step - loss: 0.4693 - accuracy: 0.7622 - val_loss: 0.4609 - val_accuracy: 0.7727\n",
      "Epoch 126\/400\n",
      "\r 1\/31 [..............................] - ETA: 0s - loss: 0.4938 - accuracy: 0.7500\b\b\b\b\b\b\b\b\b\b\b\b\b\b\b\b\b\b\b\b\b\b\b\b\b\b\b\b\b\b\b\b\b\b\b\b\b\b\b\b\b\b\b\b\b\b\b\b\b\b\b\b\b\b\b\b\b\b\b\b\b\b\b\b\b\b\b\b\b\b\b\b\b\b\b\b\b\b\b\b\b\b\r31\/31 [==============================] - 0s 2ms\/step - loss: 0.4584 - accuracy: 0.7704 - val_loss: 0.4596 - val_accuracy: 0.7857\n",
      "Epoch 127\/400\n",
      "\r 1\/31 [..............................] - ETA: 0s - loss: 0.5333 - accuracy: 0.7000\b\b\b\b\b\b\b\b\b\b\b\b\b\b\b\b\b\b\b\b\b\b\b\b\b\b\b\b\b\b\b\b\b\b\b\b\b\b\b\b\b\b\b\b\b\b\b\b\b\b\b\b\b\b\b\b\b\b\b\b\b\b\b\b\b\b\b\b\b\b\b\b\b\b\b\b\b\b\b\b\b\b\r31\/31 [==============================] - 0s 2ms\/step - loss: 0.4735 - accuracy: 0.7476 - val_loss: 0.4596 - val_accuracy: 0.7792\n",
      "Epoch 128\/400\n",
      "\r 1\/31 [..............................] - ETA: 0s - loss: 0.4820 - accuracy: 0.7500\b\b\b\b\b\b\b\b\b\b\b\b\b\b\b\b\b\b\b\b\b\b\b\b\b\b\b\b\b\b\b\b\b\b\b\b\b\b\b\b\b\b\b\b\b\b\b\b\b\b\b\b\b\b\b\b\b\b\b\b\b\b\b\b\b\b\b\b\b\b\b\b\b\b\b\b\b\b\b\b\b\b\r31\/31 [==============================] - 0s 2ms\/step - loss: 0.4633 - accuracy: 0.7655 - val_loss: 0.4620 - val_accuracy: 0.7792\n",
      "Epoch 129\/400\n",
      "\r 1\/31 [..............................] - ETA: 0s - loss: 0.4108 - accuracy: 0.8000\b\b\b\b\b\b\b\b\b\b\b\b\b\b\b\b\b\b\b\b\b\b\b\b\b\b\b\b\b\b\b\b\b\b\b\b\b\b\b\b\b\b\b\b\b\b\b\b\b\b\b\b\b\b\b\b\b\b\b\b\b\b\b\b\b\b\b\b\b\b\b\b\b\b\b\b\b\b\b\b\b\b\r31\/31 [==============================] - 0s 2ms\/step - loss: 0.4790 - accuracy: 0.7557 - val_loss: 0.4604 - val_accuracy: 0.7857\n",
      "Epoch 130\/400\n",
      "\r 1\/31 [..............................] - ETA: 0s - loss: 0.4460 - accuracy: 0.7500\b\b\b\b\b\b\b\b\b\b\b\b\b\b\b\b\b\b\b\b\b\b\b\b\b\b\b\b\b\b\b\b\b\b\b\b\b\b\b\b\b\b\b\b\b\b\b\b\b\b\b\b\b\b\b\b\b\b\b\b\b\b\b\b\b\b\b\b\b\b\b\b\b\b\b\b\b\b\b\b\b\b\r31\/31 [==============================] - 0s 3ms\/step - loss: 0.4706 - accuracy: 0.7704 - val_loss: 0.4606 - val_accuracy: 0.7792\n",
      "Epoch 131\/400\n",
      "\r 1\/31 [..............................] - ETA: 0s - loss: 0.4347 - accuracy: 0.8500\b\b\b\b\b\b\b\b\b\b\b\b\b\b\b\b\b\b\b\b\b\b\b\b\b\b\b\b\b\b\b\b\b\b\b\b\b\b\b\b\b\b\b\b\b\b\b\b\b\b\b\b\b\b\b\b\b\b\b\b\b\b\b\b\b\b\b\b\b\b\b\b\b\b\b\b\b\b\b\b\b\b\r31\/31 [==============================] - 0s 3ms\/step - loss: 0.4707 - accuracy: 0.7704 - val_loss: 0.4602 - val_accuracy: 0.7727\n",
      "Epoch 132\/400\n",
      "\r 1\/31 [..............................] - ETA: 0s - loss: 0.6691 - accuracy: 0.6500\b\b\b\b\b\b\b\b\b\b\b\b\b\b\b\b\b\b\b\b\b\b\b\b\b\b\b\b\b\b\b\b\b\b\b\b\b\b\b\b\b\b\b\b\b\b\b\b\b\b\b\b\b\b\b\b\b\b\b\b\b\b\b\b\b\b\b\b\b\b\b\b\b\b\b\b\b\b\b\b\b\b\r31\/31 [==============================] - 0s 3ms\/step - loss: 0.4571 - accuracy: 0.7834 - val_loss: 0.4600 - val_accuracy: 0.7857\n",
      "Epoch 133\/400\n",
      "\r 1\/31 [..............................] - ETA: 0s - loss: 0.5926 - accuracy: 0.7500\b\b\b\b\b\b\b\b\b\b\b\b\b\b\b\b\b\b\b\b\b\b\b\b\b\b\b\b\b\b\b\b\b\b\b\b\b\b\b\b\b\b\b\b\b\b\b\b\b\b\b\b\b\b\b\b\b\b\b\b\b\b\b\b\b\b\b\b\b\b\b\b\b\b\b\b\b\b\b\b\b\b\r31\/31 [==============================] - 0s 2ms\/step - loss: 0.4521 - accuracy: 0.7720 - val_loss: 0.4596 - val_accuracy: 0.7857\n",
      "Epoch 134\/400\n",
      "\r 1\/31 [..............................] - ETA: 0s - loss: 0.6311 - accuracy: 0.6500\b\b\b\b\b\b\b\b\b\b\b\b\b\b\b\b\b\b\b\b\b\b\b\b\b\b\b\b\b\b\b\b\b\b\b\b\b\b\b\b\b\b\b\b\b\b\b\b\b\b\b\b\b\b\b\b\b\b\b\b\b\b\b\b\b\b\b\b\b\b\b\b\b\b\b\b\b\b\b\b\b\b\r31\/31 [==============================] - 0s 3ms\/step - loss: 0.4630 - accuracy: 0.7736 - val_loss: 0.4591 - val_accuracy: 0.7857\n",
      "Epoch 135\/400\n",
      "\r 1\/31 [..............................] - ETA: 0s - loss: 0.3609 - accuracy: 0.8000\b\b\b\b\b\b\b\b\b\b\b\b\b\b\b\b\b\b\b\b\b\b\b\b\b\b\b\b\b\b\b\b\b\b\b\b\b\b\b\b\b\b\b\b\b\b\b\b\b\b\b\b\b\b\b\b\b\b\b\b\b\b\b\b\b\b\b\b\b\b\b\b\b\b\b\b\b\b\b\b\b\b\r31\/31 [==============================] - 0s 2ms\/step - loss: 0.4568 - accuracy: 0.7638 - val_loss: 0.4584 - val_accuracy: 0.7857\n",
      "Epoch 136\/400\n",
      "\r 1\/31 [..............................] - ETA: 0s - loss: 0.4244 - accuracy: 0.8000\b\b\b\b\b\b\b\b\b\b\b\b\b\b\b\b\b\b\b\b\b\b\b\b\b\b\b\b\b\b\b\b\b\b\b\b\b\b\b\b\b\b\b\b\b\b\b\b\b\b\b\b\b\b\b\b\b\b\b\b\b\b\b\b\b\b\b\b\b\b\b\b\b\b\b\b\b\b\b\b\b\b\r31\/31 [==============================] - 0s 3ms\/step - loss: 0.4697 - accuracy: 0.7524 - val_loss: 0.4639 - val_accuracy: 0.7792\n",
      "Epoch 137\/400\n",
      "\r 1\/31 [..............................] - ETA: 0s - loss: 0.3468 - accuracy: 0.9000\b\b\b\b\b\b\b\b\b\b\b\b\b\b\b\b\b\b\b\b\b\b\b\b\b\b\b\b\b\b\b\b\b\b\b\b\b\b\b\b\b\b\b\b\b\b\b\b\b\b\b\b\b\b\b\b\b\b\b\b\b\b\b\b\b\b\b\b\b\b\b\b\b\b\b\b\b\b\b\b\b\b\r31\/31 [==============================] - 0s 2ms\/step - loss: 0.4593 - accuracy: 0.7752 - val_loss: 0.4585 - val_accuracy: 0.7857\n",
      "Epoch 138\/400\n",
      "\r 1\/31 [..............................] - ETA: 0s - loss: 0.2936 - accuracy: 0.8500\b\b\b\b\b\b\b\b\b\b\b\b\b\b\b\b\b\b\b\b\b\b\b\b\b\b\b\b\b\b\b\b\b\b\b\b\b\b\b\b\b\b\b\b\b\b\b\b\b\b\b\b\b\b\b\b\b\b\b\b\b\b\b\b\b\b\b\b\b\b\b\b\b\b\b\b\b\b\b\b\b\b\r31\/31 [==============================] - 0s 2ms\/step - loss: 0.4640 - accuracy: 0.7687 - val_loss: 0.4614 - val_accuracy: 0.7857\n",
      "Epoch 139\/400\n",
      "\r 1\/31 [..............................] - ETA: 0s - loss: 0.5529 - accuracy: 0.8000\b\b\b\b\b\b\b\b\b\b\b\b\b\b\b\b\b\b\b\b\b\b\b\b\b\b\b\b\b\b\b\b\b\b\b\b\b\b\b\b\b\b\b\b\b\b\b\b\b\b\b\b\b\b\b\b\b\b\b\b\b\b\b\b\b\b\b\b\b\b\b\b\b\b\b\b\b\b\b\b\b\b\r31\/31 [==============================] - 0s 3ms\/step - loss: 0.4699 - accuracy: 0.7573 - val_loss: 0.4599 - val_accuracy: 0.7727\n",
      "Epoch 140\/400\n",
      "\r 1\/31 [..............................] - ETA: 0s - loss: 0.6180 - accuracy: 0.7500\b\b\b\b\b\b\b\b\b\b\b\b\b\b\b\b\b\b\b\b\b\b\b\b\b\b\b\b\b\b\b\b\b\b\b\b\b\b\b\b\b\b\b\b\b\b\b\b\b\b\b\b\b\b\b\b\b\b\b\b\b\b\b\b\b\b\b\b\b\b\b\b\b\b\b\b\b\b\b\b\b\b\r31\/31 [==============================] - 0s 2ms\/step - loss: 0.4669 - accuracy: 0.7606 - val_loss: 0.4600 - val_accuracy: 0.7727\n",
      "Epoch 141\/400\n",
      "\r 1\/31 [..............................] - ETA: 0s - loss: 0.4830 - accuracy: 0.8000\b\b\b\b\b\b\b\b\b\b\b\b\b\b\b\b\b\b\b\b\b\b\b\b\b\b\b\b\b\b\b\b\b\b\b\b\b\b\b\b\b\b\b\b\b\b\b\b\b\b\b\b\b\b\b\b\b\b\b\b\b\b\b\b\b\b\b\b\b\b\b\b\b\b\b\b\b\b\b\b\b\b\r31\/31 [==============================] - 0s 2ms\/step - loss: 0.4684 - accuracy: 0.7655 - val_loss: 0.4620 - val_accuracy: 0.7857\n",
      "Epoch 142\/400\n",
      "\r 1\/31 [..............................] - ETA: 0s - loss: 0.6788 - accuracy: 0.6500\b\b\b\b\b\b\b\b\b\b\b\b\b\b\b\b\b\b\b\b\b\b\b\b\b\b\b\b\b\b\b\b\b\b\b\b\b\b\b\b\b\b\b\b\b\b\b\b\b\b\b\b\b\b\b\b\b\b\b\b\b\b\b\b\b\b\b\b\b\b\b\b\b\b\b\b\b\b\b\b\b\b\r31\/31 [==============================] - 0s 2ms\/step - loss: 0.4667 - accuracy: 0.7687 - val_loss: 0.4615 - val_accuracy: 0.7922\n",
      "Epoch 143\/400\n",
      "\r 1\/31 [..............................] - ETA: 0s - loss: 0.3916 - accuracy: 0.8000\b\b\b\b\b\b\b\b\b\b\b\b\b\b\b\b\b\b\b\b\b\b\b\b\b\b\b\b\b\b\b\b\b\b\b\b\b\b\b\b\b\b\b\b\b\b\b\b\b\b\b\b\b\b\b\b\b\b\b\b\b\b\b\b\b\b\b\b\b\b\b\b\b\b\b\b\b\b\b\b\b\b\r31\/31 [==============================] - 0s 2ms\/step - loss: 0.4677 - accuracy: 0.7671 - val_loss: 0.4594 - val_accuracy: 0.7792\n",
      "Epoch 144\/400\n",
      "\r 1\/31 [..............................] - ETA: 0s - loss: 0.3501 - accuracy: 0.9000\b\b\b\b\b\b\b\b\b\b\b\b\b\b\b\b\b\b\b\b\b\b\b\b\b\b\b\b\b\b\b\b\b\b\b\b\b\b\b\b\b\b\b\b\b\b\b\b\b\b\b\b\b\b\b\b\b\b\b\b\b\b\b\b\b\b\b\b\b\b\b\b\b\b\b\b\b\b\b\b\b\b\r31\/31 [==============================] - 0s 3ms\/step - loss: 0.4656 - accuracy: 0.7508 - val_loss: 0.4610 - val_accuracy: 0.7922\n",
      "Epoch 145\/400\n",
      "\r 1\/31 [..............................] - ETA: 0s - loss: 0.4646 - accuracy: 0.6500\b\b\b\b\b\b\b\b\b\b\b\b\b\b\b\b\b\b\b\b\b\b\b\b\b\b\b\b\b\b\b\b\b\b\b\b\b\b\b\b\b\b\b\b\b\b\b\b\b\b\b\b\b\b\b\b\b\b\b\b\b\b\b\b\b\b\b\b\b\b\b\b\b\b\b\b\b\b\b\b\b\b\r31\/31 [==============================] - 0s 3ms\/step - loss: 0.4686 - accuracy: 0.7622 - val_loss: 0.4594 - val_accuracy: 0.7662\n",
      "Epoch 146\/400\n",
      "\r 1\/31 [..............................] - ETA: 0s - loss: 0.5004 - accuracy: 0.7000\b\b\b\b\b\b\b\b\b\b\b\b\b\b\b\b\b\b\b\b\b\b\b\b\b\b\b\b\b\b\b\b\b\b\b\b\b\b\b\b\b\b\b\b\b\b\b\b\b\b\b\b\b\b\b\b\b\b\b\b\b\b\b\b\b\b\b\b\b\b\b\b\b\b\b\b\b\b\b\b\b\b\r31\/31 [==============================] - 0s 2ms\/step - loss: 0.4706 - accuracy: 0.7606 - val_loss: 0.4611 - val_accuracy: 0.7792\n",
      "Epoch 147\/400\n",
      "\r 1\/31 [..............................] - ETA: 0s - loss: 0.5258 - accuracy: 0.7000\b\b\b\b\b\b\b\b\b\b\b\b\b\b\b\b\b\b\b\b\b\b\b\b\b\b\b\b\b\b\b\b\b\b\b\b\b\b\b\b\b\b\b\b\b\b\b\b\b\b\b\b\b\b\b\b\b\b\b\b\b\b\b\b\b\b\b\b\b\b\b\b\b\b\b\b\b\b\b\b\b\b\r31\/31 [==============================] - 0s 3ms\/step - loss: 0.4700 - accuracy: 0.7720 - val_loss: 0.4578 - val_accuracy: 0.7857\n",
      "Epoch 148\/400\n",
      "\r 1\/31 [..............................] - ETA: 0s - loss: 0.4575 - accuracy: 0.7500\b\b\b\b\b\b\b\b\b\b\b\b\b\b\b\b\b\b\b\b\b\b\b\b\b\b\b\b\b\b\b\b\b\b\b\b\b\b\b\b\b\b\b\b\b\b\b\b\b\b\b\b\b\b\b\b\b\b\b\b\b\b\b\b\b\b\b\b\b\b\b\b\b\b\b\b\b\b\b\b\b\b\r31\/31 [==============================] - 0s 3ms\/step - loss: 0.4584 - accuracy: 0.7785 - val_loss: 0.4583 - val_accuracy: 0.7857\n",
      "Epoch 149\/400\n",
      "\r 1\/31 [..............................] - ETA: 0s - loss: 0.5632 - accuracy: 0.6500\b\b\b\b\b\b\b\b\b\b\b\b\b\b\b\b\b\b\b\b\b\b\b\b\b\b\b\b\b\b\b\b\b\b\b\b\b\b\b\b\b\b\b\b\b\b\b\b\b\b\b\b\b\b\b\b\b\b\b\b\b\b\b\b\b\b\b\b\b\b\b\b\b\b\b\b\b\b\b\b\b\b\r31\/31 [==============================] - 0s 3ms\/step - loss: 0.4599 - accuracy: 0.7671 - val_loss: 0.4579 - val_accuracy: 0.7857\n",
      "Epoch 150\/400\n",
      "\r 1\/31 [..............................] - ETA: 0s - loss: 0.2579 - accuracy: 0.9500\b\b\b\b\b\b\b\b\b\b\b\b\b\b\b\b\b\b\b\b\b\b\b\b\b\b\b\b\b\b\b\b\b\b\b\b\b\b\b\b\b\b\b\b\b\b\b\b\b\b\b\b\b\b\b\b\b\b\b\b\b\b\b\b\b\b\b\b\b\b\b\b\b\b\b\b\b\b\b\b\b\b\r31\/31 [==============================] - 0s 3ms\/step - loss: 0.4540 - accuracy: 0.7883 - val_loss: 0.4613 - val_accuracy: 0.7792\n",
      "Epoch 151\/400\n",
      "\r 1\/31 [..............................] - ETA: 0s - loss: 0.4251 - accuracy: 0.8000\b\b\b\b\b\b\b\b\b\b\b\b\b\b\b\b\b\b\b\b\b\b\b\b\b\b\b\b\b\b\b\b\b\b\b\b\b\b\b\b\b\b\b\b\b\b\b\b\b\b\b\b\b\b\b\b\b\b\b\b\b\b\b\b\b\b\b\b\b\b\b\b\b\b\b\b\b\b\b\b\b\b\r31\/31 [==============================] - 0s 3ms\/step - loss: 0.4699 - accuracy: 0.7704 - val_loss: 0.4572 - val_accuracy: 0.7857\n",
      "Epoch 152\/400\n",
      "\r 1\/31 [..............................] - ETA: 0s - loss: 0.6877 - accuracy: 0.7000\b\b\b\b\b\b\b\b\b\b\b\b\b\b\b\b\b\b\b\b\b\b\b\b\b\b\b\b\b\b\b\b\b\b\b\b\b\b\b\b\b\b\b\b\b\b\b\b\b\b\b\b\b\b\b\b\b\b\b\b\b\b\b\b\b\b\b\b\b\b\b\b\b\b\b\b\b\b\b\b\b\b\r31\/31 [==============================] - 0s 2ms\/step - loss: 0.4565 - accuracy: 0.7704 - val_loss: 0.4579 - val_accuracy: 0.7857\n",
      "Epoch 153\/400\n",
      "\r 1\/31 [..............................] - ETA: 0s - loss: 0.4514 - accuracy: 0.8500\b\b\b\b\b\b\b\b\b\b\b\b\b\b\b\b\b\b\b\b\b\b\b\b\b\b\b\b\b\b\b\b\b\b\b\b\b\b\b\b\b\b\b\b\b\b\b\b\b\b\b\b\b\b\b\b\b\b\b\b\b\b\b\b\b\b\b\b\b\b\b\b\b\b\b\b\b\b\b\b\b\b\r31\/31 [==============================] - 0s 2ms\/step - loss: 0.4624 - accuracy: 0.7671 - val_loss: 0.4590 - val_accuracy: 0.7727\n",
      "Epoch 154\/400\n",
      "\r 1\/31 [..............................] - ETA: 0s - loss: 0.4322 - accuracy: 0.8500\b\b\b\b\b\b\b\b\b\b\b\b\b\b\b\b\b\b\b\b\b\b\b\b\b\b\b\b\b\b\b\b\b\b\b\b\b\b\b\b\b\b\b\b\b\b\b\b\b\b\b\b\b\b\b\b\b\b\b\b\b\b\b\b\b\b\b\b\b\b\b\b\b\b\b\b\b\b\b\b\b\b\r31\/31 [==============================] - 0s 2ms\/step - loss: 0.4593 - accuracy: 0.7655 - val_loss: 0.4610 - val_accuracy: 0.7792\n",
      "Epoch 155\/400\n",
      "\r 1\/31 [..............................] - ETA: 0s - loss: 0.5642 - accuracy: 0.7000\b\b\b\b\b\b\b\b\b\b\b\b\b\b\b\b\b\b\b\b\b\b\b\b\b\b\b\b\b\b\b\b\b\b\b\b\b\b\b\b\b\b\b\b\b\b\b\b\b\b\b\b\b\b\b\b\b\b\b\b\b\b\b\b\b\b\b\b\b\b\b\b\b\b\b\b\b\b\b\b\b\b\r31\/31 [==============================] - 0s 3ms\/step - loss: 0.4651 - accuracy: 0.7769 - val_loss: 0.4575 - val_accuracy: 0.7922\n",
      "Epoch 156\/400\n",
      "\r 1\/31 [..............................] - ETA: 0s - loss: 0.4971 - accuracy: 0.8500\b\b\b\b\b\b\b\b\b\b\b\b\b\b\b\b\b\b\b\b\b\b\b\b\b\b\b\b\b\b\b\b\b\b\b\b\b\b\b\b\b\b\b\b\b\b\b\b\b\b\b\b\b\b\b\b\b\b\b\b\b\b\b\b\b\b\b\b\b\b\b\b\b\b\b\b\b\b\b\b\b\b\r31\/31 [==============================] - 0s 2ms\/step - loss: 0.4699 - accuracy: 0.7557 - val_loss: 0.4572 - val_accuracy: 0.7792\n",
      "Epoch 157\/400\n",
      "\r 1\/31 [..............................] - ETA: 0s - loss: 0.3215 - accuracy: 0.8000\b\b\b\b\b\b\b\b\b\b\b\b\b\b\b\b\b\b\b\b\b\b\b\b\b\b\b\b\b\b\b\b\b\b\b\b\b\b\b\b\b\b\b\b\b\b\b\b\b\b\b\b\b\b\b\b\b\b\b\b\b\b\b\b\b\b\b\b\b\b\b\b\b\b\b\b\b\b\b\b\b\b\r31\/31 [==============================] - 0s 3ms\/step - loss: 0.4753 - accuracy: 0.7573 - val_loss: 0.4580 - val_accuracy: 0.7922\n",
      "Epoch 158\/400\n",
      "\r 1\/31 [..............................] - ETA: 0s - loss: 0.3240 - accuracy: 0.8500\b\b\b\b\b\b\b\b\b\b\b\b\b\b\b\b\b\b\b\b\b\b\b\b\b\b\b\b\b\b\b\b\b\b\b\b\b\b\b\b\b\b\b\b\b\b\b\b\b\b\b\b\b\b\b\b\b\b\b\b\b\b\b\b\b\b\b\b\b\b\b\b\b\b\b\b\b\b\b\b\b\b\r31\/31 [==============================] - 0s 2ms\/step - loss: 0.4587 - accuracy: 0.7736 - val_loss: 0.4576 - val_accuracy: 0.7922\n",
      "Epoch 159\/400\n",
      "\r 1\/31 [..............................] - ETA: 0s - loss: 0.3702 - accuracy: 0.8500\b\b\b\b\b\b\b\b\b\b\b\b\b\b\b\b\b\b\b\b\b\b\b\b\b\b\b\b\b\b\b\b\b\b\b\b\b\b\b\b\b\b\b\b\b\b\b\b\b\b\b\b\b\b\b\b\b\b\b\b\b\b\b\b\b\b\b\b\b\b\b\b\b\b\b\b\b\b\b\b\b\b\r31\/31 [==============================] - 0s 3ms\/step - loss: 0.4623 - accuracy: 0.7687 - val_loss: 0.4568 - val_accuracy: 0.7922\n",
      "Epoch 160\/400\n",
      "\r 1\/31 [..............................] - ETA: 0s - loss: 0.5101 - accuracy: 0.7000\b\b\b\b\b\b\b\b\b\b\b\b\b\b\b\b\b\b\b\b\b\b\b\b\b\b\b\b\b\b\b\b\b\b\b\b\b\b\b\b\b\b\b\b\b\b\b\b\b\b\b\b\b\b\b\b\b\b\b\b\b\b\b\b\b\b\b\b\b\b\b\b\b\b\b\b\b\b\b\b\b\b\r31\/31 [==============================] - 0s 3ms\/step - loss: 0.4658 - accuracy: 0.7590 - val_loss: 0.4583 - val_accuracy: 0.7597\n",
      "Epoch 161\/400\n",
      "\r 1\/31 [..............................] - ETA: 0s - loss: 0.3619 - accuracy: 0.8000\b\b\b\b\b\b\b\b\b\b\b\b\b\b\b\b\b\b\b\b\b\b\b\b\b\b\b\b\b\b\b\b\b\b\b\b\b\b\b\b\b\b\b\b\b\b\b\b\b\b\b\b\b\b\b\b\b\b\b\b\b\b\b\b\b\b\b\b\b\b\b\b\b\b\b\b\b\b\b\b\b\b\r31\/31 [==============================] - 0s 2ms\/step - loss: 0.4693 - accuracy: 0.7704 - val_loss: 0.4580 - val_accuracy: 0.7662\n",
      "Epoch 162\/400\n",
      "\r 1\/31 [..............................] - ETA: 0s - loss: 0.4656 - accuracy: 0.9000\b\b\b\b\b\b\b\b\b\b\b\b\b\b\b\b\b\b\b\b\b\b\b\b\b\b\b\b\b\b\b\b\b\b\b\b\b\b\b\b\b\b\b\b\b\b\b\b\b\b\b\b\b\b\b\b\b\b\b\b\b\b\b\b\b\b\b\b\b\b\b\b\b\b\b\b\b\b\b\b\b\b\r31\/31 [==============================] - 0s 3ms\/step - loss: 0.4562 - accuracy: 0.7818 - val_loss: 0.4580 - val_accuracy: 0.7727\n",
      "Epoch 163\/400\n",
      "\r 1\/31 [..............................] - ETA: 0s - loss: 0.3854 - accuracy: 0.8000\b\b\b\b\b\b\b\b\b\b\b\b\b\b\b\b\b\b\b\b\b\b\b\b\b\b\b\b\b\b\b\b\b\b\b\b\b\b\b\b\b\b\b\b\b\b\b\b\b\b\b\b\b\b\b\b\b\b\b\b\b\b\b\b\b\b\b\b\b\b\b\b\b\b\b\b\b\b\b\b\b\b\r31\/31 [==============================] - 0s 3ms\/step - loss: 0.4544 - accuracy: 0.7785 - val_loss: 0.4575 - val_accuracy: 0.7727\n",
      "Epoch 164\/400\n",
      "\r 1\/31 [..............................] - ETA: 0s - loss: 0.3837 - accuracy: 0.8500\b\b\b\b\b\b\b\b\b\b\b\b\b\b\b\b\b\b\b\b\b\b\b\b\b\b\b\b\b\b\b\b\b\b\b\b\b\b\b\b\b\b\b\b\b\b\b\b\b\b\b\b\b\b\b\b\b\b\b\b\b\b\b\b\b\b\b\b\b\b\b\b\b\b\b\b\b\b\b\b\b\b\r31\/31 [==============================] - 0s 3ms\/step - loss: 0.4543 - accuracy: 0.7850 - val_loss: 0.4575 - val_accuracy: 0.7662\n",
      "Epoch 165\/400\n",
      "\r 1\/31 [..............................] - ETA: 0s - loss: 0.4656 - accuracy: 0.7500\b\b\b\b\b\b\b\b\b\b\b\b\b\b\b\b\b\b\b\b\b\b\b\b\b\b\b\b\b\b\b\b\b\b\b\b\b\b\b\b\b\b\b\b\b\b\b\b\b\b\b\b\b\b\b\b\b\b\b\b\b\b\b\b\b\b\b\b\b\b\b\b\b\b\b\b\b\b\b\b\b\b\r31\/31 [==============================] - 0s 3ms\/step - loss: 0.4653 - accuracy: 0.7720 - val_loss: 0.4589 - val_accuracy: 0.7792\n",
      "Epoch 166\/400\n",
      "\r 1\/31 [..............................] - ETA: 0s - loss: 0.3907 - accuracy: 0.8500\b\b\b\b\b\b\b\b\b\b\b\b\b\b\b\b\b\b\b\b\b\b\b\b\b\b\b\b\b\b\b\b\b\b\b\b\b\b\b\b\b\b\b\b\b\b\b\b\b\b\b\b\b\b\b\b\b\b\b\b\b\b\b\b\b\b\b\b\b\b\b\b\b\b\b\b\b\b\b\b\b\b\r31\/31 [==============================] - 0s 2ms\/step - loss: 0.4584 - accuracy: 0.7801 - val_loss: 0.4572 - val_accuracy: 0.7662\n",
      "Epoch 167\/400\n",
      "\r 1\/31 [..............................] - ETA: 0s - loss: 0.3108 - accuracy: 0.8500\b\b\b\b\b\b\b\b\b\b\b\b\b\b\b\b\b\b\b\b\b\b\b\b\b\b\b\b\b\b\b\b\b\b\b\b\b\b\b\b\b\b\b\b\b\b\b\b\b\b\b\b\b\b\b\b\b\b\b\b\b\b\b\b\b\b\b\b\b\b\b\b\b\b\b\b\b\b\b\b\b\b\r31\/31 [==============================] - 0s 2ms\/step - loss: 0.4554 - accuracy: 0.7850 - val_loss: 0.4583 - val_accuracy: 0.7662\n",
      "Epoch 168\/400\n",
      "\r 1\/31 [..............................] - ETA: 0s - loss: 0.4885 - accuracy: 0.7500\b\b\b\b\b\b\b\b\b\b\b\b\b\b\b\b\b\b\b\b\b\b\b\b\b\b\b\b\b\b\b\b\b\b\b\b\b\b\b\b\b\b\b\b\b\b\b\b\b\b\b\b\b\b\b\b\b\b\b\b\b\b\b\b\b\b\b\b\b\b\b\b\b\b\b\b\b\b\b\b\b\b\r31\/31 [==============================] - 0s 3ms\/step - loss: 0.4551 - accuracy: 0.7785 - val_loss: 0.4584 - val_accuracy: 0.7857\n",
      "Epoch 169\/400\n",
      "\r 1\/31 [..............................] - ETA: 0s - loss: 0.4517 - accuracy: 0.7500\b\b\b\b\b\b\b\b\b\b\b\b\b\b\b\b\b\b\b\b\b\b\b\b\b\b\b\b\b\b\b\b\b\b\b\b\b\b\b\b\b\b\b\b\b\b\b\b\b\b\b\b\b\b\b\b\b\b\b\b\b\b\b\b\b\b\b\b\b\b\b\b\b\b\b\b\b\b\b\b\b\b\r31\/31 [==============================] - 0s 2ms\/step - loss: 0.4632 - accuracy: 0.7752 - val_loss: 0.4605 - val_accuracy: 0.7857\n",
      "Epoch 170\/400\n",
      "\r 1\/31 [..............................] - ETA: 0s - loss: 0.5119 - accuracy: 0.7000\b\b\b\b\b\b\b\b\b\b\b\b\b\b\b\b\b\b\b\b\b\b\b\b\b\b\b\b\b\b\b\b\b\b\b\b\b\b\b\b\b\b\b\b\b\b\b\b\b\b\b\b\b\b\b\b\b\b\b\b\b\b\b\b\b\b\b\b\b\b\b\b\b\b\b\b\b\b\b\b\b\b\r31\/31 [==============================] - 0s 3ms\/step - loss: 0.4700 - accuracy: 0.7655 - val_loss: 0.4572 - val_accuracy: 0.7727\n",
      "Epoch 171\/400\n",
      "\r 1\/31 [..............................] - ETA: 0s - loss: 0.5015 - accuracy: 0.7000\b\b\b\b\b\b\b\b\b\b\b\b\b\b\b\b\b\b\b\b\b\b\b\b\b\b\b\b\b\b\b\b\b\b\b\b\b\b\b\b\b\b\b\b\b\b\b\b\b\b\b\b\b\b\b\b\b\b\b\b\b\b\b\b\b\b\b\b\b\b\b\b\b\b\b\b\b\b\b\b\b\b\r31\/31 [==============================] - 0s 3ms\/step - loss: 0.4628 - accuracy: 0.7818 - val_loss: 0.4571 - val_accuracy: 0.7792\n",
      "Epoch 172\/400\n",
      "\r 1\/31 [..............................] - ETA: 0s - loss: 0.4795 - accuracy: 0.6500\b\b\b\b\b\b\b\b\b\b\b\b\b\b\b\b\b\b\b\b\b\b\b\b\b\b\b\b\b\b\b\b\b\b\b\b\b\b\b\b\b\b\b\b\b\b\b\b\b\b\b\b\b\b\b\b\b\b\b\b\b\b\b\b\b\b\b\b\b\b\b\b\b\b\b\b\b\b\b\b\b\b\r31\/31 [==============================] - 0s 3ms\/step - loss: 0.4639 - accuracy: 0.7671 - val_loss: 0.4644 - val_accuracy: 0.7922\n",
      "Epoch 173\/400\n",
      "\r 1\/31 [..............................] - ETA: 0s - loss: 0.5184 - accuracy: 0.7000\b\b\b\b\b\b\b\b\b\b\b\b\b\b\b\b\b\b\b\b\b\b\b\b\b\b\b\b\b\b\b\b\b\b\b\b\b\b\b\b\b\b\b\b\b\b\b\b\b\b\b\b\b\b\b\b\b\b\b\b\b\b\b\b\b\b\b\b\b\b\b\b\b\b\b\b\b\b\b\b\b\b\r31\/31 [==============================] - 0s 3ms\/step - loss: 0.4635 - accuracy: 0.7638 - val_loss: 0.4561 - val_accuracy: 0.7727\n",
      "Epoch 174\/400\n",
      "\r 1\/31 [..............................] - ETA: 0s - loss: 0.3364 - accuracy: 0.8000\b\b\b\b\b\b\b\b\b\b\b\b\b\b\b\b\b\b\b\b\b\b\b\b\b\b\b\b\b\b\b\b\b\b\b\b\b\b\b\b\b\b\b\b\b\b\b\b\b\b\b\b\b\b\b\b\b\b\b\b\b\b\b\b\b\b\b\b\b\b\b\b\b\b\b\b\b\b\b\b\b\b\r31\/31 [==============================] - 0s 2ms\/step - loss: 0.4623 - accuracy: 0.7720 - val_loss: 0.4559 - val_accuracy: 0.7857\n",
      "Epoch 175\/400\n",
      "\r 1\/31 [..............................] - ETA: 0s - loss: 0.6169 - accuracy: 0.6500\b\b\b\b\b\b\b\b\b\b\b\b\b\b\b\b\b\b\b\b\b\b\b\b\b\b\b\b\b\b\b\b\b\b\b\b\b\b\b\b\b\b\b\b\b\b\b\b\b\b\b\b\b\b\b\b\b\b\b\b\b\b\b\b\b\b\b\b\b\b\b\b\b\b\b\b\b\b\b\b\b\b\r31\/31 [==============================] - 0s 2ms\/step - loss: 0.4555 - accuracy: 0.7785 - val_loss: 0.4570 - val_accuracy: 0.7662\n",
      "Epoch 176\/400\n",
      "\r 1\/31 [..............................] - ETA: 0s - loss: 0.5463 - accuracy: 0.7000\b\b\b\b\b\b\b\b\b\b\b\b\b\b\b\b\b\b\b\b\b\b\b\b\b\b\b\b\b\b\b\b\b\b\b\b\b\b\b\b\b\b\b\b\b\b\b\b\b\b\b\b\b\b\b\b\b\b\b\b\b\b\b\b\b\b\b\b\b\b\b\b\b\b\b\b\b\b\b\b\b\b\r31\/31 [==============================] - 0s 3ms\/step - loss: 0.4638 - accuracy: 0.7801 - val_loss: 0.4558 - val_accuracy: 0.7922\n",
      "Epoch 177\/400\n",
      "\r 1\/31 [..............................] - ETA: 0s - loss: 0.3738 - accuracy: 0.9000\b\b\b\b\b\b\b\b\b\b\b\b\b\b\b\b\b\b\b\b\b\b\b\b\b\b\b\b\b\b\b\b\b\b\b\b\b\b\b\b\b\b\b\b\b\b\b\b\b\b\b\b\b\b\b\b\b\b\b\b\b\b\b\b\b\b\b\b\b\b\b\b\b\b\b\b\b\b\b\b\b\b\r31\/31 [==============================] - 0s 2ms\/step - loss: 0.4566 - accuracy: 0.7850 - val_loss: 0.4605 - val_accuracy: 0.7857\n",
      "Epoch 178\/400\n",
      "\r 1\/31 [..............................] - ETA: 0s - loss: 0.4830 - accuracy: 0.7000\b\b\b\b\b\b\b\b\b\b\b\b\b\b\b\b\b\b\b\b\b\b\b\b\b\b\b\b\b\b\b\b\b\b\b\b\b\b\b\b\b\b\b\b\b\b\b\b\b\b\b\b\b\b\b\b\b\b\b\b\b\b\b\b\b\b\b\b\b\b\b\b\b\b\b\b\b\b\b\b\b\b\r31\/31 [==============================] - 0s 2ms\/step - loss: 0.4596 - accuracy: 0.7834 - val_loss: 0.4562 - val_accuracy: 0.7922\n",
      "Epoch 179\/400\n",
      "\r 1\/31 [..............................] - ETA: 0s - loss: 0.5232 - accuracy: 0.7000\b\b\b\b\b\b\b\b\b\b\b\b\b\b\b\b\b\b\b\b\b\b\b\b\b\b\b\b\b\b\b\b\b\b\b\b\b\b\b\b\b\b\b\b\b\b\b\b\b\b\b\b\b\b\b\b\b\b\b\b\b\b\b\b\b\b\b\b\b\b\b\b\b\b\b\b\b\b\b\b\b\b\r31\/31 [==============================] - 0s 3ms\/step - loss: 0.4581 - accuracy: 0.7720 - val_loss: 0.4552 - val_accuracy: 0.7857\n",
      "Epoch 180\/400\n",
      "\r 1\/31 [..............................] - ETA: 0s - loss: 0.2524 - accuracy: 0.9500\b\b\b\b\b\b\b\b\b\b\b\b\b\b\b\b\b\b\b\b\b\b\b\b\b\b\b\b\b\b\b\b\b\b\b\b\b\b\b\b\b\b\b\b\b\b\b\b\b\b\b\b\b\b\b\b\b\b\b\b\b\b\b\b\b\b\b\b\b\b\b\b\b\b\b\b\b\b\b\b\b\b\r31\/31 [==============================] - 0s 2ms\/step - loss: 0.4575 - accuracy: 0.7850 - val_loss: 0.4599 - val_accuracy: 0.7857\n",
      "Epoch 181\/400\n",
      "\r 1\/31 [..............................] - ETA: 0s - loss: 0.5107 - accuracy: 0.7500\b\b\b\b\b\b\b\b\b\b\b\b\b\b\b\b\b\b\b\b\b\b\b\b\b\b\b\b\b\b\b\b\b\b\b\b\b\b\b\b\b\b\b\b\b\b\b\b\b\b\b\b\b\b\b\b\b\b\b\b\b\b\b\b\b\b\b\b\b\b\b\b\b\b\b\b\b\b\b\b\b\b\r31\/31 [==============================] - 0s 2ms\/step - loss: 0.4681 - accuracy: 0.7687 - val_loss: 0.4564 - val_accuracy: 0.7727\n",
      "Epoch 182\/400\n",
      "\r 1\/31 [..............................] - ETA: 0s - loss: 0.3037 - accuracy: 0.9000\b\b\b\b\b\b\b\b\b\b\b\b\b\b\b\b\b\b\b\b\b\b\b\b\b\b\b\b\b\b\b\b\b\b\b\b\b\b\b\b\b\b\b\b\b\b\b\b\b\b\b\b\b\b\b\b\b\b\b\b\b\b\b\b\b\b\b\b\b\b\b\b\b\b\b\b\b\b\b\b\b\b\r31\/31 [==============================] - 0s 2ms\/step - loss: 0.4608 - accuracy: 0.7818 - val_loss: 0.4571 - val_accuracy: 0.7662\n",
      "Epoch 183\/400\n",
      "\r 1\/31 [..............................] - ETA: 0s - loss: 0.5116 - accuracy: 0.6500\b\b\b\b\b\b\b\b\b\b\b\b\b\b\b\b\b\b\b\b\b\b\b\b\b\b\b\b\b\b\b\b\b\b\b\b\b\b\b\b\b\b\b\b\b\b\b\b\b\b\b\b\b\b\b\b\b\b\b\b\b\b\b\b\b\b\b\b\b\b\b\b\b\b\b\b\b\b\b\b\b\b\r31\/31 [==============================] - 0s 3ms\/step - loss: 0.4675 - accuracy: 0.7590 - val_loss: 0.4564 - val_accuracy: 0.7792\n",
      "Epoch 184\/400\n",
      "\r 1\/31 [..............................] - ETA: 0s - loss: 0.4290 - accuracy: 0.8500\b\b\b\b\b\b\b\b\b\b\b\b\b\b\b\b\b\b\b\b\b\b\b\b\b\b\b\b\b\b\b\b\b\b\b\b\b\b\b\b\b\b\b\b\b\b\b\b\b\b\b\b\b\b\b\b\b\b\b\b\b\b\b\b\b\b\b\b\b\b\b\b\b\b\b\b\b\b\b\b\b\b\r31\/31 [==============================] - 0s 3ms\/step - loss: 0.4628 - accuracy: 0.7818 - val_loss: 0.4560 - val_accuracy: 0.7662\n",
      "Epoch 185\/400\n",
      "\r 1\/31 [..............................] - ETA: 0s - loss: 0.5410 - accuracy: 0.6500\b\b\b\b\b\b\b\b\b\b\b\b\b\b\b\b\b\b\b\b\b\b\b\b\b\b\b\b\b\b\b\b\b\b\b\b\b\b\b\b\b\b\b\b\b\b\b\b\b\b\b\b\b\b\b\b\b\b\b\b\b\b\b\b\b\b\b\b\b\b\b\b\b\b\b\b\b\b\b\b\b\b\r31\/31 [==============================] - 0s 3ms\/step - loss: 0.4608 - accuracy: 0.7720 - val_loss: 0.4558 - val_accuracy: 0.7727\n",
      "Epoch 186\/400\n",
      "\r 1\/31 [..............................] - ETA: 0s - loss: 0.4203 - accuracy: 0.8500\b\b\b\b\b\b\b\b\b\b\b\b\b\b\b\b\b\b\b\b\b\b\b\b\b\b\b\b\b\b\b\b\b\b\b\b\b\b\b\b\b\b\b\b\b\b\b\b\b\b\b\b\b\b\b\b\b\b\b\b\b\b\b\b\b\b\b\b\b\b\b\b\b\b\b\b\b\b\b\b\b\b\r31\/31 [==============================] - 0s 2ms\/step - loss: 0.4512 - accuracy: 0.7883 - val_loss: 0.4569 - val_accuracy: 0.7727\n",
      "Epoch 187\/400\n",
      "\r 1\/31 [..............................] - ETA: 0s - loss: 0.5933 - accuracy: 0.6000\b\b\b\b\b\b\b\b\b\b\b\b\b\b\b\b\b\b\b\b\b\b\b\b\b\b\b\b\b\b\b\b\b\b\b\b\b\b\b\b\b\b\b\b\b\b\b\b\b\b\b\b\b\b\b\b\b\b\b\b\b\b\b\b\b\b\b\b\b\b\b\b\b\b\b\b\b\b\b\b\b\b\r31\/31 [==============================] - 0s 3ms\/step - loss: 0.4574 - accuracy: 0.7769 - val_loss: 0.4592 - val_accuracy: 0.7857\n",
      "Epoch 188\/400\n",
      "\r 1\/31 [..............................] - ETA: 0s - loss: 0.4657 - accuracy: 0.8000\b\b\b\b\b\b\b\b\b\b\b\b\b\b\b\b\b\b\b\b\b\b\b\b\b\b\b\b\b\b\b\b\b\b\b\b\b\b\b\b\b\b\b\b\b\b\b\b\b\b\b\b\b\b\b\b\b\b\b\b\b\b\b\b\b\b\b\b\b\b\b\b\b\b\b\b\b\b\b\b\b\b\r31\/31 [==============================] - 0s 2ms\/step - loss: 0.4666 - accuracy: 0.7671 - val_loss: 0.4582 - val_accuracy: 0.7727\n",
      "Epoch 189\/400\n",
      "\r 1\/31 [..............................] - ETA: 0s - loss: 0.6337 - accuracy: 0.7000\b\b\b\b\b\b\b\b\b\b\b\b\b\b\b\b\b\b\b\b\b\b\b\b\b\b\b\b\b\b\b\b\b\b\b\b\b\b\b\b\b\b\b\b\b\b\b\b\b\b\b\b\b\b\b\b\b\b\b\b\b\b\b\b\b\b\b\b\b\b\b\b\b\b\b\b\b\b\b\b\b\b\r31\/31 [==============================] - 0s 3ms\/step - loss: 0.4586 - accuracy: 0.7915 - val_loss: 0.4561 - val_accuracy: 0.7792\n",
      "Epoch 190\/400\n",
      "\r 1\/31 [..............................] - ETA: 0s - loss: 0.3584 - accuracy: 0.8000\b\b\b\b\b\b\b\b\b\b\b\b\b\b\b\b\b\b\b\b\b\b\b\b\b\b\b\b\b\b\b\b\b\b\b\b\b\b\b\b\b\b\b\b\b\b\b\b\b\b\b\b\b\b\b\b\b\b\b\b\b\b\b\b\b\b\b\b\b\b\b\b\b\b\b\b\b\b\b\b\b\b\r31\/31 [==============================] - 0s 2ms\/step - loss: 0.4591 - accuracy: 0.7818 - val_loss: 0.4563 - val_accuracy: 0.7727\n",
      "Epoch 191\/400\n",
      "\r 1\/31 [..............................] - ETA: 0s - loss: 0.2890 - accuracy: 0.9000\b\b\b\b\b\b\b\b\b\b\b\b\b\b\b\b\b\b\b\b\b\b\b\b\b\b\b\b\b\b\b\b\b\b\b\b\b\b\b\b\b\b\b\b\b\b\b\b\b\b\b\b\b\b\b\b\b\b\b\b\b\b\b\b\b\b\b\b\b\b\b\b\b\b\b\b\b\b\b\b\b\b\r31\/31 [==============================] - 0s 2ms\/step - loss: 0.4601 - accuracy: 0.7818 - val_loss: 0.4575 - val_accuracy: 0.7727\n",
      "Epoch 192\/400\n",
      "\r 1\/31 [..............................] - ETA: 0s - loss: 0.4058 - accuracy: 0.7500\b\b\b\b\b\b\b\b\b\b\b\b\b\b\b\b\b\b\b\b\b\b\b\b\b\b\b\b\b\b\b\b\b\b\b\b\b\b\b\b\b\b\b\b\b\b\b\b\b\b\b\b\b\b\b\b\b\b\b\b\b\b\b\b\b\b\b\b\b\b\b\b\b\b\b\b\b\b\b\b\b\b\r31\/31 [==============================] - 0s 2ms\/step - loss: 0.4676 - accuracy: 0.7704 - val_loss: 0.4584 - val_accuracy: 0.7727\n",
      "Epoch 193\/400\n",
      "\r 1\/31 [..............................] - ETA: 0s - loss: 0.5056 - accuracy: 0.7500\b\b\b\b\b\b\b\b\b\b\b\b\b\b\b\b\b\b\b\b\b\b\b\b\b\b\b\b\b\b\b\b\b\b\b\b\b\b\b\b\b\b\b\b\b\b\b\b\b\b\b\b\b\b\b\b\b\b\b\b\b\b\b\b\b\b\b\b\b\b\b\b\b\b\b\b\b\b\b\b\b\b\r31\/31 [==============================] - 0s 2ms\/step - loss: 0.4551 - accuracy: 0.7883 - val_loss: 0.4568 - val_accuracy: 0.7727\n",
      "Epoch 194\/400\n",
      "\r 1\/31 [..............................] - ETA: 0s - loss: 0.3077 - accuracy: 0.9500\b\b\b\b\b\b\b\b\b\b\b\b\b\b\b\b\b\b\b\b\b\b\b\b\b\b\b\b\b\b\b\b\b\b\b\b\b\b\b\b\b\b\b\b\b\b\b\b\b\b\b\b\b\b\b\b\b\b\b\b\b\b\b\b\b\b\b\b\b\b\b\b\b\b\b\b\b\b\b\b\b\b\r31\/31 [==============================] - 0s 2ms\/step - loss: 0.4695 - accuracy: 0.7736 - val_loss: 0.4615 - val_accuracy: 0.7987\n",
      "Epoch 195\/400\n",
      "\r 1\/31 [..............................] - ETA: 0s - loss: 0.4844 - accuracy: 0.7500\b\b\b\b\b\b\b\b\b\b\b\b\b\b\b\b\b\b\b\b\b\b\b\b\b\b\b\b\b\b\b\b\b\b\b\b\b\b\b\b\b\b\b\b\b\b\b\b\b\b\b\b\b\b\b\b\b\b\b\b\b\b\b\b\b\b\b\b\b\b\b\b\b\b\b\b\b\b\b\b\b\b\r31\/31 [==============================] - 0s 2ms\/step - loss: 0.4623 - accuracy: 0.7818 - val_loss: 0.4569 - val_accuracy: 0.7792\n",
      "Epoch 196\/400\n",
      "\r 1\/31 [..............................] - ETA: 0s - loss: 0.5785 - accuracy: 0.6500\b\b\b\b\b\b\b\b\b\b\b\b\b\b\b\b\b\b\b\b\b\b\b\b\b\b\b\b\b\b\b\b\b\b\b\b\b\b\b\b\b\b\b\b\b\b\b\b\b\b\b\b\b\b\b\b\b\b\b\b\b\b\b\b\b\b\b\b\b\b\b\b\b\b\b\b\b\b\b\b\b\b\r31\/31 [==============================] - 0s 2ms\/step - loss: 0.4641 - accuracy: 0.7834 - val_loss: 0.4572 - val_accuracy: 0.7857\n",
      "Epoch 197\/400\n",
      "\r 1\/31 [..............................] - ETA: 0s - loss: 0.4836 - accuracy: 0.7500\b\b\b\b\b\b\b\b\b\b\b\b\b\b\b\b\b\b\b\b\b\b\b\b\b\b\b\b\b\b\b\b\b\b\b\b\b\b\b\b\b\b\b\b\b\b\b\b\b\b\b\b\b\b\b\b\b\b\b\b\b\b\b\b\b\b\b\b\b\b\b\b\b\b\b\b\b\b\b\b\b\b\r31\/31 [==============================] - 0s 2ms\/step - loss: 0.4531 - accuracy: 0.7720 - val_loss: 0.4568 - val_accuracy: 0.7727\n",
      "Epoch 198\/400\n",
      "\r 1\/31 [..............................] - ETA: 0s - loss: 0.3924 - accuracy: 0.8000\b\b\b\b\b\b\b\b\b\b\b\b\b\b\b\b\b\b\b\b\b\b\b\b\b\b\b\b\b\b\b\b\b\b\b\b\b\b\b\b\b\b\b\b\b\b\b\b\b\b\b\b\b\b\b\b\b\b\b\b\b\b\b\b\b\b\b\b\b\b\b\b\b\b\b\b\b\b\b\b\b\b\r31\/31 [==============================] - 0s 3ms\/step - loss: 0.4561 - accuracy: 0.7769 - val_loss: 0.4552 - val_accuracy: 0.7727\n",
      "Epoch 199\/400\n",
      "\r 1\/31 [..............................] - ETA: 0s - loss: 0.6037 - accuracy: 0.5500\b\b\b\b\b\b\b\b\b\b\b\b\b\b\b\b\b\b\b\b\b\b\b\b\b\b\b\b\b\b\b\b\b\b\b\b\b\b\b\b\b\b\b\b\b\b\b\b\b\b\b\b\b\b\b\b\b\b\b\b\b\b\b\b\b\b\b\b\b\b\b\b\b\b\b\b\b\b\b\b\b\b\r31\/31 [==============================] - 0s 2ms\/step - loss: 0.4665 - accuracy: 0.7687 - val_loss: 0.4574 - val_accuracy: 0.7727\n",
      "Epoch 200\/400\n",
      "\r 1\/31 [..............................] - ETA: 0s - loss: 0.5243 - accuracy: 0.7000\b\b\b\b\b\b\b\b\b\b\b\b\b\b\b\b\b\b\b\b\b\b\b\b\b\b\b\b\b\b\b\b\b\b\b\b\b\b\b\b\b\b\b\b\b\b\b\b\b\b\b\b\b\b\b\b\b\b\b\b\b\b\b\b\b\b\b\b\b\b\b\b\b\b\b\b\b\b\b\b\b\b\r31\/31 [==============================] - 0s 2ms\/step - loss: 0.4671 - accuracy: 0.7736 - val_loss: 0.4623 - val_accuracy: 0.7987\n",
      "Epoch 201\/400\n",
      "\r 1\/31 [..............................] - ETA: 0s - loss: 0.4114 - accuracy: 0.9000\b\b\b\b\b\b\b\b\b\b\b\b\b\b\b\b\b\b\b\b\b\b\b\b\b\b\b\b\b\b\b\b\b\b\b\b\b\b\b\b\b\b\b\b\b\b\b\b\b\b\b\b\b\b\b\b\b\b\b\b\b\b\b\b\b\b\b\b\b\b\b\b\b\b\b\b\b\b\b\b\b\b\r31\/31 [==============================] - 0s 2ms\/step - loss: 0.4564 - accuracy: 0.7899 - val_loss: 0.4578 - val_accuracy: 0.7727\n",
      "Epoch 202\/400\n",
      "\r 1\/31 [..............................] - ETA: 0s - loss: 0.4733 - accuracy: 0.8000\b\b\b\b\b\b\b\b\b\b\b\b\b\b\b\b\b\b\b\b\b\b\b\b\b\b\b\b\b\b\b\b\b\b\b\b\b\b\b\b\b\b\b\b\b\b\b\b\b\b\b\b\b\b\b\b\b\b\b\b\b\b\b\b\b\b\b\b\b\b\b\b\b\b\b\b\b\b\b\b\b\b\r31\/31 [==============================] - 0s 3ms\/step - loss: 0.4596 - accuracy: 0.7834 - val_loss: 0.4566 - val_accuracy: 0.7792\n",
      "Epoch 203\/400\n",
      "\r 1\/31 [..............................] - ETA: 0s - loss: 0.4632 - accuracy: 0.8000\b\b\b\b\b\b\b\b\b\b\b\b\b\b\b\b\b\b\b\b\b\b\b\b\b\b\b\b\b\b\b\b\b\b\b\b\b\b\b\b\b\b\b\b\b\b\b\b\b\b\b\b\b\b\b\b\b\b\b\b\b\b\b\b\b\b\b\b\b\b\b\b\b\b\b\b\b\b\b\b\b\b\r31\/31 [==============================] - 0s 2ms\/step - loss: 0.4487 - accuracy: 0.7899 - val_loss: 0.4566 - val_accuracy: 0.7662\n",
      "Epoch 204\/400\n",
      "\r 1\/31 [..............................] - ETA: 0s - loss: 0.5273 - accuracy: 0.7500\b\b\b\b\b\b\b\b\b\b\b\b\b\b\b\b\b\b\b\b\b\b\b\b\b\b\b\b\b\b\b\b\b\b\b\b\b\b\b\b\b\b\b\b\b\b\b\b\b\b\b\b\b\b\b\b\b\b\b\b\b\b\b\b\b\b\b\b\b\b\b\b\b\b\b\b\b\b\b\b\b\b\r31\/31 [==============================] - 0s 2ms\/step - loss: 0.4506 - accuracy: 0.7720 - val_loss: 0.4561 - val_accuracy: 0.7727\n",
      "Epoch 205\/400\n",
      "\r 1\/31 [..............................] - ETA: 0s - loss: 0.5179 - accuracy: 0.7000\b\b\b\b\b\b\b\b\b\b\b\b\b\b\b\b\b\b\b\b\b\b\b\b\b\b\b\b\b\b\b\b\b\b\b\b\b\b\b\b\b\b\b\b\b\b\b\b\b\b\b\b\b\b\b\b\b\b\b\b\b\b\b\b\b\b\b\b\b\b\b\b\b\b\b\b\b\b\b\b\b\b\r31\/31 [==============================] - 0s 2ms\/step - loss: 0.4601 - accuracy: 0.7785 - val_loss: 0.4568 - val_accuracy: 0.7662\n",
      "Epoch 206\/400\n",
      "\r 1\/31 [..............................] - ETA: 0s - loss: 0.3513 - accuracy: 0.9500\b\b\b\b\b\b\b\b\b\b\b\b\b\b\b\b\b\b\b\b\b\b\b\b\b\b\b\b\b\b\b\b\b\b\b\b\b\b\b\b\b\b\b\b\b\b\b\b\b\b\b\b\b\b\b\b\b\b\b\b\b\b\b\b\b\b\b\b\b\b\b\b\b\b\b\b\b\b\b\b\b\b\r31\/31 [==============================] - 0s 2ms\/step - loss: 0.4552 - accuracy: 0.7785 - val_loss: 0.4560 - val_accuracy: 0.7727\n",
      "Epoch 207\/400\n",
      "\r 1\/31 [..............................] - ETA: 0s - loss: 0.2986 - accuracy: 0.9000\b\b\b\b\b\b\b\b\b\b\b\b\b\b\b\b\b\b\b\b\b\b\b\b\b\b\b\b\b\b\b\b\b\b\b\b\b\b\b\b\b\b\b\b\b\b\b\b\b\b\b\b\b\b\b\b\b\b\b\b\b\b\b\b\b\b\b\b\b\b\b\b\b\b\b\b\b\b\b\b\b\b\r31\/31 [==============================] - 0s 2ms\/step - loss: 0.4691 - accuracy: 0.7785 - val_loss: 0.4582 - val_accuracy: 0.7792\n",
      "Epoch 208\/400\n",
      "\r 1\/31 [..............................] - ETA: 0s - loss: 0.5900 - accuracy: 0.7500\b\b\b\b\b\b\b\b\b\b\b\b\b\b\b\b\b\b\b\b\b\b\b\b\b\b\b\b\b\b\b\b\b\b\b\b\b\b\b\b\b\b\b\b\b\b\b\b\b\b\b\b\b\b\b\b\b\b\b\b\b\b\b\b\b\b\b\b\b\b\b\b\b\b\b\b\b\b\b\b\b\b\r31\/31 [==============================] - 0s 2ms\/step - loss: 0.4569 - accuracy: 0.7850 - val_loss: 0.4562 - val_accuracy: 0.7857\n",
      "Epoch 209\/400\n",
      "\r 1\/31 [..............................] - ETA: 0s - loss: 0.4697 - accuracy: 0.8000\b\b\b\b\b\b\b\b\b\b\b\b\b\b\b\b\b\b\b\b\b\b\b\b\b\b\b\b\b\b\b\b\b\b\b\b\b\b\b\b\b\b\b\b\b\b\b\b\b\b\b\b\b\b\b\b\b\b\b\b\b\b\b\b\b\b\b\b\b\b\b\b\b\b\b\b\b\b\b\b\b\b\r31\/31 [==============================] - 0s 2ms\/step - loss: 0.4555 - accuracy: 0.7834 - val_loss: 0.4559 - val_accuracy: 0.7727\n",
      "Epoch 210\/400\n",
      "\r 1\/31 [..............................] - ETA: 0s - loss: 0.3464 - accuracy: 0.8500\b\b\b\b\b\b\b\b\b\b\b\b\b\b\b\b\b\b\b\b\b\b\b\b\b\b\b\b\b\b\b\b\b\b\b\b\b\b\b\b\b\b\b\b\b\b\b\b\b\b\b\b\b\b\b\b\b\b\b\b\b\b\b\b\b\b\b\b\b\b\b\b\b\b\b\b\b\b\b\b\b\b\r31\/31 [==============================] - 0s 2ms\/step - loss: 0.4567 - accuracy: 0.7850 - val_loss: 0.4554 - val_accuracy: 0.7727\n",
      "Epoch 211\/400\n",
      "\r 1\/31 [..............................] - ETA: 0s - loss: 0.5084 - accuracy: 0.7000\b\b\b\b\b\b\b\b\b\b\b\b\b\b\b\b\b\b\b\b\b\b\b\b\b\b\b\b\b\b\b\b\b\b\b\b\b\b\b\b\b\b\b\b\b\b\b\b\b\b\b\b\b\b\b\b\b\b\b\b\b\b\b\b\b\b\b\b\b\b\b\b\b\b\b\b\b\b\b\b\b\b\r31\/31 [==============================] - 0s 3ms\/step - loss: 0.4607 - accuracy: 0.7752 - val_loss: 0.4559 - val_accuracy: 0.7662\n",
      "Epoch 212\/400\n",
      "\r 1\/31 [..............................] - ETA: 0s - loss: 0.6409 - accuracy: 0.6500\b\b\b\b\b\b\b\b\b\b\b\b\b\b\b\b\b\b\b\b\b\b\b\b\b\b\b\b\b\b\b\b\b\b\b\b\b\b\b\b\b\b\b\b\b\b\b\b\b\b\b\b\b\b\b\b\b\b\b\b\b\b\b\b\b\b\b\b\b\b\b\b\b\b\b\b\b\b\b\b\b\b\r31\/31 [==============================] - 0s 2ms\/step - loss: 0.4524 - accuracy: 0.7769 - val_loss: 0.4560 - val_accuracy: 0.7727\n",
      "Epoch 213\/400\n",
      "\r 1\/31 [..............................] - ETA: 0s - loss: 0.3691 - accuracy: 0.8500\b\b\b\b\b\b\b\b\b\b\b\b\b\b\b\b\b\b\b\b\b\b\b\b\b\b\b\b\b\b\b\b\b\b\b\b\b\b\b\b\b\b\b\b\b\b\b\b\b\b\b\b\b\b\b\b\b\b\b\b\b\b\b\b\b\b\b\b\b\b\b\b\b\b\b\b\b\b\b\b\b\b\r31\/31 [==============================] - 0s 2ms\/step - loss: 0.4599 - accuracy: 0.7785 - val_loss: 0.4555 - val_accuracy: 0.7727\n",
      "Epoch 214\/400\n",
      "\r 1\/31 [..............................] - ETA: 0s - loss: 0.3683 - accuracy: 0.9000\b\b\b\b\b\b\b\b\b\b\b\b\b\b\b\b\b\b\b\b\b\b\b\b\b\b\b\b\b\b\b\b\b\b\b\b\b\b\b\b\b\b\b\b\b\b\b\b\b\b\b\b\b\b\b\b\b\b\b\b\b\b\b\b\b\b\b\b\b\b\b\b\b\b\b\b\b\b\b\b\b\b\r31\/31 [==============================] - 0s 2ms\/step - loss: 0.4629 - accuracy: 0.7704 - val_loss: 0.4586 - val_accuracy: 0.7727\n",
      "Epoch 215\/400\n",
      "\r 1\/31 [..............................] - ETA: 0s - loss: 0.3034 - accuracy: 0.9500\b\b\b\b\b\b\b\b\b\b\b\b\b\b\b\b\b\b\b\b\b\b\b\b\b\b\b\b\b\b\b\b\b\b\b\b\b\b\b\b\b\b\b\b\b\b\b\b\b\b\b\b\b\b\b\b\b\b\b\b\b\b\b\b\b\b\b\b\b\b\b\b\b\b\b\b\b\b\b\b\b\b\r31\/31 [==============================] - 0s 3ms\/step - loss: 0.4498 - accuracy: 0.7899 - val_loss: 0.4570 - val_accuracy: 0.7857\n",
      "Epoch 216\/400\n",
      "\r 1\/31 [..............................] - ETA: 0s - loss: 0.4611 - accuracy: 0.7500\b\b\b\b\b\b\b\b\b\b\b\b\b\b\b\b\b\b\b\b\b\b\b\b\b\b\b\b\b\b\b\b\b\b\b\b\b\b\b\b\b\b\b\b\b\b\b\b\b\b\b\b\b\b\b\b\b\b\b\b\b\b\b\b\b\b\b\b\b\b\b\b\b\b\b\b\b\b\b\b\b\b\r31\/31 [==============================] - 0s 2ms\/step - loss: 0.4538 - accuracy: 0.7932 - val_loss: 0.4609 - val_accuracy: 0.7987\n",
      "Epoch 217\/400\n",
      "\r 1\/31 [..............................] - ETA: 0s - loss: 0.3627 - accuracy: 0.9000\b\b\b\b\b\b\b\b\b\b\b\b\b\b\b\b\b\b\b\b\b\b\b\b\b\b\b\b\b\b\b\b\b\b\b\b\b\b\b\b\b\b\b\b\b\b\b\b\b\b\b\b\b\b\b\b\b\b\b\b\b\b\b\b\b\b\b\b\b\b\b\b\b\b\b\b\b\b\b\b\b\b\r31\/31 [==============================] - 0s 2ms\/step - loss: 0.4626 - accuracy: 0.7834 - val_loss: 0.4569 - val_accuracy: 0.7727\n",
      "Epoch 218\/400\n",
      "\r 1\/31 [..............................] - ETA: 0s - loss: 0.5236 - accuracy: 0.8000\b\b\b\b\b\b\b\b\b\b\b\b\b\b\b\b\b\b\b\b\b\b\b\b\b\b\b\b\b\b\b\b\b\b\b\b\b\b\b\b\b\b\b\b\b\b\b\b\b\b\b\b\b\b\b\b\b\b\b\b\b\b\b\b\b\b\b\b\b\b\b\b\b\b\b\b\b\b\b\b\b\b\r31\/31 [==============================] - 0s 2ms\/step - loss: 0.4556 - accuracy: 0.7638 - val_loss: 0.4570 - val_accuracy: 0.7662\n",
      "Epoch 219\/400\n",
      "\r 1\/31 [..............................] - ETA: 0s - loss: 0.4001 - accuracy: 0.7500\b\b\b\b\b\b\b\b\b\b\b\b\b\b\b\b\b\b\b\b\b\b\b\b\b\b\b\b\b\b\b\b\b\b\b\b\b\b\b\b\b\b\b\b\b\b\b\b\b\b\b\b\b\b\b\b\b\b\b\b\b\b\b\b\b\b\b\b\b\b\b\b\b\b\b\b\b\b\b\b\b\b\r31\/31 [==============================] - 0s 2ms\/step - loss: 0.4512 - accuracy: 0.7769 - val_loss: 0.4555 - val_accuracy: 0.7727\n",
      "Epoch 220\/400\n",
      "\r 1\/31 [..............................] - ETA: 0s - loss: 0.3630 - accuracy: 0.8000\b\b\b\b\b\b\b\b\b\b\b\b\b\b\b\b\b\b\b\b\b\b\b\b\b\b\b\b\b\b\b\b\b\b\b\b\b\b\b\b\b\b\b\b\b\b\b\b\b\b\b\b\b\b\b\b\b\b\b\b\b\b\b\b\b\b\b\b\b\b\b\b\b\b\b\b\b\b\b\b\b\b\r31\/31 [==============================] - 0s 2ms\/step - loss: 0.4572 - accuracy: 0.7801 - val_loss: 0.4584 - val_accuracy: 0.7727\n",
      "Epoch 221\/400\n",
      "\r 1\/31 [..............................] - ETA: 0s - loss: 0.4510 - accuracy: 0.7500\b\b\b\b\b\b\b\b\b\b\b\b\b\b\b\b\b\b\b\b\b\b\b\b\b\b\b\b\b\b\b\b\b\b\b\b\b\b\b\b\b\b\b\b\b\b\b\b\b\b\b\b\b\b\b\b\b\b\b\b\b\b\b\b\b\b\b\b\b\b\b\b\b\b\b\b\b\b\b\b\b\b\r31\/31 [==============================] - 0s 2ms\/step - loss: 0.4580 - accuracy: 0.7638 - val_loss: 0.4556 - val_accuracy: 0.7662\n",
      "Epoch 222\/400\n",
      "\r 1\/31 [..............................] - ETA: 0s - loss: 0.5645 - accuracy: 0.7000\b\b\b\b\b\b\b\b\b\b\b\b\b\b\b\b\b\b\b\b\b\b\b\b\b\b\b\b\b\b\b\b\b\b\b\b\b\b\b\b\b\b\b\b\b\b\b\b\b\b\b\b\b\b\b\b\b\b\b\b\b\b\b\b\b\b\b\b\b\b\b\b\b\b\b\b\b\b\b\b\b\b\r31\/31 [==============================] - 0s 2ms\/step - loss: 0.4577 - accuracy: 0.7785 - val_loss: 0.4596 - val_accuracy: 0.7987\n",
      "Epoch 223\/400\n",
      "\r 1\/31 [..............................] - ETA: 0s - loss: 0.3884 - accuracy: 0.8500\b\b\b\b\b\b\b\b\b\b\b\b\b\b\b\b\b\b\b\b\b\b\b\b\b\b\b\b\b\b\b\b\b\b\b\b\b\b\b\b\b\b\b\b\b\b\b\b\b\b\b\b\b\b\b\b\b\b\b\b\b\b\b\b\b\b\b\b\b\b\b\b\b\b\b\b\b\b\b\b\b\b\r31\/31 [==============================] - 0s 2ms\/step - loss: 0.4512 - accuracy: 0.7866 - val_loss: 0.4563 - val_accuracy: 0.7662\n",
      "Epoch 224\/400\n",
      "\r 1\/31 [..............................] - ETA: 0s - loss: 0.3823 - accuracy: 0.9000\b\b\b\b\b\b\b\b\b\b\b\b\b\b\b\b\b\b\b\b\b\b\b\b\b\b\b\b\b\b\b\b\b\b\b\b\b\b\b\b\b\b\b\b\b\b\b\b\b\b\b\b\b\b\b\b\b\b\b\b\b\b\b\b\b\b\b\b\b\b\b\b\b\b\b\b\b\b\b\b\b\b\r31\/31 [==============================] - 0s 3ms\/step - loss: 0.4529 - accuracy: 0.7785 - val_loss: 0.4578 - val_accuracy: 0.7727\n",
      "Epoch 225\/400\n",
      "\r 1\/31 [..............................] - ETA: 0s - loss: 0.3347 - accuracy: 0.8000\b\b\b\b\b\b\b\b\b\b\b\b\b\b\b\b\b\b\b\b\b\b\b\b\b\b\b\b\b\b\b\b\b\b\b\b\b\b\b\b\b\b\b\b\b\b\b\b\b\b\b\b\b\b\b\b\b\b\b\b\b\b\b\b\b\b\b\b\b\b\b\b\b\b\b\b\b\b\b\b\b\b\r31\/31 [==============================] - 0s 3ms\/step - loss: 0.4500 - accuracy: 0.7801 - val_loss: 0.4569 - val_accuracy: 0.7727\n",
      "Epoch 226\/400\n",
      "\r 1\/31 [..............................] - ETA: 0s - loss: 0.5491 - accuracy: 0.6500\b\b\b\b\b\b\b\b\b\b\b\b\b\b\b\b\b\b\b\b\b\b\b\b\b\b\b\b\b\b\b\b\b\b\b\b\b\b\b\b\b\b\b\b\b\b\b\b\b\b\b\b\b\b\b\b\b\b\b\b\b\b\b\b\b\b\b\b\b\b\b\b\b\b\b\b\b\b\b\b\b\b\r31\/31 [==============================] - 0s 2ms\/step - loss: 0.4557 - accuracy: 0.7638 - val_loss: 0.4569 - val_accuracy: 0.7727\n",
      "Epoch 227\/400\n",
      "\r 1\/31 [..............................] - ETA: 0s - loss: 0.3823 - accuracy: 0.8000\b\b\b\b\b\b\b\b\b\b\b\b\b\b\b\b\b\b\b\b\b\b\b\b\b\b\b\b\b\b\b\b\b\b\b\b\b\b\b\b\b\b\b\b\b\b\b\b\b\b\b\b\b\b\b\b\b\b\b\b\b\b\b\b\b\b\b\b\b\b\b\b\b\b\b\b\b\b\b\b\b\b\r31\/31 [==============================] - 0s 3ms\/step - loss: 0.4567 - accuracy: 0.7883 - val_loss: 0.4567 - val_accuracy: 0.7727\n",
      "Epoch 228\/400\n",
      "\r 1\/31 [..............................] - ETA: 0s - loss: 0.5306 - accuracy: 0.7500\b\b\b\b\b\b\b\b\b\b\b\b\b\b\b\b\b\b\b\b\b\b\b\b\b\b\b\b\b\b\b\b\b\b\b\b\b\b\b\b\b\b\b\b\b\b\b\b\b\b\b\b\b\b\b\b\b\b\b\b\b\b\b\b\b\b\b\b\b\b\b\b\b\b\b\b\b\b\b\b\b\b\r31\/31 [==============================] - 0s 3ms\/step - loss: 0.4579 - accuracy: 0.7752 - val_loss: 0.4560 - val_accuracy: 0.7662\n",
      "Epoch 229\/400\n",
      "\r 1\/31 [..............................] - ETA: 0s - loss: 0.5590 - accuracy: 0.7500\b\b\b\b\b\b\b\b\b\b\b\b\b\b\b\b\b\b\b\b\b\b\b\b\b\b\b\b\b\b\b\b\b\b\b\b\b\b\b\b\b\b\b\b\b\b\b\b\b\b\b\b\b\b\b\b\b\b\b\b\b\b\b\b\b\b\b\b\b\b\b\b\b\b\b\b\b\b\b\b\b\b\r31\/31 [==============================] - 0s 2ms\/step - loss: 0.4544 - accuracy: 0.7964 - val_loss: 0.4596 - val_accuracy: 0.7922\n",
      "Epoch 230\/400\n",
      "\r 1\/31 [..............................] - ETA: 0s - loss: 0.3527 - accuracy: 0.8500\b\b\b\b\b\b\b\b\b\b\b\b\b\b\b\b\b\b\b\b\b\b\b\b\b\b\b\b\b\b\b\b\b\b\b\b\b\b\b\b\b\b\b\b\b\b\b\b\b\b\b\b\b\b\b\b\b\b\b\b\b\b\b\b\b\b\b\b\b\b\b\b\b\b\b\b\b\b\b\b\b\b\r31\/31 [==============================] - 0s 3ms\/step - loss: 0.4566 - accuracy: 0.7769 - val_loss: 0.4561 - val_accuracy: 0.7662\n",
      "Epoch 231\/400\n",
      "\r 1\/31 [..............................] - ETA: 0s - loss: 0.4237 - accuracy: 0.7000\b\b\b\b\b\b\b\b\b\b\b\b\b\b\b\b\b\b\b\b\b\b\b\b\b\b\b\b\b\b\b\b\b\b\b\b\b\b\b\b\b\b\b\b\b\b\b\b\b\b\b\b\b\b\b\b\b\b\b\b\b\b\b\b\b\b\b\b\b\b\b\b\b\b\b\b\b\b\b\b\b\b\r31\/31 [==============================] - 0s 2ms\/step - loss: 0.4563 - accuracy: 0.7801 - val_loss: 0.4558 - val_accuracy: 0.7792\n",
      "Epoch 232\/400\n",
      "\r 1\/31 [..............................] - ETA: 0s - loss: 0.4535 - accuracy: 0.7500\b\b\b\b\b\b\b\b\b\b\b\b\b\b\b\b\b\b\b\b\b\b\b\b\b\b\b\b\b\b\b\b\b\b\b\b\b\b\b\b\b\b\b\b\b\b\b\b\b\b\b\b\b\b\b\b\b\b\b\b\b\b\b\b\b\b\b\b\b\b\b\b\b\b\b\b\b\b\b\b\b\b\r31\/31 [==============================] - 0s 3ms\/step - loss: 0.4506 - accuracy: 0.7932 - val_loss: 0.4613 - val_accuracy: 0.7792\n",
      "Epoch 233\/400\n",
      "\r 1\/31 [..............................] - ETA: 0s - loss: 0.7022 - accuracy: 0.6000\b\b\b\b\b\b\b\b\b\b\b\b\b\b\b\b\b\b\b\b\b\b\b\b\b\b\b\b\b\b\b\b\b\b\b\b\b\b\b\b\b\b\b\b\b\b\b\b\b\b\b\b\b\b\b\b\b\b\b\b\b\b\b\b\b\b\b\b\b\b\b\b\b\b\b\b\b\b\b\b\b\b\r31\/31 [==============================] - 0s 2ms\/step - loss: 0.4540 - accuracy: 0.7769 - val_loss: 0.4547 - val_accuracy: 0.7662\n",
      "Epoch 234\/400\n",
      "\r 1\/31 [..............................] - ETA: 0s - loss: 0.2769 - accuracy: 0.9000\b\b\b\b\b\b\b\b\b\b\b\b\b\b\b\b\b\b\b\b\b\b\b\b\b\b\b\b\b\b\b\b\b\b\b\b\b\b\b\b\b\b\b\b\b\b\b\b\b\b\b\b\b\b\b\b\b\b\b\b\b\b\b\b\b\b\b\b\b\b\b\b\b\b\b\b\b\b\b\b\b\b\r31\/31 [==============================] - 0s 3ms\/step - loss: 0.4422 - accuracy: 0.7899 - val_loss: 0.4563 - val_accuracy: 0.7727\n",
      "Epoch 235\/400\n",
      "\r 1\/31 [..............................] - ETA: 0s - loss: 0.4090 - accuracy: 0.8500\b\b\b\b\b\b\b\b\b\b\b\b\b\b\b\b\b\b\b\b\b\b\b\b\b\b\b\b\b\b\b\b\b\b\b\b\b\b\b\b\b\b\b\b\b\b\b\b\b\b\b\b\b\b\b\b\b\b\b\b\b\b\b\b\b\b\b\b\b\b\b\b\b\b\b\b\b\b\b\b\b\b\r31\/31 [==============================] - 0s 2ms\/step - loss: 0.4536 - accuracy: 0.7915 - val_loss: 0.4573 - val_accuracy: 0.7727\n",
      "Epoch 236\/400\n",
      "\r 1\/31 [..............................] - ETA: 0s - loss: 0.4869 - accuracy: 0.6500\b\b\b\b\b\b\b\b\b\b\b\b\b\b\b\b\b\b\b\b\b\b\b\b\b\b\b\b\b\b\b\b\b\b\b\b\b\b\b\b\b\b\b\b\b\b\b\b\b\b\b\b\b\b\b\b\b\b\b\b\b\b\b\b\b\b\b\b\b\b\b\b\b\b\b\b\b\b\b\b\b\b\r31\/31 [==============================] - 0s 2ms\/step - loss: 0.4507 - accuracy: 0.7769 - val_loss: 0.4561 - val_accuracy: 0.7727\n",
      "Epoch 237\/400\n",
      "\r 1\/31 [..............................] - ETA: 0s - loss: 0.4559 - accuracy: 0.8000\b\b\b\b\b\b\b\b\b\b\b\b\b\b\b\b\b\b\b\b\b\b\b\b\b\b\b\b\b\b\b\b\b\b\b\b\b\b\b\b\b\b\b\b\b\b\b\b\b\b\b\b\b\b\b\b\b\b\b\b\b\b\b\b\b\b\b\b\b\b\b\b\b\b\b\b\b\b\b\b\b\b\r31\/31 [==============================] - 0s 2ms\/step - loss: 0.4499 - accuracy: 0.7801 - val_loss: 0.4565 - val_accuracy: 0.7727\n",
      "Epoch 238\/400\n",
      "\r 1\/31 [..............................] - ETA: 0s - loss: 0.4577 - accuracy: 0.8000\b\b\b\b\b\b\b\b\b\b\b\b\b\b\b\b\b\b\b\b\b\b\b\b\b\b\b\b\b\b\b\b\b\b\b\b\b\b\b\b\b\b\b\b\b\b\b\b\b\b\b\b\b\b\b\b\b\b\b\b\b\b\b\b\b\b\b\b\b\b\b\b\b\b\b\b\b\b\b\b\b\b\r31\/31 [==============================] - 0s 3ms\/step - loss: 0.4495 - accuracy: 0.7883 - val_loss: 0.4560 - val_accuracy: 0.7727\n",
      "Epoch 239\/400\n",
      "\r 1\/31 [..............................] - ETA: 0s - loss: 0.5985 - accuracy: 0.7500\b\b\b\b\b\b\b\b\b\b\b\b\b\b\b\b\b\b\b\b\b\b\b\b\b\b\b\b\b\b\b\b\b\b\b\b\b\b\b\b\b\b\b\b\b\b\b\b\b\b\b\b\b\b\b\b\b\b\b\b\b\b\b\b\b\b\b\b\b\b\b\b\b\b\b\b\b\b\b\b\b\b\r31\/31 [==============================] - 0s 2ms\/step - loss: 0.4481 - accuracy: 0.7752 - val_loss: 0.4560 - val_accuracy: 0.7662\n",
      "Epoch 240\/400\n",
      "\r 1\/31 [..............................] - ETA: 0s - loss: 0.3004 - accuracy: 0.9500\b\b\b\b\b\b\b\b\b\b\b\b\b\b\b\b\b\b\b\b\b\b\b\b\b\b\b\b\b\b\b\b\b\b\b\b\b\b\b\b\b\b\b\b\b\b\b\b\b\b\b\b\b\b\b\b\b\b\b\b\b\b\b\b\b\b\b\b\b\b\b\b\b\b\b\b\b\b\b\b\b\b\r31\/31 [==============================] - 0s 2ms\/step - loss: 0.4724 - accuracy: 0.7655 - val_loss: 0.4562 - val_accuracy: 0.7727\n",
      "Epoch 241\/400\n",
      "\r 1\/31 [..............................] - ETA: 0s - loss: 0.4697 - accuracy: 0.6500\b\b\b\b\b\b\b\b\b\b\b\b\b\b\b\b\b\b\b\b\b\b\b\b\b\b\b\b\b\b\b\b\b\b\b\b\b\b\b\b\b\b\b\b\b\b\b\b\b\b\b\b\b\b\b\b\b\b\b\b\b\b\b\b\b\b\b\b\b\b\b\b\b\b\b\b\b\b\b\b\b\b\r31\/31 [==============================] - 0s 2ms\/step - loss: 0.4547 - accuracy: 0.7736 - val_loss: 0.4577 - val_accuracy: 0.7727\n",
      "Epoch 242\/400\n",
      "\r 1\/31 [..............................] - ETA: 0s - loss: 0.3616 - accuracy: 0.9500\b\b\b\b\b\b\b\b\b\b\b\b\b\b\b\b\b\b\b\b\b\b\b\b\b\b\b\b\b\b\b\b\b\b\b\b\b\b\b\b\b\b\b\b\b\b\b\b\b\b\b\b\b\b\b\b\b\b\b\b\b\b\b\b\b\b\b\b\b\b\b\b\b\b\b\b\b\b\b\b\b\b\r31\/31 [==============================] - 0s 2ms\/step - loss: 0.4555 - accuracy: 0.7752 - val_loss: 0.4566 - val_accuracy: 0.7727\n",
      "Epoch 243\/400\n",
      "\r 1\/31 [..............................] - ETA: 0s - loss: 0.5486 - accuracy: 0.8000\b\b\b\b\b\b\b\b\b\b\b\b\b\b\b\b\b\b\b\b\b\b\b\b\b\b\b\b\b\b\b\b\b\b\b\b\b\b\b\b\b\b\b\b\b\b\b\b\b\b\b\b\b\b\b\b\b\b\b\b\b\b\b\b\b\b\b\b\b\b\b\b\b\b\b\b\b\b\b\b\b\b\r31\/31 [==============================] - 0s 3ms\/step - loss: 0.4521 - accuracy: 0.7866 - val_loss: 0.4561 - val_accuracy: 0.7727\n",
      "Epoch 244\/400\n",
      "\r 1\/31 [..............................] - ETA: 0s - loss: 0.5857 - accuracy: 0.6000\b\b\b\b\b\b\b\b\b\b\b\b\b\b\b\b\b\b\b\b\b\b\b\b\b\b\b\b\b\b\b\b\b\b\b\b\b\b\b\b\b\b\b\b\b\b\b\b\b\b\b\b\b\b\b\b\b\b\b\b\b\b\b\b\b\b\b\b\b\b\b\b\b\b\b\b\b\b\b\b\b\b\r31\/31 [==============================] - 0s 2ms\/step - loss: 0.4527 - accuracy: 0.7769 - val_loss: 0.4558 - val_accuracy: 0.7792\n",
      "Epoch 245\/400\n",
      "\r 1\/31 [..............................] - ETA: 0s - loss: 0.2224 - accuracy: 0.9500\b\b\b\b\b\b\b\b\b\b\b\b\b\b\b\b\b\b\b\b\b\b\b\b\b\b\b\b\b\b\b\b\b\b\b\b\b\b\b\b\b\b\b\b\b\b\b\b\b\b\b\b\b\b\b\b\b\b\b\b\b\b\b\b\b\b\b\b\b\b\b\b\b\b\b\b\b\b\b\b\b\b\r31\/31 [==============================] - 0s 2ms\/step - loss: 0.4568 - accuracy: 0.7752 - val_loss: 0.4569 - val_accuracy: 0.7727\n",
      "Epoch 246\/400\n",
      "\r 1\/31 [..............................] - ETA: 0s - loss: 0.4465 - accuracy: 0.7500\b\b\b\b\b\b\b\b\b\b\b\b\b\b\b\b\b\b\b\b\b\b\b\b\b\b\b\b\b\b\b\b\b\b\b\b\b\b\b\b\b\b\b\b\b\b\b\b\b\b\b\b\b\b\b\b\b\b\b\b\b\b\b\b\b\b\b\b\b\b\b\b\b\b\b\b\b\b\b\b\b\b\r31\/31 [==============================] - 0s 2ms\/step - loss: 0.4467 - accuracy: 0.7785 - val_loss: 0.4562 - val_accuracy: 0.7662\n",
      "Epoch 247\/400\n",
      "\r 1\/31 [..............................] - ETA: 0s - loss: 0.3769 - accuracy: 0.8000\b\b\b\b\b\b\b\b\b\b\b\b\b\b\b\b\b\b\b\b\b\b\b\b\b\b\b\b\b\b\b\b\b\b\b\b\b\b\b\b\b\b\b\b\b\b\b\b\b\b\b\b\b\b\b\b\b\b\b\b\b\b\b\b\b\b\b\b\b\b\b\b\b\b\b\b\b\b\b\b\b\b\r31\/31 [==============================] - 0s 2ms\/step - loss: 0.4614 - accuracy: 0.7850 - val_loss: 0.4564 - val_accuracy: 0.7727\n",
      "Epoch 248\/400\n",
      "\r 1\/31 [..............................] - ETA: 0s - loss: 0.3556 - accuracy: 0.8000\b\b\b\b\b\b\b\b\b\b\b\b\b\b\b\b\b\b\b\b\b\b\b\b\b\b\b\b\b\b\b\b\b\b\b\b\b\b\b\b\b\b\b\b\b\b\b\b\b\b\b\b\b\b\b\b\b\b\b\b\b\b\b\b\b\b\b\b\b\b\b\b\b\b\b\b\b\b\b\b\b\b\r31\/31 [==============================] - 0s 2ms\/step - loss: 0.4534 - accuracy: 0.7883 - val_loss: 0.4565 - val_accuracy: 0.7662\n",
      "Epoch 249\/400\n",
      "\r 1\/31 [..............................] - ETA: 0s - loss: 0.3543 - accuracy: 0.8500\b\b\b\b\b\b\b\b\b\b\b\b\b\b\b\b\b\b\b\b\b\b\b\b\b\b\b\b\b\b\b\b\b\b\b\b\b\b\b\b\b\b\b\b\b\b\b\b\b\b\b\b\b\b\b\b\b\b\b\b\b\b\b\b\b\b\b\b\b\b\b\b\b\b\b\b\b\b\b\b\b\b\r31\/31 [==============================] - 0s 2ms\/step - loss: 0.4453 - accuracy: 0.7785 - val_loss: 0.4551 - val_accuracy: 0.7597\n",
      "Epoch 250\/400\n",
      "\r 1\/31 [..............................] - ETA: 0s - loss: 0.2627 - accuracy: 0.9500\b\b\b\b\b\b\b\b\b\b\b\b\b\b\b\b\b\b\b\b\b\b\b\b\b\b\b\b\b\b\b\b\b\b\b\b\b\b\b\b\b\b\b\b\b\b\b\b\b\b\b\b\b\b\b\b\b\b\b\b\b\b\b\b\b\b\b\b\b\b\b\b\b\b\b\b\b\b\b\b\b\b\r31\/31 [==============================] - 0s 2ms\/step - loss: 0.4441 - accuracy: 0.7899 - val_loss: 0.4554 - val_accuracy: 0.7727\n",
      "Epoch 251\/400\n",
      "\r 1\/31 [..............................] - ETA: 0s - loss: 0.5499 - accuracy: 0.6000\b\b\b\b\b\b\b\b\b\b\b\b\b\b\b\b\b\b\b\b\b\b\b\b\b\b\b\b\b\b\b\b\b\b\b\b\b\b\b\b\b\b\b\b\b\b\b\b\b\b\b\b\b\b\b\b\b\b\b\b\b\b\b\b\b\b\b\b\b\b\b\b\b\b\b\b\b\b\b\b\b\b\r31\/31 [==============================] - 0s 2ms\/step - loss: 0.4526 - accuracy: 0.7801 - val_loss: 0.4556 - val_accuracy: 0.7727\n",
      "Epoch 252\/400\n",
      "\r 1\/31 [..............................] - ETA: 0s - loss: 0.4871 - accuracy: 0.6500\b\b\b\b\b\b\b\b\b\b\b\b\b\b\b\b\b\b\b\b\b\b\b\b\b\b\b\b\b\b\b\b\b\b\b\b\b\b\b\b\b\b\b\b\b\b\b\b\b\b\b\b\b\b\b\b\b\b\b\b\b\b\b\b\b\b\b\b\b\b\b\b\b\b\b\b\b\b\b\b\b\b\r31\/31 [==============================] - 0s 2ms\/step - loss: 0.4483 - accuracy: 0.7736 - val_loss: 0.4554 - val_accuracy: 0.7727\n",
      "Epoch 253\/400\n",
      "\r 1\/31 [..............................] - ETA: 0s - loss: 0.4834 - accuracy: 0.7500\b\b\b\b\b\b\b\b\b\b\b\b\b\b\b\b\b\b\b\b\b\b\b\b\b\b\b\b\b\b\b\b\b\b\b\b\b\b\b\b\b\b\b\b\b\b\b\b\b\b\b\b\b\b\b\b\b\b\b\b\b\b\b\b\b\b\b\b\b\b\b\b\b\b\b\b\b\b\b\b\b\b\r31\/31 [==============================] - 0s 2ms\/step - loss: 0.4581 - accuracy: 0.7866 - val_loss: 0.4575 - val_accuracy: 0.7792\n",
      "Epoch 254\/400\n",
      "\r 1\/31 [..............................] - ETA: 0s - loss: 0.5868 - accuracy: 0.8000\b\b\b\b\b\b\b\b\b\b\b\b\b\b\b\b\b\b\b\b\b\b\b\b\b\b\b\b\b\b\b\b\b\b\b\b\b\b\b\b\b\b\b\b\b\b\b\b\b\b\b\b\b\b\b\b\b\b\b\b\b\b\b\b\b\b\b\b\b\b\b\b\b\b\b\b\b\b\b\b\b\b\r31\/31 [==============================] - 0s 3ms\/step - loss: 0.4615 - accuracy: 0.7752 - val_loss: 0.4552 - val_accuracy: 0.7662\n",
      "Epoch 255\/400\n",
      "\r 1\/31 [..............................] - ETA: 0s - loss: 0.3397 - accuracy: 0.8500\b\b\b\b\b\b\b\b\b\b\b\b\b\b\b\b\b\b\b\b\b\b\b\b\b\b\b\b\b\b\b\b\b\b\b\b\b\b\b\b\b\b\b\b\b\b\b\b\b\b\b\b\b\b\b\b\b\b\b\b\b\b\b\b\b\b\b\b\b\b\b\b\b\b\b\b\b\b\b\b\b\b\r31\/31 [==============================] - 0s 2ms\/step - loss: 0.4539 - accuracy: 0.7801 - val_loss: 0.4550 - val_accuracy: 0.7792\n",
      "Epoch 256\/400\n",
      "\r 1\/31 [..............................] - ETA: 0s - loss: 0.5397 - accuracy: 0.8000\b\b\b\b\b\b\b\b\b\b\b\b\b\b\b\b\b\b\b\b\b\b\b\b\b\b\b\b\b\b\b\b\b\b\b\b\b\b\b\b\b\b\b\b\b\b\b\b\b\b\b\b\b\b\b\b\b\b\b\b\b\b\b\b\b\b\b\b\b\b\b\b\b\b\b\b\b\b\b\b\b\b\r31\/31 [==============================] - 0s 3ms\/step - loss: 0.4562 - accuracy: 0.7801 - val_loss: 0.4548 - val_accuracy: 0.7727\n",
      "Epoch 257\/400\n",
      "\r 1\/31 [..............................] - ETA: 0s - loss: 0.3209 - accuracy: 0.8500\b\b\b\b\b\b\b\b\b\b\b\b\b\b\b\b\b\b\b\b\b\b\b\b\b\b\b\b\b\b\b\b\b\b\b\b\b\b\b\b\b\b\b\b\b\b\b\b\b\b\b\b\b\b\b\b\b\b\b\b\b\b\b\b\b\b\b\b\b\b\b\b\b\b\b\b\b\b\b\b\b\b\r31\/31 [==============================] - 0s 2ms\/step - loss: 0.4511 - accuracy: 0.7866 - val_loss: 0.4537 - val_accuracy: 0.7727\n",
      "Epoch 258\/400\n",
      "\r 1\/31 [..............................] - ETA: 0s - loss: 0.4359 - accuracy: 0.7500\b\b\b\b\b\b\b\b\b\b\b\b\b\b\b\b\b\b\b\b\b\b\b\b\b\b\b\b\b\b\b\b\b\b\b\b\b\b\b\b\b\b\b\b\b\b\b\b\b\b\b\b\b\b\b\b\b\b\b\b\b\b\b\b\b\b\b\b\b\b\b\b\b\b\b\b\b\b\b\b\b\b\r31\/31 [==============================] - 0s 3ms\/step - loss: 0.4610 - accuracy: 0.7801 - val_loss: 0.4554 - val_accuracy: 0.7727\n",
      "Epoch 259\/400\n",
      "\r 1\/31 [..............................] - ETA: 0s - loss: 0.3374 - accuracy: 0.8500\b\b\b\b\b\b\b\b\b\b\b\b\b\b\b\b\b\b\b\b\b\b\b\b\b\b\b\b\b\b\b\b\b\b\b\b\b\b\b\b\b\b\b\b\b\b\b\b\b\b\b\b\b\b\b\b\b\b\b\b\b\b\b\b\b\b\b\b\b\b\b\b\b\b\b\b\b\b\b\b\b\b\r31\/31 [==============================] - 0s 2ms\/step - loss: 0.4456 - accuracy: 0.7850 - val_loss: 0.4547 - val_accuracy: 0.7727\n",
      "Epoch 260\/400\n",
      "\r 1\/31 [..............................] - ETA: 0s - loss: 0.5158 - accuracy: 0.7500\b\b\b\b\b\b\b\b\b\b\b\b\b\b\b\b\b\b\b\b\b\b\b\b\b\b\b\b\b\b\b\b\b\b\b\b\b\b\b\b\b\b\b\b\b\b\b\b\b\b\b\b\b\b\b\b\b\b\b\b\b\b\b\b\b\b\b\b\b\b\b\b\b\b\b\b\b\b\b\b\b\b\r31\/31 [==============================] - 0s 2ms\/step - loss: 0.4518 - accuracy: 0.7769 - val_loss: 0.4551 - val_accuracy: 0.7727\n",
      "Epoch 261\/400\n",
      "\r 1\/31 [..............................] - ETA: 0s - loss: 0.4664 - accuracy: 0.7000\b\b\b\b\b\b\b\b\b\b\b\b\b\b\b\b\b\b\b\b\b\b\b\b\b\b\b\b\b\b\b\b\b\b\b\b\b\b\b\b\b\b\b\b\b\b\b\b\b\b\b\b\b\b\b\b\b\b\b\b\b\b\b\b\b\b\b\b\b\b\b\b\b\b\b\b\b\b\b\b\b\b\r31\/31 [==============================] - 0s 3ms\/step - loss: 0.4502 - accuracy: 0.7883 - val_loss: 0.4547 - val_accuracy: 0.7727\n",
      "Epoch 262\/400\n",
      "\r 1\/31 [..............................] - ETA: 0s - loss: 0.3453 - accuracy: 0.9500\b\b\b\b\b\b\b\b\b\b\b\b\b\b\b\b\b\b\b\b\b\b\b\b\b\b\b\b\b\b\b\b\b\b\b\b\b\b\b\b\b\b\b\b\b\b\b\b\b\b\b\b\b\b\b\b\b\b\b\b\b\b\b\b\b\b\b\b\b\b\b\b\b\b\b\b\b\b\b\b\b\b\r31\/31 [==============================] - 0s 2ms\/step - loss: 0.4490 - accuracy: 0.7866 - val_loss: 0.4551 - val_accuracy: 0.7727\n",
      "Epoch 263\/400\n",
      "\r 1\/31 [..............................] - ETA: 0s - loss: 0.5277 - accuracy: 0.7000\b\b\b\b\b\b\b\b\b\b\b\b\b\b\b\b\b\b\b\b\b\b\b\b\b\b\b\b\b\b\b\b\b\b\b\b\b\b\b\b\b\b\b\b\b\b\b\b\b\b\b\b\b\b\b\b\b\b\b\b\b\b\b\b\b\b\b\b\b\b\b\b\b\b\b\b\b\b\b\b\b\b\r31\/31 [==============================] - 0s 3ms\/step - loss: 0.4506 - accuracy: 0.7801 - val_loss: 0.4545 - val_accuracy: 0.7662\n",
      "Epoch 264\/400\n",
      "\r 1\/31 [..............................] - ETA: 0s - loss: 0.5196 - accuracy: 0.7000\b\b\b\b\b\b\b\b\b\b\b\b\b\b\b\b\b\b\b\b\b\b\b\b\b\b\b\b\b\b\b\b\b\b\b\b\b\b\b\b\b\b\b\b\b\b\b\b\b\b\b\b\b\b\b\b\b\b\b\b\b\b\b\b\b\b\b\b\b\b\b\b\b\b\b\b\b\b\b\b\b\b\r31\/31 [==============================] - 0s 3ms\/step - loss: 0.4584 - accuracy: 0.7850 - val_loss: 0.4551 - val_accuracy: 0.7727\n",
      "Epoch 265\/400\n",
      "\r 1\/31 [..............................] - ETA: 0s - loss: 0.4538 - accuracy: 0.8000\b\b\b\b\b\b\b\b\b\b\b\b\b\b\b\b\b\b\b\b\b\b\b\b\b\b\b\b\b\b\b\b\b\b\b\b\b\b\b\b\b\b\b\b\b\b\b\b\b\b\b\b\b\b\b\b\b\b\b\b\b\b\b\b\b\b\b\b\b\b\b\b\b\b\b\b\b\b\b\b\b\b\r31\/31 [==============================] - 0s 3ms\/step - loss: 0.4470 - accuracy: 0.7899 - val_loss: 0.4547 - val_accuracy: 0.7857\n",
      "Epoch 266\/400\n",
      "\r 1\/31 [..............................] - ETA: 0s - loss: 0.4928 - accuracy: 0.7500\b\b\b\b\b\b\b\b\b\b\b\b\b\b\b\b\b\b\b\b\b\b\b\b\b\b\b\b\b\b\b\b\b\b\b\b\b\b\b\b\b\b\b\b\b\b\b\b\b\b\b\b\b\b\b\b\b\b\b\b\b\b\b\b\b\b\b\b\b\b\b\b\b\b\b\b\b\b\b\b\b\b\r31\/31 [==============================] - 0s 3ms\/step - loss: 0.4424 - accuracy: 0.7899 - val_loss: 0.4556 - val_accuracy: 0.7857\n",
      "Epoch 267\/400\n",
      "\r 1\/31 [..............................] - ETA: 0s - loss: 0.2861 - accuracy: 0.9000\b\b\b\b\b\b\b\b\b\b\b\b\b\b\b\b\b\b\b\b\b\b\b\b\b\b\b\b\b\b\b\b\b\b\b\b\b\b\b\b\b\b\b\b\b\b\b\b\b\b\b\b\b\b\b\b\b\b\b\b\b\b\b\b\b\b\b\b\b\b\b\b\b\b\b\b\b\b\b\b\b\b\r31\/31 [==============================] - 0s 3ms\/step - loss: 0.4488 - accuracy: 0.7720 - val_loss: 0.4547 - val_accuracy: 0.7727\n",
      "Epoch 268\/400\n",
      "\r 1\/31 [..............................] - ETA: 0s - loss: 0.3762 - accuracy: 0.9000\b\b\b\b\b\b\b\b\b\b\b\b\b\b\b\b\b\b\b\b\b\b\b\b\b\b\b\b\b\b\b\b\b\b\b\b\b\b\b\b\b\b\b\b\b\b\b\b\b\b\b\b\b\b\b\b\b\b\b\b\b\b\b\b\b\b\b\b\b\b\b\b\b\b\b\b\b\b\b\b\b\b\r31\/31 [==============================] - 0s 2ms\/step - loss: 0.4568 - accuracy: 0.7818 - val_loss: 0.4543 - val_accuracy: 0.7727\n",
      "Epoch 269\/400\n",
      "\r 1\/31 [..............................] - ETA: 0s - loss: 0.5069 - accuracy: 0.7000\b\b\b\b\b\b\b\b\b\b\b\b\b\b\b\b\b\b\b\b\b\b\b\b\b\b\b\b\b\b\b\b\b\b\b\b\b\b\b\b\b\b\b\b\b\b\b\b\b\b\b\b\b\b\b\b\b\b\b\b\b\b\b\b\b\b\b\b\b\b\b\b\b\b\b\b\b\b\b\b\b\b\r31\/31 [==============================] - 0s 3ms\/step - loss: 0.4521 - accuracy: 0.7834 - val_loss: 0.4538 - val_accuracy: 0.7727\n",
      "Epoch 270\/400\n",
      "\r 1\/31 [..............................] - ETA: 0s - loss: 0.4991 - accuracy: 0.8500\b\b\b\b\b\b\b\b\b\b\b\b\b\b\b\b\b\b\b\b\b\b\b\b\b\b\b\b\b\b\b\b\b\b\b\b\b\b\b\b\b\b\b\b\b\b\b\b\b\b\b\b\b\b\b\b\b\b\b\b\b\b\b\b\b\b\b\b\b\b\b\b\b\b\b\b\b\b\b\b\b\b\r31\/31 [==============================] - 0s 2ms\/step - loss: 0.4487 - accuracy: 0.7769 - val_loss: 0.4549 - val_accuracy: 0.7727\n",
      "Epoch 271\/400\n",
      "\r 1\/31 [..............................] - ETA: 0s - loss: 0.4378 - accuracy: 0.8500\b\b\b\b\b\b\b\b\b\b\b\b\b\b\b\b\b\b\b\b\b\b\b\b\b\b\b\b\b\b\b\b\b\b\b\b\b\b\b\b\b\b\b\b\b\b\b\b\b\b\b\b\b\b\b\b\b\b\b\b\b\b\b\b\b\b\b\b\b\b\b\b\b\b\b\b\b\b\b\b\b\b\r31\/31 [==============================] - 0s 2ms\/step - loss: 0.4466 - accuracy: 0.7883 - val_loss: 0.4545 - val_accuracy: 0.7662\n",
      "Epoch 272\/400\n",
      "\r 1\/31 [..............................] - ETA: 0s - loss: 0.9370 - accuracy: 0.6000\b\b\b\b\b\b\b\b\b\b\b\b\b\b\b\b\b\b\b\b\b\b\b\b\b\b\b\b\b\b\b\b\b\b\b\b\b\b\b\b\b\b\b\b\b\b\b\b\b\b\b\b\b\b\b\b\b\b\b\b\b\b\b\b\b\b\b\b\b\b\b\b\b\b\b\b\b\b\b\b\b\b\r31\/31 [==============================] - 0s 2ms\/step - loss: 0.4491 - accuracy: 0.7866 - val_loss: 0.4551 - val_accuracy: 0.7792\n",
      "Epoch 273\/400\n",
      "\r 1\/31 [..............................] - ETA: 0s - loss: 0.5342 - accuracy: 0.8000\b\b\b\b\b\b\b\b\b\b\b\b\b\b\b\b\b\b\b\b\b\b\b\b\b\b\b\b\b\b\b\b\b\b\b\b\b\b\b\b\b\b\b\b\b\b\b\b\b\b\b\b\b\b\b\b\b\b\b\b\b\b\b\b\b\b\b\b\b\b\b\b\b\b\b\b\b\b\b\b\b\b\r31\/31 [==============================] - 0s 2ms\/step - loss: 0.4472 - accuracy: 0.7834 - val_loss: 0.4533 - val_accuracy: 0.7662\n",
      "Epoch 274\/400\n",
      "\r 1\/31 [..............................] - ETA: 0s - loss: 0.6086 - accuracy: 0.7000\b\b\b\b\b\b\b\b\b\b\b\b\b\b\b\b\b\b\b\b\b\b\b\b\b\b\b\b\b\b\b\b\b\b\b\b\b\b\b\b\b\b\b\b\b\b\b\b\b\b\b\b\b\b\b\b\b\b\b\b\b\b\b\b\b\b\b\b\b\b\b\b\b\b\b\b\b\b\b\b\b\b\r31\/31 [==============================] - 0s 3ms\/step - loss: 0.4585 - accuracy: 0.7736 - val_loss: 0.4549 - val_accuracy: 0.7792\n",
      "Epoch 275\/400\n",
      "\r 1\/31 [..............................] - ETA: 0s - loss: 0.3247 - accuracy: 0.9000\b\b\b\b\b\b\b\b\b\b\b\b\b\b\b\b\b\b\b\b\b\b\b\b\b\b\b\b\b\b\b\b\b\b\b\b\b\b\b\b\b\b\b\b\b\b\b\b\b\b\b\b\b\b\b\b\b\b\b\b\b\b\b\b\b\b\b\b\b\b\b\b\b\b\b\b\b\b\b\b\b\b\r31\/31 [==============================] - 0s 2ms\/step - loss: 0.4510 - accuracy: 0.7834 - val_loss: 0.4528 - val_accuracy: 0.7727\n",
      "Epoch 276\/400\n",
      "\r 1\/31 [..............................] - ETA: 0s - loss: 0.5320 - accuracy: 0.7500\b\b\b\b\b\b\b\b\b\b\b\b\b\b\b\b\b\b\b\b\b\b\b\b\b\b\b\b\b\b\b\b\b\b\b\b\b\b\b\b\b\b\b\b\b\b\b\b\b\b\b\b\b\b\b\b\b\b\b\b\b\b\b\b\b\b\b\b\b\b\b\b\b\b\b\b\b\b\b\b\b\b\r31\/31 [==============================] - 0s 2ms\/step - loss: 0.4489 - accuracy: 0.7980 - val_loss: 0.4545 - val_accuracy: 0.7727\n",
      "Epoch 277\/400\n",
      "\r 1\/31 [..............................] - ETA: 0s - loss: 0.4167 - accuracy: 0.8000\b\b\b\b\b\b\b\b\b\b\b\b\b\b\b\b\b\b\b\b\b\b\b\b\b\b\b\b\b\b\b\b\b\b\b\b\b\b\b\b\b\b\b\b\b\b\b\b\b\b\b\b\b\b\b\b\b\b\b\b\b\b\b\b\b\b\b\b\b\b\b\b\b\b\b\b\b\b\b\b\b\b\r31\/31 [==============================] - 0s 3ms\/step - loss: 0.4545 - accuracy: 0.7785 - val_loss: 0.4558 - val_accuracy: 0.7792\n",
      "Epoch 278\/400\n",
      "\r 1\/31 [..............................] - ETA: 0s - loss: 0.2478 - accuracy: 0.9000\b\b\b\b\b\b\b\b\b\b\b\b\b\b\b\b\b\b\b\b\b\b\b\b\b\b\b\b\b\b\b\b\b\b\b\b\b\b\b\b\b\b\b\b\b\b\b\b\b\b\b\b\b\b\b\b\b\b\b\b\b\b\b\b\b\b\b\b\b\b\b\b\b\b\b\b\b\b\b\b\b\b\r31\/31 [==============================] - 0s 3ms\/step - loss: 0.4478 - accuracy: 0.7752 - val_loss: 0.4540 - val_accuracy: 0.7727\n",
      "Epoch 279\/400\n",
      "\r 1\/31 [..............................] - ETA: 0s - loss: 0.6466 - accuracy: 0.7000\b\b\b\b\b\b\b\b\b\b\b\b\b\b\b\b\b\b\b\b\b\b\b\b\b\b\b\b\b\b\b\b\b\b\b\b\b\b\b\b\b\b\b\b\b\b\b\b\b\b\b\b\b\b\b\b\b\b\b\b\b\b\b\b\b\b\b\b\b\b\b\b\b\b\b\b\b\b\b\b\b\b\r31\/31 [==============================] - 0s 2ms\/step - loss: 0.4524 - accuracy: 0.7932 - val_loss: 0.4534 - val_accuracy: 0.7662\n",
      "Epoch 280\/400\n",
      "\r 1\/31 [..............................] - ETA: 0s - loss: 0.4152 - accuracy: 0.8000\b\b\b\b\b\b\b\b\b\b\b\b\b\b\b\b\b\b\b\b\b\b\b\b\b\b\b\b\b\b\b\b\b\b\b\b\b\b\b\b\b\b\b\b\b\b\b\b\b\b\b\b\b\b\b\b\b\b\b\b\b\b\b\b\b\b\b\b\b\b\b\b\b\b\b\b\b\b\b\b\b\b\r31\/31 [==============================] - 0s 2ms\/step - loss: 0.4549 - accuracy: 0.7720 - val_loss: 0.4550 - val_accuracy: 0.7792\n",
      "Epoch 281\/400\n",
      "\r 1\/31 [..............................] - ETA: 0s - loss: 0.4808 - accuracy: 0.8000\b\b\b\b\b\b\b\b\b\b\b\b\b\b\b\b\b\b\b\b\b\b\b\b\b\b\b\b\b\b\b\b\b\b\b\b\b\b\b\b\b\b\b\b\b\b\b\b\b\b\b\b\b\b\b\b\b\b\b\b\b\b\b\b\b\b\b\b\b\b\b\b\b\b\b\b\b\b\b\b\b\b\r31\/31 [==============================] - 0s 3ms\/step - loss: 0.4536 - accuracy: 0.7785 - val_loss: 0.4534 - val_accuracy: 0.7792\n",
      "Epoch 282\/400\n",
      "\r 1\/31 [..............................] - ETA: 0s - loss: 0.4285 - accuracy: 0.8500\b\b\b\b\b\b\b\b\b\b\b\b\b\b\b\b\b\b\b\b\b\b\b\b\b\b\b\b\b\b\b\b\b\b\b\b\b\b\b\b\b\b\b\b\b\b\b\b\b\b\b\b\b\b\b\b\b\b\b\b\b\b\b\b\b\b\b\b\b\b\b\b\b\b\b\b\b\b\b\b\b\b\r31\/31 [==============================] - 0s 3ms\/step - loss: 0.4530 - accuracy: 0.7948 - val_loss: 0.4548 - val_accuracy: 0.7792\n",
      "Epoch 283\/400\n",
      "\r 1\/31 [..............................] - ETA: 0s - loss: 0.3814 - accuracy: 0.8500\b\b\b\b\b\b\b\b\b\b\b\b\b\b\b\b\b\b\b\b\b\b\b\b\b\b\b\b\b\b\b\b\b\b\b\b\b\b\b\b\b\b\b\b\b\b\b\b\b\b\b\b\b\b\b\b\b\b\b\b\b\b\b\b\b\b\b\b\b\b\b\b\b\b\b\b\b\b\b\b\b\b\r31\/31 [==============================] - 0s 2ms\/step - loss: 0.4513 - accuracy: 0.7720 - val_loss: 0.4536 - val_accuracy: 0.7792\n",
      "Epoch 284\/400\n",
      "\r 1\/31 [..............................] - ETA: 0s - loss: 0.6105 - accuracy: 0.8000\b\b\b\b\b\b\b\b\b\b\b\b\b\b\b\b\b\b\b\b\b\b\b\b\b\b\b\b\b\b\b\b\b\b\b\b\b\b\b\b\b\b\b\b\b\b\b\b\b\b\b\b\b\b\b\b\b\b\b\b\b\b\b\b\b\b\b\b\b\b\b\b\b\b\b\b\b\b\b\b\b\b\r31\/31 [==============================] - 0s 2ms\/step - loss: 0.4594 - accuracy: 0.7834 - val_loss: 0.4543 - val_accuracy: 0.7857\n",
      "Epoch 285\/400\n",
      "\r 1\/31 [..............................] - ETA: 0s - loss: 0.2913 - accuracy: 0.9000\b\b\b\b\b\b\b\b\b\b\b\b\b\b\b\b\b\b\b\b\b\b\b\b\b\b\b\b\b\b\b\b\b\b\b\b\b\b\b\b\b\b\b\b\b\b\b\b\b\b\b\b\b\b\b\b\b\b\b\b\b\b\b\b\b\b\b\b\b\b\b\b\b\b\b\b\b\b\b\b\b\b\r31\/31 [==============================] - 0s 2ms\/step - loss: 0.4501 - accuracy: 0.7818 - val_loss: 0.4533 - val_accuracy: 0.7792\n",
      "Epoch 286\/400\n",
      "\r 1\/31 [..............................] - ETA: 0s - loss: 0.4865 - accuracy: 0.7000\b\b\b\b\b\b\b\b\b\b\b\b\b\b\b\b\b\b\b\b\b\b\b\b\b\b\b\b\b\b\b\b\b\b\b\b\b\b\b\b\b\b\b\b\b\b\b\b\b\b\b\b\b\b\b\b\b\b\b\b\b\b\b\b\b\b\b\b\b\b\b\b\b\b\b\b\b\b\b\b\b\b\r31\/31 [==============================] - 0s 2ms\/step - loss: 0.4532 - accuracy: 0.7720 - val_loss: 0.4535 - val_accuracy: 0.7662\n",
      "Epoch 287\/400\n",
      "\r 1\/31 [..............................] - ETA: 0s - loss: 0.4583 - accuracy: 0.7000\b\b\b\b\b\b\b\b\b\b\b\b\b\b\b\b\b\b\b\b\b\b\b\b\b\b\b\b\b\b\b\b\b\b\b\b\b\b\b\b\b\b\b\b\b\b\b\b\b\b\b\b\b\b\b\b\b\b\b\b\b\b\b\b\b\b\b\b\b\b\b\b\b\b\b\b\b\b\b\b\b\b\r31\/31 [==============================] - 0s 2ms\/step - loss: 0.4502 - accuracy: 0.7704 - val_loss: 0.4543 - val_accuracy: 0.7662\n",
      "Epoch 288\/400\n",
      "\r 1\/31 [..............................] - ETA: 0s - loss: 0.3814 - accuracy: 0.9000\b\b\b\b\b\b\b\b\b\b\b\b\b\b\b\b\b\b\b\b\b\b\b\b\b\b\b\b\b\b\b\b\b\b\b\b\b\b\b\b\b\b\b\b\b\b\b\b\b\b\b\b\b\b\b\b\b\b\b\b\b\b\b\b\b\b\b\b\b\b\b\b\b\b\b\b\b\b\b\b\b\b\r31\/31 [==============================] - 0s 2ms\/step - loss: 0.4581 - accuracy: 0.7752 - val_loss: 0.4563 - val_accuracy: 0.7857\n",
      "Epoch 289\/400\n",
      "\r 1\/31 [..............................] - ETA: 0s - loss: 0.3909 - accuracy: 0.8500\b\b\b\b\b\b\b\b\b\b\b\b\b\b\b\b\b\b\b\b\b\b\b\b\b\b\b\b\b\b\b\b\b\b\b\b\b\b\b\b\b\b\b\b\b\b\b\b\b\b\b\b\b\b\b\b\b\b\b\b\b\b\b\b\b\b\b\b\b\b\b\b\b\b\b\b\b\b\b\b\b\b\r31\/31 [==============================] - 0s 3ms\/step - loss: 0.4412 - accuracy: 0.7997 - val_loss: 0.4538 - val_accuracy: 0.7727\n",
      "Epoch 290\/400\n",
      "\r 1\/31 [..............................] - ETA: 0s - loss: 0.3248 - accuracy: 0.8500\b\b\b\b\b\b\b\b\b\b\b\b\b\b\b\b\b\b\b\b\b\b\b\b\b\b\b\b\b\b\b\b\b\b\b\b\b\b\b\b\b\b\b\b\b\b\b\b\b\b\b\b\b\b\b\b\b\b\b\b\b\b\b\b\b\b\b\b\b\b\b\b\b\b\b\b\b\b\b\b\b\b\r31\/31 [==============================] - 0s 2ms\/step - loss: 0.4486 - accuracy: 0.7752 - val_loss: 0.4549 - val_accuracy: 0.7857\n",
      "Epoch 291\/400\n",
      "\r 1\/31 [..............................] - ETA: 0s - loss: 0.4382 - accuracy: 0.9500\b\b\b\b\b\b\b\b\b\b\b\b\b\b\b\b\b\b\b\b\b\b\b\b\b\b\b\b\b\b\b\b\b\b\b\b\b\b\b\b\b\b\b\b\b\b\b\b\b\b\b\b\b\b\b\b\b\b\b\b\b\b\b\b\b\b\b\b\b\b\b\b\b\b\b\b\b\b\b\b\b\b\r31\/31 [==============================] - 0s 3ms\/step - loss: 0.4544 - accuracy: 0.7687 - val_loss: 0.4540 - val_accuracy: 0.7857\n",
      "Epoch 292\/400\n",
      "\r 1\/31 [..............................] - ETA: 0s - loss: 0.4908 - accuracy: 0.8500\b\b\b\b\b\b\b\b\b\b\b\b\b\b\b\b\b\b\b\b\b\b\b\b\b\b\b\b\b\b\b\b\b\b\b\b\b\b\b\b\b\b\b\b\b\b\b\b\b\b\b\b\b\b\b\b\b\b\b\b\b\b\b\b\b\b\b\b\b\b\b\b\b\b\b\b\b\b\b\b\b\b\r31\/31 [==============================] - 0s 2ms\/step - loss: 0.4545 - accuracy: 0.7834 - val_loss: 0.4556 - val_accuracy: 0.7857\n",
      "Epoch 293\/400\n",
      "\r 1\/31 [..............................] - ETA: 0s - loss: 0.3084 - accuracy: 0.8500\b\b\b\b\b\b\b\b\b\b\b\b\b\b\b\b\b\b\b\b\b\b\b\b\b\b\b\b\b\b\b\b\b\b\b\b\b\b\b\b\b\b\b\b\b\b\b\b\b\b\b\b\b\b\b\b\b\b\b\b\b\b\b\b\b\b\b\b\b\b\b\b\b\b\b\b\b\b\b\b\b\b\r31\/31 [==============================] - 0s 3ms\/step - loss: 0.4615 - accuracy: 0.7866 - val_loss: 0.4544 - val_accuracy: 0.7792\n",
      "Epoch 294\/400\n",
      "\r 1\/31 [..............................] - ETA: 0s - loss: 0.4630 - accuracy: 0.7500\b\b\b\b\b\b\b\b\b\b\b\b\b\b\b\b\b\b\b\b\b\b\b\b\b\b\b\b\b\b\b\b\b\b\b\b\b\b\b\b\b\b\b\b\b\b\b\b\b\b\b\b\b\b\b\b\b\b\b\b\b\b\b\b\b\b\b\b\b\b\b\b\b\b\b\b\b\b\b\b\b\b\r31\/31 [==============================] - 0s 2ms\/step - loss: 0.4561 - accuracy: 0.7866 - val_loss: 0.4542 - val_accuracy: 0.7662\n",
      "Epoch 295\/400\n",
      "\r 1\/31 [..............................] - ETA: 0s - loss: 0.3796 - accuracy: 0.8000\b\b\b\b\b\b\b\b\b\b\b\b\b\b\b\b\b\b\b\b\b\b\b\b\b\b\b\b\b\b\b\b\b\b\b\b\b\b\b\b\b\b\b\b\b\b\b\b\b\b\b\b\b\b\b\b\b\b\b\b\b\b\b\b\b\b\b\b\b\b\b\b\b\b\b\b\b\b\b\b\b\b\r31\/31 [==============================] - 0s 3ms\/step - loss: 0.4514 - accuracy: 0.7866 - val_loss: 0.4556 - val_accuracy: 0.7857\n",
      "Epoch 296\/400\n",
      "\r 1\/31 [..............................] - ETA: 0s - loss: 0.4297 - accuracy: 0.8000\b\b\b\b\b\b\b\b\b\b\b\b\b\b\b\b\b\b\b\b\b\b\b\b\b\b\b\b\b\b\b\b\b\b\b\b\b\b\b\b\b\b\b\b\b\b\b\b\b\b\b\b\b\b\b\b\b\b\b\b\b\b\b\b\b\b\b\b\b\b\b\b\b\b\b\b\b\b\b\b\b\b\r31\/31 [==============================] - 0s 2ms\/step - loss: 0.4617 - accuracy: 0.7801 - val_loss: 0.4545 - val_accuracy: 0.7857\n",
      "Epoch 297\/400\n",
      "\r 1\/31 [..............................] - ETA: 0s - loss: 0.5587 - accuracy: 0.6500\b\b\b\b\b\b\b\b\b\b\b\b\b\b\b\b\b\b\b\b\b\b\b\b\b\b\b\b\b\b\b\b\b\b\b\b\b\b\b\b\b\b\b\b\b\b\b\b\b\b\b\b\b\b\b\b\b\b\b\b\b\b\b\b\b\b\b\b\b\b\b\b\b\b\b\b\b\b\b\b\b\b\r31\/31 [==============================] - 0s 2ms\/step - loss: 0.4530 - accuracy: 0.7834 - val_loss: 0.4541 - val_accuracy: 0.7857\n",
      "Epoch 298\/400\n",
      "\r 1\/31 [..............................] - ETA: 0s - loss: 0.5013 - accuracy: 0.7500\b\b\b\b\b\b\b\b\b\b\b\b\b\b\b\b\b\b\b\b\b\b\b\b\b\b\b\b\b\b\b\b\b\b\b\b\b\b\b\b\b\b\b\b\b\b\b\b\b\b\b\b\b\b\b\b\b\b\b\b\b\b\b\b\b\b\b\b\b\b\b\b\b\b\b\b\b\b\b\b\b\b\r31\/31 [==============================] - 0s 3ms\/step - loss: 0.4542 - accuracy: 0.7818 - val_loss: 0.4534 - val_accuracy: 0.7727\n",
      "Epoch 299\/400\n",
      "\r 1\/31 [..............................] - ETA: 0s - loss: 0.4518 - accuracy: 0.8000\b\b\b\b\b\b\b\b\b\b\b\b\b\b\b\b\b\b\b\b\b\b\b\b\b\b\b\b\b\b\b\b\b\b\b\b\b\b\b\b\b\b\b\b\b\b\b\b\b\b\b\b\b\b\b\b\b\b\b\b\b\b\b\b\b\b\b\b\b\b\b\b\b\b\b\b\b\b\b\b\b\b\r31\/31 [==============================] - 0s 2ms\/step - loss: 0.4541 - accuracy: 0.7850 - val_loss: 0.4564 - val_accuracy: 0.7987\n",
      "Epoch 300\/400\n",
      "\r 1\/31 [..............................] - ETA: 0s - loss: 0.5388 - accuracy: 0.7500\b\b\b\b\b\b\b\b\b\b\b\b\b\b\b\b\b\b\b\b\b\b\b\b\b\b\b\b\b\b\b\b\b\b\b\b\b\b\b\b\b\b\b\b\b\b\b\b\b\b\b\b\b\b\b\b\b\b\b\b\b\b\b\b\b\b\b\b\b\b\b\b\b\b\b\b\b\b\b\b\b\b\r31\/31 [==============================] - 0s 3ms\/step - loss: 0.4485 - accuracy: 0.7899 - val_loss: 0.4536 - val_accuracy: 0.7727\n",
      "Epoch 301\/400\n",
      "\r 1\/31 [..............................] - ETA: 0s - loss: 0.4329 - accuracy: 0.8500\b\b\b\b\b\b\b\b\b\b\b\b\b\b\b\b\b\b\b\b\b\b\b\b\b\b\b\b\b\b\b\b\b\b\b\b\b\b\b\b\b\b\b\b\b\b\b\b\b\b\b\b\b\b\b\b\b\b\b\b\b\b\b\b\b\b\b\b\b\b\b\b\b\b\b\b\b\b\b\b\b\b\r31\/31 [==============================] - 0s 2ms\/step - loss: 0.4490 - accuracy: 0.7818 - val_loss: 0.4547 - val_accuracy: 0.7727\n",
      "Epoch 302\/400\n",
      "\r 1\/31 [..............................] - ETA: 0s - loss: 0.3699 - accuracy: 0.9000\b\b\b\b\b\b\b\b\b\b\b\b\b\b\b\b\b\b\b\b\b\b\b\b\b\b\b\b\b\b\b\b\b\b\b\b\b\b\b\b\b\b\b\b\b\b\b\b\b\b\b\b\b\b\b\b\b\b\b\b\b\b\b\b\b\b\b\b\b\b\b\b\b\b\b\b\b\b\b\b\b\b\r31\/31 [==============================] - 0s 2ms\/step - loss: 0.4512 - accuracy: 0.7834 - val_loss: 0.4550 - val_accuracy: 0.7857\n",
      "Epoch 303\/400\n",
      "\r 1\/31 [..............................] - ETA: 0s - loss: 0.3182 - accuracy: 0.8500\b\b\b\b\b\b\b\b\b\b\b\b\b\b\b\b\b\b\b\b\b\b\b\b\b\b\b\b\b\b\b\b\b\b\b\b\b\b\b\b\b\b\b\b\b\b\b\b\b\b\b\b\b\b\b\b\b\b\b\b\b\b\b\b\b\b\b\b\b\b\b\b\b\b\b\b\b\b\b\b\b\b\r31\/31 [==============================] - 0s 3ms\/step - loss: 0.4517 - accuracy: 0.7866 - val_loss: 0.4573 - val_accuracy: 0.7792\n",
      "Epoch 304\/400\n",
      "\r 1\/31 [..............................] - ETA: 0s - loss: 0.8159 - accuracy: 0.4500\b\b\b\b\b\b\b\b\b\b\b\b\b\b\b\b\b\b\b\b\b\b\b\b\b\b\b\b\b\b\b\b\b\b\b\b\b\b\b\b\b\b\b\b\b\b\b\b\b\b\b\b\b\b\b\b\b\b\b\b\b\b\b\b\b\b\b\b\b\b\b\b\b\b\b\b\b\b\b\b\b\b\r31\/31 [==============================] - 0s 3ms\/step - loss: 0.4422 - accuracy: 0.7769 - val_loss: 0.4539 - val_accuracy: 0.7857\n",
      "Epoch 305\/400\n",
      "\r 1\/31 [..............................] - ETA: 0s - loss: 0.4265 - accuracy: 0.7500\b\b\b\b\b\b\b\b\b\b\b\b\b\b\b\b\b\b\b\b\b\b\b\b\b\b\b\b\b\b\b\b\b\b\b\b\b\b\b\b\b\b\b\b\b\b\b\b\b\b\b\b\b\b\b\b\b\b\b\b\b\b\b\b\b\b\b\b\b\b\b\b\b\b\b\b\b\b\b\b\b\b\r31\/31 [==============================] - 0s 2ms\/step - loss: 0.4548 - accuracy: 0.7801 - val_loss: 0.4546 - val_accuracy: 0.7727\n",
      "Epoch 306\/400\n",
      "\r 1\/31 [..............................] - ETA: 0s - loss: 0.4311 - accuracy: 0.8000\b\b\b\b\b\b\b\b\b\b\b\b\b\b\b\b\b\b\b\b\b\b\b\b\b\b\b\b\b\b\b\b\b\b\b\b\b\b\b\b\b\b\b\b\b\b\b\b\b\b\b\b\b\b\b\b\b\b\b\b\b\b\b\b\b\b\b\b\b\b\b\b\b\b\b\b\b\b\b\b\b\b\r31\/31 [==============================] - 0s 3ms\/step - loss: 0.4524 - accuracy: 0.7899 - val_loss: 0.4544 - val_accuracy: 0.7662\n",
      "Epoch 307\/400\n",
      "\r 1\/31 [..............................] - ETA: 0s - loss: 0.2874 - accuracy: 0.9500\b\b\b\b\b\b\b\b\b\b\b\b\b\b\b\b\b\b\b\b\b\b\b\b\b\b\b\b\b\b\b\b\b\b\b\b\b\b\b\b\b\b\b\b\b\b\b\b\b\b\b\b\b\b\b\b\b\b\b\b\b\b\b\b\b\b\b\b\b\b\b\b\b\b\b\b\b\b\b\b\b\b\r31\/31 [==============================] - 0s 3ms\/step - loss: 0.4469 - accuracy: 0.7964 - val_loss: 0.4539 - val_accuracy: 0.7857\n",
      "Epoch 308\/400\n",
      "\r 1\/31 [..............................] - ETA: 0s - loss: 0.4951 - accuracy: 0.7000\b\b\b\b\b\b\b\b\b\b\b\b\b\b\b\b\b\b\b\b\b\b\b\b\b\b\b\b\b\b\b\b\b\b\b\b\b\b\b\b\b\b\b\b\b\b\b\b\b\b\b\b\b\b\b\b\b\b\b\b\b\b\b\b\b\b\b\b\b\b\b\b\b\b\b\b\b\b\b\b\b\b\r31\/31 [==============================] - 0s 2ms\/step - loss: 0.4503 - accuracy: 0.7850 - val_loss: 0.4572 - val_accuracy: 0.7987\n",
      "Epoch 309\/400\n",
      "\r 1\/31 [..............................] - ETA: 0s - loss: 0.5002 - accuracy: 0.8000\b\b\b\b\b\b\b\b\b\b\b\b\b\b\b\b\b\b\b\b\b\b\b\b\b\b\b\b\b\b\b\b\b\b\b\b\b\b\b\b\b\b\b\b\b\b\b\b\b\b\b\b\b\b\b\b\b\b\b\b\b\b\b\b\b\b\b\b\b\b\b\b\b\b\b\b\b\b\b\b\b\b\r31\/31 [==============================] - 0s 3ms\/step - loss: 0.4466 - accuracy: 0.7915 - val_loss: 0.4532 - val_accuracy: 0.7597\n",
      "Epoch 310\/400\n",
      "\r 1\/31 [..............................] - ETA: 0s - loss: 0.7541 - accuracy: 0.6500\b\b\b\b\b\b\b\b\b\b\b\b\b\b\b\b\b\b\b\b\b\b\b\b\b\b\b\b\b\b\b\b\b\b\b\b\b\b\b\b\b\b\b\b\b\b\b\b\b\b\b\b\b\b\b\b\b\b\b\b\b\b\b\b\b\b\b\b\b\b\b\b\b\b\b\b\b\b\b\b\b\b\r31\/31 [==============================] - 0s 2ms\/step - loss: 0.4442 - accuracy: 0.7883 - val_loss: 0.4561 - val_accuracy: 0.7857\n",
      "Epoch 311\/400\n",
      "\r 1\/31 [..............................] - ETA: 0s - loss: 0.4359 - accuracy: 0.6500\b\b\b\b\b\b\b\b\b\b\b\b\b\b\b\b\b\b\b\b\b\b\b\b\b\b\b\b\b\b\b\b\b\b\b\b\b\b\b\b\b\b\b\b\b\b\b\b\b\b\b\b\b\b\b\b\b\b\b\b\b\b\b\b\b\b\b\b\b\b\b\b\b\b\b\b\b\b\b\b\b\b\r31\/31 [==============================] - 0s 3ms\/step - loss: 0.4527 - accuracy: 0.7899 - val_loss: 0.4531 - val_accuracy: 0.7792\n",
      "Epoch 312\/400\n",
      "\r 1\/31 [..............................] - ETA: 0s - loss: 0.5726 - accuracy: 0.7500\b\b\b\b\b\b\b\b\b\b\b\b\b\b\b\b\b\b\b\b\b\b\b\b\b\b\b\b\b\b\b\b\b\b\b\b\b\b\b\b\b\b\b\b\b\b\b\b\b\b\b\b\b\b\b\b\b\b\b\b\b\b\b\b\b\b\b\b\b\b\b\b\b\b\b\b\b\b\b\b\b\b\r31\/31 [==============================] - 0s 3ms\/step - loss: 0.4412 - accuracy: 0.7932 - val_loss: 0.4539 - val_accuracy: 0.7922\n",
      "Epoch 313\/400\n",
      "\r 1\/31 [..............................] - ETA: 0s - loss: 0.3436 - accuracy: 0.9000\b\b\b\b\b\b\b\b\b\b\b\b\b\b\b\b\b\b\b\b\b\b\b\b\b\b\b\b\b\b\b\b\b\b\b\b\b\b\b\b\b\b\b\b\b\b\b\b\b\b\b\b\b\b\b\b\b\b\b\b\b\b\b\b\b\b\b\b\b\b\b\b\b\b\b\b\b\b\b\b\b\b\r31\/31 [==============================] - 0s 3ms\/step - loss: 0.4518 - accuracy: 0.7850 - val_loss: 0.4527 - val_accuracy: 0.7727\n",
      "Epoch 314\/400\n",
      "\r 1\/31 [..............................] - ETA: 0s - loss: 0.5762 - accuracy: 0.8500\b\b\b\b\b\b\b\b\b\b\b\b\b\b\b\b\b\b\b\b\b\b\b\b\b\b\b\b\b\b\b\b\b\b\b\b\b\b\b\b\b\b\b\b\b\b\b\b\b\b\b\b\b\b\b\b\b\b\b\b\b\b\b\b\b\b\b\b\b\b\b\b\b\b\b\b\b\b\b\b\b\b\r31\/31 [==============================] - 0s 3ms\/step - loss: 0.4505 - accuracy: 0.7850 - val_loss: 0.4575 - val_accuracy: 0.8052\n",
      "Epoch 315\/400\n",
      "\r 1\/31 [..............................] - ETA: 0s - loss: 0.4623 - accuracy: 0.7500\b\b\b\b\b\b\b\b\b\b\b\b\b\b\b\b\b\b\b\b\b\b\b\b\b\b\b\b\b\b\b\b\b\b\b\b\b\b\b\b\b\b\b\b\b\b\b\b\b\b\b\b\b\b\b\b\b\b\b\b\b\b\b\b\b\b\b\b\b\b\b\b\b\b\b\b\b\b\b\b\b\b\r31\/31 [==============================] - 0s 3ms\/step - loss: 0.4607 - accuracy: 0.7818 - val_loss: 0.4552 - val_accuracy: 0.7857\n",
      "Epoch 316\/400\n",
      "\r 1\/31 [..............................] - ETA: 0s - loss: 0.5240 - accuracy: 0.8000\b\b\b\b\b\b\b\b\b\b\b\b\b\b\b\b\b\b\b\b\b\b\b\b\b\b\b\b\b\b\b\b\b\b\b\b\b\b\b\b\b\b\b\b\b\b\b\b\b\b\b\b\b\b\b\b\b\b\b\b\b\b\b\b\b\b\b\b\b\b\b\b\b\b\b\b\b\b\b\b\b\b\r31\/31 [==============================] - 0s 2ms\/step - loss: 0.4535 - accuracy: 0.7915 - val_loss: 0.4546 - val_accuracy: 0.7662\n",
      "Epoch 317\/400\n",
      "\r 1\/31 [..............................] - ETA: 0s - loss: 0.7219 - accuracy: 0.7000\b\b\b\b\b\b\b\b\b\b\b\b\b\b\b\b\b\b\b\b\b\b\b\b\b\b\b\b\b\b\b\b\b\b\b\b\b\b\b\b\b\b\b\b\b\b\b\b\b\b\b\b\b\b\b\b\b\b\b\b\b\b\b\b\b\b\b\b\b\b\b\b\b\b\b\b\b\b\b\b\b\b\r31\/31 [==============================] - 0s 2ms\/step - loss: 0.4494 - accuracy: 0.7866 - val_loss: 0.4535 - val_accuracy: 0.7727\n",
      "Epoch 318\/400\n",
      "\r 1\/31 [..............................] - ETA: 0s - loss: 0.5202 - accuracy: 0.6500\b\b\b\b\b\b\b\b\b\b\b\b\b\b\b\b\b\b\b\b\b\b\b\b\b\b\b\b\b\b\b\b\b\b\b\b\b\b\b\b\b\b\b\b\b\b\b\b\b\b\b\b\b\b\b\b\b\b\b\b\b\b\b\b\b\b\b\b\b\b\b\b\b\b\b\b\b\b\b\b\b\b\r31\/31 [==============================] - 0s 2ms\/step - loss: 0.4431 - accuracy: 0.7883 - val_loss: 0.4546 - val_accuracy: 0.7792\n",
      "Epoch 319\/400\n",
      "\r 1\/31 [..............................] - ETA: 0s - loss: 0.3325 - accuracy: 0.9500\b\b\b\b\b\b\b\b\b\b\b\b\b\b\b\b\b\b\b\b\b\b\b\b\b\b\b\b\b\b\b\b\b\b\b\b\b\b\b\b\b\b\b\b\b\b\b\b\b\b\b\b\b\b\b\b\b\b\b\b\b\b\b\b\b\b\b\b\b\b\b\b\b\b\b\b\b\b\b\b\b\b\r31\/31 [==============================] - 0s 2ms\/step - loss: 0.4410 - accuracy: 0.7883 - val_loss: 0.4541 - val_accuracy: 0.7857\n",
      "Epoch 320\/400\n",
      "\r 1\/31 [..............................] - ETA: 0s - loss: 0.4353 - accuracy: 0.7500\b\b\b\b\b\b\b\b\b\b\b\b\b\b\b\b\b\b\b\b\b\b\b\b\b\b\b\b\b\b\b\b\b\b\b\b\b\b\b\b\b\b\b\b\b\b\b\b\b\b\b\b\b\b\b\b\b\b\b\b\b\b\b\b\b\b\b\b\b\b\b\b\b\b\b\b\b\b\b\b\b\b\r31\/31 [==============================] - 0s 2ms\/step - loss: 0.4481 - accuracy: 0.7948 - val_loss: 0.4532 - val_accuracy: 0.7727\n",
      "Epoch 321\/400\n",
      "\r 1\/31 [..............................] - ETA: 0s - loss: 0.4238 - accuracy: 0.7500\b\b\b\b\b\b\b\b\b\b\b\b\b\b\b\b\b\b\b\b\b\b\b\b\b\b\b\b\b\b\b\b\b\b\b\b\b\b\b\b\b\b\b\b\b\b\b\b\b\b\b\b\b\b\b\b\b\b\b\b\b\b\b\b\b\b\b\b\b\b\b\b\b\b\b\b\b\b\b\b\b\b\r31\/31 [==============================] - 0s 2ms\/step - loss: 0.4519 - accuracy: 0.7785 - val_loss: 0.4534 - val_accuracy: 0.7922\n",
      "Epoch 322\/400\n",
      "\r 1\/31 [..............................] - ETA: 0s - loss: 0.2994 - accuracy: 0.9000\b\b\b\b\b\b\b\b\b\b\b\b\b\b\b\b\b\b\b\b\b\b\b\b\b\b\b\b\b\b\b\b\b\b\b\b\b\b\b\b\b\b\b\b\b\b\b\b\b\b\b\b\b\b\b\b\b\b\b\b\b\b\b\b\b\b\b\b\b\b\b\b\b\b\b\b\b\b\b\b\b\b\r31\/31 [==============================] - 0s 2ms\/step - loss: 0.4416 - accuracy: 0.7948 - val_loss: 0.4529 - val_accuracy: 0.7662\n",
      "Epoch 323\/400\n",
      "\r 1\/31 [..............................] - ETA: 0s - loss: 0.3934 - accuracy: 0.9000\b\b\b\b\b\b\b\b\b\b\b\b\b\b\b\b\b\b\b\b\b\b\b\b\b\b\b\b\b\b\b\b\b\b\b\b\b\b\b\b\b\b\b\b\b\b\b\b\b\b\b\b\b\b\b\b\b\b\b\b\b\b\b\b\b\b\b\b\b\b\b\b\b\b\b\b\b\b\b\b\b\b\r31\/31 [==============================] - 0s 2ms\/step - loss: 0.4492 - accuracy: 0.7915 - val_loss: 0.4533 - val_accuracy: 0.7922\n",
      "Epoch 324\/400\n",
      "\r 1\/31 [..............................] - ETA: 0s - loss: 0.6108 - accuracy: 0.6500\b\b\b\b\b\b\b\b\b\b\b\b\b\b\b\b\b\b\b\b\b\b\b\b\b\b\b\b\b\b\b\b\b\b\b\b\b\b\b\b\b\b\b\b\b\b\b\b\b\b\b\b\b\b\b\b\b\b\b\b\b\b\b\b\b\b\b\b\b\b\b\b\b\b\b\b\b\b\b\b\b\b\r31\/31 [==============================] - 0s 2ms\/step - loss: 0.4562 - accuracy: 0.7801 - val_loss: 0.4521 - val_accuracy: 0.7662\n",
      "Epoch 325\/400\n",
      "\r 1\/31 [..............................] - ETA: 0s - loss: 0.3672 - accuracy: 0.9000\b\b\b\b\b\b\b\b\b\b\b\b\b\b\b\b\b\b\b\b\b\b\b\b\b\b\b\b\b\b\b\b\b\b\b\b\b\b\b\b\b\b\b\b\b\b\b\b\b\b\b\b\b\b\b\b\b\b\b\b\b\b\b\b\b\b\b\b\b\b\b\b\b\b\b\b\b\b\b\b\b\b\r31\/31 [==============================] - 0s 2ms\/step - loss: 0.4430 - accuracy: 0.7899 - val_loss: 0.4543 - val_accuracy: 0.7857\n",
      "Epoch 326\/400\n",
      "\r 1\/31 [..............................] - ETA: 0s - loss: 0.6912 - accuracy: 0.5000\b\b\b\b\b\b\b\b\b\b\b\b\b\b\b\b\b\b\b\b\b\b\b\b\b\b\b\b\b\b\b\b\b\b\b\b\b\b\b\b\b\b\b\b\b\b\b\b\b\b\b\b\b\b\b\b\b\b\b\b\b\b\b\b\b\b\b\b\b\b\b\b\b\b\b\b\b\b\b\b\b\b\r31\/31 [==============================] - 0s 2ms\/step - loss: 0.4461 - accuracy: 0.7785 - val_loss: 0.4526 - val_accuracy: 0.7792\n",
      "Epoch 327\/400\n",
      "\r 1\/31 [..............................] - ETA: 0s - loss: 0.4760 - accuracy: 0.8000\b\b\b\b\b\b\b\b\b\b\b\b\b\b\b\b\b\b\b\b\b\b\b\b\b\b\b\b\b\b\b\b\b\b\b\b\b\b\b\b\b\b\b\b\b\b\b\b\b\b\b\b\b\b\b\b\b\b\b\b\b\b\b\b\b\b\b\b\b\b\b\b\b\b\b\b\b\b\b\b\b\b\r31\/31 [==============================] - 0s 2ms\/step - loss: 0.4489 - accuracy: 0.7834 - val_loss: 0.4548 - val_accuracy: 0.7922\n",
      "Epoch 328\/400\n",
      "\r 1\/31 [..............................] - ETA: 0s - loss: 0.2955 - accuracy: 0.9500\b\b\b\b\b\b\b\b\b\b\b\b\b\b\b\b\b\b\b\b\b\b\b\b\b\b\b\b\b\b\b\b\b\b\b\b\b\b\b\b\b\b\b\b\b\b\b\b\b\b\b\b\b\b\b\b\b\b\b\b\b\b\b\b\b\b\b\b\b\b\b\b\b\b\b\b\b\b\b\b\b\b\r31\/31 [==============================] - 0s 2ms\/step - loss: 0.4469 - accuracy: 0.7899 - val_loss: 0.4513 - val_accuracy: 0.7727\n",
      "Epoch 329\/400\n",
      "\r 1\/31 [..............................] - ETA: 0s - loss: 0.4956 - accuracy: 0.7500\b\b\b\b\b\b\b\b\b\b\b\b\b\b\b\b\b\b\b\b\b\b\b\b\b\b\b\b\b\b\b\b\b\b\b\b\b\b\b\b\b\b\b\b\b\b\b\b\b\b\b\b\b\b\b\b\b\b\b\b\b\b\b\b\b\b\b\b\b\b\b\b\b\b\b\b\b\b\b\b\b\b\r31\/31 [==============================] - 0s 3ms\/step - loss: 0.4481 - accuracy: 0.7850 - val_loss: 0.4545 - val_accuracy: 0.7922\n",
      "Epoch 330\/400\n",
      "\r 1\/31 [..............................] - ETA: 0s - loss: 0.3944 - accuracy: 0.8000\b\b\b\b\b\b\b\b\b\b\b\b\b\b\b\b\b\b\b\b\b\b\b\b\b\b\b\b\b\b\b\b\b\b\b\b\b\b\b\b\b\b\b\b\b\b\b\b\b\b\b\b\b\b\b\b\b\b\b\b\b\b\b\b\b\b\b\b\b\b\b\b\b\b\b\b\b\b\b\b\b\b\r31\/31 [==============================] - 0s 2ms\/step - loss: 0.4533 - accuracy: 0.7801 - val_loss: 0.4530 - val_accuracy: 0.7662\n",
      "Epoch 331\/400\n",
      "\r 1\/31 [..............................] - ETA: 0s - loss: 0.4264 - accuracy: 0.8000\b\b\b\b\b\b\b\b\b\b\b\b\b\b\b\b\b\b\b\b\b\b\b\b\b\b\b\b\b\b\b\b\b\b\b\b\b\b\b\b\b\b\b\b\b\b\b\b\b\b\b\b\b\b\b\b\b\b\b\b\b\b\b\b\b\b\b\b\b\b\b\b\b\b\b\b\b\b\b\b\b\b\r31\/31 [==============================] - 0s 3ms\/step - loss: 0.4403 - accuracy: 0.7932 - val_loss: 0.4534 - val_accuracy: 0.7857\n",
      "Epoch 332\/400\n",
      "\r 1\/31 [..............................] - ETA: 0s - loss: 0.5135 - accuracy: 0.7500\b\b\b\b\b\b\b\b\b\b\b\b\b\b\b\b\b\b\b\b\b\b\b\b\b\b\b\b\b\b\b\b\b\b\b\b\b\b\b\b\b\b\b\b\b\b\b\b\b\b\b\b\b\b\b\b\b\b\b\b\b\b\b\b\b\b\b\b\b\b\b\b\b\b\b\b\b\b\b\b\b\b\r31\/31 [==============================] - 0s 2ms\/step - loss: 0.4492 - accuracy: 0.7769 - val_loss: 0.4530 - val_accuracy: 0.7857\n",
      "Epoch 333\/400\n",
      "\r 1\/31 [..............................] - ETA: 0s - loss: 0.5045 - accuracy: 0.7000\b\b\b\b\b\b\b\b\b\b\b\b\b\b\b\b\b\b\b\b\b\b\b\b\b\b\b\b\b\b\b\b\b\b\b\b\b\b\b\b\b\b\b\b\b\b\b\b\b\b\b\b\b\b\b\b\b\b\b\b\b\b\b\b\b\b\b\b\b\b\b\b\b\b\b\b\b\b\b\b\b\b\r31\/31 [==============================] - 0s 2ms\/step - loss: 0.4499 - accuracy: 0.7850 - val_loss: 0.4525 - val_accuracy: 0.7857\n",
      "Epoch 334\/400\n",
      "\r 1\/31 [..............................] - ETA: 0s - loss: 0.5531 - accuracy: 0.8000\b\b\b\b\b\b\b\b\b\b\b\b\b\b\b\b\b\b\b\b\b\b\b\b\b\b\b\b\b\b\b\b\b\b\b\b\b\b\b\b\b\b\b\b\b\b\b\b\b\b\b\b\b\b\b\b\b\b\b\b\b\b\b\b\b\b\b\b\b\b\b\b\b\b\b\b\b\b\b\b\b\b\r31\/31 [==============================] - 0s 3ms\/step - loss: 0.4451 - accuracy: 0.7818 - val_loss: 0.4531 - val_accuracy: 0.7922\n",
      "Epoch 335\/400\n",
      "\r 1\/31 [..............................] - ETA: 0s - loss: 0.3395 - accuracy: 0.8500\b\b\b\b\b\b\b\b\b\b\b\b\b\b\b\b\b\b\b\b\b\b\b\b\b\b\b\b\b\b\b\b\b\b\b\b\b\b\b\b\b\b\b\b\b\b\b\b\b\b\b\b\b\b\b\b\b\b\b\b\b\b\b\b\b\b\b\b\b\b\b\b\b\b\b\b\b\b\b\b\b\b\r31\/31 [==============================] - 0s 2ms\/step - loss: 0.4518 - accuracy: 0.7785 - val_loss: 0.4521 - val_accuracy: 0.7857\n",
      "Epoch 336\/400\n",
      "\r 1\/31 [..............................] - ETA: 0s - loss: 0.6681 - accuracy: 0.6500\b\b\b\b\b\b\b\b\b\b\b\b\b\b\b\b\b\b\b\b\b\b\b\b\b\b\b\b\b\b\b\b\b\b\b\b\b\b\b\b\b\b\b\b\b\b\b\b\b\b\b\b\b\b\b\b\b\b\b\b\b\b\b\b\b\b\b\b\b\b\b\b\b\b\b\b\b\b\b\b\b\b\r31\/31 [==============================] - 0s 3ms\/step - loss: 0.4480 - accuracy: 0.7866 - val_loss: 0.4516 - val_accuracy: 0.7857\n",
      "Epoch 337\/400\n",
      "\r 1\/31 [..............................] - ETA: 0s - loss: 0.3966 - accuracy: 0.8500\b\b\b\b\b\b\b\b\b\b\b\b\b\b\b\b\b\b\b\b\b\b\b\b\b\b\b\b\b\b\b\b\b\b\b\b\b\b\b\b\b\b\b\b\b\b\b\b\b\b\b\b\b\b\b\b\b\b\b\b\b\b\b\b\b\b\b\b\b\b\b\b\b\b\b\b\b\b\b\b\b\b\r31\/31 [==============================] - 0s 2ms\/step - loss: 0.4516 - accuracy: 0.7818 - val_loss: 0.4546 - val_accuracy: 0.7987\n",
      "Epoch 338\/400\n",
      "\r 1\/31 [..............................] - ETA: 0s - loss: 0.4277 - accuracy: 0.7500\b\b\b\b\b\b\b\b\b\b\b\b\b\b\b\b\b\b\b\b\b\b\b\b\b\b\b\b\b\b\b\b\b\b\b\b\b\b\b\b\b\b\b\b\b\b\b\b\b\b\b\b\b\b\b\b\b\b\b\b\b\b\b\b\b\b\b\b\b\b\b\b\b\b\b\b\b\b\b\b\b\b\r31\/31 [==============================] - 0s 2ms\/step - loss: 0.4553 - accuracy: 0.7720 - val_loss: 0.4526 - val_accuracy: 0.7662\n",
      "Epoch 339\/400\n",
      "\r 1\/31 [..............................] - ETA: 0s - loss: 0.4439 - accuracy: 0.8000\b\b\b\b\b\b\b\b\b\b\b\b\b\b\b\b\b\b\b\b\b\b\b\b\b\b\b\b\b\b\b\b\b\b\b\b\b\b\b\b\b\b\b\b\b\b\b\b\b\b\b\b\b\b\b\b\b\b\b\b\b\b\b\b\b\b\b\b\b\b\b\b\b\b\b\b\b\b\b\b\b\b\r31\/31 [==============================] - 0s 2ms\/step - loss: 0.4578 - accuracy: 0.7785 - val_loss: 0.4607 - val_accuracy: 0.7987\n",
      "Epoch 340\/400\n",
      "\r 1\/31 [..............................] - ETA: 0s - loss: 0.4200 - accuracy: 0.6500\b\b\b\b\b\b\b\b\b\b\b\b\b\b\b\b\b\b\b\b\b\b\b\b\b\b\b\b\b\b\b\b\b\b\b\b\b\b\b\b\b\b\b\b\b\b\b\b\b\b\b\b\b\b\b\b\b\b\b\b\b\b\b\b\b\b\b\b\b\b\b\b\b\b\b\b\b\b\b\b\b\b\r31\/31 [==============================] - 0s 2ms\/step - loss: 0.4446 - accuracy: 0.7785 - val_loss: 0.4526 - val_accuracy: 0.7727\n",
      "Epoch 341\/400\n",
      "\r 1\/31 [..............................] - ETA: 0s - loss: 0.4225 - accuracy: 0.8000\b\b\b\b\b\b\b\b\b\b\b\b\b\b\b\b\b\b\b\b\b\b\b\b\b\b\b\b\b\b\b\b\b\b\b\b\b\b\b\b\b\b\b\b\b\b\b\b\b\b\b\b\b\b\b\b\b\b\b\b\b\b\b\b\b\b\b\b\b\b\b\b\b\b\b\b\b\b\b\b\b\b\r31\/31 [==============================] - 0s 2ms\/step - loss: 0.4527 - accuracy: 0.7818 - val_loss: 0.4523 - val_accuracy: 0.7857\n",
      "Epoch 342\/400\n",
      "\r 1\/31 [..............................] - ETA: 0s - loss: 0.4813 - accuracy: 0.8000\b\b\b\b\b\b\b\b\b\b\b\b\b\b\b\b\b\b\b\b\b\b\b\b\b\b\b\b\b\b\b\b\b\b\b\b\b\b\b\b\b\b\b\b\b\b\b\b\b\b\b\b\b\b\b\b\b\b\b\b\b\b\b\b\b\b\b\b\b\b\b\b\b\b\b\b\b\b\b\b\b\b\r31\/31 [==============================] - 0s 3ms\/step - loss: 0.4448 - accuracy: 0.7866 - val_loss: 0.4560 - val_accuracy: 0.7987\n",
      "Epoch 343\/400\n",
      "\r 1\/31 [..............................] - ETA: 0s - loss: 0.3534 - accuracy: 0.8000\b\b\b\b\b\b\b\b\b\b\b\b\b\b\b\b\b\b\b\b\b\b\b\b\b\b\b\b\b\b\b\b\b\b\b\b\b\b\b\b\b\b\b\b\b\b\b\b\b\b\b\b\b\b\b\b\b\b\b\b\b\b\b\b\b\b\b\b\b\b\b\b\b\b\b\b\b\b\b\b\b\b\r31\/31 [==============================] - 0s 2ms\/step - loss: 0.4496 - accuracy: 0.7866 - val_loss: 0.4566 - val_accuracy: 0.7987\n",
      "Epoch 344\/400\n",
      "\r 1\/31 [..............................] - ETA: 0s - loss: 0.3839 - accuracy: 0.8500\b\b\b\b\b\b\b\b\b\b\b\b\b\b\b\b\b\b\b\b\b\b\b\b\b\b\b\b\b\b\b\b\b\b\b\b\b\b\b\b\b\b\b\b\b\b\b\b\b\b\b\b\b\b\b\b\b\b\b\b\b\b\b\b\b\b\b\b\b\b\b\b\b\b\b\b\b\b\b\b\b\b\r31\/31 [==============================] - 0s 2ms\/step - loss: 0.4505 - accuracy: 0.7866 - val_loss: 0.4534 - val_accuracy: 0.7922\n",
      "Epoch 345\/400\n",
      "\r 1\/31 [..............................] - ETA: 0s - loss: 0.2658 - accuracy: 0.9500\b\b\b\b\b\b\b\b\b\b\b\b\b\b\b\b\b\b\b\b\b\b\b\b\b\b\b\b\b\b\b\b\b\b\b\b\b\b\b\b\b\b\b\b\b\b\b\b\b\b\b\b\b\b\b\b\b\b\b\b\b\b\b\b\b\b\b\b\b\b\b\b\b\b\b\b\b\b\b\b\b\b\r31\/31 [==============================] - 0s 3ms\/step - loss: 0.4461 - accuracy: 0.7785 - val_loss: 0.4514 - val_accuracy: 0.7857\n",
      "Epoch 346\/400\n",
      "\r 1\/31 [..............................] - ETA: 0s - loss: 0.4683 - accuracy: 0.8000\b\b\b\b\b\b\b\b\b\b\b\b\b\b\b\b\b\b\b\b\b\b\b\b\b\b\b\b\b\b\b\b\b\b\b\b\b\b\b\b\b\b\b\b\b\b\b\b\b\b\b\b\b\b\b\b\b\b\b\b\b\b\b\b\b\b\b\b\b\b\b\b\b\b\b\b\b\b\b\b\b\b\r31\/31 [==============================] - 0s 3ms\/step - loss: 0.4511 - accuracy: 0.7769 - val_loss: 0.4528 - val_accuracy: 0.7922\n",
      "Epoch 347\/400\n",
      "\r 1\/31 [..............................] - ETA: 0s - loss: 0.2072 - accuracy: 0.9000\b\b\b\b\b\b\b\b\b\b\b\b\b\b\b\b\b\b\b\b\b\b\b\b\b\b\b\b\b\b\b\b\b\b\b\b\b\b\b\b\b\b\b\b\b\b\b\b\b\b\b\b\b\b\b\b\b\b\b\b\b\b\b\b\b\b\b\b\b\b\b\b\b\b\b\b\b\b\b\b\b\b\r31\/31 [==============================] - 0s 3ms\/step - loss: 0.4457 - accuracy: 0.7866 - val_loss: 0.4526 - val_accuracy: 0.7792\n",
      "Epoch 348\/400\n",
      "\r 1\/31 [..............................] - ETA: 0s - loss: 0.4269 - accuracy: 0.7500\b\b\b\b\b\b\b\b\b\b\b\b\b\b\b\b\b\b\b\b\b\b\b\b\b\b\b\b\b\b\b\b\b\b\b\b\b\b\b\b\b\b\b\b\b\b\b\b\b\b\b\b\b\b\b\b\b\b\b\b\b\b\b\b\b\b\b\b\b\b\b\b\b\b\b\b\b\b\b\b\b\b\r31\/31 [==============================] - 0s 2ms\/step - loss: 0.4445 - accuracy: 0.7785 - val_loss: 0.4531 - val_accuracy: 0.7987\n",
      "Epoch 349\/400\n",
      "\r 1\/31 [..............................] - ETA: 0s - loss: 0.4596 - accuracy: 0.7000\b\b\b\b\b\b\b\b\b\b\b\b\b\b\b\b\b\b\b\b\b\b\b\b\b\b\b\b\b\b\b\b\b\b\b\b\b\b\b\b\b\b\b\b\b\b\b\b\b\b\b\b\b\b\b\b\b\b\b\b\b\b\b\b\b\b\b\b\b\b\b\b\b\b\b\b\b\b\b\b\b\b\r31\/31 [==============================] - 0s 3ms\/step - loss: 0.4539 - accuracy: 0.7964 - val_loss: 0.4527 - val_accuracy: 0.7987\n",
      "Epoch 350\/400\n",
      "\r 1\/31 [..............................] - ETA: 0s - loss: 0.4116 - accuracy: 0.8000\b\b\b\b\b\b\b\b\b\b\b\b\b\b\b\b\b\b\b\b\b\b\b\b\b\b\b\b\b\b\b\b\b\b\b\b\b\b\b\b\b\b\b\b\b\b\b\b\b\b\b\b\b\b\b\b\b\b\b\b\b\b\b\b\b\b\b\b\b\b\b\b\b\b\b\b\b\b\b\b\b\b\r31\/31 [==============================] - 0s 3ms\/step - loss: 0.4429 - accuracy: 0.7818 - val_loss: 0.4514 - val_accuracy: 0.7857\n",
      "Epoch 351\/400\n",
      "\r 1\/31 [..............................] - ETA: 0s - loss: 0.4451 - accuracy: 0.7500\b\b\b\b\b\b\b\b\b\b\b\b\b\b\b\b\b\b\b\b\b\b\b\b\b\b\b\b\b\b\b\b\b\b\b\b\b\b\b\b\b\b\b\b\b\b\b\b\b\b\b\b\b\b\b\b\b\b\b\b\b\b\b\b\b\b\b\b\b\b\b\b\b\b\b\b\b\b\b\b\b\b\r31\/31 [==============================] - 0s 2ms\/step - loss: 0.4517 - accuracy: 0.7915 - val_loss: 0.4503 - val_accuracy: 0.7727\n",
      "Epoch 352\/400\n",
      "\r 1\/31 [..............................] - ETA: 0s - loss: 0.7240 - accuracy: 0.7000\b\b\b\b\b\b\b\b\b\b\b\b\b\b\b\b\b\b\b\b\b\b\b\b\b\b\b\b\b\b\b\b\b\b\b\b\b\b\b\b\b\b\b\b\b\b\b\b\b\b\b\b\b\b\b\b\b\b\b\b\b\b\b\b\b\b\b\b\b\b\b\b\b\b\b\b\b\b\b\b\b\b\r31\/31 [==============================] - 0s 3ms\/step - loss: 0.4423 - accuracy: 0.8094 - val_loss: 0.4527 - val_accuracy: 0.7857\n",
      "Epoch 353\/400\n",
      "\r 1\/31 [..............................] - ETA: 0s - loss: 0.4045 - accuracy: 0.8500\b\b\b\b\b\b\b\b\b\b\b\b\b\b\b\b\b\b\b\b\b\b\b\b\b\b\b\b\b\b\b\b\b\b\b\b\b\b\b\b\b\b\b\b\b\b\b\b\b\b\b\b\b\b\b\b\b\b\b\b\b\b\b\b\b\b\b\b\b\b\b\b\b\b\b\b\b\b\b\b\b\b\r31\/31 [==============================] - 0s 2ms\/step - loss: 0.4462 - accuracy: 0.7948 - val_loss: 0.4504 - val_accuracy: 0.7792\n",
      "Epoch 354\/400\n",
      "\r 1\/31 [..............................] - ETA: 0s - loss: 0.4245 - accuracy: 0.8000\b\b\b\b\b\b\b\b\b\b\b\b\b\b\b\b\b\b\b\b\b\b\b\b\b\b\b\b\b\b\b\b\b\b\b\b\b\b\b\b\b\b\b\b\b\b\b\b\b\b\b\b\b\b\b\b\b\b\b\b\b\b\b\b\b\b\b\b\b\b\b\b\b\b\b\b\b\b\b\b\b\b\r31\/31 [==============================] - 0s 2ms\/step - loss: 0.4471 - accuracy: 0.7948 - val_loss: 0.4520 - val_accuracy: 0.7922\n",
      "Epoch 355\/400\n",
      "\r 1\/31 [..............................] - ETA: 0s - loss: 0.3412 - accuracy: 0.8000\b\b\b\b\b\b\b\b\b\b\b\b\b\b\b\b\b\b\b\b\b\b\b\b\b\b\b\b\b\b\b\b\b\b\b\b\b\b\b\b\b\b\b\b\b\b\b\b\b\b\b\b\b\b\b\b\b\b\b\b\b\b\b\b\b\b\b\b\b\b\b\b\b\b\b\b\b\b\b\b\b\b\r31\/31 [==============================] - 0s 3ms\/step - loss: 0.4414 - accuracy: 0.7932 - val_loss: 0.4565 - val_accuracy: 0.7987\n",
      "Epoch 356\/400\n",
      "\r 1\/31 [..............................] - ETA: 0s - loss: 0.2078 - accuracy: 1.0000\b\b\b\b\b\b\b\b\b\b\b\b\b\b\b\b\b\b\b\b\b\b\b\b\b\b\b\b\b\b\b\b\b\b\b\b\b\b\b\b\b\b\b\b\b\b\b\b\b\b\b\b\b\b\b\b\b\b\b\b\b\b\b\b\b\b\b\b\b\b\b\b\b\b\b\b\b\b\b\b\b\b\r31\/31 [==============================] - 0s 3ms\/step - loss: 0.4440 - accuracy: 0.7850 - val_loss: 0.4510 - val_accuracy: 0.7792\n",
      "Epoch 357\/400\n",
      "\r 1\/31 [..............................] - ETA: 0s - loss: 0.4569 - accuracy: 0.7000\b\b\b\b\b\b\b\b\b\b\b\b\b\b\b\b\b\b\b\b\b\b\b\b\b\b\b\b\b\b\b\b\b\b\b\b\b\b\b\b\b\b\b\b\b\b\b\b\b\b\b\b\b\b\b\b\b\b\b\b\b\b\b\b\b\b\b\b\b\b\b\b\b\b\b\b\b\b\b\b\b\b\r31\/31 [==============================] - 0s 3ms\/step - loss: 0.4422 - accuracy: 0.7899 - val_loss: 0.4524 - val_accuracy: 0.7792\n",
      "Epoch 358\/400\n",
      "\r 1\/31 [..............................] - ETA: 0s - loss: 0.4027 - accuracy: 0.8000\b\b\b\b\b\b\b\b\b\b\b\b\b\b\b\b\b\b\b\b\b\b\b\b\b\b\b\b\b\b\b\b\b\b\b\b\b\b\b\b\b\b\b\b\b\b\b\b\b\b\b\b\b\b\b\b\b\b\b\b\b\b\b\b\b\b\b\b\b\b\b\b\b\b\b\b\b\b\b\b\b\b\r31\/31 [==============================] - 0s 2ms\/step - loss: 0.4413 - accuracy: 0.7915 - val_loss: 0.4501 - val_accuracy: 0.7857\n",
      "Epoch 359\/400\n",
      "\r 1\/31 [..............................] - ETA: 0s - loss: 0.7388 - accuracy: 0.5500\b\b\b\b\b\b\b\b\b\b\b\b\b\b\b\b\b\b\b\b\b\b\b\b\b\b\b\b\b\b\b\b\b\b\b\b\b\b\b\b\b\b\b\b\b\b\b\b\b\b\b\b\b\b\b\b\b\b\b\b\b\b\b\b\b\b\b\b\b\b\b\b\b\b\b\b\b\b\b\b\b\b\r31\/31 [==============================] - 0s 2ms\/step - loss: 0.4491 - accuracy: 0.7769 - val_loss: 0.4492 - val_accuracy: 0.7792\n",
      "Epoch 360\/400\n",
      "\r 1\/31 [..............................] - ETA: 0s - loss: 0.4935 - accuracy: 0.8000\b\b\b\b\b\b\b\b\b\b\b\b\b\b\b\b\b\b\b\b\b\b\b\b\b\b\b\b\b\b\b\b\b\b\b\b\b\b\b\b\b\b\b\b\b\b\b\b\b\b\b\b\b\b\b\b\b\b\b\b\b\b\b\b\b\b\b\b\b\b\b\b\b\b\b\b\b\b\b\b\b\b\r31\/31 [==============================] - 0s 2ms\/step - loss: 0.4437 - accuracy: 0.7883 - val_loss: 0.4520 - val_accuracy: 0.7922\n",
      "Epoch 361\/400\n",
      "\r 1\/31 [..............................] - ETA: 0s - loss: 0.5909 - accuracy: 0.5500\b\b\b\b\b\b\b\b\b\b\b\b\b\b\b\b\b\b\b\b\b\b\b\b\b\b\b\b\b\b\b\b\b\b\b\b\b\b\b\b\b\b\b\b\b\b\b\b\b\b\b\b\b\b\b\b\b\b\b\b\b\b\b\b\b\b\b\b\b\b\b\b\b\b\b\b\b\b\b\b\b\b\r31\/31 [==============================] - 0s 3ms\/step - loss: 0.4510 - accuracy: 0.7850 - val_loss: 0.4514 - val_accuracy: 0.7857\n",
      "Epoch 362\/400\n",
      "\r 1\/31 [..............................] - ETA: 0s - loss: 0.4101 - accuracy: 0.8000\b\b\b\b\b\b\b\b\b\b\b\b\b\b\b\b\b\b\b\b\b\b\b\b\b\b\b\b\b\b\b\b\b\b\b\b\b\b\b\b\b\b\b\b\b\b\b\b\b\b\b\b\b\b\b\b\b\b\b\b\b\b\b\b\b\b\b\b\b\b\b\b\b\b\b\b\b\b\b\b\b\b\r31\/31 [==============================] - 0s 3ms\/step - loss: 0.4434 - accuracy: 0.7752 - val_loss: 0.4517 - val_accuracy: 0.7792\n",
      "Epoch 363\/400\n",
      "\r 1\/31 [..............................] - ETA: 0s - loss: 0.3367 - accuracy: 0.8500\b\b\b\b\b\b\b\b\b\b\b\b\b\b\b\b\b\b\b\b\b\b\b\b\b\b\b\b\b\b\b\b\b\b\b\b\b\b\b\b\b\b\b\b\b\b\b\b\b\b\b\b\b\b\b\b\b\b\b\b\b\b\b\b\b\b\b\b\b\b\b\b\b\b\b\b\b\b\b\b\b\b\r31\/31 [==============================] - 0s 3ms\/step - loss: 0.4485 - accuracy: 0.7834 - val_loss: 0.4532 - val_accuracy: 0.7922\n",
      "Epoch 364\/400\n",
      "\r 1\/31 [..............................] - ETA: 0s - loss: 0.4637 - accuracy: 0.7500\b\b\b\b\b\b\b\b\b\b\b\b\b\b\b\b\b\b\b\b\b\b\b\b\b\b\b\b\b\b\b\b\b\b\b\b\b\b\b\b\b\b\b\b\b\b\b\b\b\b\b\b\b\b\b\b\b\b\b\b\b\b\b\b\b\b\b\b\b\b\b\b\b\b\b\b\b\b\b\b\b\b\r31\/31 [==============================] - 0s 2ms\/step - loss: 0.4419 - accuracy: 0.7801 - val_loss: 0.4540 - val_accuracy: 0.7987\n",
      "Epoch 365\/400\n",
      "\r 1\/31 [..............................] - ETA: 0s - loss: 0.5489 - accuracy: 0.7500\b\b\b\b\b\b\b\b\b\b\b\b\b\b\b\b\b\b\b\b\b\b\b\b\b\b\b\b\b\b\b\b\b\b\b\b\b\b\b\b\b\b\b\b\b\b\b\b\b\b\b\b\b\b\b\b\b\b\b\b\b\b\b\b\b\b\b\b\b\b\b\b\b\b\b\b\b\b\b\b\b\b\r31\/31 [==============================] - 0s 3ms\/step - loss: 0.4375 - accuracy: 0.7883 - val_loss: 0.4505 - val_accuracy: 0.7792\n",
      "Epoch 366\/400\n",
      "\r 1\/31 [..............................] - ETA: 0s - loss: 0.3409 - accuracy: 0.8000\b\b\b\b\b\b\b\b\b\b\b\b\b\b\b\b\b\b\b\b\b\b\b\b\b\b\b\b\b\b\b\b\b\b\b\b\b\b\b\b\b\b\b\b\b\b\b\b\b\b\b\b\b\b\b\b\b\b\b\b\b\b\b\b\b\b\b\b\b\b\b\b\b\b\b\b\b\b\b\b\b\b\r31\/31 [==============================] - 0s 3ms\/step - loss: 0.4459 - accuracy: 0.7866 - val_loss: 0.4532 - val_accuracy: 0.7987\n",
      "Epoch 367\/400\n",
      "\r 1\/31 [..............................] - ETA: 0s - loss: 0.3781 - accuracy: 0.9000\b\b\b\b\b\b\b\b\b\b\b\b\b\b\b\b\b\b\b\b\b\b\b\b\b\b\b\b\b\b\b\b\b\b\b\b\b\b\b\b\b\b\b\b\b\b\b\b\b\b\b\b\b\b\b\b\b\b\b\b\b\b\b\b\b\b\b\b\b\b\b\b\b\b\b\b\b\b\b\b\b\b\r31\/31 [==============================] - 0s 2ms\/step - loss: 0.4437 - accuracy: 0.7915 - val_loss: 0.4519 - val_accuracy: 0.7857\n",
      "Epoch 368\/400\n",
      "\r 1\/31 [..............................] - ETA: 0s - loss: 0.2475 - accuracy: 0.9500\b\b\b\b\b\b\b\b\b\b\b\b\b\b\b\b\b\b\b\b\b\b\b\b\b\b\b\b\b\b\b\b\b\b\b\b\b\b\b\b\b\b\b\b\b\b\b\b\b\b\b\b\b\b\b\b\b\b\b\b\b\b\b\b\b\b\b\b\b\b\b\b\b\b\b\b\b\b\b\b\b\b\r31\/31 [==============================] - 0s 2ms\/step - loss: 0.4392 - accuracy: 0.7964 - val_loss: 0.4539 - val_accuracy: 0.7987\n",
      "Epoch 369\/400\n",
      "\r 1\/31 [..............................] - ETA: 0s - loss: 0.4529 - accuracy: 0.8000\b\b\b\b\b\b\b\b\b\b\b\b\b\b\b\b\b\b\b\b\b\b\b\b\b\b\b\b\b\b\b\b\b\b\b\b\b\b\b\b\b\b\b\b\b\b\b\b\b\b\b\b\b\b\b\b\b\b\b\b\b\b\b\b\b\b\b\b\b\b\b\b\b\b\b\b\b\b\b\b\b\b\r31\/31 [==============================] - 0s 2ms\/step - loss: 0.4445 - accuracy: 0.7948 - val_loss: 0.4502 - val_accuracy: 0.7857\n",
      "Epoch 370\/400\n",
      "\r 1\/31 [..............................] - ETA: 0s - loss: 0.3654 - accuracy: 0.8500\b\b\b\b\b\b\b\b\b\b\b\b\b\b\b\b\b\b\b\b\b\b\b\b\b\b\b\b\b\b\b\b\b\b\b\b\b\b\b\b\b\b\b\b\b\b\b\b\b\b\b\b\b\b\b\b\b\b\b\b\b\b\b\b\b\b\b\b\b\b\b\b\b\b\b\b\b\b\b\b\b\b\r31\/31 [==============================] - 0s 2ms\/step - loss: 0.4457 - accuracy: 0.7720 - val_loss: 0.4533 - val_accuracy: 0.7987\n",
      "Epoch 371\/400\n",
      "\r 1\/31 [..............................] - ETA: 0s - loss: 0.4846 - accuracy: 0.7500\b\b\b\b\b\b\b\b\b\b\b\b\b\b\b\b\b\b\b\b\b\b\b\b\b\b\b\b\b\b\b\b\b\b\b\b\b\b\b\b\b\b\b\b\b\b\b\b\b\b\b\b\b\b\b\b\b\b\b\b\b\b\b\b\b\b\b\b\b\b\b\b\b\b\b\b\b\b\b\b\b\b\r31\/31 [==============================] - 0s 3ms\/step - loss: 0.4511 - accuracy: 0.7785 - val_loss: 0.4543 - val_accuracy: 0.7987\n",
      "Epoch 372\/400\n",
      "\r 1\/31 [..............................] - ETA: 0s - loss: 0.4217 - accuracy: 0.9000\b\b\b\b\b\b\b\b\b\b\b\b\b\b\b\b\b\b\b\b\b\b\b\b\b\b\b\b\b\b\b\b\b\b\b\b\b\b\b\b\b\b\b\b\b\b\b\b\b\b\b\b\b\b\b\b\b\b\b\b\b\b\b\b\b\b\b\b\b\b\b\b\b\b\b\b\b\b\b\b\b\b\r31\/31 [==============================] - 0s 3ms\/step - loss: 0.4538 - accuracy: 0.7687 - val_loss: 0.4512 - val_accuracy: 0.7857\n",
      "Epoch 373\/400\n",
      "\r 1\/31 [..............................] - ETA: 0s - loss: 0.3863 - accuracy: 0.8000\b\b\b\b\b\b\b\b\b\b\b\b\b\b\b\b\b\b\b\b\b\b\b\b\b\b\b\b\b\b\b\b\b\b\b\b\b\b\b\b\b\b\b\b\b\b\b\b\b\b\b\b\b\b\b\b\b\b\b\b\b\b\b\b\b\b\b\b\b\b\b\b\b\b\b\b\b\b\b\b\b\b\r31\/31 [==============================] - 0s 3ms\/step - loss: 0.4436 - accuracy: 0.7850 - val_loss: 0.4525 - val_accuracy: 0.7857\n",
      "Epoch 374\/400\n",
      "\r 1\/31 [..............................] - ETA: 0s - loss: 0.2570 - accuracy: 0.9000\b\b\b\b\b\b\b\b\b\b\b\b\b\b\b\b\b\b\b\b\b\b\b\b\b\b\b\b\b\b\b\b\b\b\b\b\b\b\b\b\b\b\b\b\b\b\b\b\b\b\b\b\b\b\b\b\b\b\b\b\b\b\b\b\b\b\b\b\b\b\b\b\b\b\b\b\b\b\b\b\b\b\r31\/31 [==============================] - 0s 2ms\/step - loss: 0.4417 - accuracy: 0.7834 - val_loss: 0.4521 - val_accuracy: 0.7922\n",
      "Epoch 375\/400\n",
      "\r 1\/31 [..............................] - ETA: 0s - loss: 0.3494 - accuracy: 0.8000\b\b\b\b\b\b\b\b\b\b\b\b\b\b\b\b\b\b\b\b\b\b\b\b\b\b\b\b\b\b\b\b\b\b\b\b\b\b\b\b\b\b\b\b\b\b\b\b\b\b\b\b\b\b\b\b\b\b\b\b\b\b\b\b\b\b\b\b\b\b\b\b\b\b\b\b\b\b\b\b\b\b\r31\/31 [==============================] - 0s 2ms\/step - loss: 0.4453 - accuracy: 0.7948 - val_loss: 0.4528 - val_accuracy: 0.7922\n",
      "Epoch 376\/400\n",
      "\r 1\/31 [..............................] - ETA: 0s - loss: 0.3365 - accuracy: 0.9000\b\b\b\b\b\b\b\b\b\b\b\b\b\b\b\b\b\b\b\b\b\b\b\b\b\b\b\b\b\b\b\b\b\b\b\b\b\b\b\b\b\b\b\b\b\b\b\b\b\b\b\b\b\b\b\b\b\b\b\b\b\b\b\b\b\b\b\b\b\b\b\b\b\b\b\b\b\b\b\b\b\b\r31\/31 [==============================] - 0s 2ms\/step - loss: 0.4386 - accuracy: 0.7818 - val_loss: 0.4511 - val_accuracy: 0.7857\n",
      "Epoch 377\/400\n",
      "\r 1\/31 [..............................] - ETA: 0s - loss: 0.6253 - accuracy: 0.7000\b\b\b\b\b\b\b\b\b\b\b\b\b\b\b\b\b\b\b\b\b\b\b\b\b\b\b\b\b\b\b\b\b\b\b\b\b\b\b\b\b\b\b\b\b\b\b\b\b\b\b\b\b\b\b\b\b\b\b\b\b\b\b\b\b\b\b\b\b\b\b\b\b\b\b\b\b\b\b\b\b\b\r31\/31 [==============================] - 0s 3ms\/step - loss: 0.4460 - accuracy: 0.7899 - val_loss: 0.4518 - val_accuracy: 0.7922\n",
      "Epoch 378\/400\n",
      "\r 1\/31 [..............................] - ETA: 0s - loss: 0.4448 - accuracy: 0.8000\b\b\b\b\b\b\b\b\b\b\b\b\b\b\b\b\b\b\b\b\b\b\b\b\b\b\b\b\b\b\b\b\b\b\b\b\b\b\b\b\b\b\b\b\b\b\b\b\b\b\b\b\b\b\b\b\b\b\b\b\b\b\b\b\b\b\b\b\b\b\b\b\b\b\b\b\b\b\b\b\b\b\r31\/31 [==============================] - 0s 2ms\/step - loss: 0.4455 - accuracy: 0.7850 - val_loss: 0.4510 - val_accuracy: 0.7857\n",
      "Epoch 379\/400\n",
      "\r 1\/31 [..............................] - ETA: 0s - loss: 0.8099 - accuracy: 0.6000\b\b\b\b\b\b\b\b\b\b\b\b\b\b\b\b\b\b\b\b\b\b\b\b\b\b\b\b\b\b\b\b\b\b\b\b\b\b\b\b\b\b\b\b\b\b\b\b\b\b\b\b\b\b\b\b\b\b\b\b\b\b\b\b\b\b\b\b\b\b\b\b\b\b\b\b\b\b\b\b\b\b\r31\/31 [==============================] - 0s 2ms\/step - loss: 0.4477 - accuracy: 0.7801 - val_loss: 0.4538 - val_accuracy: 0.7922\n",
      "Epoch 380\/400\n",
      "\r 1\/31 [..............................] - ETA: 0s - loss: 0.5137 - accuracy: 0.7500\b\b\b\b\b\b\b\b\b\b\b\b\b\b\b\b\b\b\b\b\b\b\b\b\b\b\b\b\b\b\b\b\b\b\b\b\b\b\b\b\b\b\b\b\b\b\b\b\b\b\b\b\b\b\b\b\b\b\b\b\b\b\b\b\b\b\b\b\b\b\b\b\b\b\b\b\b\b\b\b\b\b\r31\/31 [==============================] - 0s 2ms\/step - loss: 0.4535 - accuracy: 0.7850 - val_loss: 0.4519 - val_accuracy: 0.7857\n",
      "Epoch 381\/400\n",
      "\r 1\/31 [..............................] - ETA: 0s - loss: 0.3946 - accuracy: 0.8500\b\b\b\b\b\b\b\b\b\b\b\b\b\b\b\b\b\b\b\b\b\b\b\b\b\b\b\b\b\b\b\b\b\b\b\b\b\b\b\b\b\b\b\b\b\b\b\b\b\b\b\b\b\b\b\b\b\b\b\b\b\b\b\b\b\b\b\b\b\b\b\b\b\b\b\b\b\b\b\b\b\b\r31\/31 [==============================] - 0s 3ms\/step - loss: 0.4436 - accuracy: 0.7801 - val_loss: 0.4509 - val_accuracy: 0.7857\n",
      "Epoch 382\/400\n",
      "\r 1\/31 [..............................] - ETA: 0s - loss: 0.5444 - accuracy: 0.6500\b\b\b\b\b\b\b\b\b\b\b\b\b\b\b\b\b\b\b\b\b\b\b\b\b\b\b\b\b\b\b\b\b\b\b\b\b\b\b\b\b\b\b\b\b\b\b\b\b\b\b\b\b\b\b\b\b\b\b\b\b\b\b\b\b\b\b\b\b\b\b\b\b\b\b\b\b\b\b\b\b\b\r31\/31 [==============================] - 0s 2ms\/step - loss: 0.4487 - accuracy: 0.7883 - val_loss: 0.4519 - val_accuracy: 0.7857\n",
      "Epoch 383\/400\n",
      "\r 1\/31 [..............................] - ETA: 0s - loss: 0.3474 - accuracy: 0.9000\b\b\b\b\b\b\b\b\b\b\b\b\b\b\b\b\b\b\b\b\b\b\b\b\b\b\b\b\b\b\b\b\b\b\b\b\b\b\b\b\b\b\b\b\b\b\b\b\b\b\b\b\b\b\b\b\b\b\b\b\b\b\b\b\b\b\b\b\b\b\b\b\b\b\b\b\b\b\b\b\b\b\r31\/31 [==============================] - 0s 2ms\/step - loss: 0.4380 - accuracy: 0.7866 - val_loss: 0.4555 - val_accuracy: 0.7922\n",
      "Epoch 384\/400\n",
      "\r 1\/31 [..............................] - ETA: 0s - loss: 0.5284 - accuracy: 0.8000\b\b\b\b\b\b\b\b\b\b\b\b\b\b\b\b\b\b\b\b\b\b\b\b\b\b\b\b\b\b\b\b\b\b\b\b\b\b\b\b\b\b\b\b\b\b\b\b\b\b\b\b\b\b\b\b\b\b\b\b\b\b\b\b\b\b\b\b\b\b\b\b\b\b\b\b\b\b\b\b\b\b\r31\/31 [==============================] - 0s 3ms\/step - loss: 0.4422 - accuracy: 0.7818 - val_loss: 0.4524 - val_accuracy: 0.7857\n",
      "Epoch 385\/400\n",
      "\r 1\/31 [..............................] - ETA: 0s - loss: 0.2142 - accuracy: 0.9500\b\b\b\b\b\b\b\b\b\b\b\b\b\b\b\b\b\b\b\b\b\b\b\b\b\b\b\b\b\b\b\b\b\b\b\b\b\b\b\b\b\b\b\b\b\b\b\b\b\b\b\b\b\b\b\b\b\b\b\b\b\b\b\b\b\b\b\b\b\b\b\b\b\b\b\b\b\b\b\b\b\b\r31\/31 [==============================] - 0s 2ms\/step - loss: 0.4378 - accuracy: 0.7980 - val_loss: 0.4529 - val_accuracy: 0.7857\n",
      "Epoch 386\/400\n",
      "\r 1\/31 [..............................] - ETA: 0s - loss: 0.3197 - accuracy: 0.8000\b\b\b\b\b\b\b\b\b\b\b\b\b\b\b\b\b\b\b\b\b\b\b\b\b\b\b\b\b\b\b\b\b\b\b\b\b\b\b\b\b\b\b\b\b\b\b\b\b\b\b\b\b\b\b\b\b\b\b\b\b\b\b\b\b\b\b\b\b\b\b\b\b\b\b\b\b\b\b\b\b\b\r31\/31 [==============================] - 0s 2ms\/step - loss: 0.4462 - accuracy: 0.7948 - val_loss: 0.4505 - val_accuracy: 0.7922\n",
      "Epoch 387\/400\n",
      "\r 1\/31 [..............................] - ETA: 0s - loss: 0.3930 - accuracy: 0.8500\b\b\b\b\b\b\b\b\b\b\b\b\b\b\b\b\b\b\b\b\b\b\b\b\b\b\b\b\b\b\b\b\b\b\b\b\b\b\b\b\b\b\b\b\b\b\b\b\b\b\b\b\b\b\b\b\b\b\b\b\b\b\b\b\b\b\b\b\b\b\b\b\b\b\b\b\b\b\b\b\b\b\r31\/31 [==============================] - 0s 2ms\/step - loss: 0.4413 - accuracy: 0.8013 - val_loss: 0.4509 - val_accuracy: 0.7857\n",
      "Epoch 388\/400\n",
      "\r 1\/31 [..............................] - ETA: 0s - loss: 0.2925 - accuracy: 0.9000\b\b\b\b\b\b\b\b\b\b\b\b\b\b\b\b\b\b\b\b\b\b\b\b\b\b\b\b\b\b\b\b\b\b\b\b\b\b\b\b\b\b\b\b\b\b\b\b\b\b\b\b\b\b\b\b\b\b\b\b\b\b\b\b\b\b\b\b\b\b\b\b\b\b\b\b\b\b\b\b\b\b\r31\/31 [==============================] - 0s 2ms\/step - loss: 0.4305 - accuracy: 0.7980 - val_loss: 0.4519 - val_accuracy: 0.7922\n",
      "Epoch 389\/400\n",
      "\r 1\/31 [..............................] - ETA: 0s - loss: 0.3908 - accuracy: 0.9000\b\b\b\b\b\b\b\b\b\b\b\b\b\b\b\b\b\b\b\b\b\b\b\b\b\b\b\b\b\b\b\b\b\b\b\b\b\b\b\b\b\b\b\b\b\b\b\b\b\b\b\b\b\b\b\b\b\b\b\b\b\b\b\b\b\b\b\b\b\b\b\b\b\b\b\b\b\b\b\b\b\b\r31\/31 [==============================] - 0s 3ms\/step - loss: 0.4487 - accuracy: 0.8111 - val_loss: 0.4573 - val_accuracy: 0.7922\n",
      "Epoch 390\/400\n",
      "\r 1\/31 [..............................] - ETA: 0s - loss: 0.5257 - accuracy: 0.7000\b\b\b\b\b\b\b\b\b\b\b\b\b\b\b\b\b\b\b\b\b\b\b\b\b\b\b\b\b\b\b\b\b\b\b\b\b\b\b\b\b\b\b\b\b\b\b\b\b\b\b\b\b\b\b\b\b\b\b\b\b\b\b\b\b\b\b\b\b\b\b\b\b\b\b\b\b\b\b\b\b\b\r31\/31 [==============================] - 0s 2ms\/step - loss: 0.4390 - accuracy: 0.7932 - val_loss: 0.4511 - val_accuracy: 0.7857\n",
      "Epoch 391\/400\n",
      "\r 1\/31 [..............................] - ETA: 0s - loss: 0.2942 - accuracy: 0.8500\b\b\b\b\b\b\b\b\b\b\b\b\b\b\b\b\b\b\b\b\b\b\b\b\b\b\b\b\b\b\b\b\b\b\b\b\b\b\b\b\b\b\b\b\b\b\b\b\b\b\b\b\b\b\b\b\b\b\b\b\b\b\b\b\b\b\b\b\b\b\b\b\b\b\b\b\b\b\b\b\b\b\r31\/31 [==============================] - 0s 2ms\/step - loss: 0.4455 - accuracy: 0.7964 - val_loss: 0.4528 - val_accuracy: 0.7922\n",
      "Epoch 392\/400\n",
      "\r 1\/31 [..............................] - ETA: 0s - loss: 0.3845 - accuracy: 0.8500\b\b\b\b\b\b\b\b\b\b\b\b\b\b\b\b\b\b\b\b\b\b\b\b\b\b\b\b\b\b\b\b\b\b\b\b\b\b\b\b\b\b\b\b\b\b\b\b\b\b\b\b\b\b\b\b\b\b\b\b\b\b\b\b\b\b\b\b\b\b\b\b\b\b\b\b\b\b\b\b\b\b\r31\/31 [==============================] - 0s 2ms\/step - loss: 0.4429 - accuracy: 0.7899 - val_loss: 0.4532 - val_accuracy: 0.7922\n",
      "Epoch 393\/400\n",
      "\r 1\/31 [..............................] - ETA: 0s - loss: 0.5855 - accuracy: 0.8000\b\b\b\b\b\b\b\b\b\b\b\b\b\b\b\b\b\b\b\b\b\b\b\b\b\b\b\b\b\b\b\b\b\b\b\b\b\b\b\b\b\b\b\b\b\b\b\b\b\b\b\b\b\b\b\b\b\b\b\b\b\b\b\b\b\b\b\b\b\b\b\b\b\b\b\b\b\b\b\b\b\b\r31\/31 [==============================] - 0s 2ms\/step - loss: 0.4467 - accuracy: 0.7915 - val_loss: 0.4518 - val_accuracy: 0.7922\n",
      "Epoch 394\/400\n",
      "\r 1\/31 [..............................] - ETA: 0s - loss: 0.3500 - accuracy: 0.8500\b\b\b\b\b\b\b\b\b\b\b\b\b\b\b\b\b\b\b\b\b\b\b\b\b\b\b\b\b\b\b\b\b\b\b\b\b\b\b\b\b\b\b\b\b\b\b\b\b\b\b\b\b\b\b\b\b\b\b\b\b\b\b\b\b\b\b\b\b\b\b\b\b\b\b\b\b\b\b\b\b\b\r31\/31 [==============================] - 0s 2ms\/step - loss: 0.4441 - accuracy: 0.7883 - val_loss: 0.4502 - val_accuracy: 0.7857\n",
      "Epoch 395\/400\n",
      "\r 1\/31 [..............................] - ETA: 0s - loss: 0.4513 - accuracy: 0.8000\b\b\b\b\b\b\b\b\b\b\b\b\b\b\b\b\b\b\b\b\b\b\b\b\b\b\b\b\b\b\b\b\b\b\b\b\b\b\b\b\b\b\b\b\b\b\b\b\b\b\b\b\b\b\b\b\b\b\b\b\b\b\b\b\b\b\b\b\b\b\b\b\b\b\b\b\b\b\b\b\b\b\r31\/31 [==============================] - 0s 3ms\/step - loss: 0.4370 - accuracy: 0.7915 - val_loss: 0.4502 - val_accuracy: 0.7922\n",
      "Epoch 396\/400\n",
      "\r 1\/31 [..............................] - ETA: 0s - loss: 0.4640 - accuracy: 0.6500\b\b\b\b\b\b\b\b\b\b\b\b\b\b\b\b\b\b\b\b\b\b\b\b\b\b\b\b\b\b\b\b\b\b\b\b\b\b\b\b\b\b\b\b\b\b\b\b\b\b\b\b\b\b\b\b\b\b\b\b\b\b\b\b\b\b\b\b\b\b\b\b\b\b\b\b\b\b\b\b\b\b\r31\/31 [==============================] - 0s 2ms\/step - loss: 0.4435 - accuracy: 0.7785 - val_loss: 0.4497 - val_accuracy: 0.7857\n",
      "Epoch 397\/400\n",
      "\r 1\/31 [..............................] - ETA: 0s - loss: 0.3292 - accuracy: 0.9000\b\b\b\b\b\b\b\b\b\b\b\b\b\b\b\b\b\b\b\b\b\b\b\b\b\b\b\b\b\b\b\b\b\b\b\b\b\b\b\b\b\b\b\b\b\b\b\b\b\b\b\b\b\b\b\b\b\b\b\b\b\b\b\b\b\b\b\b\b\b\b\b\b\b\b\b\b\b\b\b\b\b\r31\/31 [==============================] - 0s 2ms\/step - loss: 0.4372 - accuracy: 0.7899 - val_loss: 0.4506 - val_accuracy: 0.7857\n",
      "Epoch 398\/400\n",
      "\r 1\/31 [..............................] - ETA: 0s - loss: 0.5429 - accuracy: 0.6000\b\b\b\b\b\b\b\b\b\b\b\b\b\b\b\b\b\b\b\b\b\b\b\b\b\b\b\b\b\b\b\b\b\b\b\b\b\b\b\b\b\b\b\b\b\b\b\b\b\b\b\b\b\b\b\b\b\b\b\b\b\b\b\b\b\b\b\b\b\b\b\b\b\b\b\b\b\b\b\b\b\b\r31\/31 [==============================] - 0s 2ms\/step - loss: 0.4296 - accuracy: 0.7883 - val_loss: 0.4505 - val_accuracy: 0.7857\n",
      "Epoch 399\/400\n",
      "\r 1\/31 [..............................] - ETA: 0s - loss: 0.3534 - accuracy: 0.8000\b\b\b\b\b\b\b\b\b\b\b\b\b\b\b\b\b\b\b\b\b\b\b\b\b\b\b\b\b\b\b\b\b\b\b\b\b\b\b\b\b\b\b\b\b\b\b\b\b\b\b\b\b\b\b\b\b\b\b\b\b\b\b\b\b\b\b\b\b\b\b\b\b\b\b\b\b\b\b\b\b\b\r31\/31 [==============================] - 0s 3ms\/step - loss: 0.4398 - accuracy: 0.7899 - val_loss: 0.4538 - val_accuracy: 0.7857\n",
      "Epoch 400\/400\n",
      "\r 1\/31 [..............................] - ETA: 0s - loss: 0.4824 - accuracy: 0.7500\b\b\b\b\b\b\b\b\b\b\b\b\b\b\b\b\b\b\b\b\b\b\b\b\b\b\b\b\b\b\b\b\b\b\b\b\b\b\b\b\b\b\b\b\b\b\b\b\b\b\b\b\b\b\b\b\b\b\b\b\b\b\b\b\b\b\b\b\b\b\b\b\b\b\b\b\b\b\b\b\b\b\r31\/31 [==============================] - 0s 2ms\/step - loss: 0.4467 - accuracy: 0.7785 - val_loss: 0.4502 - val_accuracy: 0.7857\n"
     ],
     "output_type":"stream"
    }
   ],
   "metadata":{
    "datalore":{
     "node_id":"o3MDwrv0h4ukssj2ydEqm6",
     "type":"CODE",
     "hide_input_from_viewers":false,
     "hide_output_from_viewers":false,
     "report_properties":{
      
     }
    }
   }
  },
  {
   "cell_type":"markdown",
   "source":[
    "#### Justify your choice of optimizers and regulizations used and the hyperparameters tuned\n",
    "\n",
    "Score: 4 Marks"
   ],
   "attachments":{
    
   },
   "metadata":{
    "datalore":{
     "node_id":"pKypZ32oRRkOWx6aeCHvNZ",
     "type":"MD",
     "hide_input_from_viewers":false,
     "hide_output_from_viewers":false,
     "report_properties":{
      
     }
    }
   }
  },
  {
   "cell_type":"markdown",
   "source":[
    "#### Optimizer\n",
    "We used Adam(Adaptive Moment Estimation) as an optimiser because it is an extension of stochastic gradient descent that automatically tunes the learning rate for each parameter, making it faster and more efficient than standard gradient descent. It involves a combination of two gradient descent methodologies: AdaGrad and RMSProp. The results of the Adam optimizer are generally better than every other optimization algorithm, have faster computation time, and require fewer parameters for tuning. Because of all that, Adam is used as an optimizer for our case.\n",
    "\n",
    "  \n",
    "#### Regularizations\n",
    "We used L2 regularization for our hidden layers as our regularizer because L2 tends to shrink coefficients evenly. L2 regularization distributes the weights for all layers by gaussian distribution and shrinks their norm to small values. L2 Regularization shrinks all the weights to small values, preventing the model from learning any complex concept with respect to any particular node\/feature, preventing overfitting.\n",
    "\n",
    "\n",
    "#### Hyperparameters \n",
    "Hyperparameters are parameters that are set before training a machine learning model. They are often specified by the practitioner who is training the model and control the behavior of the learning algorithm. Below are the hyperparameters used in our neural network:\n",
    "\n",
    "- learning rate = 0.001 <br>\n",
    "  \n",
    "  This is because using 0.001 as a small learning rate allows the model to make small, precise updates to its weights, which can help the model converge on a good solution.\n",
    "\n",
    "- L2 regularization coefficient for two hidden layers = 0.001 <br>\n",
    "  \n",
    "  This is because 0.001 coefficient scalar value is added to the loss function to prevent overfitting, which occurs when a model learns patterns in the training data that are not generalizable to new data.\n",
    "\n",
    "- number of hidden layer = 3\n",
    "  \n",
    "  We chose 3 layers - 2 layers with ReLU and 1 layer with Dropout. 2 layers with ReLU is chose because it is computationally efficient as it only requires a simple comparison operation. It helps in getting the result quickly. 1 layer with Dropout is chosen because Dropout works by randomly dropping out, or setting to zero, a certain number of output features of a layer during training. This has the effect of reducing the complexity of the model, which can help prevent overfitting. \n",
    "\n",
    "- epochs = 400\n",
    "  \n",
    "  We chose 400 as epochs because it gives enough time to learn the underlying patterns in the data of given size of diabetes dataset(768, 9). It is also performance-wise optimal.\n",
    "\n",
    "- batch_size = 20\n",
    "  \n",
    "  We chose batch_size as 20 because it efficiently converges the speed of the model. It also efficiently deals with the performance for getting the results.\n",
    "  "
   ],
   "attachments":{
    
   },
   "metadata":{
    "datalore":{
     "node_id":"zchUWZtthBAHADC1TpYh0g",
     "type":"MD",
     "hide_input_from_viewers":false,
     "hide_output_from_viewers":false,
     "report_properties":{
      
     }
    }
   }
  },
  {
   "cell_type":"markdown",
   "source":[
    "# 6. Test the model\n",
    "\n",
    "Score: 2 Marks"
   ],
   "attachments":{
    
   },
   "metadata":{
    "datalore":{
     "node_id":"PTVKDLQkAIYBGfc4ErYdYj",
     "type":"MD",
     "hide_input_from_viewers":false,
     "hide_output_from_viewers":false,
     "report_properties":{
      
     }
    }
   }
  },
  {
   "cell_type":"code",
   "source":[
    "# Predict Labels\n",
    "testLoss, testAccuracy = model.evaluate(X_test, y_test, verbose=0)\n",
    "\n",
    "# Getting prediction from the model using X_test\n",
    "Ypredicted = model.predict(X_test)\n",
    "# Getting prediction from the model using X_train\n",
    "Y_trainpredicted = model.predict(X_train)\n",
    "\n",
    "\n",
    "for i in range(len(Ypredicted)):\n",
    "    if Ypredicted[i]>0.5:\n",
    "        Ypredicted[i]=1\n",
    "    elif Ypredicted[i]<=0.5:\n",
    "        Ypredicted[i]=0\n",
    "\n",
    "for i in range(len(Y_trainpredicted)):\n",
    "    if Y_trainpredicted[i]>0.5:\n",
    "        Y_trainpredicted[i]=1\n",
    "    elif Y_trainpredicted[i]<=0.5:\n",
    "        Y_trainpredicted[i]=0\n",
    "\n",
    "print(\"Test Loss: \", testLoss)\n",
    "print(\"Test Accuracy: \", testAccuracy)"
   ],
   "execution_count":92,
   "outputs":[
    {
     "name":"stdout",
     "text":[
      "Test Loss:  0.45022469758987427\n",
      "Test Accuracy:  0.7857142686843872\n"
     ],
     "output_type":"stream"
    }
   ],
   "metadata":{
    "datalore":{
     "node_id":"Lstjh787uN2osfW7bC8alh",
     "type":"CODE",
     "hide_input_from_viewers":false,
     "hide_output_from_viewers":false,
     "report_properties":{
      
     }
    }
   }
  },
  {
   "cell_type":"markdown",
   "source":[
    "## 7. Conclusion \n",
    "\n",
    "Plot the training and validation loss\n",
    "Report the testing accuracy and loss.\n",
    "\n",
    "Report values for preformance study metrics like accuracy, precision, recall, F1 Score.\n",
    "\n",
    "A proper comparision based on different metrics should be done and not just accuracy alone, only then the comparision becomes authentic. You may use Confusion matrix, classification report, MAE etc per the requirement of your application\/problem.\n",
    "\n",
    "Score 2 Marks"
   ],
   "attachments":{
    
   },
   "metadata":{
    "datalore":{
     "node_id":"apK4CrlJIoSrbebeyjbCTy",
     "type":"MD",
     "hide_input_from_viewers":false,
     "hide_output_from_viewers":false,
     "report_properties":{
      
     }
    }
   }
  },
  {
   "cell_type":"code",
   "source":[
    "import matplotlib.pyplot as plt\n",
    "\n",
    "f = plt.figure()\n",
    "f.set_figwidth(20)\n",
    "f.set_figheight(7)\n",
    "\n",
    "plt.subplot(1,2,1)\n",
    "plt.plot(classifier_nn.history['loss'], label='train')\n",
    "plt.plot(classifier_nn.history['val_loss'], label='test')\n",
    "plt.title('Model Loss')\n",
    "plt.ylabel('Loss')\n",
    "plt.xlabel('Epoch')\n",
    "plt.legend(loc='upper right')\n",
    "\n",
    "\n",
    "plt.subplot(1,2,2)\n",
    "plt.title('Model Accuracy')\n",
    "plt.plot(classifier_nn.history['accuracy'], label='train')\n",
    "plt.plot(classifier_nn.history['val_accuracy'], label='test')\n",
    "plt.ylabel('Accuracy')\n",
    "plt.xlabel('Epoch')\n",
    "plt.legend(loc='lower right')\n",
    "\n",
    "plt.show()"
   ],
   "execution_count":93,
   "outputs":[
    {
     "data":{
      "image\/png":"[encoded data removed]"
     },
     "metadata":{
      "image\/png":{
       
      }
     },
     "output_type":"display_data"
    }
   ],
   "metadata":{
    "datalore":{
     "node_id":"oHqYRIpBG29JZ3ACeDqQYG",
     "type":"CODE",
     "hide_input_from_viewers":false,
     "hide_output_from_viewers":false,
     "report_properties":{
      
     }
    }
   }
  },
  {
   "cell_type":"code",
   "source":[
    "from sklearn.metrics import classification_report\n",
    "from sklearn.metrics import confusion_matrix\n",
    "\n",
    "\n",
    "num_classes = 2\n",
    "\n",
    "#target names\n",
    "target_names = [\"Class {}\".format(i) for i in range(num_classes)]\n",
    "\n",
    "\n",
    "# Confusion matrix\n",
    "confusion_mtx = confusion_matrix(y_test, Ypredicted)\n",
    "print('Confusion matrix = \\n',confusion_mtx)\n",
    "\n",
    "# Classification Report    \n",
    "print('\\nClassfication report = \\n', classification_report(y_test, Ypredicted, target_names=target_names))"
   ],
   "execution_count":94,
   "outputs":[
    {
     "name":"stdout",
     "text":[
      "Confusion matrix = \n",
      " [[82 17]\n",
      " [16 39]]\n",
      "\n",
      "Classfication report = \n",
      "               precision    recall  f1-score   support\n",
      "\n",
      "     Class 0       0.84      0.83      0.83        99\n",
      "     Class 1       0.70      0.71      0.70        55\n",
      "\n",
      "    accuracy                           0.79       154\n",
      "   macro avg       0.77      0.77      0.77       154\n",
      "weighted avg       0.79      0.79      0.79       154\n",
      "\n"
     ],
     "output_type":"stream"
    }
   ],
   "metadata":{
    "datalore":{
     "node_id":"7ROHD7Qk4DRpxgozXqUF51",
     "type":"CODE",
     "hide_input_from_viewers":true,
     "hide_output_from_viewers":true
    }
   }
  },
  {
   "cell_type":"code",
   "source":[
    "from sklearn.metrics import confusion_matrix, accuracy_score, precision_score, recall_score, f1_score\n",
    "\n",
    "def accuracy(y_pred, y_test):\n",
    "    cm = confusion_matrix(y_test, y_pred)\n",
    "    print(\"Confusion Matrix : \\n\", cm, '\\n')\n",
    "    print(\"Accuracy Score : {0:.2f}%\".format(accuracy_score(y_test, y_pred)*100))\n",
    "    print(\"Precision : {0:.2f}\".format(precision_score(y_test, y_pred)))\n",
    "    print(\"Recall : {0:.2f}\".format(recall_score(y_test, y_pred)))\n",
    "    print(\"F1 Score : {0:.2f}\".format(f1_score(y_test, y_pred)))"
   ],
   "execution_count":95,
   "outputs":[
    
   ],
   "metadata":{
    "datalore":{
     "node_id":"DgpQoQppl4wgLhc4DVQG0Y",
     "type":"CODE",
     "hide_input_from_viewers":true,
     "hide_output_from_viewers":true
    }
   }
  },
  {
   "cell_type":"code",
   "source":[
    "print(\"++++++++++++++++++\\nTest Set Accuracy: \\n++++++++++++++++++\\n\")\n",
    "accuracy(Ypredicted, y_test)"
   ],
   "execution_count":96,
   "outputs":[
    {
     "name":"stdout",
     "text":[
      "++++++++++++++++++\n",
      "Test Set Accuracy: \n",
      "++++++++++++++++++\n",
      "\n",
      "Confusion Matrix : \n",
      " [[82 17]\n",
      " [16 39]] \n",
      "\n",
      "Accuracy Score : 78.57%\n",
      "Precision : 0.70\n",
      "Recall : 0.71\n",
      "F1 Score : 0.70\n"
     ],
     "output_type":"stream"
    }
   ],
   "metadata":{
    "datalore":{
     "node_id":"KR6049Dk2ECjvNu8Q2kOs6",
     "type":"CODE",
     "hide_input_from_viewers":true,
     "hide_output_from_viewers":true
    }
   }
  },
  {
   "cell_type":"code",
   "source":[
    "print(\"++++++++++++++++++\\nTrain Set Accuracy: \\n++++++++++++++++++\\n\")\n",
    "accuracy(Y_trainpredicted, y_train)"
   ],
   "execution_count":97,
   "outputs":[
    {
     "name":"stdout",
     "text":[
      "++++++++++++++++++\n",
      "Train Set Accuracy: \n",
      "++++++++++++++++++\n",
      "\n",
      "Confusion Matrix : \n",
      " [[355  46]\n",
      " [ 81 132]] \n",
      "\n",
      "Accuracy Score : 79.32%\n",
      "Precision : 0.74\n",
      "Recall : 0.62\n",
      "F1 Score : 0.68\n"
     ],
     "output_type":"stream"
    }
   ],
   "metadata":{
    "datalore":{
     "node_id":"C2WtbZNiY1oXw6CPfrpuv8",
     "type":"CODE",
     "hide_input_from_viewers":true,
     "hide_output_from_viewers":true
    }
   }
  },
  {
   "cell_type":"markdown",
   "source":[
    "The performance can be measured using the percentage of accuracy observed in both data sets to conclude on the presence of overfitting. If the model performs better on the training set than on the test set, it means that the model is likely overfitting.\n",
    "\n",
    "#### -> Accuracy of Training set is 79.32% and Accuracy for Test set is 78.57%. We could say that the neural network model is <u>SLIGHTLY OVER-FIT<\/u>."
   ],
   "attachments":{
    
   },
   "metadata":{
    "datalore":{
     "node_id":"gEsPTmlhuCLcmvg1mMCHOl",
     "type":"MD",
     "hide_input_from_viewers":true,
     "hide_output_from_viewers":true
    }
   }
  },
  {
   "cell_type":"markdown",
   "source":[
    "## 8. Solution\n",
    "\n",
    "What is the solution that is proposed to solve the business problem discussed in Section 1. Also share your learnings while working through solving the problem in terms of challenges, observations, decisions made etc.\n",
    "\n",
    "Score 2 Marks"
   ],
   "attachments":{
    
   },
   "metadata":{
    "datalore":{
     "node_id":"mp7G2EK03aNBPEPbzZ1jBn",
     "type":"MD",
     "hide_input_from_viewers":false,
     "hide_output_from_viewers":false,
     "report_properties":{
      
     }
    }
   }
  },
  {
   "cell_type":"markdown",
   "source":[
    "1. The solution to solve the proposed problem is to predict diabetes disease for a patient in advance with the given health condition\/history using the devised neural network. So that it is easier to diagnose the early offset of diabetes disease in patients and treat them in a timely manner or make necessary changes in one's life style so that the disease does not get worsened.\n",
    "   \n",
    "2. **Challenges** :\n",
    "   - **Lack of sufficient and high-quality data:** One of the main challenges in using neural networks for predicting diabetes is the lack of sufficient and high-quality data. In order to train a neural network, we need large amounts of data that are accurately labeled and relevant to the task at hand. However, collecting and preparing such data can be difficult, time-consuming, and expensive.\n",
    "   - **High complexity and computational expense:** Another challenge in using neural networks for predicting diabetes is the high complexity and computational expense of these models. Neural networks are highly complex, multi-layered models that require a lot of computational power to train and evaluate. This can make them difficult to use in practice, especially when dealing with large amounts of data.\n",
    "   - **Privacy:** Collecting medical data can raise privacy concerns, as it may include sensitive personal information such as names, medical history, addresses, and financial information. This can make it difficult to balance the need for data with the need to protect individuals' privacy.\n",
    "   \n",
    "3. **Observation** :\n",
    "   - **Neural networks can be highly effective at predicting diabetes:** One of the main observations when using neural networks for predicting diabetes is that these models can be highly effective at making accurate predictions. \n",
    "   - **The quality of the data is critical:** Another key observation when using neural networks for predicting diabetes is the importance of the quality of the data. In order to train effective neural network models, we need large amounts of high-quality data that is accurately labeled and relevant to the task at hand. If the data is of poor quality, the model will not be able to learn the necessary patterns and will not make accurate predictions. In our case, training data is small which giving accuracy around 75-80% to get higher accuracy, we need to get large dataset to train our neural network with balanced conditions.\n",
    "   - **Overfitting:** Our neural network is slightly over-fit. Overfitting is a common problem in machine learning, and it can also be an issue when using neural networks for predicting diabetes. Overfitting occurs when a model is trained on a limited amount of data and becomes too specific to the training data, losing its ability to generalize to new data. This can lead to poor performance on unseen data, and it is important to take steps to prevent and detect overfitting when using neural networks.\n",
    "   \n",
    "4. **Decision made for Neural Networks** : \n",
    "   \n",
    "   To find the optimal set of parameters that allow the network to make accurate predictions or decisions based on the input data. Hyperparameters are parameters that are set before training a machine learning model. They are often specified by the practitioner who is training the model and control the behavior of the learning algorithm. Below are the hyperparameters used in our neural network:\n",
    "\n",
    "   - learning rate = 0.001 \n",
    "   - L2 regularization coefficient for two hidden layers = 0.001\n",
    "   - number of hidden layer = 3\n",
    "   - epochs = 400\n",
    "   - batch_size = 20"
   ],
   "attachments":{
    
   },
   "metadata":{
    "datalore":{
     "node_id":"NAPzjixuJ6Be4276dX3y1o",
     "type":"MD",
     "hide_input_from_viewers":true,
     "hide_output_from_viewers":true
    }
   }
  },
  {
   "cell_type":"markdown",
   "source":[
    "##NOTE\n",
    "All Late Submissions will incur a penalty of -2 marks. So submit your assignments on time.\n",
    "\n",
    "Good Luck"
   ],
   "attachments":{
    
   },
   "metadata":{
    "datalore":{
     "node_id":"oWjQW5Vsaco19WvkJ4gYAQ",
     "type":"MD",
     "hide_input_from_viewers":false,
     "hide_output_from_viewers":false,
     "report_properties":{
      
     }
    }
   }
  }
 ],
 "metadata":{
  "kernelspec":{
   "display_name":"Python",
   "language":"python",
   "name":"python"
  },
  "datalore":{
   "version":1,
   "computation_mode":"JUPYTER",
   "package_manager":"pip",
   "base_environment":"default",
   "packages":[
    
   ]
  }
 },
 "nbformat":4,
 "nbformat_minor":4
}