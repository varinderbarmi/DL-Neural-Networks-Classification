{
 "cells":[
  {
   "cell_type":"markdown",
   "source":[
    "## Group No - 20\n",
    "\n",
    "## Group Member Names:\n",
    "1. Varinder Singh - 2021fc04070@wilp.bits-pilani.ac.in\n",
    "2. Bandaru Raja Sekhar - 2021fc04074@wilp.bits-pilani.ac.in\n",
    "3. Mikhil P.A. - 2021fc04326@wilp.bits-pilani.ac.in"
   ],
   "attachments":{
    
   },
   "metadata":{
    "datalore":{
     "node_id":"KvBQZWZ3TAyH7P7utGa8Ft",
     "type":"MD",
     "hide_input_from_viewers":false,
     "hide_output_from_viewers":false,
     "report_properties":{
      
     }
    }
   }
  },
  {
   "cell_type":"markdown",
   "source":[
    "# 1. Problem Statement\n",
    " \n",
    "Students are expected to identify a classification \/ regression problem of your choice. You have to detail the problem under this heading which basically addresses the following questions.\n",
    " \n",
    "   1. What is the problem that you are trying to solve?\n",
    "   2. What kind of prediction (classification \/ regression) task are you performing?\n",
    "\n",
    "ENSURE THAT YOU ARE USING NUMERICAL \/ CATEGORICAL DATA only.\n",
    "\n",
    "DO NOT use images or textual data.\n",
    "\n",
    "Score: 1 Mark in total (0.5 mark each)"
   ],
   "attachments":{
    
   },
   "metadata":{
    "datalore":{
     "node_id":"fWqPS3gZQSwS62oOnxgdRO",
     "type":"MD",
     "hide_input_from_viewers":false,
     "hide_output_from_viewers":false,
     "report_properties":{
      
     }
    }
   }
  },
  {
   "cell_type":"markdown",
   "source":[
    "### 1. Problem Statement\n",
    "\n",
    "- Diabetes, also known as diabetes mellitus, is a group of metabolic disorders characterized by a high blood sugar level (hyperglycemia) over a prolonged period of time. \n",
    "- Symptoms often include frequent urination, increased thirst and increased appetite. If left untreated, diabetes can cause many health complications.\n",
    "- Diabetes is occurred due to either the pancreas not producing enough insulin, or the cells of the body not responding properly to the insulin produced. Insulin is a hormone which is responsible for helping glucose from food get into cells to be used for energy.\n",
    "- The Diabetes Analysis helps to understand the chance of occurrence of diabetes in persons based on varied health conditions\/situations.\n",
    "- The performance of these data mining techniques is measured by combining the results of predictive accuracy, ROC curve and AUC value using a standard data set as well as a collected data set.\n",
    "\n",
    "#### - Objective\n",
    "To predict whether a patient has diabetes or not. This is a binary outcome.\n",
    "- Positive (+) = 1, 1 is interpreted as \"tested positive for diabetes\"\n",
    "- Negative (-) = 0, 0 is interpreted as \"tested negative for diabetes\"\n",
    "\n",
    "\n",
    "### 2. Kind of prediction\n",
    "\n",
    "- In this assignment, the risk factors that causes diabetes disease is considered and predicted using classification algorithm."
   ],
   "attachments":{
    
   },
   "metadata":{
    "datalore":{
     "node_id":"3XHSOoxaFnHgtePT8PI4UN",
     "type":"MD",
     "hide_input_from_viewers":true,
     "hide_output_from_viewers":true
    }
   }
  },
  {
   "cell_type":"markdown",
   "source":[
    "# 2. Data Acquisition\n",
    " \n",
    "For the problem identified by you, students have to find the data source themselves from any data source.\n",
    "\n",
    "## 2.1 Download the data directly\n"
   ],
   "attachments":{
    
   },
   "metadata":{
    "datalore":{
     "node_id":"Dg5o3E9iShEFIaPu6PvYM6",
     "type":"MD",
     "hide_input_from_viewers":false,
     "hide_output_from_viewers":false,
     "report_properties":{
      
     }
    }
   }
  },
  {
   "cell_type":"markdown",
   "source":[
    "\n",
    "#### About the Dataset:\n",
    "- The data has been taken from Kaggle of Diabetes Dataset. <br>\n",
    "Link: https:\/\/www.kaggle.com\/datasets\/mathchi\/diabetes-data-set\/download?datasetVersionNumber=1\n",
    "\n",
    "- Number of Instances: 768\n",
    "- Number of Attributes: 8 plus class\n",
    "\n",
    "For Each Attribute: (all numeric-valued)\n",
    "- Number of times pregnant\n",
    "- Plasma glucose concentration a 2 hours in an oral glucose tolerance test\n",
    "- Diastolic blood pressure (mm Hg)\n",
    "- Triceps skin fold thickness (mm)\n",
    "- 2-Hour serum insulin (mu U\/ml)\n",
    "- Body mass index (weight in kg\/(height in m)^2)\n",
    "- Diabetes pedigree function\n",
    "- Age (years)\n",
    "- Class variable (0 or 1)\n",
    "    - 1 is interpreted as \"tested positive for diabetes\"\n",
    "    - 0 is interpreted as \"tested negative for diabetes\""
   ],
   "attachments":{
    
   },
   "metadata":{
    "datalore":{
     "node_id":"ObMDa7dlO7Z6xvG5pes48B",
     "type":"MD",
     "hide_input_from_viewers":true,
     "hide_output_from_viewers":true
    }
   }
  },
  {
   "cell_type":"markdown",
   "source":[
    "## 2.2 Code for converting the above downloaded data into a form suitable for DL "
   ],
   "attachments":{
    
   },
   "metadata":{
    "datalore":{
     "node_id":"dMxgZiK7Gmr2eNptLfRfCE",
     "type":"MD",
     "hide_input_from_viewers":false,
     "hide_output_from_viewers":false,
     "report_properties":{
      
     }
    }
   }
  },
  {
   "cell_type":"code",
   "source":[
    "import numpy as np\n",
    "import pandas as pd\n",
    "dataset = pd.read_csv(\"diabetes.csv\")"
   ],
   "execution_count":31,
   "outputs":[
    
   ],
   "metadata":{
    "datalore":{
     "node_id":"BE7PQ7QtawEj9TM00joSJq",
     "type":"CODE",
     "hide_input_from_viewers":false,
     "hide_output_from_viewers":false,
     "report_properties":{
      
     }
    }
   }
  },
  {
   "cell_type":"code",
   "source":[
    "# Displaying a sample of data present in the dataframe \"dataset\"\n",
    "dataset.head()"
   ],
   "execution_count":32,
   "outputs":[
    {
     "data":{
      "text\/html":[
       "<div>\n",
       "<style scoped>\n",
       "    .dataframe tbody tr th:only-of-type {\n",
       "        vertical-align: middle;\n",
       "    }\n",
       "\n",
       "    .dataframe tbody tr th {\n",
       "        vertical-align: top;\n",
       "    }\n",
       "\n",
       "    .dataframe thead th {\n",
       "        text-align: right;\n",
       "    }\n",
       "<\/style>\n",
       "<table border=\"1\" class=\"dataframe\">\n",
       "  <thead>\n",
       "    <tr style=\"text-align: right;\">\n",
       "      <th><\/th>\n",
       "      <th>Pregnancies<\/th>\n",
       "      <th>Glucose<\/th>\n",
       "      <th>BloodPressure<\/th>\n",
       "      <th>SkinThickness<\/th>\n",
       "      <th>Insulin<\/th>\n",
       "      <th>BMI<\/th>\n",
       "      <th>DiabetesPedigreeFunction<\/th>\n",
       "      <th>Age<\/th>\n",
       "      <th>Outcome<\/th>\n",
       "    <\/tr>\n",
       "  <\/thead>\n",
       "  <tbody>\n",
       "    <tr>\n",
       "      <th>0<\/th>\n",
       "      <td>6<\/td>\n",
       "      <td>148<\/td>\n",
       "      <td>72<\/td>\n",
       "      <td>35<\/td>\n",
       "      <td>0<\/td>\n",
       "      <td>33.6<\/td>\n",
       "      <td>0.627<\/td>\n",
       "      <td>50<\/td>\n",
       "      <td>1<\/td>\n",
       "    <\/tr>\n",
       "    <tr>\n",
       "      <th>1<\/th>\n",
       "      <td>1<\/td>\n",
       "      <td>85<\/td>\n",
       "      <td>66<\/td>\n",
       "      <td>29<\/td>\n",
       "      <td>0<\/td>\n",
       "      <td>26.6<\/td>\n",
       "      <td>0.351<\/td>\n",
       "      <td>31<\/td>\n",
       "      <td>0<\/td>\n",
       "    <\/tr>\n",
       "    <tr>\n",
       "      <th>2<\/th>\n",
       "      <td>8<\/td>\n",
       "      <td>183<\/td>\n",
       "      <td>64<\/td>\n",
       "      <td>0<\/td>\n",
       "      <td>0<\/td>\n",
       "      <td>23.3<\/td>\n",
       "      <td>0.672<\/td>\n",
       "      <td>32<\/td>\n",
       "      <td>1<\/td>\n",
       "    <\/tr>\n",
       "    <tr>\n",
       "      <th>3<\/th>\n",
       "      <td>1<\/td>\n",
       "      <td>89<\/td>\n",
       "      <td>66<\/td>\n",
       "      <td>23<\/td>\n",
       "      <td>94<\/td>\n",
       "      <td>28.1<\/td>\n",
       "      <td>0.167<\/td>\n",
       "      <td>21<\/td>\n",
       "      <td>0<\/td>\n",
       "    <\/tr>\n",
       "    <tr>\n",
       "      <th>4<\/th>\n",
       "      <td>0<\/td>\n",
       "      <td>137<\/td>\n",
       "      <td>40<\/td>\n",
       "      <td>35<\/td>\n",
       "      <td>168<\/td>\n",
       "      <td>43.1<\/td>\n",
       "      <td>2.288<\/td>\n",
       "      <td>33<\/td>\n",
       "      <td>1<\/td>\n",
       "    <\/tr>\n",
       "  <\/tbody>\n",
       "<\/table>\n",
       "<\/div>"
      ]
     },
     "metadata":{
      
     },
     "output_type":"display_data"
    }
   ],
   "metadata":{
    "datalore":{
     "node_id":"hSfnESyW9JQIx0FYeI9Q8U",
     "type":"CODE",
     "hide_input_from_viewers":false,
     "hide_output_from_viewers":false,
     "report_properties":{
      
     }
    }
   }
  },
  {
   "cell_type":"markdown",
   "source":[
    "## 2.3 Write your observations from the above. \n",
    "\n",
    "1. Size of the dataset\n",
    "2. What type of data attributes are there?\n",
    "\n",
    "Score: 2 Mark"
   ],
   "attachments":{
    
   },
   "metadata":{
    "datalore":{
     "node_id":"OpBoCTsNIqxwe5tApF6ZZJ",
     "type":"MD",
     "hide_input_from_viewers":false,
     "hide_output_from_viewers":false,
     "report_properties":{
      
     }
    }
   }
  },
  {
   "cell_type":"markdown",
   "source":[
    "#### 1. Shape of the Dataset is (768, 9)\n",
    "- There are total of 768 records with 9 columns\n",
    "\n",
    "#### 2. Data Attributes\n",
    "- All the attributes have numeric data type.\n",
    "1. Pregnancies - int\n",
    "2. Glucose - int\n",
    "3. BloodPressure - int\n",
    "4. SkinThickness - int\n",
    "5. Insulin - int\n",
    "6. BMI - float\n",
    "7. DiabetesPedigreeFunction - float\n",
    "8. Age - int\n",
    "9. Outcome - int(0,1)"
   ],
   "attachments":{
    
   },
   "metadata":{
    "datalore":{
     "node_id":"btozJ14HflVS4KEaZyXhAB",
     "type":"MD",
     "hide_input_from_viewers":true,
     "hide_output_from_viewers":true
    }
   }
  },
  {
   "cell_type":"code",
   "source":[
    "print(\"Dataset Shape:\", dataset.shape, \"\\n\")\n",
    "dataset.info()"
   ],
   "execution_count":33,
   "outputs":[
    {
     "name":"stdout",
     "text":[
      "Dataset Shape: (768, 9) \n",
      "\n",
      "<class 'pandas.core.frame.DataFrame'>\n",
      "RangeIndex: 768 entries, 0 to 767\n",
      "Data columns (total 9 columns):\n",
      " #   Column                    Non-Null Count  Dtype  \n",
      "---  ------                    --------------  -----  \n",
      " 0   Pregnancies               768 non-null    int64  \n",
      " 1   Glucose                   768 non-null    int64  \n",
      " 2   BloodPressure             768 non-null    int64  \n",
      " 3   SkinThickness             768 non-null    int64  \n",
      " 4   Insulin                   768 non-null    int64  \n",
      " 5   BMI                       768 non-null    float64\n",
      " 6   DiabetesPedigreeFunction  768 non-null    float64\n",
      " 7   Age                       768 non-null    int64  \n",
      " 8   Outcome                   768 non-null    int64  \n",
      "dtypes: float64(2), int64(7)\n",
      "memory usage: 54.1 KB\n"
     ],
     "output_type":"stream"
    }
   ],
   "metadata":{
    "datalore":{
     "node_id":"Snzd5RNzXASjOe4JcOOiL0",
     "type":"CODE",
     "hide_input_from_viewers":false,
     "hide_output_from_viewers":false,
     "report_properties":{
      
     }
    }
   }
  },
  {
   "cell_type":"markdown",
   "source":[
    "# 3. Data Preparation\n",
    "\n",
    "Perform the data prepracessing that is required for the data that you have downloaded. "
   ],
   "attachments":{
    
   },
   "metadata":{
    "datalore":{
     "node_id":"85VkM016mEolUKvKQKeyYU",
     "type":"MD",
     "hide_input_from_viewers":false,
     "hide_output_from_viewers":false,
     "report_properties":{
      
     }
    }
   }
  },
  {
   "cell_type":"markdown",
   "source":[
    "## 3.1 Apply techiniques\n",
    "* to remove duplicate data\n",
    "* to impute or remove missing data\n",
    "* to remove data inconsistencies\n",
    "\n",
    "IF ANY"
   ],
   "attachments":{
    
   },
   "metadata":{
    "datalore":{
     "node_id":"K33yMuelH5R6X0RfTocKmU",
     "type":"MD",
     "hide_input_from_viewers":false,
     "hide_output_from_viewers":false,
     "report_properties":{
      
     }
    }
   }
  },
  {
   "cell_type":"code",
   "source":[
    "# Checking Null values\n",
    "print(dataset.isnull().sum())"
   ],
   "execution_count":34,
   "outputs":[
    {
     "name":"stdout",
     "text":[
      "Pregnancies                 0\n",
      "Glucose                     0\n",
      "BloodPressure               0\n",
      "SkinThickness               0\n",
      "Insulin                     0\n",
      "BMI                         0\n",
      "DiabetesPedigreeFunction    0\n",
      "Age                         0\n",
      "Outcome                     0\n",
      "dtype: int64\n"
     ],
     "output_type":"stream"
    }
   ],
   "metadata":{
    "datalore":{
     "node_id":"M7NanNwD8T7GFTa9aeCAmd",
     "type":"CODE",
     "hide_input_from_viewers":false,
     "hide_output_from_viewers":false,
     "report_properties":{
      
     }
    }
   }
  },
  {
   "cell_type":"markdown",
   "source":[
    "#### --> No null values were found in any columns of diabetes dataset."
   ],
   "attachments":{
    
   },
   "metadata":{
    "datalore":{
     "node_id":"ng3Akr5OMtWDKMQ1jts9om",
     "type":"MD",
     "hide_input_from_viewers":true,
     "hide_output_from_viewers":true
    }
   }
  },
  {
   "cell_type":"code",
   "source":[
    "#Looking for any duplicate rows in the dataset\n",
    "print( \"Number of duplicate rows found in the dataset: \" , \n",
    "      len(dataset.loc[dataset.duplicated(), :]) )"
   ],
   "execution_count":35,
   "outputs":[
    {
     "name":"stdout",
     "text":[
      "Number of duplicate rows found in the dataset:  0\n"
     ],
     "output_type":"stream"
    }
   ],
   "metadata":{
    "datalore":{
     "node_id":"Q1OrpO9oGceeV3jP0nF6ez",
     "type":"CODE",
     "hide_input_from_viewers":true,
     "hide_output_from_viewers":true
    }
   }
  },
  {
   "cell_type":"markdown",
   "source":[
    "#### --> No duplicate rows were found in the diabetes dataset."
   ],
   "attachments":{
    
   },
   "metadata":{
    "datalore":{
     "node_id":"JoqHOac4Cx475p9wlJt6uX",
     "type":"MD",
     "hide_input_from_viewers":true,
     "hide_output_from_viewers":true
    }
   }
  },
  {
   "cell_type":"markdown",
   "source":[
    "### Visualization on Class imbalance\n",
    "\n",
    "Minority class [1] is ~55%, so the class imbalance is mild. This slight imbalance is often not a concern, and the problem can often be treated like a normal classification predictive modeling problem. Therefore, we will not take any action."
   ],
   "attachments":{
    
   },
   "metadata":{
    "datalore":{
     "node_id":"5FAFKclhIUqMborE9eGnKF",
     "type":"MD",
     "hide_input_from_viewers":true,
     "hide_output_from_viewers":true
    }
   }
  },
  {
   "cell_type":"code",
   "source":[
    "import seaborn as sns\n",
    "\n",
    "sns.countplot(x=dataset.Outcome)"
   ],
   "execution_count":36,
   "outputs":[
    {
     "data":{
      "text\/plain":[
       "<AxesSubplot:xlabel='Outcome', ylabel='count'>"
      ]
     },
     "metadata":{
      
     },
     "output_type":"display_data"
    },
    {
     "data":{
      "image\/png":"[encoded data removed]"
     },
     "metadata":{
      "image\/png":{
       
      }
     },
     "output_type":"display_data"
    }
   ],
   "metadata":{
    "datalore":{
     "node_id":"sCclEfm5FEQpslWB55Rwqv",
     "type":"CODE",
     "hide_input_from_viewers":true,
     "hide_output_from_viewers":true
    }
   }
  },
  {
   "cell_type":"code",
   "source":[
    "col = list(dataset.columns)\n",
    "dataset.boxplot(figsize = (20,10), column = col)"
   ],
   "execution_count":37,
   "outputs":[
    {
     "data":{
      "text\/plain":[
       "<AxesSubplot:>"
      ]
     },
     "metadata":{
      
     },
     "output_type":"display_data"
    },
    {
     "data":{
      "image\/png":"[encoded data removed]"
     },
     "metadata":{
      "image\/png":{
       
      }
     },
     "output_type":"display_data"
    }
   ],
   "metadata":{
    "datalore":{
     "node_id":"6WXR4oZalz7wwZAC3VPQSz",
     "type":"CODE",
     "hide_input_from_viewers":true,
     "hide_output_from_viewers":true
    }
   }
  },
  {
   "cell_type":"markdown",
   "source":[
    "### Handling the Outliers \n",
    "\n",
    "**Winsorization of Outliers** is the process of replacing the extreme values of statistical data in order to limit the effect of the outliers on the calculations or the results obtained by using that data. "
   ],
   "attachments":{
    
   },
   "metadata":{
    "datalore":{
     "node_id":"C31Y9LRswcAS1qyRyau51C",
     "type":"MD",
     "hide_input_from_viewers":true,
     "hide_output_from_viewers":true
    }
   }
  },
  {
   "cell_type":"code",
   "source":[
    "\n",
    "for i in col:\n",
    "    percentile25 = dataset[str(i)].quantile(0.25)\n",
    "    percentile75 = dataset[str(i)].quantile(0.75)\n",
    "    iqr = percentile75 - percentile25\n",
    "    upper_limit = percentile75 + 1.5 * iqr\n",
    "    lower_limit = percentile25 - 1.5 * iqr\n",
    "    dataset[str(i)] = np.where(dataset[str(i)] >= upper_limit,\n",
    "                                    upper_limit,\n",
    "                                        np.where(dataset[str(i)] <= lower_limit,\n",
    "                                        lower_limit,\n",
    "                                            dataset[str(i)]\n",
    "                                        )\n",
    "                                    )"
   ],
   "execution_count":38,
   "outputs":[
    
   ],
   "metadata":{
    "datalore":{
     "node_id":"mCe7aCqa0bVgV2sLv2CwuQ",
     "type":"CODE",
     "hide_input_from_viewers":true,
     "hide_output_from_viewers":true
    }
   }
  },
  {
   "cell_type":"code",
   "source":[
    "dataset.boxplot(figsize = (20,10), column = col)"
   ],
   "execution_count":39,
   "outputs":[
    {
     "data":{
      "text\/plain":[
       "<AxesSubplot:>"
      ]
     },
     "metadata":{
      
     },
     "output_type":"display_data"
    },
    {
     "data":{
      "image\/png":"[encoded data removed]"
     },
     "metadata":{
      "image\/png":{
       
      }
     },
     "output_type":"display_data"
    }
   ],
   "metadata":{
    "datalore":{
     "node_id":"3K0cuO73EdXGnQd9bWdBNv",
     "type":"CODE",
     "hide_input_from_viewers":true,
     "hide_output_from_viewers":true
    }
   }
  },
  {
   "cell_type":"markdown",
   "source":[
    "## 3.2 Encode categorical data"
   ],
   "attachments":{
    
   },
   "metadata":{
    "datalore":{
     "node_id":"tG9aJ5MaGJ4MDCQLwxi2Fu",
     "type":"MD",
     "hide_input_from_viewers":false,
     "hide_output_from_viewers":false,
     "report_properties":{
      
     }
    }
   }
  },
  {
   "cell_type":"markdown",
   "source":[
    "#### --> No categorical data present in the dataset(X).\n",
    "#### --> Only numeric data present in the dataset apart from the Target attribute having (0,1) value."
   ],
   "attachments":{
    
   },
   "metadata":{
    "datalore":{
     "node_id":"Wt9zh9uZAF4m4xDTk2SuL8",
     "type":"MD",
     "hide_input_from_viewers":true,
     "hide_output_from_viewers":true
    }
   }
  },
  {
   "cell_type":"markdown",
   "source":[
    "## 3.3 Normalize the data"
   ],
   "attachments":{
    
   },
   "metadata":{
    "datalore":{
     "node_id":"e5xNiL8kaOQR8dOefDPWKb",
     "type":"MD",
     "hide_input_from_viewers":false,
     "hide_output_from_viewers":false,
     "report_properties":{
      
     }
    }
   }
  },
  {
   "cell_type":"code",
   "source":[
    "from sklearn.preprocessing import MinMaxScaler\n",
    "\n",
    "sc = MinMaxScaler()\n",
    "\n",
    "dataset['Pregnancies'] = sc.fit_transform(dataset['Pregnancies'].values.reshape(-1, 1))\n",
    "dataset['Glucose'] = sc.fit_transform(dataset['Glucose'].values.reshape(-1, 1))\n",
    "dataset['BloodPressure'] = sc.fit_transform(dataset['BloodPressure'].values.reshape(-1, 1))\n",
    "dataset['SkinThickness'] = sc.fit_transform(dataset['SkinThickness'].values.reshape(-1, 1))\n",
    "dataset['Insulin'] = sc.fit_transform(dataset['Insulin'].values.reshape(-1, 1))\n",
    "dataset['BMI'] = sc.fit_transform(dataset['BMI'].values.reshape(-1, 1))\n",
    "dataset['DiabetesPedigreeFunction'] = sc.fit_transform(dataset['DiabetesPedigreeFunction'].values.reshape(-1, 1))\n",
    "dataset['Age'] = sc.fit_transform(dataset['Age'].values.reshape(-1, 1))"
   ],
   "execution_count":40,
   "outputs":[
    
   ],
   "metadata":{
    "datalore":{
     "node_id":"fI9gDYrQPb5fs3ZETwEm8u",
     "type":"CODE",
     "hide_input_from_viewers":false,
     "hide_output_from_viewers":false,
     "report_properties":{
      
     }
    }
   }
  },
  {
   "cell_type":"code",
   "source":[
    "dataset"
   ],
   "execution_count":41,
   "outputs":[
    {
     "data":{
      "text\/html":[
       "<div>\n",
       "<style scoped>\n",
       "    .dataframe tbody tr th:only-of-type {\n",
       "        vertical-align: middle;\n",
       "    }\n",
       "\n",
       "    .dataframe tbody tr th {\n",
       "        vertical-align: top;\n",
       "    }\n",
       "\n",
       "    .dataframe thead th {\n",
       "        text-align: right;\n",
       "    }\n",
       "<\/style>\n",
       "<table border=\"1\" class=\"dataframe\">\n",
       "  <thead>\n",
       "    <tr style=\"text-align: right;\">\n",
       "      <th><\/th>\n",
       "      <th>Pregnancies<\/th>\n",
       "      <th>Glucose<\/th>\n",
       "      <th>BloodPressure<\/th>\n",
       "      <th>SkinThickness<\/th>\n",
       "      <th>Insulin<\/th>\n",
       "      <th>BMI<\/th>\n",
       "      <th>DiabetesPedigreeFunction<\/th>\n",
       "      <th>Age<\/th>\n",
       "      <th>Outcome<\/th>\n",
       "    <\/tr>\n",
       "  <\/thead>\n",
       "  <tbody>\n",
       "    <tr>\n",
       "      <th>0<\/th>\n",
       "      <td>0.444444<\/td>\n",
       "      <td>0.684942<\/td>\n",
       "      <td>0.513889<\/td>\n",
       "      <td>0.4375<\/td>\n",
       "      <td>0.000000<\/td>\n",
       "      <td>0.544355<\/td>\n",
       "      <td>0.489305<\/td>\n",
       "      <td>0.637363<\/td>\n",
       "      <td>1.0<\/td>\n",
       "    <\/tr>\n",
       "    <tr>\n",
       "      <th>1<\/th>\n",
       "      <td>0.074074<\/td>\n",
       "      <td>0.295753<\/td>\n",
       "      <td>0.430556<\/td>\n",
       "      <td>0.3625<\/td>\n",
       "      <td>0.000000<\/td>\n",
       "      <td>0.356183<\/td>\n",
       "      <td>0.243316<\/td>\n",
       "      <td>0.219780<\/td>\n",
       "      <td>0.0<\/td>\n",
       "    <\/tr>\n",
       "    <tr>\n",
       "      <th>2<\/th>\n",
       "      <td>0.592593<\/td>\n",
       "      <td>0.901158<\/td>\n",
       "      <td>0.402778<\/td>\n",
       "      <td>0.0000<\/td>\n",
       "      <td>0.000000<\/td>\n",
       "      <td>0.267473<\/td>\n",
       "      <td>0.529412<\/td>\n",
       "      <td>0.241758<\/td>\n",
       "      <td>1.0<\/td>\n",
       "    <\/tr>\n",
       "    <tr>\n",
       "      <th>3<\/th>\n",
       "      <td>0.074074<\/td>\n",
       "      <td>0.320463<\/td>\n",
       "      <td>0.430556<\/td>\n",
       "      <td>0.2875<\/td>\n",
       "      <td>0.295481<\/td>\n",
       "      <td>0.396505<\/td>\n",
       "      <td>0.079323<\/td>\n",
       "      <td>0.000000<\/td>\n",
       "      <td>0.0<\/td>\n",
       "    <\/tr>\n",
       "    <tr>\n",
       "      <th>4<\/th>\n",
       "      <td>0.000000<\/td>\n",
       "      <td>0.616988<\/td>\n",
       "      <td>0.069444<\/td>\n",
       "      <td>0.4375<\/td>\n",
       "      <td>0.528094<\/td>\n",
       "      <td>0.799731<\/td>\n",
       "      <td>1.000000<\/td>\n",
       "      <td>0.263736<\/td>\n",
       "      <td>1.0<\/td>\n",
       "    <\/tr>\n",
       "    <tr>\n",
       "      <th>...<\/th>\n",
       "      <td>...<\/td>\n",
       "      <td>...<\/td>\n",
       "      <td>...<\/td>\n",
       "      <td>...<\/td>\n",
       "      <td>...<\/td>\n",
       "      <td>...<\/td>\n",
       "      <td>...<\/td>\n",
       "      <td>...<\/td>\n",
       "      <td>...<\/td>\n",
       "    <\/tr>\n",
       "    <tr>\n",
       "      <th>763<\/th>\n",
       "      <td>0.740741<\/td>\n",
       "      <td>0.394595<\/td>\n",
       "      <td>0.569444<\/td>\n",
       "      <td>0.6000<\/td>\n",
       "      <td>0.565815<\/td>\n",
       "      <td>0.525538<\/td>\n",
       "      <td>0.082888<\/td>\n",
       "      <td>0.923077<\/td>\n",
       "      <td>0.0<\/td>\n",
       "    <\/tr>\n",
       "    <tr>\n",
       "      <th>764<\/th>\n",
       "      <td>0.148148<\/td>\n",
       "      <td>0.524324<\/td>\n",
       "      <td>0.486111<\/td>\n",
       "      <td>0.3375<\/td>\n",
       "      <td>0.000000<\/td>\n",
       "      <td>0.630376<\/td>\n",
       "      <td>0.233512<\/td>\n",
       "      <td>0.131868<\/td>\n",
       "      <td>0.0<\/td>\n",
       "    <\/tr>\n",
       "    <tr>\n",
       "      <th>765<\/th>\n",
       "      <td>0.370370<\/td>\n",
       "      <td>0.518147<\/td>\n",
       "      <td>0.513889<\/td>\n",
       "      <td>0.2875<\/td>\n",
       "      <td>0.352063<\/td>\n",
       "      <td>0.345430<\/td>\n",
       "      <td>0.148841<\/td>\n",
       "      <td>0.197802<\/td>\n",
       "      <td>0.0<\/td>\n",
       "    <\/tr>\n",
       "    <tr>\n",
       "      <th>766<\/th>\n",
       "      <td>0.074074<\/td>\n",
       "      <td>0.549035<\/td>\n",
       "      <td>0.347222<\/td>\n",
       "      <td>0.0000<\/td>\n",
       "      <td>0.000000<\/td>\n",
       "      <td>0.450269<\/td>\n",
       "      <td>0.241533<\/td>\n",
       "      <td>0.571429<\/td>\n",
       "      <td>1.0<\/td>\n",
       "    <\/tr>\n",
       "    <tr>\n",
       "      <th>767<\/th>\n",
       "      <td>0.074074<\/td>\n",
       "      <td>0.345174<\/td>\n",
       "      <td>0.486111<\/td>\n",
       "      <td>0.3875<\/td>\n",
       "      <td>0.000000<\/td>\n",
       "      <td>0.458333<\/td>\n",
       "      <td>0.211230<\/td>\n",
       "      <td>0.043956<\/td>\n",
       "      <td>0.0<\/td>\n",
       "    <\/tr>\n",
       "  <\/tbody>\n",
       "<\/table>\n",
       "<p>768 rows × 9 columns<\/p>\n",
       "<\/div>"
      ]
     },
     "metadata":{
      
     },
     "output_type":"display_data"
    }
   ],
   "metadata":{
    "datalore":{
     "node_id":"WDTb1sfMMWasJ960BFPjch",
     "type":"CODE",
     "hide_input_from_viewers":true,
     "hide_output_from_viewers":true
    }
   }
  },
  {
   "cell_type":"code",
   "source":[
    "# Displaying a sample of all the attributes of the dataset\n",
    "dataset.head()"
   ],
   "execution_count":42,
   "outputs":[
    {
     "data":{
      "text\/html":[
       "<div>\n",
       "<style scoped>\n",
       "    .dataframe tbody tr th:only-of-type {\n",
       "        vertical-align: middle;\n",
       "    }\n",
       "\n",
       "    .dataframe tbody tr th {\n",
       "        vertical-align: top;\n",
       "    }\n",
       "\n",
       "    .dataframe thead th {\n",
       "        text-align: right;\n",
       "    }\n",
       "<\/style>\n",
       "<table border=\"1\" class=\"dataframe\">\n",
       "  <thead>\n",
       "    <tr style=\"text-align: right;\">\n",
       "      <th><\/th>\n",
       "      <th>Pregnancies<\/th>\n",
       "      <th>Glucose<\/th>\n",
       "      <th>BloodPressure<\/th>\n",
       "      <th>SkinThickness<\/th>\n",
       "      <th>Insulin<\/th>\n",
       "      <th>BMI<\/th>\n",
       "      <th>DiabetesPedigreeFunction<\/th>\n",
       "      <th>Age<\/th>\n",
       "      <th>Outcome<\/th>\n",
       "    <\/tr>\n",
       "  <\/thead>\n",
       "  <tbody>\n",
       "    <tr>\n",
       "      <th>0<\/th>\n",
       "      <td>0.444444<\/td>\n",
       "      <td>0.684942<\/td>\n",
       "      <td>0.513889<\/td>\n",
       "      <td>0.4375<\/td>\n",
       "      <td>0.000000<\/td>\n",
       "      <td>0.544355<\/td>\n",
       "      <td>0.489305<\/td>\n",
       "      <td>0.637363<\/td>\n",
       "      <td>1.0<\/td>\n",
       "    <\/tr>\n",
       "    <tr>\n",
       "      <th>1<\/th>\n",
       "      <td>0.074074<\/td>\n",
       "      <td>0.295753<\/td>\n",
       "      <td>0.430556<\/td>\n",
       "      <td>0.3625<\/td>\n",
       "      <td>0.000000<\/td>\n",
       "      <td>0.356183<\/td>\n",
       "      <td>0.243316<\/td>\n",
       "      <td>0.219780<\/td>\n",
       "      <td>0.0<\/td>\n",
       "    <\/tr>\n",
       "    <tr>\n",
       "      <th>2<\/th>\n",
       "      <td>0.592593<\/td>\n",
       "      <td>0.901158<\/td>\n",
       "      <td>0.402778<\/td>\n",
       "      <td>0.0000<\/td>\n",
       "      <td>0.000000<\/td>\n",
       "      <td>0.267473<\/td>\n",
       "      <td>0.529412<\/td>\n",
       "      <td>0.241758<\/td>\n",
       "      <td>1.0<\/td>\n",
       "    <\/tr>\n",
       "    <tr>\n",
       "      <th>3<\/th>\n",
       "      <td>0.074074<\/td>\n",
       "      <td>0.320463<\/td>\n",
       "      <td>0.430556<\/td>\n",
       "      <td>0.2875<\/td>\n",
       "      <td>0.295481<\/td>\n",
       "      <td>0.396505<\/td>\n",
       "      <td>0.079323<\/td>\n",
       "      <td>0.000000<\/td>\n",
       "      <td>0.0<\/td>\n",
       "    <\/tr>\n",
       "    <tr>\n",
       "      <th>4<\/th>\n",
       "      <td>0.000000<\/td>\n",
       "      <td>0.616988<\/td>\n",
       "      <td>0.069444<\/td>\n",
       "      <td>0.4375<\/td>\n",
       "      <td>0.528094<\/td>\n",
       "      <td>0.799731<\/td>\n",
       "      <td>1.000000<\/td>\n",
       "      <td>0.263736<\/td>\n",
       "      <td>1.0<\/td>\n",
       "    <\/tr>\n",
       "  <\/tbody>\n",
       "<\/table>\n",
       "<\/div>"
      ]
     },
     "metadata":{
      
     },
     "output_type":"display_data"
    }
   ],
   "metadata":{
    "datalore":{
     "node_id":"Mo1wYTmTOy8fRnWhe9Tglr",
     "type":"CODE",
     "hide_input_from_viewers":true,
     "hide_output_from_viewers":true
    }
   }
  },
  {
   "cell_type":"markdown",
   "source":[
    "## 3.4 Feature Engineering \n",
    "\n",
    "if any"
   ],
   "attachments":{
    
   },
   "metadata":{
    "datalore":{
     "node_id":"GvUTbP04Lu14KtmVuM1JH5",
     "type":"MD",
     "hide_input_from_viewers":false,
     "hide_output_from_viewers":false,
     "report_properties":{
      
     }
    }
   }
  },
  {
   "cell_type":"markdown",
   "source":[
    "#### --> No Feature engineering required with the dataset. The dataset is self explanatory. "
   ],
   "attachments":{
    
   },
   "metadata":{
    "datalore":{
     "node_id":"gHKcA4ODklySCNwHAa7wI4",
     "type":"MD",
     "hide_input_from_viewers":true,
     "hide_output_from_viewers":true
    }
   }
  },
  {
   "cell_type":"markdown",
   "source":[
    "## 3.5 Identify the target variables.\n",
    "\n",
    "* Separate the data front the target such that the dataset is in the form of (X,y) or (Features, Label)\n",
    "\n",
    "* Discretize \/ Encode the target variable or perform one-hot encoding on the target or any other as and if required.\n"
   ],
   "attachments":{
    
   },
   "metadata":{
    "datalore":{
     "node_id":"EAgYiUyY6PvfKYRXmhMoPC",
     "type":"MD",
     "hide_input_from_viewers":false,
     "hide_output_from_viewers":false,
     "report_properties":{
      
     }
    }
   }
  },
  {
   "cell_type":"code",
   "source":[
    "y = dataset.Outcome\n",
    "X = dataset.copy().drop(['Outcome'],axis=1) "
   ],
   "execution_count":43,
   "outputs":[
    
   ],
   "metadata":{
    "datalore":{
     "node_id":"7lVWrVZSfa8lmy8alBC985",
     "type":"CODE",
     "hide_input_from_viewers":false,
     "hide_output_from_viewers":false,
     "report_properties":{
      
     }
    }
   }
  },
  {
   "cell_type":"code",
   "source":[
    "# Displaying a sample of attributes of the dataset without the Target attribute\n",
    "display(X.head())"
   ],
   "execution_count":44,
   "outputs":[
    {
     "data":{
      "text\/html":[
       "<div>\n",
       "<style scoped>\n",
       "    .dataframe tbody tr th:only-of-type {\n",
       "        vertical-align: middle;\n",
       "    }\n",
       "\n",
       "    .dataframe tbody tr th {\n",
       "        vertical-align: top;\n",
       "    }\n",
       "\n",
       "    .dataframe thead th {\n",
       "        text-align: right;\n",
       "    }\n",
       "<\/style>\n",
       "<table border=\"1\" class=\"dataframe\">\n",
       "  <thead>\n",
       "    <tr style=\"text-align: right;\">\n",
       "      <th><\/th>\n",
       "      <th>Pregnancies<\/th>\n",
       "      <th>Glucose<\/th>\n",
       "      <th>BloodPressure<\/th>\n",
       "      <th>SkinThickness<\/th>\n",
       "      <th>Insulin<\/th>\n",
       "      <th>BMI<\/th>\n",
       "      <th>DiabetesPedigreeFunction<\/th>\n",
       "      <th>Age<\/th>\n",
       "    <\/tr>\n",
       "  <\/thead>\n",
       "  <tbody>\n",
       "    <tr>\n",
       "      <th>0<\/th>\n",
       "      <td>0.444444<\/td>\n",
       "      <td>0.684942<\/td>\n",
       "      <td>0.513889<\/td>\n",
       "      <td>0.4375<\/td>\n",
       "      <td>0.000000<\/td>\n",
       "      <td>0.544355<\/td>\n",
       "      <td>0.489305<\/td>\n",
       "      <td>0.637363<\/td>\n",
       "    <\/tr>\n",
       "    <tr>\n",
       "      <th>1<\/th>\n",
       "      <td>0.074074<\/td>\n",
       "      <td>0.295753<\/td>\n",
       "      <td>0.430556<\/td>\n",
       "      <td>0.3625<\/td>\n",
       "      <td>0.000000<\/td>\n",
       "      <td>0.356183<\/td>\n",
       "      <td>0.243316<\/td>\n",
       "      <td>0.219780<\/td>\n",
       "    <\/tr>\n",
       "    <tr>\n",
       "      <th>2<\/th>\n",
       "      <td>0.592593<\/td>\n",
       "      <td>0.901158<\/td>\n",
       "      <td>0.402778<\/td>\n",
       "      <td>0.0000<\/td>\n",
       "      <td>0.000000<\/td>\n",
       "      <td>0.267473<\/td>\n",
       "      <td>0.529412<\/td>\n",
       "      <td>0.241758<\/td>\n",
       "    <\/tr>\n",
       "    <tr>\n",
       "      <th>3<\/th>\n",
       "      <td>0.074074<\/td>\n",
       "      <td>0.320463<\/td>\n",
       "      <td>0.430556<\/td>\n",
       "      <td>0.2875<\/td>\n",
       "      <td>0.295481<\/td>\n",
       "      <td>0.396505<\/td>\n",
       "      <td>0.079323<\/td>\n",
       "      <td>0.000000<\/td>\n",
       "    <\/tr>\n",
       "    <tr>\n",
       "      <th>4<\/th>\n",
       "      <td>0.000000<\/td>\n",
       "      <td>0.616988<\/td>\n",
       "      <td>0.069444<\/td>\n",
       "      <td>0.4375<\/td>\n",
       "      <td>0.528094<\/td>\n",
       "      <td>0.799731<\/td>\n",
       "      <td>1.000000<\/td>\n",
       "      <td>0.263736<\/td>\n",
       "    <\/tr>\n",
       "  <\/tbody>\n",
       "<\/table>\n",
       "<\/div>"
      ]
     },
     "metadata":{
      
     },
     "output_type":"display_data"
    }
   ],
   "metadata":{
    "datalore":{
     "node_id":"76ssK3IpHtpp0cj25Po47k",
     "type":"CODE",
     "hide_input_from_viewers":true,
     "hide_output_from_viewers":true
    }
   }
  },
  {
   "cell_type":"code",
   "source":[
    "# Displaying a sample of Target attribute\n",
    "print(y.head())"
   ],
   "execution_count":45,
   "outputs":[
    {
     "name":"stdout",
     "text":[
      "0    1.0\n",
      "1    0.0\n",
      "2    1.0\n",
      "3    0.0\n",
      "4    1.0\n",
      "Name: Outcome, dtype: float64\n"
     ],
     "output_type":"stream"
    }
   ],
   "metadata":{
    "datalore":{
     "node_id":"T0daQkJ9XdbDPDvAooU3fr",
     "type":"CODE",
     "hide_input_from_viewers":true,
     "hide_output_from_viewers":true
    }
   }
  },
  {
   "cell_type":"code",
   "source":[
    "print(\"Shape of X: \",X.shape)\n",
    "print(\"Shape of y: \",y.shape)"
   ],
   "execution_count":46,
   "outputs":[
    {
     "name":"stdout",
     "text":[
      "Shape of X:  (768, 8)\n",
      "Shape of y:  (768,)\n"
     ],
     "output_type":"stream"
    }
   ],
   "metadata":{
    "datalore":{
     "node_id":"PoWyQabVCc0SMnZDQfHc4g",
     "type":"CODE",
     "hide_input_from_viewers":true,
     "hide_output_from_viewers":true
    }
   }
  },
  {
   "cell_type":"markdown",
   "source":[
    "## 3.6 Split the data into training set and testing set"
   ],
   "attachments":{
    
   },
   "metadata":{
    "datalore":{
     "node_id":"22O4AmJS5iMQYrelEW8GA4",
     "type":"MD",
     "hide_input_from_viewers":false,
     "hide_output_from_viewers":false,
     "report_properties":{
      
     }
    }
   }
  },
  {
   "cell_type":"code",
   "source":[
    "from sklearn.model_selection import train_test_split\n",
    "\n",
    "X_train, X_test, y_train, y_test = train_test_split(X, y, test_size = 0.2, random_state=1)"
   ],
   "execution_count":47,
   "outputs":[
    
   ],
   "metadata":{
    "datalore":{
     "node_id":"Mjb8u2cZj3dbY2QEIubKRO",
     "type":"CODE",
     "hide_input_from_viewers":false,
     "hide_output_from_viewers":false,
     "report_properties":{
      
     }
    }
   }
  },
  {
   "cell_type":"markdown",
   "source":[
    "## 3.7 Report\n",
    "\n",
    "Mention the method adopted  and justify why the method was used\n",
    "* to remove duplicate data, if present \n",
    "* to impute or remove missing data, if present \n",
    "* to remove data inconsistencies, if present \n",
    "* to encode categorical data \n",
    "* the normalization technique used\n",
    "\n",
    "If the any of the above are not present, then also add in the report below.\n",
    "\n",
    "Report the size of the training dataset and testing dataset\n",
    "\n",
    "Score: 3 Marks"
   ],
   "attachments":{
    
   },
   "metadata":{
    "datalore":{
     "node_id":"6lKYn6lsGcwvztPLrmsohY",
     "type":"MD",
     "hide_input_from_viewers":false,
     "hide_output_from_viewers":false,
     "report_properties":{
      
     }
    }
   }
  },
  {
   "cell_type":"markdown",
   "source":[
    "#### 1. No duplicate data(record) was found in the dataset. We used duplicated() function to find any duplicates in the dataset. This was used because dataframe has the functions in-built and are easy and fast to implement and get the result easily.\n",
    "   \n",
    "#### 2. No missing data was found in the dataset. We used isnull() function to find any null values in every column present in the dataset. This was used because dataframe has the functions in-built and are easy and fast to implement and get the result easily.\n",
    "   \n",
    "#### 3. There were outliers present in given dataset. We used boxplot to identify outliers and plot all the data points in every column. In order to rectify the outliers, we used Winsorization of outliers. In this, we replaced the extreme values of statistical data in order to limit the effect of the outliers on the calculations or the results obtained by using that data. We used this because it preserves the information that a case had among the highest (or lowest) values in a distribution but protects against some of the harmful effects of outliers.\n",
    "   \n",
    "#### 4. No categorical data was present in dataset. Therefore, no action was taken.\n",
    "   \n",
    "#### 5. For normalisation, we used MinMaxScaler(). We used this because MinMaxScaler() preserves the shape of the original distribution. It doesn't meaningfully change the information embedded in the original data. Note that MinMaxScaler doesn't reduce the importance of outliers; but outliers have been handled separately as mentioned above. The range for the feature returned by MinMaxScaler() is 0 to 1."
   ],
   "attachments":{
    
   },
   "metadata":{
    "datalore":{
     "node_id":"JXUqVqHwxaQc2DFoL9R88s",
     "type":"MD",
     "hide_input_from_viewers":true,
     "hide_output_from_viewers":true
    }
   }
  },
  {
   "cell_type":"code",
   "source":[
    "print(\"Shape of X_train: \", X_train.shape)\n",
    "print(\"Shape of y_train: \", y_train.shape)\n",
    "print(\"Shape of X_test: \", X_test.shape)\n",
    "print(\"Shape of y_test: \", y_test.shape)"
   ],
   "execution_count":48,
   "outputs":[
    {
     "name":"stdout",
     "text":[
      "Shape of X_train:  (614, 8)\n",
      "Shape of y_train:  (614,)\n",
      "Shape of X_test:  (154, 8)\n",
      "Shape of y_test:  (154,)\n"
     ],
     "output_type":"stream"
    }
   ],
   "metadata":{
    "datalore":{
     "node_id":"KWQLmmUPsCqG7YaGZNv5SP",
     "type":"CODE",
     "hide_input_from_viewers":true,
     "hide_output_from_viewers":true
    }
   }
  },
  {
   "cell_type":"markdown",
   "source":[
    "# 4. Deep Neural Network Architecture\n"
   ],
   "attachments":{
    
   },
   "metadata":{
    "datalore":{
     "node_id":"Bt5r9GRTAX4IszkRgwdT3h",
     "type":"MD",
     "hide_input_from_viewers":false,
     "hide_output_from_viewers":false,
     "report_properties":{
      
     }
    }
   }
  },
  {
   "cell_type":"markdown",
   "source":[
    "## 4.1 Design the architecture that you will be using to solve the prediction problem identified.\n",
    "\n",
    "* Add dense layers, specifying the number of units in each layer and the activation function used in the layer."
   ],
   "attachments":{
    
   },
   "metadata":{
    "datalore":{
     "node_id":"03dicXaGAUqr5yzfp1ktrS",
     "type":"MD",
     "hide_input_from_viewers":false,
     "hide_output_from_viewers":false,
     "report_properties":{
      
     }
    }
   }
  },
  {
   "cell_type":"code",
   "source":[
    "import tensorflow as tf\n",
    "from keras.models import Sequential\n",
    "from keras import layers\n",
    "from tensorflow.keras import regularizers"
   ],
   "execution_count":49,
   "outputs":[
    
   ],
   "metadata":{
    "datalore":{
     "node_id":"bzaR6Dj4wWVZcfoBG7hdD7",
     "type":"CODE",
     "hide_input_from_viewers":false,
     "hide_output_from_viewers":false,
     "report_properties":{
      
     }
    }
   }
  },
  {
   "cell_type":"code",
   "source":[
    "# Number of features\n",
    "input_dim = X_train.shape[1]  "
   ],
   "execution_count":50,
   "outputs":[
    
   ],
   "metadata":{
    "datalore":{
     "node_id":"FHv2XV1Tm0Qq68xfAtHC5O",
     "type":"CODE",
     "hide_input_from_viewers":true,
     "hide_output_from_viewers":true
    }
   }
  },
  {
   "cell_type":"code",
   "source":[
    "model = Sequential()\n",
    "model.add(layers.Dense(16, input_dim=input_dim, activation='relu'))\n",
    "model.add(layers.Dense(8, activation='relu', kernel_regularizer=regularizers.l2(0.001)))\n",
    "model.add(layers.Dense(4, activation='relu', kernel_regularizer=regularizers.l2(0.001)))\n",
    "model.add(layers.Dropout(0.1))\n",
    "model.add(layers.Dense(1, activation='sigmoid'))"
   ],
   "execution_count":51,
   "outputs":[
    
   ],
   "metadata":{
    "datalore":{
     "node_id":"4oOzQ1QFfgCL9BnQ5k11Rc",
     "type":"CODE",
     "hide_input_from_viewers":true,
     "hide_output_from_viewers":true
    }
   }
  },
  {
   "cell_type":"code",
   "source":[
    "model.summary()"
   ],
   "execution_count":52,
   "outputs":[
    {
     "name":"stdout",
     "text":[
      "Model: \"sequential_1\"\n",
      "_________________________________________________________________\n",
      " Layer (type)                Output Shape              Param #   \n",
      "=================================================================\n",
      " dense_4 (Dense)             (None, 16)                144       \n",
      "                                                                 \n",
      " dense_5 (Dense)             (None, 8)                 136       \n",
      "                                                                 \n",
      " dense_6 (Dense)             (None, 4)                 36        \n",
      "                                                                 \n",
      " dropout_1 (Dropout)         (None, 4)                 0         \n",
      "                                                                 \n",
      " dense_7 (Dense)             (None, 1)                 5         \n",
      "                                                                 \n",
      "=================================================================\n",
      "Total params: 321\n",
      "Trainable params: 321\n",
      "Non-trainable params: 0\n",
      "_________________________________________________________________\n"
     ],
     "output_type":"stream"
    }
   ],
   "metadata":{
    "datalore":{
     "node_id":"l6BPO2ndYSvzEDHYXPOzfU",
     "type":"CODE",
     "hide_input_from_viewers":true,
     "hide_output_from_viewers":true
    }
   }
  },
  {
   "cell_type":"markdown",
   "source":[
    "## 4.2 Report\n",
    "\n",
    "Report the following and provide justification for the same.\n",
    "\n",
    "* Number of layers\n",
    "* Number of units in each layer\n",
    "* Activation function used in each hidden layer\n",
    "* Activation function used in the output layer\n",
    "* Total number of trainable parameters \n",
    "\n",
    "Score: 4 Marks"
   ],
   "attachments":{
    
   },
   "metadata":{
    "datalore":{
     "node_id":"xK1ibuqZPYgVDbecA77Vhu",
     "type":"MD",
     "hide_input_from_viewers":false,
     "hide_output_from_viewers":false,
     "report_properties":{
      
     }
    }
   }
  },
  {
   "cell_type":"markdown",
   "source":[
    "#### 1. Number of layers\n",
    "We choose to add total 5 layers which also includes one layer of drop out with coefficient 0.1 to our neural network because the dataset is not huge and it has only 768 records. Overall problem in hand is also not very complex with the given dataset; here we are dealing with 8 columns for training and 1 column as a Target. Therefore, 5 layers are efficient for our neural network.\n",
    "\n",
    "#### 2. Number of units in each layer\n",
    "We choose number of units in each layer as 16\/8\/4\/1 along with one drop out with 0.1 coefficient before output layer in neural networks. Overall problem in hand is also not very complex with the given dataset; here we are dealing with 8 columns for training and 1 column as a Target. Therefore, number of units in each layer as 16\/8\/4\/1 along with one drop out with 0.1 coefficient before output layer are efficient for our neural network.\n",
    "\n",
    "#### 3. Activation function used in each hidden layer\n",
    "We are using Rectified Linear Activation (ReLU) for hidden layers. This is because ReLU is computationally efficient because it is simple to calculate and does not require exponentiation computationa. Also, it has been shown to improve the convergence of stochastic gradient descent compared to other activation functions, which can make it faster to train deep neural networks. The ReLU function is non-linear, which is important for the representation of neural networks. The layer before the output layer, we have used Drop-out with 0.1 coefficient to streamline the data for output layer\n",
    "\n",
    "#### 4. Activation function used in the output layer\n",
    "We used sigmoid function in the output layer of a neural network as our goal is to predict a binary outcome(Diabetic or not). This is because the sigmoid function squashes the output of the neuron to a value between 0 and 1, which can be interpreted as a probability. \n",
    "\n",
    "#### 5. Total number of trainable parameters\n",
    "The total number of trainable parameters is equal to the sum the number of trainable parameters in each layer of the neural network. The number of trainable parameters in a layer is the number of neurons in the layer times the number of inputs to each neuron plus the number of bias terms. <br>\n",
    "In our case, we have **321** total number of trainable parameters."
   ],
   "attachments":{
    
   },
   "metadata":{
    "datalore":{
     "node_id":"JeBZNEs0ba0kI9any6hcUU",
     "type":"MD",
     "hide_input_from_viewers":false,
     "hide_output_from_viewers":false,
     "report_properties":{
      
     }
    }
   }
  },
  {
   "cell_type":"markdown",
   "source":[
    "# 5. Training the model"
   ],
   "attachments":{
    
   },
   "metadata":{
    "datalore":{
     "node_id":"HpI9MhnlSAtwoJcrCnRnA9",
     "type":"MD",
     "hide_input_from_viewers":false,
     "hide_output_from_viewers":false,
     "report_properties":{
      
     }
    }
   }
  },
  {
   "cell_type":"markdown",
   "source":[
    "## 5.1 Configure the training\n",
    "\n",
    "Configure  the model for training, by using appropriate optimizers and regularizations\n"
   ],
   "attachments":{
    
   },
   "metadata":{
    "datalore":{
     "node_id":"p0ML7fWrnnzZbtpwJH1ZKR",
     "type":"MD",
     "hide_input_from_viewers":false,
     "hide_output_from_viewers":false,
     "report_properties":{
      
     }
    }
   }
  },
  {
   "cell_type":"code",
   "source":[
    "model.compile(\n",
    "            loss='binary_crossentropy', \n",
    "            optimizer= tf.keras.optimizers.Adam(learning_rate=0.001) ,\n",
    "            metrics=['accuracy'],\n",
    "            )"
   ],
   "execution_count":53,
   "outputs":[
    
   ],
   "metadata":{
    "datalore":{
     "node_id":"aM2ejIL0ixX9wCeu0kGjxE",
     "type":"CODE",
     "hide_input_from_viewers":false,
     "hide_output_from_viewers":false,
     "report_properties":{
      
     }
    }
   }
  },
  {
   "cell_type":"markdown",
   "source":[
    "## 5.2 Train the model"
   ],
   "attachments":{
    
   },
   "metadata":{
    "datalore":{
     "node_id":"b56kOW5YnY6dunaUo2rKhT",
     "type":"MD",
     "hide_input_from_viewers":false,
     "hide_output_from_viewers":false,
     "report_properties":{
      
     }
    }
   }
  },
  {
   "cell_type":"code",
   "source":[
    "classifier_nn = model.fit(X_train,y_train,\n",
    "                    epochs=400,\n",
    "                    verbose=False,\n",
    "                    validation_data=(X_test, y_test),\n",
    "                    batch_size=20,\n",
    "                )"
   ],
   "execution_count":54,
   "outputs":[
    
   ],
   "metadata":{
    "datalore":{
     "node_id":"o3MDwrv0h4ukssj2ydEqm6",
     "type":"CODE",
     "hide_input_from_viewers":false,
     "hide_output_from_viewers":false,
     "report_properties":{
      
     }
    }
   }
  },
  {
   "cell_type":"markdown",
   "source":[
    "#### Justify your choice of optimizers and regulizations used and the hyperparameters tuned\n",
    "\n",
    "Score: 4 Marks"
   ],
   "attachments":{
    
   },
   "metadata":{
    "datalore":{
     "node_id":"pKypZ32oRRkOWx6aeCHvNZ",
     "type":"MD",
     "hide_input_from_viewers":false,
     "hide_output_from_viewers":false,
     "report_properties":{
      
     }
    }
   }
  },
  {
   "cell_type":"markdown",
   "source":[
    "#### Optimizer\n",
    "We used Adam(Adaptive Moment Estimation) as an optimiser because it is an extension of stochastic gradient descent that automatically tunes the learning rate for each parameter, making it faster and more efficient than standard gradient descent. It involves a combination of two gradient descent methodologies: AdaGrad and RMSProp. The results of the Adam optimizer are generally better than every other optimization algorithm, have faster computation time, and require fewer parameters for tuning. Because of all that, Adam is used as an optimizer for our case.\n",
    "\n",
    "  \n",
    "#### Regularizations\n",
    "We used L2 regularization for our hidden layers as our regularizer because L2 tends to shrink coefficients evenly. L2 regularization distributes the weights for all layers by gaussian distribution and shrinks their norm to small values. L2 Regularization shrinks all the weights to small values, preventing the model from learning any complex concept with respect to any particular node\/feature, preventing overfitting.\n",
    "\n",
    "\n",
    "#### Hyperparameters \n",
    "Hyperparameters are parameters that are set before training a machine learning model. They are often specified by the practitioner who is training the model and control the behavior of the learning algorithm. Below are the hyperparameters used in our neural network:\n",
    "\n",
    "- learning rate = 0.001 <br>\n",
    "  \n",
    "  This is because using 0.001 as a small learning rate allows the model to make small, precise updates to its weights, which can help the model converge on a good solution.\n",
    "\n",
    "- L2 regularization coefficient for two hidden layers = 0.001 <br>\n",
    "  \n",
    "  This is because 0.001 coefficient scalar value is added to the loss function to prevent overfitting, which occurs when a model learns patterns in the training data that are not generalizable to new data.\n",
    "\n",
    "- number of hidden layer = 3\n",
    "  \n",
    "  We chose 3 layers - 2 layers with ReLU and 1 layer with Dropout. 2 layers with ReLU is chose because it is computationally efficient as it only requires a simple comparison operation. It helps in getting the result quickly. 1 layer with Dropout is chosen because Dropout works by randomly dropping out, or setting to zero, a certain number of output features of a layer during training. This has the effect of reducing the complexity of the model, which can help prevent overfitting. \n",
    "\n",
    "- epochs = 400\n",
    "  \n",
    "  We chose 400 as epochs because it gives enough time to learn the underlying patterns in the data of given size of diabetes dataset(768, 9). It is also performance-wise optimal.\n",
    "\n",
    "- batch_size = 20\n",
    "  \n",
    "  We chose batch_size as 20 because it efficiently converges the speed of the model. It also efficiently deals with the performance for getting the results.\n",
    "  "
   ],
   "attachments":{
    
   },
   "metadata":{
    "datalore":{
     "node_id":"zchUWZtthBAHADC1TpYh0g",
     "type":"MD",
     "hide_input_from_viewers":false,
     "hide_output_from_viewers":false,
     "report_properties":{
      
     }
    }
   }
  },
  {
   "cell_type":"markdown",
   "source":[
    "# 6. Test the model\n",
    "\n",
    "Score: 2 Marks"
   ],
   "attachments":{
    
   },
   "metadata":{
    "datalore":{
     "node_id":"PTVKDLQkAIYBGfc4ErYdYj",
     "type":"MD",
     "hide_input_from_viewers":false,
     "hide_output_from_viewers":false,
     "report_properties":{
      
     }
    }
   }
  },
  {
   "cell_type":"code",
   "source":[
    "# Predict Labels\n",
    "testLoss, testAccuracy = model.evaluate(X_test, y_test, verbose=0)\n",
    "\n",
    "# Getting prediction from the model using X_test\n",
    "Ypredicted = model.predict(X_test)\n",
    "# Getting prediction from the model using X_train\n",
    "Y_trainpredicted = model.predict(X_train)\n",
    "\n",
    "\n",
    "for i in range(len(Ypredicted)):\n",
    "    if Ypredicted[i]>0.5:\n",
    "        Ypredicted[i]=1\n",
    "    elif Ypredicted[i]<=0.5:\n",
    "        Ypredicted[i]=0\n",
    "\n",
    "for i in range(len(Y_trainpredicted)):\n",
    "    if Y_trainpredicted[i]>0.5:\n",
    "        Y_trainpredicted[i]=1\n",
    "    elif Y_trainpredicted[i]<=0.5:\n",
    "        Y_trainpredicted[i]=0\n",
    "\n",
    "print(\"Test Loss: \", testLoss)\n",
    "print(\"Test Accuracy: \", testAccuracy)"
   ],
   "execution_count":55,
   "outputs":[
    {
     "name":"stdout",
     "text":[
      "Test Loss:  0.4626012146472931\n",
      "Test Accuracy:  0.7857142686843872\n"
     ],
     "output_type":"stream"
    }
   ],
   "metadata":{
    "datalore":{
     "node_id":"Lstjh787uN2osfW7bC8alh",
     "type":"CODE",
     "hide_input_from_viewers":false,
     "hide_output_from_viewers":false,
     "report_properties":{
      
     }
    }
   }
  },
  {
   "cell_type":"markdown",
   "source":[
    "## 7. Conclusion \n",
    "\n",
    "Plot the training and validation loss\n",
    "Report the testing accuracy and loss.\n",
    "\n",
    "Report values for preformance study metrics like accuracy, precision, recall, F1 Score.\n",
    "\n",
    "A proper comparision based on different metrics should be done and not just accuracy alone, only then the comparision becomes authentic. You may use Confusion matrix, classification report, MAE etc per the requirement of your application\/problem.\n",
    "\n",
    "Score 2 Marks"
   ],
   "attachments":{
    
   },
   "metadata":{
    "datalore":{
     "node_id":"apK4CrlJIoSrbebeyjbCTy",
     "type":"MD",
     "hide_input_from_viewers":false,
     "hide_output_from_viewers":false,
     "report_properties":{
      
     }
    }
   }
  },
  {
   "cell_type":"code",
   "source":[
    "import matplotlib.pyplot as plt\n",
    "\n",
    "f = plt.figure()\n",
    "f.set_figwidth(20)\n",
    "f.set_figheight(7)\n",
    "\n",
    "plt.subplot(1,2,1)\n",
    "plt.plot(classifier_nn.history['loss'], label='train')\n",
    "plt.plot(classifier_nn.history['val_loss'], label='test')\n",
    "plt.title('Model Loss')\n",
    "plt.ylabel('Loss')\n",
    "plt.xlabel('Epoch')\n",
    "plt.legend(loc='upper right')\n",
    "\n",
    "\n",
    "plt.subplot(1,2,2)\n",
    "plt.title('Model Accuracy')\n",
    "plt.plot(classifier_nn.history['accuracy'], label='train')\n",
    "plt.plot(classifier_nn.history['val_accuracy'], label='test')\n",
    "plt.ylabel('Accuracy')\n",
    "plt.xlabel('Epoch')\n",
    "plt.legend(loc='lower right')\n",
    "\n",
    "plt.show()"
   ],
   "execution_count":56,
   "outputs":[
    {
     "data":{
      "image\/png":"[encoded data removed]"
     },
     "metadata":{
      "image\/png":{
       
      }
     },
     "output_type":"display_data"
    }
   ],
   "metadata":{
    "datalore":{
     "node_id":"oHqYRIpBG29JZ3ACeDqQYG",
     "type":"CODE",
     "hide_input_from_viewers":false,
     "hide_output_from_viewers":false,
     "report_properties":{
      
     }
    }
   }
  },
  {
   "cell_type":"code",
   "source":[
    "from sklearn.metrics import classification_report\n",
    "from sklearn.metrics import confusion_matrix\n",
    "\n",
    "\n",
    "num_classes = 2\n",
    "\n",
    "#target names\n",
    "target_names = [\"Class {}\".format(i) for i in range(num_classes)]\n",
    "\n",
    "\n",
    "# Confusion matrix\n",
    "confusion_mtx = confusion_matrix(y_test, Ypredicted)\n",
    "print('Confusion matrix = \\n',confusion_mtx)\n",
    "\n",
    "# Classification Report    \n",
    "print('\\nClassfication report = \\n', classification_report(y_test, Ypredicted, target_names=target_names))"
   ],
   "execution_count":57,
   "outputs":[
    {
     "name":"stdout",
     "text":[
      "Confusion matrix = \n",
      " [[82 17]\n",
      " [16 39]]\n",
      "\n",
      "Classfication report = \n",
      "               precision    recall  f1-score   support\n",
      "\n",
      "     Class 0       0.84      0.83      0.83        99\n",
      "     Class 1       0.70      0.71      0.70        55\n",
      "\n",
      "    accuracy                           0.79       154\n",
      "   macro avg       0.77      0.77      0.77       154\n",
      "weighted avg       0.79      0.79      0.79       154\n",
      "\n"
     ],
     "output_type":"stream"
    }
   ],
   "metadata":{
    "datalore":{
     "node_id":"7ROHD7Qk4DRpxgozXqUF51",
     "type":"CODE",
     "hide_input_from_viewers":true,
     "hide_output_from_viewers":true
    }
   }
  },
  {
   "cell_type":"code",
   "source":[
    "from sklearn.metrics import confusion_matrix, accuracy_score, precision_score, recall_score, f1_score\n",
    "\n",
    "def accuracy(y_pred, y_test):\n",
    "    cm = confusion_matrix(y_test, y_pred)\n",
    "    print(\"Confusion Matrix : \\n\", cm, '\\n')\n",
    "    print(\"Accuracy Score : {0:.2f}%\".format(accuracy_score(y_test, y_pred)*100))\n",
    "    print(\"Precision : {0:.2f}\".format(precision_score(y_test, y_pred)))\n",
    "    print(\"Recall : {0:.2f}\".format(recall_score(y_test, y_pred)))\n",
    "    print(\"F1 Score : {0:.2f}\".format(f1_score(y_test, y_pred)))"
   ],
   "execution_count":58,
   "outputs":[
    
   ],
   "metadata":{
    "datalore":{
     "node_id":"DgpQoQppl4wgLhc4DVQG0Y",
     "type":"CODE",
     "hide_input_from_viewers":true,
     "hide_output_from_viewers":true
    }
   }
  },
  {
   "cell_type":"code",
   "source":[
    "print(\"++++++++++++++++++\\nTest Set Accuracy: \\n++++++++++++++++++\\n\")\n",
    "accuracy(Ypredicted, y_test)"
   ],
   "execution_count":59,
   "outputs":[
    {
     "name":"stdout",
     "text":[
      "++++++++++++++++++\n",
      "Test Set Accuracy: \n",
      "++++++++++++++++++\n",
      "\n",
      "Confusion Matrix : \n",
      " [[82 17]\n",
      " [16 39]] \n",
      "\n",
      "Accuracy Score : 78.57%\n",
      "Precision : 0.70\n",
      "Recall : 0.71\n",
      "F1 Score : 0.70\n"
     ],
     "output_type":"stream"
    }
   ],
   "metadata":{
    "datalore":{
     "node_id":"KR6049Dk2ECjvNu8Q2kOs6",
     "type":"CODE",
     "hide_input_from_viewers":true,
     "hide_output_from_viewers":true
    }
   }
  },
  {
   "cell_type":"code",
   "source":[
    "print(\"++++++++++++++++++\\nTrain Set Accuracy: \\n++++++++++++++++++\\n\")\n",
    "accuracy(Y_trainpredicted, y_train)"
   ],
   "execution_count":60,
   "outputs":[
    {
     "name":"stdout",
     "text":[
      "++++++++++++++++++\n",
      "Train Set Accuracy: \n",
      "++++++++++++++++++\n",
      "\n",
      "Confusion Matrix : \n",
      " [[345  56]\n",
      " [ 55 158]] \n",
      "\n",
      "Accuracy Score : 81.92%\n",
      "Precision : 0.74\n",
      "Recall : 0.74\n",
      "F1 Score : 0.74\n"
     ],
     "output_type":"stream"
    }
   ],
   "metadata":{
    "datalore":{
     "node_id":"C2WtbZNiY1oXw6CPfrpuv8",
     "type":"CODE",
     "hide_input_from_viewers":true,
     "hide_output_from_viewers":true
    }
   }
  },
  {
   "cell_type":"markdown",
   "source":[
    "The performance can be measured using the percentage of accuracy observed in both data sets to conclude on the presence of overfitting. If the model performs better on the training set than on the test set, it means that the model is likely overfitting.\n",
    "\n",
    "#### -> Accuracy of Training set is 81.92% and Accuracy for Test set is 78.57%. We could say that the neural network model is <u>SLIGHTLY OVER-FIT<\/u>."
   ],
   "attachments":{
    
   },
   "metadata":{
    "datalore":{
     "node_id":"gEsPTmlhuCLcmvg1mMCHOl",
     "type":"MD",
     "hide_input_from_viewers":true,
     "hide_output_from_viewers":true
    }
   }
  },
  {
   "cell_type":"markdown",
   "source":[
    "## 8. Solution\n",
    "\n",
    "What is the solution that is proposed to solve the business problem discussed in Section 1. Also share your learnings while working through solving the problem in terms of challenges, observations, decisions made etc.\n",
    "\n",
    "Score 2 Marks"
   ],
   "attachments":{
    
   },
   "metadata":{
    "datalore":{
     "node_id":"mp7G2EK03aNBPEPbzZ1jBn",
     "type":"MD",
     "hide_input_from_viewers":false,
     "hide_output_from_viewers":false,
     "report_properties":{
      
     }
    }
   }
  },
  {
   "cell_type":"markdown",
   "source":[
    "1. The solution to solve the proposed problem is to predict diabetes disease for a patient in advance with the given health condition\/history using the devised neural network. So that it is easier to diagnose the early offset of diabetes disease in patients and treat them in a timely manner or make necessary changes in one's life style so that the disease does not get worsened.\n",
    "   \n",
    "2. **Challenges** :\n",
    "   - **Lack of sufficient and high-quality data:** One of the main challenges in using neural networks for predicting diabetes is the lack of sufficient and high-quality data. In order to train a neural network, we need large amounts of data that are accurately labeled and relevant to the task at hand. However, collecting and preparing such data can be difficult, time-consuming, and expensive.\n",
    "   - **High complexity and computational expense:** Another challenge in using neural networks for predicting diabetes is the high complexity and computational expense of these models. Neural networks are highly complex, multi-layered models that require a lot of computational power to train and evaluate. This can make them difficult to use in practice, especially when dealing with large amounts of data.\n",
    "   - **Privacy:** Collecting medical data can raise privacy concerns, as it may include sensitive personal information such as names, medical history, addresses, and financial information. This can make it difficult to balance the need for data with the need to protect individuals' privacy.\n",
    "   \n",
    "3. **Observation** :\n",
    "   - **Neural networks can be highly effective at predicting diabetes:** One of the main observations when using neural networks for predicting diabetes is that these models can be highly effective at making accurate predictions. \n",
    "   - **The quality of the data is critical:** Another key observation when using neural networks for predicting diabetes is the importance of the quality of the data. In order to train effective neural network models, we need large amounts of high-quality data that is accurately labeled and relevant to the task at hand. If the data is of poor quality, the model will not be able to learn the necessary patterns and will not make accurate predictions. In our case, training data is small which giving accuracy around 75-80% to get higher accuracy, we need to get large dataset to train our neural network with balanced conditions.\n",
    "   - **Overfitting:** Our neural network is slightly over-fit. Overfitting is a common problem in machine learning, and it can also be an issue when using neural networks for predicting diabetes. Overfitting occurs when a model is trained on a limited amount of data and becomes too specific to the training data, losing its ability to generalize to new data. This can lead to poor performance on unseen data, and it is important to take steps to prevent and detect overfitting when using neural networks.\n",
    "   \n",
    "4. **Decision made for Neural Networks** : \n",
    "   \n",
    "   To find the optimal set of parameters that allow the network to make accurate predictions or decisions based on the input data. Hyperparameters are parameters that are set before training a machine learning model. They are often specified by the practitioner who is training the model and control the behavior of the learning algorithm. Below are the hyperparameters used in our neural network:\n",
    "\n",
    "   - learning rate = 0.001 \n",
    "   - L2 regularization coefficient for two hidden layers = 0.001\n",
    "   - number of hidden layer = 3\n",
    "   - epochs = 400\n",
    "   - batch_size = 20"
   ],
   "attachments":{
    
   },
   "metadata":{
    "datalore":{
     "node_id":"NAPzjixuJ6Be4276dX3y1o",
     "type":"MD",
     "hide_input_from_viewers":true,
     "hide_output_from_viewers":true
    }
   }
  },
  {
   "cell_type":"markdown",
   "source":[
    "##NOTE\n",
    "All Late Submissions will incur a penalty of -2 marks. So submit your assignments on time.\n",
    "\n",
    "Good Luck"
   ],
   "attachments":{
    
   },
   "metadata":{
    "datalore":{
     "node_id":"oWjQW5Vsaco19WvkJ4gYAQ",
     "type":"MD",
     "hide_input_from_viewers":false,
     "hide_output_from_viewers":false,
     "report_properties":{
      
     }
    }
   }
  }
 ],
 "metadata":{
  "kernelspec":{
   "display_name":"Python",
   "language":"python",
   "name":"python"
  },
  "datalore":{
   "version":1,
   "computation_mode":"JUPYTER",
   "package_manager":"pip",
   "base_environment":"default",
   "packages":[
    
   ]
  }
 },
 "nbformat":4,
 "nbformat_minor":4
}